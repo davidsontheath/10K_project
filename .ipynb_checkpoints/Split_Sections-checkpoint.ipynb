{
 "metadata": {
  "name": ""
 },
 "nbformat": 3,
 "nbformat_minor": 0,
 "worksheets": [
  {
   "cells": [
    {
     "cell_type": "code",
     "collapsed": false,
     "input": [
      "# Run the first two cells and then copy in the remaining sections from dropbox (This is now complete)\n",
      "\n",
      "import os\n",
      "import re\n",
      "from tqdm import *\n",
      "\n",
      "%cd C:\\Users\\Davidson\\Desktop\\JH_DTH_2\\\n",
      "    \n",
      "Src = 'Data/Items_1&1A/'\n",
      "Dst = 'Data/Item_1/'\n",
      "\n",
      "File_List = [item for item in os.listdir(Src) if item[-4:] == '.txt']\n",
      "\n",
      "# Make the Dst directory if it does not already exist\n",
      "if not os.path.exists(Dst):\n",
      "    os.mkdir(Dst)\n"
     ],
     "language": "python",
     "metadata": {},
     "outputs": [
      {
       "output_type": "stream",
       "stream": "stdout",
       "text": [
        "C:\\Users\\Davidson\\Desktop\\JH_DTH_2\n"
       ]
      }
     ],
     "prompt_number": 8
    },
    {
     "cell_type": "code",
     "collapsed": false,
     "input": [
      "# This section Does the Bulk of the work\n",
      "\n",
      "# Use this to track results\n",
      "Found = 0\n",
      "Not_Found = 0\n",
      "Other = []\n",
      "\n",
      "for item in tqdm(File_List):\n",
      "    \n",
      "    with open(Src + item, 'r') as f:\n",
      "        section = f.read()\n",
      "    \n",
      "    # For now ignore those for which the following regex does not return exactly one result\n",
      "    first = re.findall(r'\\n.{0,10}?[^\"]Item.{1,5}?1.{0,2}?A.{1,50}?[^\"]Risk.{1,5}?Factors(?!\")', section, re.DOTALL | re.IGNORECASE)\n",
      "    if len(first) == 1:\n",
      "    \n",
      "        # This isolates item 1 (if there is a match) and writes it to the coresponding file\n",
      "        find = re.match(r'(.{0,20}?Item.{1,5}?1[^A].{0,50}?Business.{1000,1000000000}?\\n.{0,10}?[^\"]Item.{1,5}?1.{0,2}?A.{1,50}?[^\"]Risk.{1,5}?Factors)(?!\")', section, re.DOTALL | re.IGNORECASE)\n",
      "        if find:\n",
      "            One = find.group(1)        \n",
      "            with open(Dst + item[:-9] + '1.txt', 'w') as g:\n",
      "                g.write(One)\n",
      "            Found = Found + 1\n",
      "        \n",
      "        # If there is no reference to \"risk factors\" then write the whole section to the coresponding file\n",
      "        else:\n",
      "            Double_Check = re.search(r'Risk.{1,5}?Factors', section, re.DOTALL | re.IGNORECASE)\n",
      "            if not Double_Check:\n",
      "                Not_Found = Not_Found + 1\n",
      "                with open(Dst + item[:-9] + '1.txt', 'w') as h:\n",
      "                    h.write(section)\n",
      "                    \n",
      "            # Track Incomplete (this becomes the Manual list as I (JH) gave up on fully automating it\n",
      "            else:\n",
      "                Other.append(item)\n",
      "                \n",
      "    # The other case: check for references to \"risk factors\"\n",
      "    else:\n",
      "        Double_Check = re.search(r'Risk.{1,5}?Factors', section, re.DOTALL | re.IGNORECASE)\n",
      "        if not Double_Check:\n",
      "            Not_Found = Not_Found + 1\n",
      "            with open(Dst + item[:-9] + '1.txt', 'w') as h:\n",
      "                h.write(section)\n",
      "\n",
      "        # Track Incomplete\n",
      "        else:\n",
      "            Other.append(item)\n",
      "    \n",
      "print Found, Not_Found, len(Other)\n",
      "#if len(Other) > 0:\n",
      "#    print Other\n"
     ],
     "language": "python",
     "metadata": {},
     "outputs": [
      {
       "output_type": "stream",
       "stream": "stdout",
       "text": [
        "\r",
        "|----------| 0/4043   0% [elapsed: 00:00 left: ?, ? iters/sec]"
       ]
      },
      {
       "output_type": "stream",
       "stream": "stdout",
       "text": [
        "\r",
        "|----------| 84/4043   2% [elapsed: 00:00 left: 00:24, 158.79 iters/sec]"
       ]
      },
      {
       "output_type": "stream",
       "stream": "stdout",
       "text": [
        "\r",
        "|----------| 134/4043   3% [elapsed: 00:01 left: 00:30, 129.34 iters/sec]"
       ]
      },
      {
       "output_type": "stream",
       "stream": "stdout",
       "text": [
        "\r",
        "|----------| 180/4043   4% [elapsed: 00:01 left: 00:33, 116.88 iters/sec]"
       ]
      },
      {
       "output_type": "stream",
       "stream": "stdout",
       "text": [
        "\r",
        "|----------| 228/4043   5% [elapsed: 00:02 left: 00:34, 111.66 iters/sec]"
       ]
      },
      {
       "output_type": "stream",
       "stream": "stdout",
       "text": [
        "\r",
        "|----------| 280/4043   6% [elapsed: 00:02 left: 00:34, 109.85 iters/sec]"
       ]
      },
      {
       "output_type": "stream",
       "stream": "stdout",
       "text": [
        "\r",
        "|----------| 330/4043   8% [elapsed: 00:03 left: 00:34, 107.60 iters/sec]"
       ]
      },
      {
       "output_type": "stream",
       "stream": "stdout",
       "text": [
        "\r",
        "|----------| 380/4043   9% [elapsed: 00:03 left: 00:34, 106.09 iters/sec]"
       ]
      },
      {
       "output_type": "stream",
       "stream": "stdout",
       "text": [
        "\r",
        "|#---------| 433/4043  10% [elapsed: 00:04 left: 00:34, 105.82 iters/sec]"
       ]
      },
      {
       "output_type": "stream",
       "stream": "stdout",
       "text": [
        "\r",
        "|#---------| 489/4043  12% [elapsed: 00:04 left: 00:33, 106.44 iters/sec]"
       ]
      },
      {
       "output_type": "stream",
       "stream": "stdout",
       "text": [
        "\r",
        "|#---------| 538/4043  13% [elapsed: 00:05 left: 00:33, 105.28 iters/sec]"
       ]
      },
      {
       "output_type": "stream",
       "stream": "stdout",
       "text": [
        "\r",
        "|#---------| 585/4043  14% [elapsed: 00:05 left: 00:33, 104.24 iters/sec]"
       ]
      },
      {
       "output_type": "stream",
       "stream": "stdout",
       "text": [
        "\r",
        "|#---------| 638/4043  15% [elapsed: 00:06 left: 00:32, 104.27 iters/sec]"
       ]
      },
      {
       "output_type": "stream",
       "stream": "stdout",
       "text": [
        "\r",
        "|#---------| 686/4043  16% [elapsed: 00:06 left: 00:32, 103.58 iters/sec]"
       ]
      },
      {
       "output_type": "stream",
       "stream": "stdout",
       "text": [
        "\r",
        "|#---------| 735/4043  18% [elapsed: 00:07 left: 00:32, 103.11 iters/sec]"
       ]
      },
      {
       "output_type": "stream",
       "stream": "stdout",
       "text": [
        "\r",
        "|#---------| 779/4043  19% [elapsed: 00:07 left: 00:31, 102.00 iters/sec]"
       ]
      },
      {
       "output_type": "stream",
       "stream": "stdout",
       "text": [
        "\r",
        "|##--------| 829/4043  20% [elapsed: 00:08 left: 00:31, 101.78 iters/sec]"
       ]
      },
      {
       "output_type": "stream",
       "stream": "stdout",
       "text": [
        "\r",
        "|##--------| 875/4043  21% [elapsed: 00:08 left: 00:31, 101.13 iters/sec]"
       ]
      },
      {
       "output_type": "stream",
       "stream": "stdout",
       "text": [
        "\r",
        "|##--------| 934/4043  23% [elapsed: 00:09 left: 00:30, 102.01 iters/sec]"
       ]
      },
      {
       "output_type": "stream",
       "stream": "stdout",
       "text": [
        "\r",
        "|##--------| 985/4043  24% [elapsed: 00:09 left: 00:29, 101.99 iters/sec]"
       ]
      },
      {
       "output_type": "stream",
       "stream": "stdout",
       "text": [
        "\r",
        "|##--------| 1041/4043  25% [elapsed: 00:10 left: 00:29, 102.44 iters/sec]"
       ]
      },
      {
       "output_type": "stream",
       "stream": "stdout",
       "text": [
        "\r",
        "|##--------| 1091/4043  26% [elapsed: 00:10 left: 00:28, 102.22 iters/sec]"
       ]
      },
      {
       "output_type": "stream",
       "stream": "stdout",
       "text": [
        "\r",
        "|##--------| 1138/4043  28% [elapsed: 00:11 left: 00:28, 101.78 iters/sec]"
       ]
      },
      {
       "output_type": "stream",
       "stream": "stdout",
       "text": [
        "\r",
        "|##--------| 1179/4043  29% [elapsed: 00:11 left: 00:28, 100.81 iters/sec]"
       ]
      },
      {
       "output_type": "stream",
       "stream": "stdout",
       "text": [
        "\r",
        "|###-------| 1226/4043  30% [elapsed: 00:12 left: 00:28, 100.53 iters/sec]"
       ]
      },
      {
       "output_type": "stream",
       "stream": "stdout",
       "text": [
        "\r",
        "|###-------| 1271/4043  31% [elapsed: 00:12 left: 00:27, 100.09 iters/sec]"
       ]
      },
      {
       "output_type": "stream",
       "stream": "stdout",
       "text": [
        "\r",
        "|###-------| 1316/4043  32% [elapsed: 00:13 left: 00:27, 99.68 iters/sec] "
       ]
      },
      {
       "output_type": "stream",
       "stream": "stdout",
       "text": [
        "\r",
        "|###-------| 1353/4043  33% [elapsed: 00:13 left: 00:27, 98.74 iters/sec]"
       ]
      },
      {
       "output_type": "stream",
       "stream": "stdout",
       "text": [
        "\r",
        "|###-------| 1395/4043  34% [elapsed: 00:14 left: 00:26, 98.19 iters/sec]"
       ]
      },
      {
       "output_type": "stream",
       "stream": "stdout",
       "text": [
        "\r",
        "|###-------| 1445/4043  35% [elapsed: 00:14 left: 00:26, 98.24 iters/sec]"
       ]
      },
      {
       "output_type": "stream",
       "stream": "stdout",
       "text": [
        "\r",
        "|###-------| 1490/4043  36% [elapsed: 00:15 left: 00:26, 97.96 iters/sec]"
       ]
      },
      {
       "output_type": "stream",
       "stream": "stdout",
       "text": [
        "\r",
        "|###-------| 1532/4043  37% [elapsed: 00:15 left: 00:25, 97.49 iters/sec]"
       ]
      },
      {
       "output_type": "stream",
       "stream": "stdout",
       "text": [
        "\r",
        "|###-------| 1584/4043  39% [elapsed: 00:16 left: 00:25, 97.61 iters/sec]"
       ]
      },
      {
       "output_type": "stream",
       "stream": "stdout",
       "text": [
        "\r",
        "|####------| 1635/4043  40% [elapsed: 00:16 left: 00:24, 97.73 iters/sec]"
       ]
      },
      {
       "output_type": "stream",
       "stream": "stdout",
       "text": [
        "\r",
        "|####------| 1684/4043  41% [elapsed: 00:17 left: 00:24, 97.66 iters/sec]"
       ]
      },
      {
       "output_type": "stream",
       "stream": "stdout",
       "text": [
        "\r",
        "|####------| 1724/4043  42% [elapsed: 00:17 left: 00:23, 97.10 iters/sec]"
       ]
      },
      {
       "output_type": "stream",
       "stream": "stdout",
       "text": [
        "\r",
        "|####------| 1776/4043  43% [elapsed: 00:18 left: 00:23, 97.13 iters/sec]"
       ]
      },
      {
       "output_type": "stream",
       "stream": "stdout",
       "text": [
        "\r",
        "|####------| 1827/4043  45% [elapsed: 00:18 left: 00:22, 97.23 iters/sec]"
       ]
      },
      {
       "output_type": "stream",
       "stream": "stdout",
       "text": [
        "\r",
        "|####------| 1880/4043  46% [elapsed: 00:19 left: 00:22, 97.38 iters/sec]"
       ]
      },
      {
       "output_type": "stream",
       "stream": "stdout",
       "text": [
        "\r",
        "|####------| 1925/4043  47% [elapsed: 00:19 left: 00:21, 97.18 iters/sec]"
       ]
      },
      {
       "output_type": "stream",
       "stream": "stdout",
       "text": [
        "\r",
        "|####------| 1974/4043  48% [elapsed: 00:20 left: 00:21, 97.20 iters/sec]"
       ]
      },
      {
       "output_type": "stream",
       "stream": "stdout",
       "text": [
        "\r",
        "|#####-----| 2029/4043  50% [elapsed: 00:20 left: 00:20, 97.48 iters/sec]"
       ]
      },
      {
       "output_type": "stream",
       "stream": "stdout",
       "text": [
        "\r",
        "|#####-----| 2075/4043  51% [elapsed: 00:21 left: 00:20, 97.34 iters/sec]"
       ]
      },
      {
       "output_type": "stream",
       "stream": "stdout",
       "text": [
        "\r",
        "|#####-----| 2119/4043  52% [elapsed: 00:21 left: 00:19, 97.05 iters/sec]"
       ]
      },
      {
       "output_type": "stream",
       "stream": "stdout",
       "text": [
        "\r",
        "|#####-----| 2171/4043  53% [elapsed: 00:22 left: 00:19, 97.20 iters/sec]"
       ]
      },
      {
       "output_type": "stream",
       "stream": "stdout",
       "text": [
        "\r",
        "|#####-----| 2215/4043  54% [elapsed: 00:22 left: 00:18, 96.97 iters/sec]"
       ]
      },
      {
       "output_type": "stream",
       "stream": "stdout",
       "text": [
        "\r",
        "|#####-----| 2264/4043  55% [elapsed: 00:23 left: 00:18, 96.91 iters/sec]"
       ]
      },
      {
       "output_type": "stream",
       "stream": "stdout",
       "text": [
        "\r",
        "|#####-----| 2307/4043  57% [elapsed: 00:23 left: 00:17, 96.62 iters/sec]"
       ]
      },
      {
       "output_type": "stream",
       "stream": "stdout",
       "text": [
        "\r",
        "|#####-----| 2362/4043  58% [elapsed: 00:24 left: 00:17, 96.90 iters/sec]"
       ]
      },
      {
       "output_type": "stream",
       "stream": "stdout",
       "text": [
        "\r",
        "|#####-----| 2412/4043  59% [elapsed: 00:24 left: 00:16, 96.91 iters/sec]"
       ]
      },
      {
       "output_type": "stream",
       "stream": "stdout",
       "text": [
        "\r",
        "|######----| 2457/4043  60% [elapsed: 00:25 left: 00:16, 96.74 iters/sec]"
       ]
      },
      {
       "output_type": "stream",
       "stream": "stdout",
       "text": [
        "\r",
        "|######----| 2496/4043  61% [elapsed: 00:25 left: 00:16, 96.38 iters/sec]"
       ]
      },
      {
       "output_type": "stream",
       "stream": "stdout",
       "text": [
        "\r",
        "|######----| 2550/4043  63% [elapsed: 00:26 left: 00:15, 96.59 iters/sec]"
       ]
      },
      {
       "output_type": "stream",
       "stream": "stdout",
       "text": [
        "\r",
        "|######----| 2593/4043  64% [elapsed: 00:26 left: 00:15, 96.37 iters/sec]"
       ]
      },
      {
       "output_type": "stream",
       "stream": "stdout",
       "text": [
        "\r",
        "|######----| 2641/4043  65% [elapsed: 00:27 left: 00:14, 96.28 iters/sec]"
       ]
      },
      {
       "output_type": "stream",
       "stream": "stdout",
       "text": [
        "\r",
        "|######----| 2683/4043  66% [elapsed: 00:27 left: 00:14, 96.03 iters/sec]"
       ]
      },
      {
       "output_type": "stream",
       "stream": "stdout",
       "text": [
        "\r",
        "|######----| 2725/4043  67% [elapsed: 00:28 left: 00:13, 95.79 iters/sec]"
       ]
      },
      {
       "output_type": "stream",
       "stream": "stdout",
       "text": [
        "\r",
        "|######----| 2763/4043  68% [elapsed: 00:28 left: 00:13, 95.45 iters/sec]"
       ]
      },
      {
       "output_type": "stream",
       "stream": "stdout",
       "text": [
        "\r",
        "|######----| 2816/4043  69% [elapsed: 00:29 left: 00:12, 95.60 iters/sec]"
       ]
      },
      {
       "output_type": "stream",
       "stream": "stdout",
       "text": [
        "\r",
        "|#######---| 2867/4043  70% [elapsed: 00:29 left: 00:12, 95.68 iters/sec]"
       ]
      },
      {
       "output_type": "stream",
       "stream": "stdout",
       "text": [
        "\r",
        "|#######---| 2926/4043  72% [elapsed: 00:30 left: 00:11, 96.04 iters/sec]"
       ]
      },
      {
       "output_type": "stream",
       "stream": "stdout",
       "text": [
        "\r",
        "|#######---| 2975/4043  73% [elapsed: 00:30 left: 00:11, 95.99 iters/sec]"
       ]
      },
      {
       "output_type": "stream",
       "stream": "stdout",
       "text": [
        "\r",
        "|#######---| 3021/4043  74% [elapsed: 00:31 left: 00:10, 95.90 iters/sec]"
       ]
      },
      {
       "output_type": "stream",
       "stream": "stdout",
       "text": [
        "\r",
        "|#######---| 3064/4043  75% [elapsed: 00:32 left: 00:10, 95.75 iters/sec]"
       ]
      },
      {
       "output_type": "stream",
       "stream": "stdout",
       "text": [
        "\r",
        "|#######---| 3118/4043  77% [elapsed: 00:32 left: 00:09, 95.91 iters/sec]"
       ]
      },
      {
       "output_type": "stream",
       "stream": "stdout",
       "text": [
        "\r",
        "|#######---| 3175/4043  78% [elapsed: 00:33 left: 00:09, 96.16 iters/sec]"
       ]
      },
      {
       "output_type": "stream",
       "stream": "stdout",
       "text": [
        "\r",
        "|#######---| 3219/4043  79% [elapsed: 00:33 left: 00:08, 96.03 iters/sec]"
       ]
      },
      {
       "output_type": "stream",
       "stream": "stdout",
       "text": [
        "\r",
        "|########--| 3268/4043  80% [elapsed: 00:34 left: 00:08, 96.05 iters/sec]"
       ]
      },
      {
       "output_type": "stream",
       "stream": "stdout",
       "text": [
        "\r",
        "|########--| 3329/4043  82% [elapsed: 00:34 left: 00:07, 96.38 iters/sec]"
       ]
      },
      {
       "output_type": "stream",
       "stream": "stdout",
       "text": [
        "\r",
        "|########--| 3388/4043  83% [elapsed: 00:35 left: 00:06, 96.67 iters/sec]"
       ]
      },
      {
       "output_type": "stream",
       "stream": "stdout",
       "text": [
        "\r",
        "|########--| 3433/4043  84% [elapsed: 00:35 left: 00:06, 96.57 iters/sec]"
       ]
      },
      {
       "output_type": "stream",
       "stream": "stdout",
       "text": [
        "\r",
        "|########--| 3478/4043  86% [elapsed: 00:36 left: 00:05, 96.39 iters/sec]"
       ]
      },
      {
       "output_type": "stream",
       "stream": "stdout",
       "text": [
        "\r",
        "|########--| 3538/4043  87% [elapsed: 00:36 left: 00:05, 96.69 iters/sec]"
       ]
      },
      {
       "output_type": "stream",
       "stream": "stdout",
       "text": [
        "\r",
        "|########--| 3593/4043  88% [elapsed: 00:37 left: 00:04, 96.82 iters/sec]"
       ]
      },
      {
       "output_type": "stream",
       "stream": "stdout",
       "text": [
        "\r",
        "|########--| 3633/4043  89% [elapsed: 00:37 left: 00:04, 96.60 iters/sec]"
       ]
      },
      {
       "output_type": "stream",
       "stream": "stdout",
       "text": [
        "\r",
        "|#########-| 3681/4043  91% [elapsed: 00:38 left: 00:03, 96.58 iters/sec]"
       ]
      },
      {
       "output_type": "stream",
       "stream": "stdout",
       "text": [
        "\r",
        "|#########-| 3743/4043  92% [elapsed: 00:38 left: 00:03, 96.92 iters/sec]"
       ]
      },
      {
       "output_type": "stream",
       "stream": "stdout",
       "text": [
        "\r",
        "|#########-| 3809/4043  94% [elapsed: 00:39 left: 00:02, 97.35 iters/sec]"
       ]
      },
      {
       "output_type": "stream",
       "stream": "stdout",
       "text": [
        "\r",
        "|#########-| 3852/4043  95% [elapsed: 00:39 left: 00:01, 97.19 iters/sec]"
       ]
      },
      {
       "output_type": "stream",
       "stream": "stdout",
       "text": [
        "\r",
        "|#########-| 3894/4043  96% [elapsed: 00:40 left: 00:01, 97.03 iters/sec]"
       ]
      },
      {
       "output_type": "stream",
       "stream": "stdout",
       "text": [
        "\r",
        "|#########-| 3947/4043  97% [elapsed: 00:40 left: 00:00, 97.11 iters/sec]"
       ]
      },
      {
       "output_type": "stream",
       "stream": "stdout",
       "text": [
        "\r",
        "|#########-| 3994/4043  98% [elapsed: 00:41 left: 00:00, 97.05 iters/sec]"
       ]
      },
      {
       "output_type": "stream",
       "stream": "stdout",
       "text": [
        "\r",
        "|#########-| 4035/4043  99% [elapsed: 00:41 left: 00:00, 96.85 iters/sec]"
       ]
      },
      {
       "output_type": "stream",
       "stream": "stdout",
       "text": [
        "\r",
        "                                                                         "
       ]
      },
      {
       "output_type": "stream",
       "stream": "stdout",
       "text": [
        "\r",
        "3673 86 284\n"
       ]
      }
     ],
     "prompt_number": 9
    },
    {
     "cell_type": "code",
     "collapsed": false,
     "input": [
      "# Now write the \"Other\" Files to separate folders to manually cut out the desired section\n",
      "# JH: I will do this and put them in dropbox so you don't have to worry about running this cell\n",
      "\n",
      "Dst_Man = Dst[:-1] + '_Man/'\n",
      "\n",
      "# Create the Directory if they do not already exist\n",
      "if not os.path.exists(Dst_Man):\n",
      "    os.mkdir(Dst_Man)\n",
      "\n",
      "# Write to the desired file\n",
      "for item in Other:\n",
      "    with open(Src + item, 'r') as f:\n",
      "        section = f.read()\n",
      "    \n",
      "    with open(Dst_Man + item[:-9] + '1.txt', 'w') as g:\n",
      "        g.write(section)     \n",
      "        "
     ],
     "language": "python",
     "metadata": {},
     "outputs": [],
     "prompt_number": 181
    },
    {
     "cell_type": "code",
     "collapsed": false,
     "input": [],
     "language": "python",
     "metadata": {},
     "outputs": []
    }
   ],
   "metadata": {}
  }
 ]
}