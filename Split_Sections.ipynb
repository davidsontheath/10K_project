{
 "metadata": {
  "name": ""
 },
 "nbformat": 3,
 "nbformat_minor": 0,
 "worksheets": [
  {
   "cells": [
    {
     "cell_type": "code",
     "collapsed": false,
     "input": [
      "# Run the first two cells and then copy in the remaining sections from dropbox (This is now complete)\n",
      "\n",
      "import os\n",
      "import re\n",
      "from tqdm import *\n",
      "\n",
      "Src = 'Data/Items_1&1A/'\n",
      "Dst = 'Data/Item_1/'\n",
      "\n",
      "File_List = [item for item in os.listdir(Src) if item[-4:] == '.txt']\n",
      "\n",
      "# Make the Dst directory if it does not already exist\n",
      "if not os.path.exists(Dst):\n",
      "    os.mkdir(Dst)\n"
     ],
     "language": "python",
     "metadata": {},
     "outputs": [],
     "prompt_number": 182
    },
    {
     "cell_type": "code",
     "collapsed": false,
     "input": [
      "# This section Does the Bulk of the work\n",
      "\n",
      "# Use this to track results\n",
      "Found = 0\n",
      "Not_Found = 0\n",
      "Other = []\n",
      "\n",
      "for item in tqdm(File_List):\n",
      "    \n",
      "    with open(Src + item, 'r') as f:\n",
      "        section = f.read()\n",
      "    \n",
      "    # For now ignore those for which the following regex does not return exactly one result\n",
      "    first = re.findall(r'\\n.{0,10}?[^\"]Item.{1,5}?1.{0,2}?A.{1,50}?[^\"]Risk.{1,5}?Factors(?!\")', section, re.DOTALL | re.IGNORECASE)\n",
      "    if len(first) == 1:\n",
      "    \n",
      "        # This isolates item 1 (if there is a match) and writes it to the coresponding file\n",
      "        find = re.match(r'(.{0,20}?Item.{1,5}?1[^A].{0,50}?Business.{1000,1000000000}?\\n.{0,10}?[^\"]Item.{1,5}?1.{0,2}?A.{1,50}?[^\"]Risk.{1,5}?Factors)(?!\")', section, re.DOTALL | re.IGNORECASE)\n",
      "        if find:\n",
      "            One = find.group(1)        \n",
      "            with open(Dst + item[:-9] + '1.txt', 'w') as g:\n",
      "                g.write(One)\n",
      "            Found = Found + 1\n",
      "        \n",
      "        # If there is no reference to \"risk factors\" then write the whole section to the coresponding file\n",
      "        else:\n",
      "            Double_Check = re.search(r'Risk.{1,5}?Factors', section, re.DOTALL | re.IGNORECASE)\n",
      "            if not Double_Check:\n",
      "                Not_Found = Not_Found + 1\n",
      "                with open(Dst + item[:-9] + '1.txt', 'w') as h:\n",
      "                    h.write(section)\n",
      "                    \n",
      "            # Track Incomplete (this becomes the Manual list as I (JH) gave up on fully automating it\n",
      "            else:\n",
      "                Other.append(item)\n",
      "                \n",
      "    # The other case: check for references to \"risk factors\"\n",
      "    else:\n",
      "        Double_Check = re.search(r'Risk.{1,5}?Factors', section, re.DOTALL | re.IGNORECASE)\n",
      "        if not Double_Check:\n",
      "            Not_Found = Not_Found + 1\n",
      "            with open(Dst + item[:-9] + '1.txt', 'w') as h:\n",
      "                h.write(section)\n",
      "\n",
      "        # Track Incomplete\n",
      "        else:\n",
      "            Other.append(item)\n",
      "    \n",
      "print Found, Not_Found, len(Other)\n",
      "#if len(Other) > 0:\n",
      "#    print Other\n"
     ],
     "language": "python",
     "metadata": {},
     "outputs": [
      {
       "output_type": "stream",
       "stream": "stdout",
       "text": [
        "\r",
        "|----------| 0/4018   0% [elapsed: 00:00 left: ?, ? iters/sec]"
       ]
      },
      {
       "output_type": "stream",
       "stream": "stdout",
       "text": [
        "\r",
        "|----------| 50/4018   1% [elapsed: 00:00 left: 00:39, 99.32 iters/sec]"
       ]
      },
      {
       "output_type": "stream",
       "stream": "stdout",
       "text": [
        "\r",
        "|----------| 106/4018   2% [elapsed: 00:01 left: 00:37, 104.65 iters/sec]"
       ]
      },
      {
       "output_type": "stream",
       "stream": "stdout",
       "text": [
        "\r",
        "|----------| 158/4018   3% [elapsed: 00:01 left: 00:37, 104.32 iters/sec]"
       ]
      },
      {
       "output_type": "stream",
       "stream": "stdout",
       "text": [
        "\r",
        "|----------| 213/4018   5% [elapsed: 00:02 left: 00:35, 105.70 iters/sec]"
       ]
      },
      {
       "output_type": "stream",
       "stream": "stdout",
       "text": [
        "\r",
        "|----------| 262/4018   6% [elapsed: 00:02 left: 00:36, 103.83 iters/sec]"
       ]
      },
      {
       "output_type": "stream",
       "stream": "stdout",
       "text": [
        "\r",
        "|----------| 311/4018   7% [elapsed: 00:03 left: 00:36, 102.80 iters/sec]"
       ]
      },
      {
       "output_type": "stream",
       "stream": "stdout",
       "text": [
        "\r",
        "|----------| 367/4018   9% [elapsed: 00:03 left: 00:35, 104.04 iters/sec]"
       ]
      },
      {
       "output_type": "stream",
       "stream": "stdout",
       "text": [
        "\r",
        "|#---------| 428/4018  10% [elapsed: 00:04 left: 00:33, 106.27 iters/sec]"
       ]
      },
      {
       "output_type": "stream",
       "stream": "stdout",
       "text": [
        "\r",
        "|#---------| 481/4018  11% [elapsed: 00:04 left: 00:33, 106.13 iters/sec]"
       ]
      },
      {
       "output_type": "stream",
       "stream": "stdout",
       "text": [
        "\r",
        "|#---------| 539/4018  13% [elapsed: 00:05 left: 00:32, 107.06 iters/sec]"
       ]
      },
      {
       "output_type": "stream",
       "stream": "stdout",
       "text": [
        "\r",
        "|#---------| 600/4018  14% [elapsed: 00:05 left: 00:31, 108.26 iters/sec]"
       ]
      },
      {
       "output_type": "stream",
       "stream": "stdout",
       "text": [
        "\r",
        "|#---------| 653/4018  16% [elapsed: 00:06 left: 00:31, 108.05 iters/sec]"
       ]
      },
      {
       "output_type": "stream",
       "stream": "stdout",
       "text": [
        "\r",
        "|#---------| 708/4018  17% [elapsed: 00:06 left: 00:30, 108.14 iters/sec]"
       ]
      },
      {
       "output_type": "stream",
       "stream": "stdout",
       "text": [
        "\r",
        "|#---------| 768/4018  19% [elapsed: 00:07 left: 00:29, 108.82 iters/sec]"
       ]
      },
      {
       "output_type": "stream",
       "stream": "stdout",
       "text": [
        "\r",
        "|##--------| 818/4018  20% [elapsed: 00:07 left: 00:29, 108.15 iters/sec]"
       ]
      },
      {
       "output_type": "stream",
       "stream": "stdout",
       "text": [
        "\r",
        "|##--------| 881/4018  21% [elapsed: 00:08 left: 00:28, 109.12 iters/sec]"
       ]
      },
      {
       "output_type": "stream",
       "stream": "stdout",
       "text": [
        "\r",
        "|##--------| 951/4018  23% [elapsed: 00:08 left: 00:27, 110.88 iters/sec]"
       ]
      },
      {
       "output_type": "stream",
       "stream": "stdout",
       "text": [
        "\r",
        "|##--------| 1015/4018  25% [elapsed: 00:09 left: 00:26, 111.79 iters/sec]"
       ]
      },
      {
       "output_type": "stream",
       "stream": "stdout",
       "text": [
        "\r",
        "|##--------| 1078/4018  26% [elapsed: 00:09 left: 00:26, 112.49 iters/sec]"
       ]
      },
      {
       "output_type": "stream",
       "stream": "stdout",
       "text": [
        "\r",
        "|##--------| 1130/4018  28% [elapsed: 00:10 left: 00:25, 112.00 iters/sec]"
       ]
      },
      {
       "output_type": "stream",
       "stream": "stdout",
       "text": [
        "\r",
        "|##--------| 1181/4018  29% [elapsed: 00:10 left: 00:25, 111.52 iters/sec]"
       ]
      },
      {
       "output_type": "stream",
       "stream": "stdout",
       "text": [
        "\r",
        "|###-------| 1233/4018  30% [elapsed: 00:11 left: 00:25, 111.03 iters/sec]"
       ]
      },
      {
       "output_type": "stream",
       "stream": "stdout",
       "text": [
        "\r",
        "|###-------| 1284/4018  31% [elapsed: 00:11 left: 00:24, 110.59 iters/sec]"
       ]
      },
      {
       "output_type": "stream",
       "stream": "stdout",
       "text": [
        "\r",
        "|###-------| 1337/4018  33% [elapsed: 00:12 left: 00:24, 110.32 iters/sec]"
       ]
      },
      {
       "output_type": "stream",
       "stream": "stdout",
       "text": [
        "\r",
        "|###-------| 1386/4018  34% [elapsed: 00:12 left: 00:23, 109.81 iters/sec]"
       ]
      },
      {
       "output_type": "stream",
       "stream": "stdout",
       "text": [
        "\r",
        "|###-------| 1442/4018  35% [elapsed: 00:13 left: 00:23, 109.85 iters/sec]"
       ]
      },
      {
       "output_type": "stream",
       "stream": "stdout",
       "text": [
        "\r",
        "|###-------| 1502/4018  37% [elapsed: 00:13 left: 00:22, 110.19 iters/sec]"
       ]
      },
      {
       "output_type": "stream",
       "stream": "stdout",
       "text": [
        "\r",
        "|###-------| 1557/4018  38% [elapsed: 00:14 left: 00:22, 110.15 iters/sec]"
       ]
      },
      {
       "output_type": "stream",
       "stream": "stdout",
       "text": [
        "\r",
        "|####------| 1610/4018  40% [elapsed: 00:14 left: 00:21, 109.95 iters/sec]"
       ]
      },
      {
       "output_type": "stream",
       "stream": "stdout",
       "text": [
        "\r",
        "|####------| 1661/4018  41% [elapsed: 00:15 left: 00:21, 109.67 iters/sec]"
       ]
      },
      {
       "output_type": "stream",
       "stream": "stdout",
       "text": [
        "\r",
        "|####------| 1717/4018  42% [elapsed: 00:15 left: 00:20, 109.73 iters/sec]"
       ]
      },
      {
       "output_type": "stream",
       "stream": "stdout",
       "text": [
        "\r",
        "|####------| 1765/4018  43% [elapsed: 00:16 left: 00:20, 109.28 iters/sec]"
       ]
      },
      {
       "output_type": "stream",
       "stream": "stdout",
       "text": [
        "\r",
        "|####------| 1823/4018  45% [elapsed: 00:16 left: 00:20, 109.46 iters/sec]"
       ]
      },
      {
       "output_type": "stream",
       "stream": "stdout",
       "text": [
        "\r",
        "|####------| 1884/4018  46% [elapsed: 00:17 left: 00:19, 109.80 iters/sec]"
       ]
      },
      {
       "output_type": "stream",
       "stream": "stdout",
       "text": [
        "\r",
        "|####------| 1945/4018  48% [elapsed: 00:17 left: 00:18, 110.13 iters/sec]"
       ]
      },
      {
       "output_type": "stream",
       "stream": "stdout",
       "text": [
        "\r",
        "|#####-----| 2012/4018  50% [elapsed: 00:18 left: 00:18, 110.74 iters/sec]"
       ]
      },
      {
       "output_type": "stream",
       "stream": "stdout",
       "text": [
        "\r",
        "|#####-----| 2063/4018  51% [elapsed: 00:18 left: 00:17, 110.49 iters/sec]"
       ]
      },
      {
       "output_type": "stream",
       "stream": "stdout",
       "text": [
        "\r",
        "|#####-----| 2127/4018  52% [elapsed: 00:19 left: 00:17, 110.90 iters/sec]"
       ]
      },
      {
       "output_type": "stream",
       "stream": "stdout",
       "text": [
        "\r",
        "|#####-----| 2183/4018  54% [elapsed: 00:19 left: 00:16, 110.89 iters/sec]"
       ]
      },
      {
       "output_type": "stream",
       "stream": "stdout",
       "text": [
        "\r",
        "|#####-----| 2240/4018  55% [elapsed: 00:20 left: 00:16, 110.92 iters/sec]"
       ]
      },
      {
       "output_type": "stream",
       "stream": "stdout",
       "text": [
        "\r",
        "|#####-----| 2296/4018  57% [elapsed: 00:20 left: 00:15, 110.94 iters/sec]"
       ]
      },
      {
       "output_type": "stream",
       "stream": "stdout",
       "text": [
        "\r",
        "|#####-----| 2359/4018  58% [elapsed: 00:21 left: 00:14, 111.28 iters/sec]"
       ]
      },
      {
       "output_type": "stream",
       "stream": "stdout",
       "text": [
        "\r",
        "|######----| 2416/4018  60% [elapsed: 00:21 left: 00:14, 111.33 iters/sec]"
       ]
      },
      {
       "output_type": "stream",
       "stream": "stdout",
       "text": [
        "\r",
        "|######----| 2458/4018  61% [elapsed: 00:22 left: 00:14, 110.69 iters/sec]"
       ]
      },
      {
       "output_type": "stream",
       "stream": "stdout",
       "text": [
        "\r",
        "|######----| 2492/4018  62% [elapsed: 00:22 left: 00:13, 109.71 iters/sec]"
       ]
      },
      {
       "output_type": "stream",
       "stream": "stdout",
       "text": [
        "\r",
        "|######----| 2531/4018  62% [elapsed: 00:23 left: 00:13, 108.99 iters/sec]"
       ]
      },
      {
       "output_type": "stream",
       "stream": "stdout",
       "text": [
        "\r",
        "|######----| 2590/4018  64% [elapsed: 00:23 left: 00:13, 109.13 iters/sec]"
       ]
      },
      {
       "output_type": "stream",
       "stream": "stdout",
       "text": [
        "\r",
        "|######----| 2648/4018  65% [elapsed: 00:24 left: 00:12, 109.26 iters/sec]"
       ]
      },
      {
       "output_type": "stream",
       "stream": "stdout",
       "text": [
        "\r",
        "|######----| 2695/4018  67% [elapsed: 00:24 left: 00:12, 108.92 iters/sec]"
       ]
      },
      {
       "output_type": "stream",
       "stream": "stdout",
       "text": [
        "\r",
        "|######----| 2744/4018  68% [elapsed: 00:25 left: 00:11, 108.69 iters/sec]"
       ]
      },
      {
       "output_type": "stream",
       "stream": "stdout",
       "text": [
        "\r",
        "|######----| 2805/4018  69% [elapsed: 00:25 left: 00:11, 108.93 iters/sec]"
       ]
      },
      {
       "output_type": "stream",
       "stream": "stdout",
       "text": [
        "\r",
        "|#######---| 2856/4018  71% [elapsed: 00:26 left: 00:10, 108.70 iters/sec]"
       ]
      },
      {
       "output_type": "stream",
       "stream": "stdout",
       "text": [
        "\r",
        "|#######---| 2899/4018  72% [elapsed: 00:26 left: 00:10, 108.26 iters/sec]"
       ]
      },
      {
       "output_type": "stream",
       "stream": "stdout",
       "text": [
        "\r",
        "|#######---| 2953/4018  73% [elapsed: 00:27 left: 00:09, 108.25 iters/sec]"
       ]
      },
      {
       "output_type": "stream",
       "stream": "stdout",
       "text": [
        "\r",
        "|#######---| 3010/4018  74% [elapsed: 00:27 left: 00:09, 108.33 iters/sec]"
       ]
      },
      {
       "output_type": "stream",
       "stream": "stdout",
       "text": [
        "\r",
        "|#######---| 3068/4018  76% [elapsed: 00:28 left: 00:08, 108.45 iters/sec]"
       ]
      },
      {
       "output_type": "stream",
       "stream": "stdout",
       "text": [
        "\r",
        "|#######---| 3130/4018  77% [elapsed: 00:28 left: 00:08, 108.71 iters/sec]"
       ]
      },
      {
       "output_type": "stream",
       "stream": "stdout",
       "text": [
        "\r",
        "|#######---| 3186/4018  79% [elapsed: 00:29 left: 00:07, 108.77 iters/sec]"
       ]
      },
      {
       "output_type": "stream",
       "stream": "stdout",
       "text": [
        "\r",
        "|########--| 3247/4018  80% [elapsed: 00:29 left: 00:07, 108.96 iters/sec]"
       ]
      },
      {
       "output_type": "stream",
       "stream": "stdout",
       "text": [
        "\r",
        "|########--| 3306/4018  82% [elapsed: 00:30 left: 00:06, 109.09 iters/sec]"
       ]
      },
      {
       "output_type": "stream",
       "stream": "stdout",
       "text": [
        "\r",
        "|########--| 3370/4018  83% [elapsed: 00:30 left: 00:05, 109.37 iters/sec]"
       ]
      },
      {
       "output_type": "stream",
       "stream": "stdout",
       "text": [
        "\r",
        "|########--| 3428/4018  85% [elapsed: 00:31 left: 00:05, 109.47 iters/sec]"
       ]
      },
      {
       "output_type": "stream",
       "stream": "stdout",
       "text": [
        "\r",
        "|########--| 3485/4018  86% [elapsed: 00:31 left: 00:04, 109.51 iters/sec]"
       ]
      },
      {
       "output_type": "stream",
       "stream": "stdout",
       "text": [
        "\r",
        "|########--| 3546/4018  88% [elapsed: 00:32 left: 00:04, 109.69 iters/sec]"
       ]
      },
      {
       "output_type": "stream",
       "stream": "stdout",
       "text": [
        "\r",
        "|########--| 3604/4018  89% [elapsed: 00:32 left: 00:03, 109.74 iters/sec]"
       ]
      },
      {
       "output_type": "stream",
       "stream": "stdout",
       "text": [
        "\r",
        "|#########-| 3655/4018  90% [elapsed: 00:33 left: 00:03, 109.60 iters/sec]"
       ]
      },
      {
       "output_type": "stream",
       "stream": "stdout",
       "text": [
        "\r",
        "|#########-| 3720/4018  92% [elapsed: 00:33 left: 00:02, 109.90 iters/sec]"
       ]
      },
      {
       "output_type": "stream",
       "stream": "stdout",
       "text": [
        "\r",
        "|#########-| 3790/4018  94% [elapsed: 00:34 left: 00:02, 110.32 iters/sec]"
       ]
      },
      {
       "output_type": "stream",
       "stream": "stdout",
       "text": [
        "\r",
        "|#########-| 3842/4018  95% [elapsed: 00:34 left: 00:01, 110.19 iters/sec]"
       ]
      },
      {
       "output_type": "stream",
       "stream": "stdout",
       "text": [
        "\r",
        "|#########-| 3897/4018  96% [elapsed: 00:35 left: 00:01, 110.18 iters/sec]"
       ]
      },
      {
       "output_type": "stream",
       "stream": "stdout",
       "text": [
        "\r",
        "|#########-| 3950/4018  98% [elapsed: 00:35 left: 00:00, 110.10 iters/sec]"
       ]
      },
      {
       "output_type": "stream",
       "stream": "stdout",
       "text": [
        "\r",
        "|#########-| 4005/4018  99% [elapsed: 00:36 left: 00:00, 110.05 iters/sec]"
       ]
      },
      {
       "output_type": "stream",
       "stream": "stdout",
       "text": [
        "\r",
        "                                                                          "
       ]
      },
      {
       "output_type": "stream",
       "stream": "stdout",
       "text": [
        "\r",
        "3690 41 287\n"
       ]
      }
     ],
     "prompt_number": 183
    },
    {
     "cell_type": "code",
     "collapsed": false,
     "input": [
      "# Now write the \"Other\" Files to separate folders to manually cut out the desired section\n",
      "# JH: I will do this and put them in dropbox so you don't have to worry about running this cell\n",
      "\n",
      "Dst_Man = Dst[:-1] + '_Man/'\n",
      "\n",
      "# Create the Directory if they do not already exist\n",
      "if not os.path.exists(Dst_Man):\n",
      "    os.mkdir(Dst_Man)\n",
      "\n",
      "# Write to the desired file\n",
      "for item in Other:\n",
      "    with open(Src + item, 'r') as f:\n",
      "        section = f.read()\n",
      "    \n",
      "    with open(Dst_Man + item[:-9] + '1.txt', 'w') as g:\n",
      "        g.write(section)     \n",
      "        "
     ],
     "language": "python",
     "metadata": {},
     "outputs": [],
     "prompt_number": 181
    },
    {
     "cell_type": "code",
     "collapsed": false,
     "input": [],
     "language": "python",
     "metadata": {},
     "outputs": []
    }
   ],
   "metadata": {}
  }
 ]
}