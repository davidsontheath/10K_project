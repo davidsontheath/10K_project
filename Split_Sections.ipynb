{
 "metadata": {
  "name": ""
 },
 "nbformat": 3,
 "nbformat_minor": 0,
 "worksheets": [
  {
   "cells": [
    {
     "cell_type": "code",
     "collapsed": false,
     "input": [
      "# In Progress - NOT COMPLETE - Need to Debug my Regular Expressions (11/14) JH\n",
      "\n",
      "import os\n",
      "import re\n",
      "from tqdm import *\n",
      "\n",
      "Src = 'Data/Items_1&1A/'\n",
      "Dst_1 = 'Data/Item_1/'\n",
      "Dst_2 = 'Data/Item_1A/'\n",
      "\n",
      "File_List = [item for item in os.listdir(Src) if item[-4:] == '.txt']\n",
      "\n",
      "# Make the specified directories if they do not already exist\n",
      "if not os.path.exists(Dst_1):\n",
      "    os.mkdir(Dst_1)\n",
      "if not os.path.exists(Dst_2):\n",
      "    os.mkdir(Dst_2)\n"
     ],
     "language": "python",
     "metadata": {},
     "outputs": [],
     "prompt_number": 17
    },
    {
     "cell_type": "code",
     "collapsed": false,
     "input": [
      "# Dictionary Used for Testing Regular Expressions\n",
      "\n",
      "'''Dict = {}\n",
      "for item in tqdm(File_List):\n",
      "    with open(Src + item) as f:\n",
      "        section = f.read()\n",
      "    x = re.findall(r'\\n.{0,20}?Item.{1,5}?1.{0,2}?A.{1,100}?Risk.{1,5}?Factors.+', section, re.DOTALL | re.IGNORECASE)\n",
      "    if len(x) not in Dict:\n",
      "        Dict[len(x)] = 1\n",
      "    else:\n",
      "        Dict[len(x)] = Dict[len(x)] + 1\n",
      "print Dict'''\n"
     ],
     "language": "python",
     "metadata": {},
     "outputs": [
      {
       "output_type": "stream",
       "stream": "stdout",
       "text": [
        "\r",
        "|----------| 0/4018   0% [elapsed: 00:00 left: ?, ? iters/sec]"
       ]
      },
      {
       "output_type": "stream",
       "stream": "stdout",
       "text": [
        "\r",
        "|----------| 133/4018   3% [elapsed: 00:00 left: 00:14, 265.53 iters/sec]"
       ]
      },
      {
       "output_type": "stream",
       "stream": "stdout",
       "text": [
        "\r",
        "|----------| 283/4018   7% [elapsed: 00:01 left: 00:13, 282.47 iters/sec]"
       ]
      },
      {
       "output_type": "stream",
       "stream": "stdout",
       "text": [
        "\r",
        "|#---------| 429/4018  10% [elapsed: 00:01 left: 00:12, 285.50 iters/sec]"
       ]
      },
      {
       "output_type": "stream",
       "stream": "stdout",
       "text": [
        "\r",
        "|#---------| 566/4018  14% [elapsed: 00:02 left: 00:12, 282.12 iters/sec]"
       ]
      },
      {
       "output_type": "stream",
       "stream": "stdout",
       "text": [
        "\r",
        "|#---------| 699/4018  17% [elapsed: 00:02 left: 00:11, 278.54 iters/sec]"
       ]
      },
      {
       "output_type": "stream",
       "stream": "stdout",
       "text": [
        "\r",
        "|##--------| 831/4018  20% [elapsed: 00:03 left: 00:11, 275.99 iters/sec]"
       ]
      },
      {
       "output_type": "stream",
       "stream": "stdout",
       "text": [
        "\r",
        "|##--------| 978/4018  24% [elapsed: 00:03 left: 00:10, 278.36 iters/sec]"
       ]
      },
      {
       "output_type": "stream",
       "stream": "stdout",
       "text": [
        "\r",
        "|##--------| 1122/4018  27% [elapsed: 00:04 left: 00:10, 279.14 iters/sec]"
       ]
      },
      {
       "output_type": "stream",
       "stream": "stdout",
       "text": [
        "\r",
        "|###-------| 1243/4018  30% [elapsed: 00:04 left: 00:10, 274.99 iters/sec]"
       ]
      },
      {
       "output_type": "stream",
       "stream": "stdout",
       "text": [
        "\r",
        "|###-------| 1382/4018  34% [elapsed: 00:05 left: 00:09, 275.21 iters/sec]"
       ]
      },
      {
       "output_type": "stream",
       "stream": "stdout",
       "text": [
        "\r",
        "|###-------| 1540/4018  38% [elapsed: 00:05 left: 00:08, 278.86 iters/sec]"
       ]
      },
      {
       "output_type": "stream",
       "stream": "stdout",
       "text": [
        "\r",
        "|####------| 1668/4018  41% [elapsed: 00:06 left: 00:08, 276.79 iters/sec]"
       ]
      },
      {
       "output_type": "stream",
       "stream": "stdout",
       "text": [
        "\r",
        "|####------| 1799/4018  44% [elapsed: 00:06 left: 00:08, 275.65 iters/sec]"
       ]
      },
      {
       "output_type": "stream",
       "stream": "stdout",
       "text": [
        "\r",
        "|####------| 1946/4018  48% [elapsed: 00:07 left: 00:07, 276.94 iters/sec]"
       ]
      },
      {
       "output_type": "stream",
       "stream": "stdout",
       "text": [
        "\r",
        "|#####-----| 2106/4018  52% [elapsed: 00:07 left: 00:06, 279.74 iters/sec]"
       ]
      },
      {
       "output_type": "stream",
       "stream": "stdout",
       "text": [
        "\r",
        "|#####-----| 2251/4018  56% [elapsed: 00:08 left: 00:06, 280.33 iters/sec]"
       ]
      },
      {
       "output_type": "stream",
       "stream": "stdout",
       "text": [
        "\r",
        "|#####-----| 2400/4018  59% [elapsed: 00:08 left: 00:05, 281.31 iters/sec]"
       ]
      },
      {
       "output_type": "stream",
       "stream": "stdout",
       "text": [
        "\r",
        "|######----| 2531/4018  62% [elapsed: 00:09 left: 00:05, 280.08 iters/sec]"
       ]
      },
      {
       "output_type": "stream",
       "stream": "stdout",
       "text": [
        "\r",
        "|######----| 2660/4018  66% [elapsed: 00:09 left: 00:04, 278.91 iters/sec]"
       ]
      },
      {
       "output_type": "stream",
       "stream": "stdout",
       "text": [
        "\r",
        "|######----| 2779/4018  69% [elapsed: 00:10 left: 00:04, 276.84 iters/sec]"
       ]
      },
      {
       "output_type": "stream",
       "stream": "stdout",
       "text": [
        "\r",
        "|#######---| 2926/4018  72% [elapsed: 00:10 left: 00:03, 277.54 iters/sec]"
       ]
      },
      {
       "output_type": "stream",
       "stream": "stdout",
       "text": [
        "\r",
        "|#######---| 3068/4018  76% [elapsed: 00:11 left: 00:03, 277.78 iters/sec]"
       ]
      },
      {
       "output_type": "stream",
       "stream": "stdout",
       "text": [
        "\r",
        "|########--| 3222/4018  80% [elapsed: 00:11 left: 00:02, 279.05 iters/sec]"
       ]
      },
      {
       "output_type": "stream",
       "stream": "stdout",
       "text": [
        "\r",
        "|########--| 3372/4018  83% [elapsed: 00:12 left: 00:02, 279.90 iters/sec]"
       ]
      },
      {
       "output_type": "stream",
       "stream": "stdout",
       "text": [
        "\r",
        "|########--| 3522/4018  87% [elapsed: 00:12 left: 00:01, 280.66 iters/sec]"
       ]
      },
      {
       "output_type": "stream",
       "stream": "stdout",
       "text": [
        "\r",
        "|#########-| 3662/4018  91% [elapsed: 00:13 left: 00:01, 280.62 iters/sec]"
       ]
      },
      {
       "output_type": "stream",
       "stream": "stdout",
       "text": [
        "\r",
        "|#########-| 3819/4018  95% [elapsed: 00:13 left: 00:00, 281.81 iters/sec]"
       ]
      },
      {
       "output_type": "stream",
       "stream": "stdout",
       "text": [
        "\r",
        "|#########-| 3957/4018  98% [elapsed: 00:14 left: 00:00, 281.57 iters/sec]"
       ]
      },
      {
       "output_type": "stream",
       "stream": "stdout",
       "text": [
        "\r",
        "                                                                          "
       ]
      },
      {
       "output_type": "stream",
       "stream": "stdout",
       "text": [
        "\r",
        "{0: 110, 1: 3908}\n"
       ]
      }
     ],
     "prompt_number": 18
    },
    {
     "cell_type": "code",
     "collapsed": false,
     "input": [
      "# This separates item 1 from item 1A\n",
      "# (Note: not all reports contain an item 1A)\n",
      "\n",
      "zero = []\n",
      "other = []\n",
      "\n",
      "for item in tqdm(File_List):\n",
      "    with open(Src + item) as f:\n",
      "        section = f.read()\n",
      "    x = re.findall(r'\\n.{0,20}?Item.{1,5}?1.{0,2}?A.{1,100}?Risk.{1,5}?Factors.+', section, re.DOTALL | re.IGNORECASE)\n",
      "    \n",
      "    if len(x) == 1:\n",
      "        One_A = x.pop()\n",
      "        One = re.match(r'.+?\\n.{0,20}?Item.{1,5}?1.{0,2}?A.{1,100}?Risk.{1,5}?Factors', section, re.DOTALL | re.IGNORECASE).group()\n",
      "        \n",
      "        with open(Dst_1 + item[:-9] + '_1.txt', 'w') as f:\n",
      "            f.write(One)\n",
      "        with open(Dst_2 + item[:-9] + '_1A.txt', 'w') as g:\n",
      "            g.write(One_A)\n",
      "            \n",
      "    elif len(x) == 0:\n",
      "        with open(Dst_1 + item[:-9] + '_1.txt', 'w') as f:\n",
      "            f.write(One)\n",
      "        zero.append(item)  \n",
      "    else:\n",
      "        other.append(item)\n",
      "        "
     ],
     "language": "python",
     "metadata": {},
     "outputs": [
      {
       "output_type": "stream",
       "stream": "stdout",
       "text": [
        "\r",
        "|----------| 0/4018   0% [elapsed: 00:00 left: ?, ? iters/sec]"
       ]
      },
      {
       "output_type": "stream",
       "stream": "stdout",
       "text": [
        "\r",
        "|----------| 56/4018   1% [elapsed: 00:00 left: 00:35, 110.91 iters/sec]"
       ]
      },
      {
       "output_type": "stream",
       "stream": "stdout",
       "text": [
        "\r",
        "|----------| 112/4018   2% [elapsed: 00:01 left: 00:35, 111.43 iters/sec]"
       ]
      },
      {
       "output_type": "stream",
       "stream": "stdout",
       "text": [
        "\r",
        "|----------| 170/4018   4% [elapsed: 00:01 left: 00:34, 112.67 iters/sec]"
       ]
      },
      {
       "output_type": "stream",
       "stream": "stdout",
       "text": [
        "\r",
        "|----------| 230/4018   5% [elapsed: 00:02 left: 00:33, 114.20 iters/sec]"
       ]
      },
      {
       "output_type": "stream",
       "stream": "stdout",
       "text": [
        "\r",
        "|----------| 291/4018   7% [elapsed: 00:02 left: 00:32, 115.54 iters/sec]"
       ]
      },
      {
       "output_type": "stream",
       "stream": "stdout",
       "text": [
        "\r",
        "|----------| 350/4018   8% [elapsed: 00:03 left: 00:31, 115.60 iters/sec]"
       ]
      },
      {
       "output_type": "stream",
       "stream": "stdout",
       "text": [
        "\r",
        "|#---------| 412/4018  10% [elapsed: 00:03 left: 00:30, 116.68 iters/sec]"
       ]
      },
      {
       "output_type": "stream",
       "stream": "stdout",
       "text": [
        "\r",
        "|#---------| 473/4018  11% [elapsed: 00:04 left: 00:30, 116.78 iters/sec]"
       ]
      },
      {
       "output_type": "stream",
       "stream": "stdout",
       "text": [
        "\r",
        "|#---------| 530/4018  13% [elapsed: 00:04 left: 00:29, 116.45 iters/sec]"
       ]
      },
      {
       "output_type": "stream",
       "stream": "stdout",
       "text": [
        "\r",
        "|#---------| 593/4018  14% [elapsed: 00:05 left: 00:29, 117.35 iters/sec]"
       ]
      },
      {
       "output_type": "stream",
       "stream": "stdout",
       "text": [
        "\r",
        "|#---------| 640/4018  15% [elapsed: 00:05 left: 00:29, 115.23 iters/sec]"
       ]
      },
      {
       "output_type": "stream",
       "stream": "stdout",
       "text": [
        "\r",
        "|#---------| 699/4018  17% [elapsed: 00:06 left: 00:28, 115.18 iters/sec]"
       ]
      },
      {
       "output_type": "stream",
       "stream": "stdout",
       "text": [
        "\r",
        "|#---------| 759/4018  18% [elapsed: 00:06 left: 00:28, 115.46 iters/sec]"
       ]
      },
      {
       "output_type": "stream",
       "stream": "stdout",
       "text": [
        "\r",
        "|##--------| 815/4018  20% [elapsed: 00:07 left: 00:27, 115.05 iters/sec]"
       ]
      },
      {
       "output_type": "stream",
       "stream": "stdout",
       "text": [
        "\r",
        "|##--------| 871/4018  21% [elapsed: 00:07 left: 00:27, 114.83 iters/sec]"
       ]
      },
      {
       "output_type": "stream",
       "stream": "stdout",
       "text": [
        "\r",
        "|##--------| 943/4018  23% [elapsed: 00:08 left: 00:26, 116.53 iters/sec]"
       ]
      },
      {
       "output_type": "stream",
       "stream": "stdout",
       "text": [
        "\r",
        "|##--------| 999/4018  24% [elapsed: 00:08 left: 00:25, 116.19 iters/sec]"
       ]
      },
      {
       "output_type": "stream",
       "stream": "stdout",
       "text": [
        "\r",
        "|##--------| 1071/4018  26% [elapsed: 00:09 left: 00:25, 117.70 iters/sec]"
       ]
      },
      {
       "output_type": "stream",
       "stream": "stdout",
       "text": [
        "\r",
        "|##--------| 1127/4018  28% [elapsed: 00:09 left: 00:24, 117.39 iters/sec]"
       ]
      },
      {
       "output_type": "stream",
       "stream": "stdout",
       "text": [
        "\r",
        "|##--------| 1185/4018  29% [elapsed: 00:10 left: 00:24, 117.24 iters/sec]"
       ]
      },
      {
       "output_type": "stream",
       "stream": "stdout",
       "text": [
        "\r",
        "|###-------| 1236/4018  30% [elapsed: 00:10 left: 00:23, 116.47 iters/sec]"
       ]
      },
      {
       "output_type": "stream",
       "stream": "stdout",
       "text": [
        "\r",
        "|###-------| 1294/4018  32% [elapsed: 00:11 left: 00:23, 116.43 iters/sec]"
       ]
      },
      {
       "output_type": "stream",
       "stream": "stdout",
       "text": [
        "\r",
        "|###-------| 1343/4018  33% [elapsed: 00:11 left: 00:23, 115.58 iters/sec]"
       ]
      },
      {
       "output_type": "stream",
       "stream": "stdout",
       "text": [
        "\r",
        "|###-------| 1399/4018  34% [elapsed: 00:12 left: 00:22, 115.31 iters/sec]"
       ]
      },
      {
       "output_type": "stream",
       "stream": "stdout",
       "text": [
        "\r",
        "|###-------| 1455/4018  36% [elapsed: 00:12 left: 00:22, 115.18 iters/sec]"
       ]
      },
      {
       "output_type": "stream",
       "stream": "stdout",
       "text": [
        "\r",
        "|###-------| 1518/4018  37% [elapsed: 00:13 left: 00:21, 115.57 iters/sec]"
       ]
      },
      {
       "output_type": "stream",
       "stream": "stdout",
       "text": [
        "\r",
        "|###-------| 1579/4018  39% [elapsed: 00:13 left: 00:21, 115.79 iters/sec]"
       ]
      },
      {
       "output_type": "stream",
       "stream": "stdout",
       "text": [
        "\r",
        "|####------| 1636/4018  40% [elapsed: 00:14 left: 00:20, 115.72 iters/sec]"
       ]
      },
      {
       "output_type": "stream",
       "stream": "stdout",
       "text": [
        "\r",
        "|####------| 1690/4018  42% [elapsed: 00:14 left: 00:20, 115.45 iters/sec]"
       ]
      },
      {
       "output_type": "stream",
       "stream": "stdout",
       "text": [
        "\r",
        "|####------| 1753/4018  43% [elapsed: 00:15 left: 00:19, 115.79 iters/sec]"
       ]
      },
      {
       "output_type": "stream",
       "stream": "stdout",
       "text": [
        "\r",
        "|####------| 1802/4018  44% [elapsed: 00:15 left: 00:19, 115.18 iters/sec]"
       ]
      },
      {
       "output_type": "stream",
       "stream": "stdout",
       "text": [
        "\r",
        "|####------| 1865/4018  46% [elapsed: 00:16 left: 00:18, 115.51 iters/sec]"
       ]
      },
      {
       "output_type": "stream",
       "stream": "stdout",
       "text": [
        "\r",
        "|####------| 1927/4018  47% [elapsed: 00:16 left: 00:18, 115.76 iters/sec]"
       ]
      },
      {
       "output_type": "stream",
       "stream": "stdout",
       "text": [
        "\r",
        "|####------| 2001/4018  49% [elapsed: 00:17 left: 00:17, 116.69 iters/sec]"
       ]
      },
      {
       "output_type": "stream",
       "stream": "stdout",
       "text": [
        "\r",
        "|#####-----| 2061/4018  51% [elapsed: 00:17 left: 00:16, 116.69 iters/sec]"
       ]
      },
      {
       "output_type": "stream",
       "stream": "stdout",
       "text": [
        "\r",
        "|#####-----| 2129/4018  52% [elapsed: 00:18 left: 00:16, 117.22 iters/sec]"
       ]
      },
      {
       "output_type": "stream",
       "stream": "stdout",
       "text": [
        "\r",
        "|#####-----| 2190/4018  54% [elapsed: 00:18 left: 00:15, 117.32 iters/sec]"
       ]
      },
      {
       "output_type": "stream",
       "stream": "stdout",
       "text": [
        "\r",
        "|#####-----| 2250/4018  55% [elapsed: 00:19 left: 00:15, 117.29 iters/sec]"
       ]
      },
      {
       "output_type": "stream",
       "stream": "stdout",
       "text": [
        "\r",
        "|#####-----| 2307/4018  57% [elapsed: 00:19 left: 00:14, 117.18 iters/sec]"
       ]
      },
      {
       "output_type": "stream",
       "stream": "stdout",
       "text": [
        "\r",
        "|#####-----| 2374/4018  59% [elapsed: 00:20 left: 00:13, 117.57 iters/sec]"
       ]
      },
      {
       "output_type": "stream",
       "stream": "stdout",
       "text": [
        "\r",
        "|######----| 2439/4018  60% [elapsed: 00:20 left: 00:13, 117.82 iters/sec]"
       ]
      },
      {
       "output_type": "stream",
       "stream": "stdout",
       "text": [
        "\r",
        "|######----| 2496/4018  62% [elapsed: 00:21 left: 00:12, 117.67 iters/sec]"
       ]
      },
      {
       "output_type": "stream",
       "stream": "stdout",
       "text": [
        "\r",
        "|######----| 2550/4018  63% [elapsed: 00:21 left: 00:12, 117.39 iters/sec]"
       ]
      },
      {
       "output_type": "stream",
       "stream": "stdout",
       "text": [
        "\r",
        "|######----| 2610/4018  64% [elapsed: 00:22 left: 00:11, 117.43 iters/sec]"
       ]
      },
      {
       "output_type": "stream",
       "stream": "stdout",
       "text": [
        "\r",
        "|######----| 2666/4018  66% [elapsed: 00:22 left: 00:11, 117.27 iters/sec]"
       ]
      },
      {
       "output_type": "stream",
       "stream": "stdout",
       "text": [
        "\r",
        "|######----| 2716/4018  67% [elapsed: 00:23 left: 00:11, 116.82 iters/sec]"
       ]
      },
      {
       "output_type": "stream",
       "stream": "stdout",
       "text": [
        "\r",
        "|######----| 2773/4018  69% [elapsed: 00:23 left: 00:10, 116.71 iters/sec]"
       ]
      },
      {
       "output_type": "stream",
       "stream": "stdout",
       "text": [
        "\r",
        "|#######---| 2837/4018  70% [elapsed: 00:24 left: 00:10, 116.94 iters/sec]"
       ]
      },
      {
       "output_type": "stream",
       "stream": "stdout",
       "text": [
        "\r",
        "|#######---| 2897/4018  72% [elapsed: 00:24 left: 00:09, 117.00 iters/sec]"
       ]
      },
      {
       "output_type": "stream",
       "stream": "stdout",
       "text": [
        "\r",
        "|#######---| 2951/4018  73% [elapsed: 00:25 left: 00:09, 116.82 iters/sec]"
       ]
      },
      {
       "output_type": "stream",
       "stream": "stdout",
       "text": [
        "\r",
        "|#######---| 3010/4018  74% [elapsed: 00:25 left: 00:08, 116.83 iters/sec]"
       ]
      },
      {
       "output_type": "stream",
       "stream": "stdout",
       "text": [
        "\r",
        "|#######---| 3075/4018  76% [elapsed: 00:26 left: 00:08, 117.04 iters/sec]"
       ]
      },
      {
       "output_type": "stream",
       "stream": "stdout",
       "text": [
        "\r",
        "|#######---| 3140/4018  78% [elapsed: 00:26 left: 00:07, 117.27 iters/sec]"
       ]
      },
      {
       "output_type": "stream",
       "stream": "stdout",
       "text": [
        "\r",
        "|#######---| 3206/4018  79% [elapsed: 00:27 left: 00:06, 117.50 iters/sec]"
       ]
      },
      {
       "output_type": "stream",
       "stream": "stdout",
       "text": [
        "\r",
        "|########--| 3266/4018  81% [elapsed: 00:27 left: 00:06, 117.52 iters/sec]"
       ]
      },
      {
       "output_type": "stream",
       "stream": "stdout",
       "text": [
        "\r",
        "|########--| 3329/4018  82% [elapsed: 00:28 left: 00:05, 117.63 iters/sec]"
       ]
      },
      {
       "output_type": "stream",
       "stream": "stdout",
       "text": [
        "\r",
        "|########--| 3398/4018  84% [elapsed: 00:28 left: 00:05, 117.97 iters/sec]"
       ]
      },
      {
       "output_type": "stream",
       "stream": "stdout",
       "text": [
        "\r",
        "|########--| 3464/4018  86% [elapsed: 00:29 left: 00:04, 118.19 iters/sec]"
       ]
      },
      {
       "output_type": "stream",
       "stream": "stdout",
       "text": [
        "\r",
        "|########--| 3528/4018  87% [elapsed: 00:29 left: 00:04, 118.36 iters/sec]"
       ]
      },
      {
       "output_type": "stream",
       "stream": "stdout",
       "text": [
        "\r",
        "|########--| 3590/4018  89% [elapsed: 00:30 left: 00:03, 118.40 iters/sec]"
       ]
      },
      {
       "output_type": "stream",
       "stream": "stdout",
       "text": [
        "\r",
        "|#########-| 3651/4018  90% [elapsed: 00:30 left: 00:03, 118.45 iters/sec]"
       ]
      },
      {
       "output_type": "stream",
       "stream": "stdout",
       "text": [
        "\r",
        "|#########-| 3721/4018  92% [elapsed: 00:31 left: 00:02, 118.78 iters/sec]"
       ]
      },
      {
       "output_type": "stream",
       "stream": "stdout",
       "text": [
        "\r",
        "|#########-| 3794/4018  94% [elapsed: 00:31 left: 00:01, 119.19 iters/sec]"
       ]
      },
      {
       "output_type": "stream",
       "stream": "stdout",
       "text": [
        "\r",
        "|#########-| 3852/4018  95% [elapsed: 00:32 left: 00:01, 119.08 iters/sec]"
       ]
      },
      {
       "output_type": "stream",
       "stream": "stdout",
       "text": [
        "\r",
        "|#########-| 3911/4018  97% [elapsed: 00:32 left: 00:00, 119.05 iters/sec]"
       ]
      },
      {
       "output_type": "stream",
       "stream": "stdout",
       "text": [
        "\r",
        "|#########-| 3971/4018  98% [elapsed: 00:33 left: 00:00, 119.05 iters/sec]"
       ]
      },
      {
       "output_type": "stream",
       "stream": "stdout",
       "text": [
        "\r",
        "                                                                          "
       ]
      },
      {
       "output_type": "stream",
       "stream": "stdout",
       "text": [
        "\r"
       ]
      }
     ],
     "prompt_number": 19
    },
    {
     "cell_type": "code",
     "collapsed": false,
     "input": [
      "# Used to Track the Changes Made By The Script\n",
      "\n",
      "print len(other)\n",
      "print len(zero)\n",
      "print other\n",
      "print zero"
     ],
     "language": "python",
     "metadata": {},
     "outputs": [
      {
       "output_type": "stream",
       "stream": "stdout",
       "text": [
        "0\n",
        "110\n",
        "[]\n",
        "['AEY_Items1&1A.txt', 'AMOT_Items1&1A.txt', 'ASRV_Items1&1A.txt', 'ATR_Items1&1A.txt', 'AXGN_Items1&1A.txt', 'BANF_Items1&1A.txt', 'BCOV_Items1&1A.txt', 'BMR_Items1&1A.txt', 'BPOP_Items1&1A.txt', 'BWLA_Items1&1A.txt', 'BYFC_Items1&1A.txt', 'C_Items_1&1A.txt', 'CELG_Items1&1A.txt', 'CFI_Items1&1A.txt', 'CGA_Items1&1A.txt', 'CKX_Items1&1A.txt', 'CPXX_Items1&1A.txt', 'CST_Items1&1A.txt', 'CTIB_Items1&1A.txt', 'CVM_Items1&1A.txt', 'DJCO_Items1&1A.txt', 'ECPG_Items1&1A.txt', 'ECYT_Items1&1A.txt', 'EPAM_Items1&1A.txt', 'ERB_Items1&1A.txt', 'ESP_Items1&1A.txt', 'ESRT_Items1&1A.txt', 'EVBS_Items1&1A.txt', 'EXXI_Items1&1A.txt', 'EZPW_Items1&1A.txt', 'FCVA_Items1&1A.txt', 'FITB_Items1&1A.txt', 'FL_Items1&1A.txt', 'FLT_Items1&1A.txt', 'FMBI_Items1&1A.txt', 'FONR_Items1&1A.txt', 'FXEN_Items1&1A.txt', 'GLBZ_Items1&1A.txt', 'GLDC_Items1&1A.txt', 'GNVC_Items1&1A.txt', 'GPIC_Items1&1A.txt', 'GPT_Items1&1A.txt', 'GRH_Items1&1A.txt', 'HART_Items1&1A.txt', 'HMG_Items1&1A.txt', 'HMHC_Items1&1A.txt', 'HT_Items1&1A.txt', 'HTWO_Items1&1A.txt', 'ICPT_Items1&1A.txt', 'INS_Items1&1A.txt', 'IPWR_Items1&1A.txt', 'JMBA_Items1&1A.txt', 'KLIC_Items1&1A.txt', 'KOSS_Items1&1A.txt', 'LDL_Items1&1A.txt', 'LPNT_Items1&1A.txt', 'LPTH_Items1&1A.txt', 'LUNA_Items1&1A.txt', 'MDCA_Items1&1A.txt', 'MFNC_Items1&1A.txt', 'MIC_Items1&1A.txt', 'MKL_Items1&1A.txt', 'MLI_Items1&1A.txt', 'MRTX_Items1&1A.txt', 'MSFT_Items1&1A.txt', 'MWA_Items1&1A.txt', 'NCS_Items1&1A.txt', 'NS_Items1&1A.txt', 'NSH_Items1&1A.txt', 'NVAX_Items1&1A.txt', 'ODC_Items1&1A.txt', 'OFLX_Items1&1A.txt', 'OHGI_Items1&1A.txt', 'OLBK_Items1&1A.txt', 'OPHC_Items1&1A.txt', 'PNW_Items1&1A.txt', 'PSA_Items1&1A.txt', 'PSBH_Items1&1A.txt', 'PWX_Items1&1A.txt', 'REED_Items1&1A.txt', 'RELV_Items1&1A.txt', 'RGDX_Items1&1A.txt', 'RT_Items1&1A.txt', 'RVSB_Items1&1A.txt', 'SENEA_Items1&1A.txt', 'SHLO_Items1&1A.txt', 'SIF_Items1&1A.txt', 'SJT_Items1&1A.txt', 'SNFCA_Items1&1A.txt', 'SNPS_Items1&1A.txt', 'SPW_Items1&1A.txt', 'SREV_Items1&1A.txt', 'TECH_Items1&1A.txt', 'THST_Items1&1A.txt', 'TMK_Items1&1A.txt', 'TOWR_Items1&1A.txt', 'UBA_Items1&1A.txt', 'UBFO_Items1&1A.txt', 'URG_Items1&1A.txt', 'UUU_Items1&1A.txt', 'VIVO_Items1&1A.txt', 'VLO_Items1&1A.txt', 'VRTA_Items1&1A.txt', 'VRTB_Items1&1A.txt', 'VZ_Items1&1A.txt', 'WEYS_Items1&1A.txt', 'WGA_Items1&1A.txt', 'WY_Items1&1A.txt', 'XGTI_Items1&1A.txt', 'ZMH_Items1&1A.txt']\n"
       ]
      }
     ],
     "prompt_number": 20
    },
    {
     "cell_type": "code",
     "collapsed": false,
     "input": [],
     "language": "python",
     "metadata": {},
     "outputs": []
    },
    {
     "cell_type": "code",
     "collapsed": false,
     "input": [],
     "language": "python",
     "metadata": {},
     "outputs": []
    }
   ],
   "metadata": {}
  }
 ]
}