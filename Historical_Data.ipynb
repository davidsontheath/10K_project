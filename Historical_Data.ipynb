{
 "metadata": {
  "name": ""
 },
 "nbformat": 3,
 "nbformat_minor": 0,
 "worksheets": [
  {
   "cells": [
    {
     "cell_type": "code",
     "collapsed": false,
     "input": [
      "import os\n",
      "import re\n",
      "import time\n",
      "import pandas as pd\n",
      "from tqdm import *\n",
      "from selenium import webdriver\n",
      "from interruptingcow import timeout\n",
      "\n",
      "Dst = 'Data/Historical_Data/NASDAQ_10Y/'\n",
      "\n",
      "def get_historical(d, add):\n",
      "    d.get(add)\n",
      "    d.find_element_by_xpath(\"//select[@id='ddlTimeFrame']/option[@value='10y']\").click()\n",
      "    time.sleep(1)\n",
      "    Data = d.find_element_by_id('historicalContainer').text\n",
      "    while Data[:21] != 'Results for: 10 Years':\n",
      "        time.sleep(1)\n",
      "        Data = d.find_element_by_id('historicalContainer').text\n",
      "    return Data\n",
      "    "
     ],
     "language": "python",
     "metadata": {},
     "outputs": [],
     "prompt_number": 20
    },
    {
     "cell_type": "code",
     "collapsed": false,
     "input": [
      "\n",
      "Tickers = pd.read_csv('Data/Company_List.csv')['Symbol']\n",
      "Completed = [item[:-19] for item in os.listdir(Dst) if item[-4:] == '.txt']\n",
      "Left = [re.sub(r'\\s*', '', item) for item in set(Tickers)-set(Completed) if re.sub(r'\\W*', '', item) not in Completed]\n",
      "\n",
      "# Ignore a few comanies that have been delisted since downloading the reports\n",
      "Left.remove('DNDN')\n",
      "Left.remove('ATHL')\n",
      "Left.remove('AMBI')\n",
      "Left.remove('VPRT')\n",
      "Left.remove('LPDX')\n",
      "Left.remove('BOLT')\n",
      "\n",
      "try:   \n",
      "    driver.quit()\n",
      "except:\n",
      "    pass\n",
      "\n",
      "driver = webdriver.Firefox()    \n",
      "\n",
      "for Sym in tqdm(Left):\n",
      "    address = 'http://www.nasdaq.com/symbol/' + Sym.lower() + '/historical'\n",
      "    try:\n",
      "        # if it can't download the data in 5 minutes move on to the next one (connection times out)\n",
      "        # it will try to download it again the next time\n",
      "        with timeout(60*5, exception=RuntimeError):\n",
      "            Data = get_historical(driver, address)\n",
      "                \n",
      "            # Write to a text file\n",
      "            with open(Dst + re.sub(r'\\W*', '', Sym) + '_Historical_10Y.txt', 'w') as f:\n",
      "                f.write(Data)\n",
      "        pass \n",
      "    except:\n",
      "        time.sleep(1)\n",
      "        driver.quit()\n",
      "        time.sleep(30)\n",
      "        driver = webdriver.Firefox()\n",
      "        time.sleep(10)\n",
      "        pass\n",
      "    \n",
      "driver.quit()\n",
      "\n"
     ],
     "language": "python",
     "metadata": {},
     "outputs": [
      {
       "output_type": "stream",
       "stream": "stdout",
       "text": [
        "\r",
        "0 [elapsed: 00:00, ? iters/sec]"
       ]
      },
      {
       "output_type": "stream",
       "stream": "stdout",
       "text": [
        "\r",
        "                               "
       ]
      },
      {
       "output_type": "stream",
       "stream": "stdout",
       "text": [
        "\r"
       ]
      }
     ],
     "prompt_number": 21
    },
    {
     "cell_type": "code",
     "collapsed": false,
     "input": [],
     "language": "python",
     "metadata": {},
     "outputs": []
    }
   ],
   "metadata": {}
  }
 ]
}