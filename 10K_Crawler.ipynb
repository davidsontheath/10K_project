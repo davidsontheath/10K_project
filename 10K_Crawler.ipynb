{
 "metadata": {
  "name": ""
 },
 "nbformat": 3,
 "nbformat_minor": 0,
 "worksheets": [
  {
   "cells": [
    {
     "cell_type": "heading",
     "level": 1,
     "metadata": {},
     "source": []
    },
    {
     "cell_type": "code",
     "collapsed": false,
     "input": [
      "import re\n",
      "import os\n",
      "import pandas as pd\n",
      "import urllib2\n",
      "import subprocess\n",
      "\n",
      "from tqdm import *\n",
      "\n",
      "# Select the Appropriate Root Directory\n",
      "#Dst = 'C:/Users/Davidson/Desktop/TP_2.0_Data/Raw_10Ks/'\n",
      "Dst = '/Users/johnhill/Desktop/TP_2.0_Data/Raw_10Ks/'\n",
      "\n",
      "host = 'https://www.bamsec.com/'\n",
      "\n",
      "# Define Function to Download Reports (Given a Link) Using Lynx (Note: Lynx must be installed)\n",
      "def get_report(address):\n",
      "    cmd = 'lynx -dump -nolist -notitle \\'{0}\\''.format(address)\n",
      "    lynx = subprocess.Popen(cmd, shell=True, stdout=subprocess.PIPE)\n",
      "    report = lynx.stdout.read()\n",
      "    return report"
     ],
     "language": "python",
     "metadata": {},
     "outputs": [],
     "prompt_number": 2
    },
    {
     "cell_type": "code",
     "collapsed": false,
     "input": [
      "# Construct DataFrame of Companies in AMEX.csv, NYSE.csv and NASDAQ.csv (link to update files: http://www.nasdaq.com/screening/company-list.aspx)\n",
      "# Filter out ETFs (Industry = 'n/a') and Drop Extraneous Columns\n",
      "companies = pd.concat([pd.read_csv('NASDAQ.csv'), pd.read_csv('AMEX.csv'), pd.read_csv('NYSE.csv')]).drop_duplicates('Name')\n",
      "companies = companies[companies['industry'] != 'n/a'].sort('Name').reset_index(drop='True')[['Symbol', 'Name']]\n",
      "\n",
      "# 'completed' Is Used to Skip Already Downloaded Files\n",
      "completed = [item[:-12] for item in os.listdir(Dst)]\n",
      "other = []\n",
      "\n",
      "# Iterate over Company List\n",
      "for Sym in tqdm(companies['Symbol']):\n",
      "    \n",
      "    # Proceed if File Not Already Downloaded\n",
      "    if not re.sub(r'\\W*', '', Sym) in completed:\n",
      "        comp_page = urllib2.urlopen(host + 'search?q=' + Sym).read()\n",
      "        \n",
      "        # Proceed if Company has Filed a 10-K\n",
      "        if re.search(r'10-K\\s', comp_page):\n",
      "            link = re.findall(r'href=\"/(filing/.+?)\\?cik', re.match(r'.+?10-K\\s', comp_page, re.DOTALL).group(), re.DOTALL).pop()\n",
      "            find_file = urllib2.urlopen(host + link).read()\n",
      "            \n",
      "            # Ignore Companies That Have Not Filed a 10-K Since 12/31/2012\n",
      "            date_filed = re.sub('/', '', re.search(r'Date\\sFiled.+?(\\d\\d/\\d\\d/\\d\\d)', find_file, re.DOTALL).group(1))\n",
      "            if int(date_filed[-2:]) > 12:\n",
      "                \n",
      "                # Identify File Link and Retrieve Report\n",
      "                page = re.search(r'(http://www.sec.gov/Archives/edgar/data/.*?/.*?)/', find_file).group(1)\n",
      "                ext = re.search(r'https://d22h5ffg12uezu.cloudfront.net/.*?/.*?/.*?/.*?(/.*?\\.htm|/.*?\\.txt)', find_file).group(1)\n",
      "                report = get_report(page + ext)\n",
      "\n",
      "                # Save File to Dst With Stripped Ticker and Filing Date as Name\n",
      "                target = open(Dst + re.sub(r'\\W*', '', Sym) + '_Raw_10K.txt', 'w')\n",
      "                target.write(report)\n",
      "                target.close()\n",
      "            \n",
      "        # Ignore Foreign Private Issuers That Do Not File Annual Reports With The SEC\n",
      "        # But Maintain List of Other Failed Retrievals for Reference / Debugging\n",
      "        elif not re.search(r'20-F', comp_page) and not re.search(r'40-F', comp_page) and not re.search(r'S-1', comp_page) and not re.search(r'F-1', comp_page) and not re.search(r'S-8', comp_page) and not re.search(r'10-12G', comp_page):\n",
      "            other.append(Sym)"
     ],
     "language": "python",
     "metadata": {},
     "outputs": [
      {
       "output_type": "stream",
       "stream": "stdout",
       "text": [
        "\r",
        "|----------| 0/4948   0% [elapsed: 00:00 left: ?, ? iters/sec]"
       ]
      },
      {
       "output_type": "stream",
       "stream": "stdout",
       "text": [
        "\r",
        "|----------| 2/4948   0% [elapsed: 00:01 left: 58:48,  1.40 iters/sec]"
       ]
      },
      {
       "output_type": "stream",
       "stream": "stdout",
       "text": [
        "\r",
        "|----------| 3/4948   0% [elapsed: 00:03 left: 1:23:34,  0.99 iters/sec]"
       ]
      },
      {
       "output_type": "stream",
       "stream": "stdout",
       "text": [
        "\r",
        "|----------| 7/4948   0% [elapsed: 00:05 left: 1:04:36,  1.27 iters/sec]"
       ]
      },
      {
       "output_type": "stream",
       "stream": "stdout",
       "text": [
        "\r",
        "|----------| 9/4948   0% [elapsed: 00:07 left: 1:11:46,  1.15 iters/sec]"
       ]
      },
      {
       "output_type": "stream",
       "stream": "stdout",
       "text": [
        "\r",
        "|----------| 12/4948   0% [elapsed: 00:10 left: 1:11:18,  1.15 iters/sec]"
       ]
      },
      {
       "output_type": "stream",
       "stream": "stdout",
       "text": [
        "\r",
        "|----------| 13/4948   0% [elapsed: 00:11 left: 1:14:52,  1.10 iters/sec]"
       ]
      },
      {
       "output_type": "stream",
       "stream": "stdout",
       "text": [
        "\r",
        "|----------| 14/4948   0% [elapsed: 00:13 left: 1:18:30,  1.05 iters/sec]"
       ]
      },
      {
       "output_type": "stream",
       "stream": "stdout",
       "text": [
        "\r",
        "|----------| 15/4948   0% [elapsed: 00:15 left: 1:23:55,  0.98 iters/sec]"
       ]
      },
      {
       "output_type": "stream",
       "stream": "stdout",
       "text": [
        "\r",
        "|----------| 21/4948   0% [elapsed: 00:17 left: 1:07:28,  1.22 iters/sec]"
       ]
      },
      {
       "output_type": "stream",
       "stream": "stdout",
       "text": [
        "\r",
        "|----------| 22/4948   0% [elapsed: 00:18 left: 1:09:04,  1.19 iters/sec]"
       ]
      },
      {
       "output_type": "stream",
       "stream": "stdout",
       "text": [
        "\r",
        "|----------| 36/4948   0% [elapsed: 00:20 left: 47:00,  1.74 iters/sec]  "
       ]
      },
      {
       "output_type": "stream",
       "stream": "stdout",
       "text": [
        "\r",
        "|----------| 56/4948   1% [elapsed: 00:22 left: 32:28,  2.51 iters/sec]"
       ]
      },
      {
       "output_type": "stream",
       "stream": "stdout",
       "text": [
        "\r",
        "|----------| 62/4948   1% [elapsed: 00:23 left: 31:17,  2.60 iters/sec]"
       ]
      },
      {
       "output_type": "stream",
       "stream": "stdout",
       "text": [
        "\r",
        "|----------| 66/4948   1% [elapsed: 00:25 left: 31:53,  2.55 iters/sec]"
       ]
      },
      {
       "output_type": "stream",
       "stream": "stdout",
       "text": [
        "\r",
        "|----------| 67/4948   1% [elapsed: 00:27 left: 33:01,  2.46 iters/sec]"
       ]
      },
      {
       "output_type": "stream",
       "stream": "stdout",
       "text": [
        "\r",
        "|----------| 69/4948   1% [elapsed: 00:28 left: 33:57,  2.39 iters/sec]"
       ]
      },
      {
       "output_type": "stream",
       "stream": "stdout",
       "text": [
        "\r",
        "|----------| 72/4948   1% [elapsed: 00:30 left: 33:56,  2.39 iters/sec]"
       ]
      },
      {
       "output_type": "stream",
       "stream": "stdout",
       "text": [
        "\r",
        "|----------| 82/4948   1% [elapsed: 00:31 left: 31:00,  2.62 iters/sec]"
       ]
      },
      {
       "output_type": "stream",
       "stream": "stdout",
       "text": [
        "\r",
        "|----------| 83/4948   1% [elapsed: 00:32 left: 32:09,  2.52 iters/sec]"
       ]
      },
      {
       "output_type": "stream",
       "stream": "stdout",
       "text": [
        "\r",
        "|----------| 89/4948   1% [elapsed: 00:34 left: 31:05,  2.60 iters/sec]"
       ]
      },
      {
       "output_type": "stream",
       "stream": "stdout",
       "text": [
        "\r",
        "|----------| 101/4948   2% [elapsed: 00:35 left: 28:42,  2.81 iters/sec]"
       ]
      },
      {
       "output_type": "stream",
       "stream": "stdout",
       "text": [
        "\r",
        "|----------| 109/4948   2% [elapsed: 00:37 left: 27:37,  2.92 iters/sec]"
       ]
      },
      {
       "output_type": "stream",
       "stream": "stdout",
       "text": [
        "\r",
        "|----------| 118/4948   2% [elapsed: 00:39 left: 26:52,  3.00 iters/sec]"
       ]
      },
      {
       "output_type": "stream",
       "stream": "stdout",
       "text": [
        "\r",
        "|----------| 123/4948   2% [elapsed: 00:41 left: 27:17,  2.95 iters/sec]"
       ]
      },
      {
       "output_type": "stream",
       "stream": "stdout",
       "text": [
        "\r",
        "|----------| 125/4948   2% [elapsed: 00:43 left: 28:12,  2.85 iters/sec]"
       ]
      },
      {
       "output_type": "stream",
       "stream": "stdout",
       "text": [
        "\r",
        "|----------| 128/4948   2% [elapsed: 00:45 left: 28:19,  2.84 iters/sec]"
       ]
      },
      {
       "output_type": "stream",
       "stream": "stdout",
       "text": [
        "\r",
        "|----------| 133/4948   2% [elapsed: 00:46 left: 28:16,  2.84 iters/sec]"
       ]
      },
      {
       "output_type": "stream",
       "stream": "stdout",
       "text": [
        "\r",
        "|----------| 134/4948   2% [elapsed: 00:48 left: 29:06,  2.76 iters/sec]"
       ]
      },
      {
       "output_type": "stream",
       "stream": "stdout",
       "text": [
        "\r",
        "|----------| 139/4948   2% [elapsed: 00:50 left: 28:55,  2.77 iters/sec]"
       ]
      },
      {
       "output_type": "stream",
       "stream": "stdout",
       "text": [
        "\r",
        "|----------| 142/4948   2% [elapsed: 00:51 left: 29:19,  2.73 iters/sec]"
       ]
      },
      {
       "output_type": "stream",
       "stream": "stdout",
       "text": [
        "\r",
        "|----------| 149/4948   3% [elapsed: 00:53 left: 28:34,  2.80 iters/sec]"
       ]
      },
      {
       "output_type": "stream",
       "stream": "stdout",
       "text": [
        "\r",
        "|----------| 154/4948   3% [elapsed: 00:54 left: 28:24,  2.81 iters/sec]"
       ]
      },
      {
       "output_type": "stream",
       "stream": "stdout",
       "text": [
        "\r",
        "|----------| 158/4948   3% [elapsed: 00:56 left: 28:23,  2.81 iters/sec]"
       ]
      },
      {
       "output_type": "stream",
       "stream": "stdout",
       "text": [
        "\r",
        "|----------| 162/4948   3% [elapsed: 00:57 left: 28:25,  2.81 iters/sec]"
       ]
      },
      {
       "output_type": "stream",
       "stream": "stdout",
       "text": [
        "\r",
        "|----------| 164/4948   3% [elapsed: 00:59 left: 28:48,  2.77 iters/sec]"
       ]
      },
      {
       "output_type": "stream",
       "stream": "stdout",
       "text": [
        "\r",
        "|----------| 165/4948   3% [elapsed: 01:00 left: 29:13,  2.73 iters/sec]"
       ]
      },
      {
       "output_type": "stream",
       "stream": "stdout",
       "text": [
        "\r",
        "|----------| 172/4948   3% [elapsed: 01:02 left: 28:43,  2.77 iters/sec]"
       ]
      },
      {
       "output_type": "stream",
       "stream": "stdout",
       "text": [
        "\r",
        "|----------| 175/4948   3% [elapsed: 01:03 left: 28:55,  2.75 iters/sec]"
       ]
      },
      {
       "output_type": "stream",
       "stream": "stdout",
       "text": [
        "\r",
        "|----------| 177/4948   3% [elapsed: 01:04 left: 29:11,  2.72 iters/sec]"
       ]
      },
      {
       "output_type": "stream",
       "stream": "stdout",
       "text": [
        "\r",
        "|----------| 190/4948   3% [elapsed: 01:06 left: 27:42,  2.86 iters/sec]"
       ]
      },
      {
       "output_type": "stream",
       "stream": "stdout",
       "text": [
        "\r",
        "|----------| 191/4948   3% [elapsed: 01:07 left: 28:05,  2.82 iters/sec]"
       ]
      },
      {
       "output_type": "stream",
       "stream": "stdout",
       "text": [
        "\r",
        "|----------| 192/4948   3% [elapsed: 01:09 left: 28:29,  2.78 iters/sec]"
       ]
      },
      {
       "output_type": "stream",
       "stream": "stdout",
       "text": [
        "\r",
        "|----------| 193/4948   3% [elapsed: 01:10 left: 29:01,  2.73 iters/sec]"
       ]
      },
      {
       "output_type": "stream",
       "stream": "stdout",
       "text": [
        "\r",
        "|----------| 198/4948   4% [elapsed: 01:12 left: 28:51,  2.74 iters/sec]"
       ]
      },
      {
       "output_type": "stream",
       "stream": "stdout",
       "text": [
        "\r",
        "|----------| 201/4948   4% [elapsed: 01:13 left: 29:02,  2.72 iters/sec]"
       ]
      },
      {
       "output_type": "stream",
       "stream": "stdout",
       "text": [
        "\r",
        "|----------| 222/4948   4% [elapsed: 01:15 left: 26:37,  2.96 iters/sec]"
       ]
      },
      {
       "output_type": "stream",
       "stream": "stdout",
       "text": [
        "\r",
        "|----------| 229/4948   4% [elapsed: 01:16 left: 26:21,  2.98 iters/sec]"
       ]
      },
      {
       "output_type": "stream",
       "stream": "stdout",
       "text": [
        "\r",
        "|----------| 233/4948   4% [elapsed: 01:18 left: 26:26,  2.97 iters/sec]"
       ]
      },
      {
       "output_type": "stream",
       "stream": "stdout",
       "text": [
        "\r",
        "|----------| 244/4948   4% [elapsed: 01:19 left: 25:25,  3.08 iters/sec]"
       ]
      },
      {
       "output_type": "stream",
       "stream": "stdout",
       "text": [
        "\r",
        "|----------| 248/4948   5% [elapsed: 01:20 left: 25:29,  3.07 iters/sec]"
       ]
      },
      {
       "output_type": "stream",
       "stream": "stdout",
       "text": [
        "\r",
        "|----------| 259/4948   5% [elapsed: 01:22 left: 24:49,  3.15 iters/sec]"
       ]
      },
      {
       "output_type": "stream",
       "stream": "stdout",
       "text": [
        "\r",
        "|----------| 260/4948   5% [elapsed: 01:23 left: 25:07,  3.11 iters/sec]"
       ]
      },
      {
       "output_type": "stream",
       "stream": "stdout",
       "text": [
        "\r",
        "|----------| 262/4948   5% [elapsed: 01:25 left: 25:21,  3.08 iters/sec]"
       ]
      },
      {
       "output_type": "stream",
       "stream": "stdout",
       "text": [
        "\r",
        "|----------| 272/4948   5% [elapsed: 01:26 left: 24:45,  3.15 iters/sec]"
       ]
      },
      {
       "output_type": "stream",
       "stream": "stdout",
       "text": [
        "\r",
        "|----------| 319/4948   6% [elapsed: 01:27 left: 21:15,  3.63 iters/sec]"
       ]
      },
      {
       "output_type": "stream",
       "stream": "stdout",
       "text": [
        "\r",
        "|----------| 322/4948   6% [elapsed: 01:29 left: 21:27,  3.59 iters/sec]"
       ]
      },
      {
       "output_type": "stream",
       "stream": "stdout",
       "text": [
        "\r",
        "|----------| 338/4948   6% [elapsed: 01:31 left: 20:43,  3.71 iters/sec]"
       ]
      },
      {
       "output_type": "stream",
       "stream": "stdout",
       "text": [
        "\r",
        "|----------| 367/4948   7% [elapsed: 01:33 left: 19:21,  3.94 iters/sec]"
       ]
      },
      {
       "output_type": "stream",
       "stream": "stdout",
       "text": [
        "\r",
        "|----------| 369/4948   7% [elapsed: 01:34 left: 19:31,  3.91 iters/sec]"
       ]
      },
      {
       "output_type": "stream",
       "stream": "stdout",
       "text": [
        "\r",
        "|----------| 372/4948   7% [elapsed: 01:35 left: 19:37,  3.89 iters/sec]"
       ]
      },
      {
       "output_type": "stream",
       "stream": "stdout",
       "text": [
        "\r",
        "|----------| 381/4948   7% [elapsed: 01:36 left: 19:22,  3.93 iters/sec]"
       ]
      },
      {
       "output_type": "stream",
       "stream": "stdout",
       "text": [
        "\r",
        "|----------| 383/4948   7% [elapsed: 01:38 left: 19:36,  3.88 iters/sec]"
       ]
      },
      {
       "output_type": "stream",
       "stream": "stdout",
       "text": [
        "\r",
        "|----------| 387/4948   7% [elapsed: 01:40 left: 19:41,  3.86 iters/sec]"
       ]
      },
      {
       "output_type": "stream",
       "stream": "stdout",
       "text": [
        "\r",
        "|----------| 391/4948   7% [elapsed: 01:41 left: 19:42,  3.85 iters/sec]"
       ]
      },
      {
       "output_type": "stream",
       "stream": "stdout",
       "text": [
        "\r",
        "|----------| 408/4948   8% [elapsed: 01:42 left: 19:03,  3.97 iters/sec]"
       ]
      },
      {
       "output_type": "stream",
       "stream": "stdout",
       "text": [
        "\r",
        "|----------| 416/4948   8% [elapsed: 01:44 left: 18:54,  4.00 iters/sec]"
       ]
      },
      {
       "output_type": "stream",
       "stream": "stdout",
       "text": [
        "\r",
        "|----------| 430/4948   8% [elapsed: 01:45 left: 18:30,  4.07 iters/sec]"
       ]
      },
      {
       "output_type": "stream",
       "stream": "stdout",
       "text": [
        "\r",
        "|----------| 435/4948   8% [elapsed: 01:47 left: 18:39,  4.03 iters/sec]"
       ]
      },
      {
       "output_type": "stream",
       "stream": "stdout",
       "text": [
        "\r",
        "|----------| 436/4948   8% [elapsed: 01:49 left: 18:58,  3.96 iters/sec]"
       ]
      },
      {
       "output_type": "stream",
       "stream": "stdout",
       "text": [
        "\r",
        "|----------| 454/4948   9% [elapsed: 01:51 left: 18:23,  4.07 iters/sec]"
       ]
      },
      {
       "output_type": "stream",
       "stream": "stdout",
       "text": [
        "\r",
        "|----------| 456/4948   9% [elapsed: 01:53 left: 18:35,  4.03 iters/sec]"
       ]
      },
      {
       "output_type": "stream",
       "stream": "stdout",
       "text": [
        "\r",
        "|----------| 459/4948   9% [elapsed: 01:54 left: 18:41,  4.00 iters/sec]"
       ]
      },
      {
       "output_type": "stream",
       "stream": "stdout",
       "text": [
        "\r",
        "|----------| 460/4948   9% [elapsed: 01:57 left: 19:01,  3.93 iters/sec]"
       ]
      },
      {
       "output_type": "stream",
       "stream": "stdout",
       "text": [
        "\r",
        "|----------| 461/4948   9% [elapsed: 01:58 left: 19:15,  3.88 iters/sec]"
       ]
      },
      {
       "output_type": "stream",
       "stream": "stdout",
       "text": [
        "\r",
        "|----------| 468/4948   9% [elapsed: 02:01 left: 19:21,  3.86 iters/sec]"
       ]
      },
      {
       "output_type": "stream",
       "stream": "stdout",
       "text": [
        "\r",
        "|----------| 473/4948   9% [elapsed: 02:03 left: 19:26,  3.83 iters/sec]"
       ]
      },
      {
       "output_type": "stream",
       "stream": "stdout",
       "text": [
        "\r",
        "|----------| 475/4948   9% [elapsed: 02:05 left: 19:45,  3.77 iters/sec]"
       ]
      },
      {
       "output_type": "stream",
       "stream": "stdout",
       "text": [
        "\r",
        "|----------| 494/4948   9% [elapsed: 02:08 left: 19:19,  3.84 iters/sec]"
       ]
      },
      {
       "output_type": "stream",
       "stream": "stdout",
       "text": [
        "\r",
        "|#---------| 496/4948  10% [elapsed: 02:10 left: 19:32,  3.80 iters/sec]"
       ]
      },
      {
       "output_type": "stream",
       "stream": "stdout",
       "text": [
        "\r",
        "|#---------| 498/4948  10% [elapsed: 02:12 left: 19:39,  3.77 iters/sec]"
       ]
      },
      {
       "output_type": "stream",
       "stream": "stdout",
       "text": [
        "\r",
        "|#---------| 499/4948  10% [elapsed: 02:14 left: 20:01,  3.70 iters/sec]"
       ]
      },
      {
       "output_type": "stream",
       "stream": "stdout",
       "text": [
        "\r",
        "|#---------| 502/4948  10% [elapsed: 02:16 left: 20:12,  3.67 iters/sec]"
       ]
      },
      {
       "output_type": "stream",
       "stream": "stdout",
       "text": [
        "\r",
        "|#---------| 509/4948  10% [elapsed: 02:19 left: 20:16,  3.65 iters/sec]"
       ]
      },
      {
       "output_type": "stream",
       "stream": "stdout",
       "text": [
        "\r",
        "|#---------| 510/4948  10% [elapsed: 02:22 left: 20:39,  3.58 iters/sec]"
       ]
      },
      {
       "output_type": "stream",
       "stream": "stdout",
       "text": [
        "\r",
        "|#---------| 519/4948  10% [elapsed: 02:23 left: 20:27,  3.61 iters/sec]"
       ]
      },
      {
       "output_type": "stream",
       "stream": "stdout",
       "text": [
        "\r",
        "|#---------| 529/4948  10% [elapsed: 02:26 left: 20:20,  3.62 iters/sec]"
       ]
      },
      {
       "output_type": "stream",
       "stream": "stdout",
       "text": [
        "\r",
        "|#---------| 535/4948  10% [elapsed: 02:27 left: 20:20,  3.62 iters/sec]"
       ]
      },
      {
       "output_type": "stream",
       "stream": "stdout",
       "text": [
        "\r",
        "|#---------| 538/4948  10% [elapsed: 02:29 left: 20:28,  3.59 iters/sec]"
       ]
      },
      {
       "output_type": "stream",
       "stream": "stdout",
       "text": [
        "\r",
        "|#---------| 541/4948  10% [elapsed: 02:31 left: 20:31,  3.58 iters/sec]"
       ]
      },
      {
       "output_type": "stream",
       "stream": "stdout",
       "text": [
        "\r",
        "|#---------| 542/4948  10% [elapsed: 02:32 left: 20:39,  3.55 iters/sec]"
       ]
      },
      {
       "output_type": "stream",
       "stream": "stdout",
       "text": [
        "\r",
        "|#---------| 543/4948  10% [elapsed: 02:34 left: 20:49,  3.52 iters/sec]"
       ]
      },
      {
       "output_type": "stream",
       "stream": "stdout",
       "text": [
        "\r",
        "|#---------| 544/4948  10% [elapsed: 02:35 left: 21:02,  3.49 iters/sec]"
       ]
      },
      {
       "output_type": "stream",
       "stream": "stdout",
       "text": [
        "\r",
        "|#---------| 545/4948  11% [elapsed: 02:38 left: 21:16,  3.45 iters/sec]"
       ]
      },
      {
       "output_type": "stream",
       "stream": "stdout",
       "text": [
        "\r",
        "|#---------| 546/4948  11% [elapsed: 02:40 left: 21:34,  3.40 iters/sec]"
       ]
      },
      {
       "output_type": "stream",
       "stream": "stdout",
       "text": [
        "\r",
        "|#---------| 547/4948  11% [elapsed: 02:43 left: 21:53,  3.35 iters/sec]"
       ]
      },
      {
       "output_type": "stream",
       "stream": "stdout",
       "text": [
        "\r",
        "|#---------| 551/4948  11% [elapsed: 02:46 left: 22:10,  3.30 iters/sec]"
       ]
      },
      {
       "output_type": "stream",
       "stream": "stdout",
       "text": [
        "\r",
        "|#---------| 564/4948  11% [elapsed: 02:48 left: 21:46,  3.36 iters/sec]"
       ]
      },
      {
       "output_type": "stream",
       "stream": "stdout",
       "text": [
        "\r",
        "|#---------| 567/4948  11% [elapsed: 02:49 left: 21:50,  3.34 iters/sec]"
       ]
      },
      {
       "output_type": "stream",
       "stream": "stdout",
       "text": [
        "\r",
        "|#---------| 568/4948  11% [elapsed: 02:52 left: 22:07,  3.30 iters/sec]"
       ]
      },
      {
       "output_type": "stream",
       "stream": "stdout",
       "text": [
        "\r",
        "|#---------| 574/4948  11% [elapsed: 02:53 left: 22:00,  3.31 iters/sec]"
       ]
      },
      {
       "output_type": "stream",
       "stream": "stdout",
       "text": [
        "\r",
        "|#---------| 581/4948  11% [elapsed: 02:54 left: 21:52,  3.33 iters/sec]"
       ]
      },
      {
       "output_type": "stream",
       "stream": "stdout",
       "text": [
        "\r",
        "|#---------| 585/4948  11% [elapsed: 02:56 left: 21:58,  3.31 iters/sec]"
       ]
      },
      {
       "output_type": "stream",
       "stream": "stdout",
       "text": [
        "\r",
        "|#---------| 592/4948  11% [elapsed: 02:58 left: 21:52,  3.32 iters/sec]"
       ]
      },
      {
       "output_type": "stream",
       "stream": "stdout",
       "text": [
        "\r",
        "|#---------| 605/4948  12% [elapsed: 02:59 left: 21:31,  3.36 iters/sec]"
       ]
      },
      {
       "output_type": "stream",
       "stream": "stdout",
       "text": [
        "\r",
        "|#---------| 614/4948  12% [elapsed: 03:01 left: 21:21,  3.38 iters/sec]"
       ]
      },
      {
       "output_type": "stream",
       "stream": "stdout",
       "text": [
        "\r",
        "|#---------| 629/4948  12% [elapsed: 03:02 left: 20:56,  3.44 iters/sec]"
       ]
      },
      {
       "output_type": "stream",
       "stream": "stdout",
       "text": [
        "\r",
        "|#---------| 633/4948  12% [elapsed: 03:04 left: 20:58,  3.43 iters/sec]"
       ]
      },
      {
       "output_type": "stream",
       "stream": "stdout",
       "text": [
        "\r",
        "|#---------| 642/4948  12% [elapsed: 03:05 left: 20:46,  3.45 iters/sec]"
       ]
      },
      {
       "output_type": "stream",
       "stream": "stdout",
       "text": [
        "\r",
        "|#---------| 643/4948  12% [elapsed: 03:07 left: 20:55,  3.43 iters/sec]"
       ]
      },
      {
       "output_type": "stream",
       "stream": "stdout",
       "text": [
        "\r",
        "|#---------| 657/4948  13% [elapsed: 03:09 left: 20:39,  3.46 iters/sec]"
       ]
      },
      {
       "output_type": "stream",
       "stream": "stdout",
       "text": [
        "\r",
        "|#---------| 659/4948  13% [elapsed: 03:11 left: 20:47,  3.44 iters/sec]"
       ]
      },
      {
       "output_type": "stream",
       "stream": "stdout",
       "text": [
        "\r",
        "|#---------| 661/4948  13% [elapsed: 03:14 left: 21:02,  3.40 iters/sec]"
       ]
      },
      {
       "output_type": "stream",
       "stream": "stdout",
       "text": [
        "\r",
        "|#---------| 663/4948  13% [elapsed: 03:16 left: 21:11,  3.37 iters/sec]"
       ]
      },
      {
       "output_type": "stream",
       "stream": "stdout",
       "text": [
        "\r",
        "|#---------| 674/4948  13% [elapsed: 03:18 left: 20:59,  3.39 iters/sec]"
       ]
      },
      {
       "output_type": "stream",
       "stream": "stdout",
       "text": [
        "\r",
        "|#---------| 679/4948  13% [elapsed: 03:20 left: 20:57,  3.39 iters/sec]"
       ]
      },
      {
       "output_type": "stream",
       "stream": "stdout",
       "text": [
        "\r",
        "|#---------| 680/4948  13% [elapsed: 03:21 left: 21:05,  3.37 iters/sec]"
       ]
      },
      {
       "output_type": "stream",
       "stream": "stdout",
       "text": [
        "\r",
        "|#---------| 687/4948  13% [elapsed: 03:23 left: 21:04,  3.37 iters/sec]"
       ]
      },
      {
       "output_type": "stream",
       "stream": "stdout",
       "text": [
        "\r",
        "|#---------| 696/4948  14% [elapsed: 03:24 left: 20:49,  3.40 iters/sec]"
       ]
      },
      {
       "output_type": "stream",
       "stream": "stdout",
       "text": [
        "\r",
        "|#---------| 707/4948  14% [elapsed: 03:26 left: 20:41,  3.42 iters/sec]"
       ]
      },
      {
       "output_type": "stream",
       "stream": "stdout",
       "text": [
        "\r",
        "|#---------| 708/4948  14% [elapsed: 03:29 left: 20:55,  3.38 iters/sec]"
       ]
      },
      {
       "output_type": "stream",
       "stream": "stdout",
       "text": [
        "\r",
        "|#---------| 709/4948  14% [elapsed: 03:30 left: 21:01,  3.36 iters/sec]"
       ]
      },
      {
       "output_type": "stream",
       "stream": "stdout",
       "text": [
        "\r",
        "|#---------| 711/4948  14% [elapsed: 03:32 left: 21:06,  3.35 iters/sec]"
       ]
      },
      {
       "output_type": "stream",
       "stream": "stdout",
       "text": [
        "\r",
        "|#---------| 722/4948  14% [elapsed: 03:34 left: 20:55,  3.36 iters/sec]"
       ]
      },
      {
       "output_type": "stream",
       "stream": "stdout",
       "text": [
        "\r",
        "|#---------| 738/4948  14% [elapsed: 03:35 left: 20:31,  3.42 iters/sec]"
       ]
      },
      {
       "output_type": "stream",
       "stream": "stdout",
       "text": [
        "\r",
        "|#---------| 743/4948  15% [elapsed: 03:37 left: 20:28,  3.42 iters/sec]"
       ]
      },
      {
       "output_type": "stream",
       "stream": "stdout",
       "text": [
        "\r",
        "|#---------| 744/4948  15% [elapsed: 03:38 left: 20:35,  3.40 iters/sec]"
       ]
      },
      {
       "output_type": "stream",
       "stream": "stdout",
       "text": [
        "\r",
        "|#---------| 752/4948  15% [elapsed: 03:40 left: 20:28,  3.42 iters/sec]"
       ]
      },
      {
       "output_type": "stream",
       "stream": "stdout",
       "text": [
        "\r",
        "|#---------| 758/4948  15% [elapsed: 03:41 left: 20:23,  3.42 iters/sec]"
       ]
      },
      {
       "output_type": "stream",
       "stream": "stdout",
       "text": [
        "\r",
        "|#---------| 759/4948  15% [elapsed: 03:42 left: 20:28,  3.41 iters/sec]"
       ]
      },
      {
       "output_type": "stream",
       "stream": "stdout",
       "text": [
        "\r",
        "|#---------| 765/4948  15% [elapsed: 03:44 left: 20:26,  3.41 iters/sec]"
       ]
      },
      {
       "output_type": "stream",
       "stream": "stdout",
       "text": [
        "\r",
        "|#---------| 774/4948  15% [elapsed: 03:45 left: 20:16,  3.43 iters/sec]"
       ]
      },
      {
       "output_type": "stream",
       "stream": "stdout",
       "text": [
        "\r",
        "|#---------| 776/4948  15% [elapsed: 03:46 left: 20:19,  3.42 iters/sec]"
       ]
      },
      {
       "output_type": "stream",
       "stream": "stdout",
       "text": [
        "\r",
        "|#---------| 777/4948  15% [elapsed: 03:48 left: 20:24,  3.41 iters/sec]"
       ]
      },
      {
       "output_type": "stream",
       "stream": "stdout",
       "text": [
        "\r",
        "|#---------| 778/4948  15% [elapsed: 03:49 left: 20:29,  3.39 iters/sec]"
       ]
      },
      {
       "output_type": "stream",
       "stream": "stdout",
       "text": [
        "\r",
        "|#---------| 788/4948  15% [elapsed: 03:51 left: 20:19,  3.41 iters/sec]"
       ]
      },
      {
       "output_type": "stream",
       "stream": "stdout",
       "text": [
        "\r",
        "|#---------| 806/4948  16% [elapsed: 03:52 left: 19:54,  3.47 iters/sec]"
       ]
      },
      {
       "output_type": "stream",
       "stream": "stdout",
       "text": [
        "\r",
        "|#---------| 816/4948  16% [elapsed: 03:54 left: 19:47,  3.48 iters/sec]"
       ]
      },
      {
       "output_type": "stream",
       "stream": "stdout",
       "text": [
        "\r",
        "|#---------| 828/4948  16% [elapsed: 03:56 left: 19:37,  3.50 iters/sec]"
       ]
      },
      {
       "output_type": "stream",
       "stream": "stdout",
       "text": [
        "\r",
        "|#---------| 839/4948  16% [elapsed: 03:57 left: 19:25,  3.53 iters/sec]"
       ]
      },
      {
       "output_type": "stream",
       "stream": "stdout",
       "text": [
        "\r",
        "|#---------| 842/4948  17% [elapsed: 04:01 left: 19:35,  3.49 iters/sec]"
       ]
      },
      {
       "output_type": "stream",
       "stream": "stdout",
       "text": [
        "\r",
        "|#---------| 843/4948  17% [elapsed: 04:02 left: 19:40,  3.48 iters/sec]"
       ]
      },
      {
       "output_type": "stream",
       "stream": "stdout",
       "text": [
        "\r",
        "|#---------| 844/4948  17% [elapsed: 04:04 left: 19:49,  3.45 iters/sec]"
       ]
      },
      {
       "output_type": "stream",
       "stream": "stdout",
       "text": [
        "\r",
        "|#---------| 846/4948  17% [elapsed: 04:05 left: 19:51,  3.44 iters/sec]"
       ]
      },
      {
       "output_type": "stream",
       "stream": "stdout",
       "text": [
        "\r",
        "|#---------| 849/4948  17% [elapsed: 04:07 left: 19:54,  3.43 iters/sec]"
       ]
      },
      {
       "output_type": "stream",
       "stream": "stdout",
       "text": [
        "\r",
        "|#---------| 851/4948  17% [elapsed: 04:09 left: 19:59,  3.42 iters/sec]"
       ]
      },
      {
       "output_type": "stream",
       "stream": "stdout",
       "text": [
        "\r",
        "|#---------| 859/4948  17% [elapsed: 04:11 left: 19:58,  3.41 iters/sec]"
       ]
      },
      {
       "output_type": "stream",
       "stream": "stdout",
       "text": [
        "\r",
        "|#---------| 864/4948  17% [elapsed: 04:13 left: 19:56,  3.41 iters/sec]"
       ]
      },
      {
       "output_type": "stream",
       "stream": "stdout",
       "text": [
        "\r",
        "|#---------| 874/4948  17% [elapsed: 04:14 left: 19:48,  3.43 iters/sec]"
       ]
      },
      {
       "output_type": "stream",
       "stream": "stdout",
       "text": [
        "\r",
        "|#---------| 878/4948  17% [elapsed: 04:18 left: 20:00,  3.39 iters/sec]"
       ]
      },
      {
       "output_type": "stream",
       "stream": "stdout",
       "text": [
        "\r",
        "|#---------| 880/4948  17% [elapsed: 04:20 left: 20:06,  3.37 iters/sec]"
       ]
      },
      {
       "output_type": "stream",
       "stream": "stdout",
       "text": [
        "\r",
        "|#---------| 886/4948  17% [elapsed: 04:22 left: 20:02,  3.38 iters/sec]"
       ]
      },
      {
       "output_type": "stream",
       "stream": "stdout",
       "text": [
        "\r",
        "|#---------| 902/4948  18% [elapsed: 04:24 left: 19:46,  3.41 iters/sec]"
       ]
      },
      {
       "output_type": "stream",
       "stream": "stdout",
       "text": [
        "\r",
        "|#---------| 927/4948  18% [elapsed: 04:27 left: 19:19,  3.47 iters/sec]"
       ]
      },
      {
       "output_type": "stream",
       "stream": "stdout",
       "text": [
        "\r",
        "|#---------| 928/4948  18% [elapsed: 04:30 left: 19:30,  3.43 iters/sec]"
       ]
      },
      {
       "output_type": "stream",
       "stream": "stdout",
       "text": [
        "\r",
        "|#---------| 931/4948  18% [elapsed: 04:31 left: 19:31,  3.43 iters/sec]"
       ]
      },
      {
       "output_type": "stream",
       "stream": "stdout",
       "text": [
        "\r",
        "|#---------| 932/4948  18% [elapsed: 04:33 left: 19:38,  3.41 iters/sec]"
       ]
      },
      {
       "output_type": "stream",
       "stream": "stdout",
       "text": [
        "\r",
        "|#---------| 936/4948  18% [elapsed: 04:34 left: 19:37,  3.41 iters/sec]"
       ]
      },
      {
       "output_type": "stream",
       "stream": "stdout",
       "text": [
        "\r",
        "|#---------| 948/4948  19% [elapsed: 04:36 left: 19:28,  3.42 iters/sec]"
       ]
      },
      {
       "output_type": "stream",
       "stream": "stdout",
       "text": [
        "\r",
        "|#---------| 951/4948  19% [elapsed: 04:41 left: 19:41,  3.38 iters/sec]"
       ]
      },
      {
       "output_type": "stream",
       "stream": "stdout",
       "text": [
        "\r",
        "|#---------| 955/4948  19% [elapsed: 04:44 left: 19:49,  3.36 iters/sec]"
       ]
      },
      {
       "output_type": "stream",
       "stream": "stdout",
       "text": [
        "\r",
        "|#---------| 966/4948  19% [elapsed: 04:46 left: 19:41,  3.37 iters/sec]"
       ]
      },
      {
       "output_type": "stream",
       "stream": "stdout",
       "text": [
        "\r",
        "|#---------| 968/4948  19% [elapsed: 04:48 left: 19:45,  3.36 iters/sec]"
       ]
      },
      {
       "output_type": "stream",
       "stream": "stdout",
       "text": [
        "\r",
        "|##--------| 997/4948  20% [elapsed: 04:51 left: 19:13,  3.42 iters/sec]"
       ]
      },
      {
       "output_type": "stream",
       "stream": "stdout",
       "text": [
        "\r",
        "|##--------| 999/4948  20% [elapsed: 04:56 left: 19:31,  3.37 iters/sec]"
       ]
      },
      {
       "output_type": "stream",
       "stream": "stdout",
       "text": [
        "\r",
        "|##--------| 1002/4948  20% [elapsed: 04:59 left: 19:37,  3.35 iters/sec]"
       ]
      },
      {
       "output_type": "stream",
       "stream": "stdout",
       "text": [
        "\r",
        "|##--------| 1004/4948  20% [elapsed: 05:01 left: 19:44,  3.33 iters/sec]"
       ]
      },
      {
       "output_type": "stream",
       "stream": "stdout",
       "text": [
        "\r",
        "|##--------| 1005/4948  20% [elapsed: 05:07 left: 20:07,  3.26 iters/sec]"
       ]
      },
      {
       "output_type": "stream",
       "stream": "stdout",
       "text": [
        "\r",
        "|##--------| 1006/4948  20% [elapsed: 05:10 left: 20:14,  3.24 iters/sec]"
       ]
      },
      {
       "output_type": "stream",
       "stream": "stdout",
       "text": [
        "\r",
        "|##--------| 1010/4948  20% [elapsed: 05:13 left: 20:22,  3.22 iters/sec]"
       ]
      },
      {
       "output_type": "stream",
       "stream": "stdout",
       "text": [
        "\r",
        "|##--------| 1012/4948  20% [elapsed: 05:15 left: 20:27,  3.21 iters/sec]"
       ]
      },
      {
       "output_type": "stream",
       "stream": "stdout",
       "text": [
        "\r",
        "|##--------| 1013/4948  20% [elapsed: 05:18 left: 20:38,  3.18 iters/sec]"
       ]
      },
      {
       "output_type": "stream",
       "stream": "stdout",
       "text": [
        "\r",
        "|##--------| 1014/4948  20% [elapsed: 05:20 left: 20:44,  3.16 iters/sec]"
       ]
      },
      {
       "output_type": "stream",
       "stream": "stdout",
       "text": [
        "\r",
        "|##--------| 1017/4948  20% [elapsed: 05:21 left: 20:44,  3.16 iters/sec]"
       ]
      },
      {
       "output_type": "stream",
       "stream": "stdout",
       "text": [
        "\r",
        "|##--------| 1018/4948  20% [elapsed: 05:23 left: 20:48,  3.15 iters/sec]"
       ]
      },
      {
       "output_type": "stream",
       "stream": "stdout",
       "text": [
        "\r",
        "|##--------| 1019/4948  20% [elapsed: 05:25 left: 20:53,  3.13 iters/sec]"
       ]
      },
      {
       "output_type": "stream",
       "stream": "stdout",
       "text": [
        "\r",
        "|##--------| 1020/4948  20% [elapsed: 05:27 left: 21:00,  3.12 iters/sec]"
       ]
      },
      {
       "output_type": "stream",
       "stream": "stdout",
       "text": [
        "\r",
        "|##--------| 1021/4948  20% [elapsed: 05:29 left: 21:07,  3.10 iters/sec]"
       ]
      },
      {
       "output_type": "stream",
       "stream": "stdout",
       "text": [
        "\r",
        "|##--------| 1025/4948  20% [elapsed: 05:31 left: 21:09,  3.09 iters/sec]"
       ]
      },
      {
       "output_type": "stream",
       "stream": "stdout",
       "text": [
        "\r",
        "|##--------| 1026/4948  20% [elapsed: 05:33 left: 21:13,  3.08 iters/sec]"
       ]
      },
      {
       "output_type": "stream",
       "stream": "stdout",
       "text": [
        "\r",
        "|##--------| 1027/4948  20% [elapsed: 05:36 left: 21:23,  3.05 iters/sec]"
       ]
      },
      {
       "output_type": "stream",
       "stream": "stdout",
       "text": [
        "\r",
        "|##--------| 1028/4948  20% [elapsed: 05:38 left: 21:29,  3.04 iters/sec]"
       ]
      },
      {
       "output_type": "stream",
       "stream": "stdout",
       "text": [
        "\r",
        "|##--------| 1031/4948  20% [elapsed: 05:40 left: 21:31,  3.03 iters/sec]"
       ]
      },
      {
       "output_type": "stream",
       "stream": "stdout",
       "text": [
        "\r",
        "|##--------| 1033/4948  20% [elapsed: 05:41 left: 21:34,  3.03 iters/sec]"
       ]
      },
      {
       "output_type": "stream",
       "stream": "stdout",
       "text": [
        "\r",
        "|##--------| 1034/4948  20% [elapsed: 05:43 left: 21:38,  3.01 iters/sec]"
       ]
      },
      {
       "output_type": "stream",
       "stream": "stdout",
       "text": [
        "\r",
        "|##--------| 1035/4948  20% [elapsed: 05:44 left: 21:42,  3.00 iters/sec]"
       ]
      },
      {
       "output_type": "stream",
       "stream": "stdout",
       "text": [
        "\r",
        "|##--------| 1037/4948  20% [elapsed: 05:46 left: 21:45,  2.99 iters/sec]"
       ]
      },
      {
       "output_type": "stream",
       "stream": "stdout",
       "text": [
        "\r",
        "|##--------| 1052/4948  21% [elapsed: 05:47 left: 21:27,  3.03 iters/sec]"
       ]
      },
      {
       "output_type": "stream",
       "stream": "stdout",
       "text": [
        "\r",
        "|##--------| 1064/4948  21% [elapsed: 05:49 left: 21:14,  3.05 iters/sec]"
       ]
      },
      {
       "output_type": "stream",
       "stream": "stdout",
       "text": [
        "\r",
        "|##--------| 1071/4948  21% [elapsed: 05:50 left: 21:08,  3.06 iters/sec]"
       ]
      },
      {
       "output_type": "stream",
       "stream": "stdout",
       "text": [
        "\r",
        "|##--------| 1072/4948  21% [elapsed: 05:52 left: 21:12,  3.05 iters/sec]"
       ]
      },
      {
       "output_type": "stream",
       "stream": "stdout",
       "text": [
        "\r",
        "|##--------| 1073/4948  21% [elapsed: 05:53 left: 21:17,  3.03 iters/sec]"
       ]
      },
      {
       "output_type": "stream",
       "stream": "stdout",
       "text": [
        "\r",
        "|##--------| 1086/4948  21% [elapsed: 05:55 left: 21:04,  3.06 iters/sec]"
       ]
      },
      {
       "output_type": "stream",
       "stream": "stdout",
       "text": [
        "\r",
        "|##--------| 1099/4948  22% [elapsed: 05:57 left: 20:50,  3.08 iters/sec]"
       ]
      },
      {
       "output_type": "stream",
       "stream": "stdout",
       "text": [
        "\r",
        "|##--------| 1143/4948  23% [elapsed: 05:58 left: 19:54,  3.19 iters/sec]"
       ]
      },
      {
       "output_type": "stream",
       "stream": "stdout",
       "text": [
        "\r",
        "|##--------| 1145/4948  23% [elapsed: 06:00 left: 19:58,  3.17 iters/sec]"
       ]
      },
      {
       "output_type": "stream",
       "stream": "stdout",
       "text": [
        "\r",
        "|##--------| 1147/4948  23% [elapsed: 06:02 left: 20:01,  3.16 iters/sec]"
       ]
      },
      {
       "output_type": "stream",
       "stream": "stdout",
       "text": [
        "\r",
        "|##--------| 1152/4948  23% [elapsed: 06:03 left: 19:59,  3.17 iters/sec]"
       ]
      },
      {
       "output_type": "stream",
       "stream": "stdout",
       "text": [
        "\r",
        "|##--------| 1170/4948  23% [elapsed: 06:05 left: 19:40,  3.20 iters/sec]"
       ]
      },
      {
       "output_type": "stream",
       "stream": "stdout",
       "text": [
        "\r",
        "|##--------| 1180/4948  23% [elapsed: 06:07 left: 19:33,  3.21 iters/sec]"
       ]
      },
      {
       "output_type": "stream",
       "stream": "stdout",
       "text": [
        "\r",
        "|##--------| 1187/4948  23% [elapsed: 06:09 left: 19:30,  3.21 iters/sec]"
       ]
      },
      {
       "output_type": "stream",
       "stream": "stdout",
       "text": [
        "\r",
        "|##--------| 1189/4948  24% [elapsed: 06:10 left: 19:32,  3.21 iters/sec]"
       ]
      },
      {
       "output_type": "stream",
       "stream": "stdout",
       "text": [
        "\r",
        "|##--------| 1206/4948  24% [elapsed: 06:12 left: 19:16,  3.24 iters/sec]"
       ]
      },
      {
       "output_type": "stream",
       "stream": "stdout",
       "text": [
        "\r",
        "|##--------| 1211/4948  24% [elapsed: 06:13 left: 19:11,  3.25 iters/sec]"
       ]
      },
      {
       "output_type": "stream",
       "stream": "stdout",
       "text": [
        "\r",
        "|##--------| 1215/4948  24% [elapsed: 06:15 left: 19:13,  3.24 iters/sec]"
       ]
      },
      {
       "output_type": "stream",
       "stream": "stdout",
       "text": [
        "\r",
        "|##--------| 1217/4948  24% [elapsed: 06:16 left: 19:15,  3.23 iters/sec]"
       ]
      },
      {
       "output_type": "stream",
       "stream": "stdout",
       "text": [
        "\r",
        "|##--------| 1222/4948  24% [elapsed: 06:18 left: 19:14,  3.23 iters/sec]"
       ]
      },
      {
       "output_type": "stream",
       "stream": "stdout",
       "text": [
        "\r",
        "|##--------| 1223/4948  24% [elapsed: 06:20 left: 19:18,  3.22 iters/sec]"
       ]
      },
      {
       "output_type": "stream",
       "stream": "stdout",
       "text": [
        "\r",
        "|##--------| 1238/4948  25% [elapsed: 06:21 left: 19:04,  3.24 iters/sec]"
       ]
      },
      {
       "output_type": "stream",
       "stream": "stdout",
       "text": [
        "\r",
        "|##--------| 1240/4948  25% [elapsed: 06:23 left: 19:06,  3.23 iters/sec]"
       ]
      },
      {
       "output_type": "stream",
       "stream": "stdout",
       "text": [
        "\r",
        "|##--------| 1242/4948  25% [elapsed: 06:24 left: 19:08,  3.23 iters/sec]"
       ]
      },
      {
       "output_type": "stream",
       "stream": "stdout",
       "text": [
        "\r",
        "|##--------| 1246/4948  25% [elapsed: 06:26 left: 19:07,  3.23 iters/sec]"
       ]
      },
      {
       "output_type": "stream",
       "stream": "stdout",
       "text": [
        "\r",
        "|##--------| 1248/4948  25% [elapsed: 06:27 left: 19:09,  3.22 iters/sec]"
       ]
      },
      {
       "output_type": "stream",
       "stream": "stdout",
       "text": [
        "\r",
        "|##--------| 1260/4948  25% [elapsed: 06:29 left: 19:00,  3.23 iters/sec]"
       ]
      },
      {
       "output_type": "stream",
       "stream": "stdout",
       "text": [
        "\r",
        "|##--------| 1275/4948  25% [elapsed: 06:31 left: 18:46,  3.26 iters/sec]"
       ]
      },
      {
       "output_type": "stream",
       "stream": "stdout",
       "text": [
        "\r",
        "|##--------| 1289/4948  26% [elapsed: 06:32 left: 18:33,  3.28 iters/sec]"
       ]
      },
      {
       "output_type": "stream",
       "stream": "stdout",
       "text": [
        "\r",
        "|##--------| 1291/4948  26% [elapsed: 06:33 left: 18:35,  3.28 iters/sec]"
       ]
      },
      {
       "output_type": "stream",
       "stream": "stdout",
       "text": [
        "\r",
        "|##--------| 1298/4948  26% [elapsed: 06:35 left: 18:32,  3.28 iters/sec]"
       ]
      },
      {
       "output_type": "stream",
       "stream": "stdout",
       "text": [
        "\r",
        "|##--------| 1303/4948  26% [elapsed: 06:37 left: 18:32,  3.28 iters/sec]"
       ]
      },
      {
       "output_type": "stream",
       "stream": "stdout",
       "text": [
        "\r",
        "|##--------| 1308/4948  26% [elapsed: 06:39 left: 18:33,  3.27 iters/sec]"
       ]
      },
      {
       "output_type": "stream",
       "stream": "stdout",
       "text": [
        "\r",
        "|##--------| 1319/4948  26% [elapsed: 06:41 left: 18:24,  3.29 iters/sec]"
       ]
      },
      {
       "output_type": "stream",
       "stream": "stdout",
       "text": [
        "\r",
        "|##--------| 1326/4948  26% [elapsed: 06:42 left: 18:20,  3.29 iters/sec]"
       ]
      },
      {
       "output_type": "stream",
       "stream": "stdout",
       "text": [
        "\r",
        "|##--------| 1328/4948  26% [elapsed: 06:46 left: 18:27,  3.27 iters/sec]"
       ]
      },
      {
       "output_type": "stream",
       "stream": "stdout",
       "text": [
        "\r",
        "|##--------| 1335/4948  26% [elapsed: 06:47 left: 18:23,  3.27 iters/sec]"
       ]
      },
      {
       "output_type": "stream",
       "stream": "stdout",
       "text": [
        "\r",
        "|##--------| 1349/4948  27% [elapsed: 06:50 left: 18:14,  3.29 iters/sec]"
       ]
      },
      {
       "output_type": "stream",
       "stream": "stdout",
       "text": [
        "\r",
        "|##--------| 1353/4948  27% [elapsed: 06:51 left: 18:14,  3.29 iters/sec]"
       ]
      },
      {
       "output_type": "stream",
       "stream": "stdout",
       "text": [
        "\r",
        "|##--------| 1356/4948  27% [elapsed: 06:53 left: 18:16,  3.28 iters/sec]"
       ]
      },
      {
       "output_type": "stream",
       "stream": "stdout",
       "text": [
        "\r",
        "|##--------| 1361/4948  27% [elapsed: 06:55 left: 18:13,  3.28 iters/sec]"
       ]
      },
      {
       "output_type": "stream",
       "stream": "stdout",
       "text": [
        "\r",
        "|##--------| 1368/4948  27% [elapsed: 06:56 left: 18:10,  3.28 iters/sec]"
       ]
      },
      {
       "output_type": "stream",
       "stream": "stdout",
       "text": [
        "\r",
        "|##--------| 1369/4948  27% [elapsed: 06:58 left: 18:13,  3.27 iters/sec]"
       ]
      },
      {
       "output_type": "stream",
       "stream": "stdout",
       "text": [
        "\r",
        "|##--------| 1386/4948  28% [elapsed: 06:59 left: 17:57,  3.30 iters/sec]"
       ]
      },
      {
       "output_type": "stream",
       "stream": "stdout",
       "text": [
        "\r",
        "|##--------| 1387/4948  28% [elapsed: 07:01 left: 18:01,  3.29 iters/sec]"
       ]
      },
      {
       "output_type": "stream",
       "stream": "stdout",
       "text": [
        "\r",
        "|##--------| 1397/4948  28% [elapsed: 07:02 left: 17:54,  3.31 iters/sec]"
       ]
      },
      {
       "output_type": "stream",
       "stream": "stdout",
       "text": [
        "\r",
        "|##--------| 1407/4948  28% [elapsed: 07:04 left: 17:47,  3.32 iters/sec]"
       ]
      },
      {
       "output_type": "stream",
       "stream": "stdout",
       "text": [
        "\r",
        "|##--------| 1418/4948  28% [elapsed: 07:05 left: 17:40,  3.33 iters/sec]"
       ]
      },
      {
       "output_type": "stream",
       "stream": "stdout",
       "text": [
        "\r",
        "|##--------| 1419/4948  28% [elapsed: 07:07 left: 17:44,  3.32 iters/sec]"
       ]
      },
      {
       "output_type": "stream",
       "stream": "stdout",
       "text": [
        "\r",
        "|##--------| 1424/4948  28% [elapsed: 07:09 left: 17:42,  3.32 iters/sec]"
       ]
      },
      {
       "output_type": "stream",
       "stream": "stdout",
       "text": [
        "\r",
        "|##--------| 1435/4948  29% [elapsed: 07:10 left: 17:35,  3.33 iters/sec]"
       ]
      },
      {
       "output_type": "stream",
       "stream": "stdout",
       "text": [
        "\r",
        "|##--------| 1442/4948  29% [elapsed: 07:12 left: 17:31,  3.33 iters/sec]"
       ]
      },
      {
       "output_type": "stream",
       "stream": "stdout",
       "text": [
        "\r",
        "|##--------| 1443/4948  29% [elapsed: 07:13 left: 17:33,  3.33 iters/sec]"
       ]
      },
      {
       "output_type": "stream",
       "stream": "stdout",
       "text": [
        "\r",
        "|##--------| 1448/4948  29% [elapsed: 07:15 left: 17:31,  3.33 iters/sec]"
       ]
      },
      {
       "output_type": "stream",
       "stream": "stdout",
       "text": [
        "\r",
        "|##--------| 1472/4948  29% [elapsed: 07:16 left: 17:11,  3.37 iters/sec]"
       ]
      },
      {
       "output_type": "stream",
       "stream": "stdout",
       "text": [
        "\r",
        "|##--------| 1474/4948  29% [elapsed: 07:18 left: 17:13,  3.36 iters/sec]"
       ]
      },
      {
       "output_type": "stream",
       "stream": "stdout",
       "text": [
        "\r",
        "|##--------| 1479/4948  29% [elapsed: 07:19 left: 17:11,  3.36 iters/sec]"
       ]
      },
      {
       "output_type": "stream",
       "stream": "stdout",
       "text": [
        "\r",
        "|###-------| 1495/4948  30% [elapsed: 07:21 left: 16:59,  3.39 iters/sec]"
       ]
      },
      {
       "output_type": "stream",
       "stream": "stdout",
       "text": [
        "\r",
        "|###-------| 1508/4948  30% [elapsed: 07:24 left: 16:53,  3.40 iters/sec]"
       ]
      },
      {
       "output_type": "stream",
       "stream": "stdout",
       "text": [
        "\r",
        "|###-------| 1509/4948  30% [elapsed: 07:27 left: 16:59,  3.37 iters/sec]"
       ]
      },
      {
       "output_type": "stream",
       "stream": "stdout",
       "text": [
        "\r",
        "|###-------| 1510/4948  30% [elapsed: 07:28 left: 17:02,  3.36 iters/sec]"
       ]
      },
      {
       "output_type": "stream",
       "stream": "stdout",
       "text": [
        "\r",
        "|###-------| 1511/4948  30% [elapsed: 07:31 left: 17:07,  3.34 iters/sec]"
       ]
      },
      {
       "output_type": "stream",
       "stream": "stdout",
       "text": [
        "\r",
        "|###-------| 1527/4948  30% [elapsed: 07:33 left: 16:55,  3.37 iters/sec]"
       ]
      },
      {
       "output_type": "stream",
       "stream": "stdout",
       "text": [
        "\r",
        "|###-------| 1528/4948  30% [elapsed: 07:34 left: 16:56,  3.36 iters/sec]"
       ]
      },
      {
       "output_type": "stream",
       "stream": "stdout",
       "text": [
        "\r",
        "|###-------| 1529/4948  30% [elapsed: 07:36 left: 17:00,  3.35 iters/sec]"
       ]
      },
      {
       "output_type": "stream",
       "stream": "stdout",
       "text": [
        "\r",
        "|###-------| 1530/4948  30% [elapsed: 07:37 left: 17:00,  3.35 iters/sec]"
       ]
      },
      {
       "output_type": "stream",
       "stream": "stdout",
       "text": [
        "\r",
        "|###-------| 1531/4948  30% [elapsed: 07:37 left: 17:01,  3.35 iters/sec]"
       ]
      },
      {
       "output_type": "stream",
       "stream": "stdout",
       "text": [
        "\r",
        "|###-------| 1544/4948  31% [elapsed: 07:39 left: 16:52,  3.36 iters/sec]"
       ]
      },
      {
       "output_type": "stream",
       "stream": "stdout",
       "text": [
        "\r",
        "|###-------| 1545/4948  31% [elapsed: 07:41 left: 16:55,  3.35 iters/sec]"
       ]
      },
      {
       "output_type": "stream",
       "stream": "stdout",
       "text": [
        "\r",
        "|###-------| 1550/4948  31% [elapsed: 07:43 left: 16:56,  3.34 iters/sec]"
       ]
      },
      {
       "output_type": "stream",
       "stream": "stdout",
       "text": [
        "\r",
        "|###-------| 1554/4948  31% [elapsed: 07:46 left: 16:57,  3.33 iters/sec]"
       ]
      },
      {
       "output_type": "stream",
       "stream": "stdout",
       "text": [
        "\r",
        "|###-------| 1555/4948  31% [elapsed: 07:47 left: 16:59,  3.33 iters/sec]"
       ]
      },
      {
       "output_type": "stream",
       "stream": "stdout",
       "text": [
        "\r",
        "|###-------| 1558/4948  31% [elapsed: 07:49 left: 17:01,  3.32 iters/sec]"
       ]
      },
      {
       "output_type": "stream",
       "stream": "stdout",
       "text": [
        "\r",
        "|###-------| 1560/4948  31% [elapsed: 07:50 left: 17:02,  3.31 iters/sec]"
       ]
      },
      {
       "output_type": "stream",
       "stream": "stdout",
       "text": [
        "\r",
        "|###-------| 1570/4948  31% [elapsed: 07:52 left: 16:55,  3.33 iters/sec]"
       ]
      },
      {
       "output_type": "stream",
       "stream": "stdout",
       "text": [
        "\r",
        "|###-------| 1572/4948  31% [elapsed: 07:53 left: 16:56,  3.32 iters/sec]"
       ]
      },
      {
       "output_type": "stream",
       "stream": "stdout",
       "text": [
        "\r",
        "|###-------| 1576/4948  31% [elapsed: 07:54 left: 16:56,  3.32 iters/sec]"
       ]
      },
      {
       "output_type": "stream",
       "stream": "stdout",
       "text": [
        "\r",
        "|###-------| 1577/4948  31% [elapsed: 07:57 left: 17:01,  3.30 iters/sec]"
       ]
      },
      {
       "output_type": "stream",
       "stream": "stdout",
       "text": [
        "\r",
        "|###-------| 1584/4948  32% [elapsed: 07:59 left: 16:58,  3.30 iters/sec]"
       ]
      },
      {
       "output_type": "stream",
       "stream": "stdout",
       "text": [
        "\r",
        "|###-------| 1589/4948  32% [elapsed: 08:00 left: 16:55,  3.31 iters/sec]"
       ]
      },
      {
       "output_type": "stream",
       "stream": "stdout",
       "text": [
        "\r",
        "|###-------| 1599/4948  32% [elapsed: 08:02 left: 16:50,  3.31 iters/sec]"
       ]
      },
      {
       "output_type": "stream",
       "stream": "stdout",
       "text": [
        "\r",
        "|###-------| 1607/4948  32% [elapsed: 08:03 left: 16:45,  3.32 iters/sec]"
       ]
      },
      {
       "output_type": "stream",
       "stream": "stdout",
       "text": [
        "\r",
        "|###-------| 1617/4948  32% [elapsed: 08:05 left: 16:39,  3.33 iters/sec]"
       ]
      },
      {
       "output_type": "stream",
       "stream": "stdout",
       "text": [
        "\r",
        "|###-------| 1619/4948  32% [elapsed: 08:07 left: 16:42,  3.32 iters/sec]"
       ]
      },
      {
       "output_type": "stream",
       "stream": "stdout",
       "text": [
        "\r",
        "|###-------| 1629/4948  32% [elapsed: 08:09 left: 16:37,  3.33 iters/sec]"
       ]
      },
      {
       "output_type": "stream",
       "stream": "stdout",
       "text": [
        "\r",
        "|###-------| 1631/4948  32% [elapsed: 08:12 left: 16:42,  3.31 iters/sec]"
       ]
      },
      {
       "output_type": "stream",
       "stream": "stdout",
       "text": [
        "\r",
        "|###-------| 1632/4948  32% [elapsed: 08:14 left: 16:43,  3.30 iters/sec]"
       ]
      },
      {
       "output_type": "stream",
       "stream": "stdout",
       "text": [
        "\r",
        "|###-------| 1634/4948  33% [elapsed: 08:16 left: 16:46,  3.29 iters/sec]"
       ]
      },
      {
       "output_type": "stream",
       "stream": "stdout",
       "text": [
        "\r",
        "|###-------| 1642/4948  33% [elapsed: 08:19 left: 16:46,  3.29 iters/sec]"
       ]
      },
      {
       "output_type": "stream",
       "stream": "stdout",
       "text": [
        "\r",
        "|###-------| 1643/4948  33% [elapsed: 08:20 left: 16:47,  3.28 iters/sec]"
       ]
      },
      {
       "output_type": "stream",
       "stream": "stdout",
       "text": [
        "\r",
        "|###-------| 1651/4948  33% [elapsed: 08:22 left: 16:43,  3.29 iters/sec]"
       ]
      },
      {
       "output_type": "stream",
       "stream": "stdout",
       "text": [
        "\r",
        "|###-------| 1669/4948  33% [elapsed: 08:24 left: 16:31,  3.31 iters/sec]"
       ]
      },
      {
       "output_type": "stream",
       "stream": "stdout",
       "text": [
        "\r",
        "|###-------| 1680/4948  33% [elapsed: 08:25 left: 16:23,  3.32 iters/sec]"
       ]
      },
      {
       "output_type": "stream",
       "stream": "stdout",
       "text": [
        "\r",
        "|###-------| 1699/4948  34% [elapsed: 08:27 left: 16:09,  3.35 iters/sec]"
       ]
      },
      {
       "output_type": "stream",
       "stream": "stdout",
       "text": [
        "\r",
        "|###-------| 1715/4948  34% [elapsed: 08:28 left: 15:58,  3.37 iters/sec]"
       ]
      },
      {
       "output_type": "stream",
       "stream": "stdout",
       "text": [
        "\r",
        "|###-------| 1719/4948  34% [elapsed: 08:30 left: 15:58,  3.37 iters/sec]"
       ]
      },
      {
       "output_type": "stream",
       "stream": "stdout",
       "text": [
        "\r",
        "|###-------| 1722/4948  34% [elapsed: 08:31 left: 15:58,  3.37 iters/sec]"
       ]
      },
      {
       "output_type": "stream",
       "stream": "stdout",
       "text": [
        "\r",
        "|###-------| 1774/4948  35% [elapsed: 08:33 left: 15:17,  3.46 iters/sec]"
       ]
      },
      {
       "output_type": "stream",
       "stream": "stdout",
       "text": [
        "\r",
        "|###-------| 1780/4948  35% [elapsed: 08:34 left: 15:15,  3.46 iters/sec]"
       ]
      },
      {
       "output_type": "stream",
       "stream": "stdout",
       "text": [
        "\r",
        "|###-------| 1782/4948  36% [elapsed: 08:35 left: 15:16,  3.46 iters/sec]"
       ]
      },
      {
       "output_type": "stream",
       "stream": "stdout",
       "text": [
        "\r",
        "|###-------| 1796/4948  36% [elapsed: 08:36 left: 15:07,  3.47 iters/sec]"
       ]
      },
      {
       "output_type": "stream",
       "stream": "stdout",
       "text": [
        "\r",
        "|###-------| 1797/4948  36% [elapsed: 08:38 left: 15:08,  3.47 iters/sec]"
       ]
      },
      {
       "output_type": "stream",
       "stream": "stdout",
       "text": [
        "\r",
        "|###-------| 1803/4948  36% [elapsed: 08:39 left: 15:06,  3.47 iters/sec]"
       ]
      },
      {
       "output_type": "stream",
       "stream": "stdout",
       "text": [
        "\r",
        "|###-------| 1804/4948  36% [elapsed: 08:41 left: 15:08,  3.46 iters/sec]"
       ]
      },
      {
       "output_type": "stream",
       "stream": "stdout",
       "text": [
        "\r",
        "|###-------| 1805/4948  36% [elapsed: 08:42 left: 15:09,  3.45 iters/sec]"
       ]
      },
      {
       "output_type": "stream",
       "stream": "stdout",
       "text": [
        "\r",
        "|###-------| 1808/4948  36% [elapsed: 08:43 left: 15:09,  3.45 iters/sec]"
       ]
      },
      {
       "output_type": "stream",
       "stream": "stdout",
       "text": [
        "\r",
        "|###-------| 1813/4948  36% [elapsed: 08:45 left: 15:09,  3.45 iters/sec]"
       ]
      },
      {
       "output_type": "stream",
       "stream": "stdout",
       "text": [
        "\r",
        "|###-------| 1818/4948  36% [elapsed: 08:46 left: 15:07,  3.45 iters/sec]"
       ]
      },
      {
       "output_type": "stream",
       "stream": "stdout",
       "text": [
        "\r",
        "|###-------| 1825/4948  36% [elapsed: 08:48 left: 15:05,  3.45 iters/sec]"
       ]
      },
      {
       "output_type": "stream",
       "stream": "stdout",
       "text": [
        "\r",
        "|###-------| 1833/4948  37% [elapsed: 08:50 left: 15:01,  3.46 iters/sec]"
       ]
      },
      {
       "output_type": "stream",
       "stream": "stdout",
       "text": [
        "\r",
        "|###-------| 1838/4948  37% [elapsed: 08:51 left: 14:58,  3.46 iters/sec]"
       ]
      },
      {
       "output_type": "stream",
       "stream": "stdout",
       "text": [
        "\r",
        "|###-------| 1843/4948  37% [elapsed: 08:52 left: 14:57,  3.46 iters/sec]"
       ]
      },
      {
       "output_type": "stream",
       "stream": "stdout",
       "text": [
        "\r",
        "|###-------| 1852/4948  37% [elapsed: 08:54 left: 14:53,  3.47 iters/sec]"
       ]
      },
      {
       "output_type": "stream",
       "stream": "stdout",
       "text": [
        "\r",
        "|###-------| 1855/4948  37% [elapsed: 08:55 left: 14:53,  3.46 iters/sec]"
       ]
      },
      {
       "output_type": "stream",
       "stream": "stdout",
       "text": [
        "\r",
        "|###-------| 1861/4948  37% [elapsed: 08:57 left: 14:51,  3.46 iters/sec]"
       ]
      },
      {
       "output_type": "stream",
       "stream": "stdout",
       "text": [
        "\r",
        "|###-------| 1862/4948  37% [elapsed: 08:59 left: 14:53,  3.45 iters/sec]"
       ]
      },
      {
       "output_type": "stream",
       "stream": "stdout",
       "text": [
        "\r",
        "|###-------| 1868/4948  37% [elapsed: 09:00 left: 14:51,  3.45 iters/sec]"
       ]
      },
      {
       "output_type": "stream",
       "stream": "stdout",
       "text": [
        "\r",
        "|###-------| 1870/4948  37% [elapsed: 09:02 left: 14:52,  3.45 iters/sec]"
       ]
      },
      {
       "output_type": "stream",
       "stream": "stdout",
       "text": [
        "\r",
        "|###-------| 1874/4948  37% [elapsed: 09:03 left: 14:50,  3.45 iters/sec]"
       ]
      },
      {
       "output_type": "stream",
       "stream": "stdout",
       "text": [
        "\r",
        "|###-------| 1885/4948  38% [elapsed: 09:04 left: 14:45,  3.46 iters/sec]"
       ]
      },
      {
       "output_type": "stream",
       "stream": "stdout",
       "text": [
        "\r",
        "|###-------| 1886/4948  38% [elapsed: 09:06 left: 14:46,  3.45 iters/sec]"
       ]
      },
      {
       "output_type": "stream",
       "stream": "stdout",
       "text": [
        "\r",
        "|###-------| 1888/4948  38% [elapsed: 09:07 left: 14:47,  3.45 iters/sec]"
       ]
      },
      {
       "output_type": "stream",
       "stream": "stdout",
       "text": [
        "\r",
        "|###-------| 1910/4948  38% [elapsed: 09:08 left: 14:32,  3.48 iters/sec]"
       ]
      },
      {
       "output_type": "stream",
       "stream": "stdout",
       "text": [
        "\r",
        "|###-------| 1921/4948  38% [elapsed: 09:10 left: 14:26,  3.49 iters/sec]"
       ]
      },
      {
       "output_type": "stream",
       "stream": "stdout",
       "text": [
        "\r",
        "|###-------| 1925/4948  38% [elapsed: 09:11 left: 14:25,  3.49 iters/sec]"
       ]
      },
      {
       "output_type": "stream",
       "stream": "stdout",
       "text": [
        "\r",
        "|###-------| 1933/4948  39% [elapsed: 09:12 left: 14:22,  3.50 iters/sec]"
       ]
      },
      {
       "output_type": "stream",
       "stream": "stdout",
       "text": [
        "\r",
        "|###-------| 1935/4948  39% [elapsed: 09:13 left: 14:22,  3.49 iters/sec]"
       ]
      },
      {
       "output_type": "stream",
       "stream": "stdout",
       "text": [
        "\r",
        "|###-------| 1942/4948  39% [elapsed: 09:15 left: 14:19,  3.50 iters/sec]"
       ]
      },
      {
       "output_type": "stream",
       "stream": "stdout",
       "text": [
        "\r",
        "|###-------| 1953/4948  39% [elapsed: 09:16 left: 14:13,  3.51 iters/sec]"
       ]
      },
      {
       "output_type": "stream",
       "stream": "stdout",
       "text": [
        "\r",
        "|###-------| 1954/4948  39% [elapsed: 09:18 left: 14:16,  3.50 iters/sec]"
       ]
      },
      {
       "output_type": "stream",
       "stream": "stdout",
       "text": [
        "\r",
        "|###-------| 1958/4948  39% [elapsed: 09:19 left: 14:15,  3.50 iters/sec]"
       ]
      },
      {
       "output_type": "stream",
       "stream": "stdout",
       "text": [
        "\r",
        "|###-------| 1960/4948  39% [elapsed: 09:21 left: 14:16,  3.49 iters/sec]"
       ]
      },
      {
       "output_type": "stream",
       "stream": "stdout",
       "text": [
        "\r",
        "|###-------| 1961/4948  39% [elapsed: 09:23 left: 14:17,  3.48 iters/sec]"
       ]
      },
      {
       "output_type": "stream",
       "stream": "stdout",
       "text": [
        "\r",
        "|###-------| 1963/4948  39% [elapsed: 09:24 left: 14:18,  3.48 iters/sec]"
       ]
      },
      {
       "output_type": "stream",
       "stream": "stdout",
       "text": [
        "\r",
        "|###-------| 1967/4948  39% [elapsed: 09:25 left: 14:17,  3.48 iters/sec]"
       ]
      },
      {
       "output_type": "stream",
       "stream": "stdout",
       "text": [
        "\r",
        "|###-------| 1969/4948  39% [elapsed: 09:27 left: 14:18,  3.47 iters/sec]"
       ]
      },
      {
       "output_type": "stream",
       "stream": "stdout",
       "text": [
        "\r",
        "|###-------| 1970/4948  39% [elapsed: 09:28 left: 14:19,  3.46 iters/sec]"
       ]
      },
      {
       "output_type": "stream",
       "stream": "stdout",
       "text": [
        "\r",
        "|###-------| 1971/4948  39% [elapsed: 09:30 left: 14:21,  3.46 iters/sec]"
       ]
      },
      {
       "output_type": "stream",
       "stream": "stdout",
       "text": [
        "\r",
        "|###-------| 1974/4948  39% [elapsed: 09:31 left: 14:21,  3.45 iters/sec]"
       ]
      },
      {
       "output_type": "stream",
       "stream": "stdout",
       "text": [
        "\r",
        "|####------| 1994/4948  40% [elapsed: 09:33 left: 14:09,  3.48 iters/sec]"
       ]
      },
      {
       "output_type": "stream",
       "stream": "stdout",
       "text": [
        "\r",
        "|####------| 1999/4948  40% [elapsed: 09:34 left: 14:08,  3.48 iters/sec]"
       ]
      },
      {
       "output_type": "stream",
       "stream": "stdout",
       "text": [
        "\r",
        "|####------| 2002/4948  40% [elapsed: 09:36 left: 14:08,  3.47 iters/sec]"
       ]
      },
      {
       "output_type": "stream",
       "stream": "stdout",
       "text": [
        "\r",
        "|####------| 2005/4948  40% [elapsed: 09:37 left: 14:08,  3.47 iters/sec]"
       ]
      },
      {
       "output_type": "stream",
       "stream": "stdout",
       "text": [
        "\r",
        "|####------| 2007/4948  40% [elapsed: 09:39 left: 14:08,  3.46 iters/sec]"
       ]
      },
      {
       "output_type": "stream",
       "stream": "stdout",
       "text": [
        "\r",
        "|####------| 2018/4948  40% [elapsed: 09:40 left: 14:03,  3.48 iters/sec]"
       ]
      },
      {
       "output_type": "stream",
       "stream": "stdout",
       "text": [
        "\r",
        "|####------| 2021/4948  40% [elapsed: 09:42 left: 14:03,  3.47 iters/sec]"
       ]
      },
      {
       "output_type": "stream",
       "stream": "stdout",
       "text": [
        "\r",
        "|####------| 2022/4948  40% [elapsed: 09:43 left: 14:04,  3.47 iters/sec]"
       ]
      },
      {
       "output_type": "stream",
       "stream": "stdout",
       "text": [
        "\r",
        "|####------| 2023/4948  40% [elapsed: 09:45 left: 14:06,  3.46 iters/sec]"
       ]
      },
      {
       "output_type": "stream",
       "stream": "stdout",
       "text": [
        "\r",
        "|####------| 2025/4948  40% [elapsed: 09:46 left: 14:06,  3.45 iters/sec]"
       ]
      },
      {
       "output_type": "stream",
       "stream": "stdout",
       "text": [
        "\r",
        "|####------| 2026/4948  40% [elapsed: 09:47 left: 14:07,  3.45 iters/sec]"
       ]
      },
      {
       "output_type": "stream",
       "stream": "stdout",
       "text": [
        "\r",
        "|####------| 2027/4948  40% [elapsed: 09:49 left: 14:09,  3.44 iters/sec]"
       ]
      },
      {
       "output_type": "stream",
       "stream": "stdout",
       "text": [
        "\r",
        "|####------| 2028/4948  40% [elapsed: 09:49 left: 14:09,  3.44 iters/sec]"
       ]
      },
      {
       "output_type": "stream",
       "stream": "stdout",
       "text": [
        "\r",
        "|####------| 2050/4948  41% [elapsed: 09:51 left: 13:56,  3.47 iters/sec]"
       ]
      },
      {
       "output_type": "stream",
       "stream": "stdout",
       "text": [
        "\r",
        "|####------| 2066/4948  41% [elapsed: 09:54 left: 13:48,  3.48 iters/sec]"
       ]
      },
      {
       "output_type": "stream",
       "stream": "stdout",
       "text": [
        "\r",
        "|####------| 2077/4948  41% [elapsed: 09:55 left: 13:43,  3.49 iters/sec]"
       ]
      },
      {
       "output_type": "stream",
       "stream": "stdout",
       "text": [
        "\r",
        "|####------| 2083/4948  42% [elapsed: 09:56 left: 13:40,  3.49 iters/sec]"
       ]
      },
      {
       "output_type": "stream",
       "stream": "stdout",
       "text": [
        "\r",
        "|####------| 2104/4948  42% [elapsed: 09:58 left: 13:29,  3.51 iters/sec]"
       ]
      },
      {
       "output_type": "stream",
       "stream": "stdout",
       "text": [
        "\r",
        "|####------| 2126/4948  42% [elapsed: 10:00 left: 13:17,  3.54 iters/sec]"
       ]
      },
      {
       "output_type": "stream",
       "stream": "stdout",
       "text": [
        "\r",
        "|####------| 2133/4948  43% [elapsed: 10:02 left: 13:14,  3.54 iters/sec]"
       ]
      },
      {
       "output_type": "stream",
       "stream": "stdout",
       "text": [
        "\r",
        "|####------| 2149/4948  43% [elapsed: 10:03 left: 13:06,  3.56 iters/sec]"
       ]
      },
      {
       "output_type": "stream",
       "stream": "stdout",
       "text": [
        "\r",
        "|####------| 2156/4948  43% [elapsed: 10:05 left: 13:03,  3.56 iters/sec]"
       ]
      },
      {
       "output_type": "stream",
       "stream": "stdout",
       "text": [
        "\r",
        "|####------| 2157/4948  43% [elapsed: 10:06 left: 13:04,  3.56 iters/sec]"
       ]
      },
      {
       "output_type": "stream",
       "stream": "stdout",
       "text": [
        "\r",
        "|####------| 2160/4948  43% [elapsed: 10:07 left: 13:04,  3.55 iters/sec]"
       ]
      },
      {
       "output_type": "stream",
       "stream": "stdout",
       "text": [
        "\r",
        "|####------| 2166/4948  43% [elapsed: 10:09 left: 13:02,  3.55 iters/sec]"
       ]
      },
      {
       "output_type": "stream",
       "stream": "stdout",
       "text": [
        "\r",
        "|####------| 2172/4948  43% [elapsed: 10:10 left: 13:00,  3.56 iters/sec]"
       ]
      },
      {
       "output_type": "stream",
       "stream": "stdout",
       "text": [
        "\r",
        "|####------| 2174/4948  43% [elapsed: 10:12 left: 13:01,  3.55 iters/sec]"
       ]
      },
      {
       "output_type": "stream",
       "stream": "stdout",
       "text": [
        "\r",
        "|####------| 2193/4948  44% [elapsed: 10:14 left: 12:51,  3.57 iters/sec]"
       ]
      },
      {
       "output_type": "stream",
       "stream": "stdout",
       "text": [
        "\r",
        "|####------| 2195/4948  44% [elapsed: 10:15 left: 12:52,  3.56 iters/sec]"
       ]
      },
      {
       "output_type": "stream",
       "stream": "stdout",
       "text": [
        "\r",
        "|####------| 2213/4948  44% [elapsed: 10:17 left: 12:42,  3.59 iters/sec]"
       ]
      },
      {
       "output_type": "stream",
       "stream": "stdout",
       "text": [
        "\r",
        "|####------| 2214/4948  44% [elapsed: 10:18 left: 12:43,  3.58 iters/sec]"
       ]
      },
      {
       "output_type": "stream",
       "stream": "stdout",
       "text": [
        "\r",
        "|####------| 2222/4948  44% [elapsed: 10:21 left: 12:41,  3.58 iters/sec]"
       ]
      },
      {
       "output_type": "stream",
       "stream": "stdout",
       "text": [
        "\r",
        "|####------| 2223/4948  44% [elapsed: 10:22 left: 12:43,  3.57 iters/sec]"
       ]
      },
      {
       "output_type": "stream",
       "stream": "stdout",
       "text": [
        "\r",
        "|####------| 2235/4948  45% [elapsed: 10:23 left: 12:37,  3.58 iters/sec]"
       ]
      },
      {
       "output_type": "stream",
       "stream": "stdout",
       "text": [
        "\r",
        "|####------| 2236/4948  45% [elapsed: 10:25 left: 12:38,  3.57 iters/sec]"
       ]
      },
      {
       "output_type": "stream",
       "stream": "stdout",
       "text": [
        "\r",
        "|####------| 2242/4948  45% [elapsed: 10:26 left: 12:36,  3.58 iters/sec]"
       ]
      },
      {
       "output_type": "stream",
       "stream": "stdout",
       "text": [
        "\r",
        "|####------| 2247/4948  45% [elapsed: 10:28 left: 12:35,  3.58 iters/sec]"
       ]
      },
      {
       "output_type": "stream",
       "stream": "stdout",
       "text": [
        "\r",
        "|####------| 2248/4948  45% [elapsed: 10:29 left: 12:36,  3.57 iters/sec]"
       ]
      },
      {
       "output_type": "stream",
       "stream": "stdout",
       "text": [
        "\r",
        "|####------| 2265/4948  45% [elapsed: 10:31 left: 12:27,  3.59 iters/sec]"
       ]
      },
      {
       "output_type": "stream",
       "stream": "stdout",
       "text": [
        "\r",
        "|####------| 2276/4948  45% [elapsed: 10:32 left: 12:23,  3.60 iters/sec]"
       ]
      },
      {
       "output_type": "stream",
       "stream": "stdout",
       "text": [
        "\r",
        "|####------| 2277/4948  46% [elapsed: 10:34 left: 12:24,  3.59 iters/sec]"
       ]
      },
      {
       "output_type": "stream",
       "stream": "stdout",
       "text": [
        "\r",
        "|####------| 2280/4948  46% [elapsed: 10:36 left: 12:25,  3.58 iters/sec]"
       ]
      },
      {
       "output_type": "stream",
       "stream": "stdout",
       "text": [
        "\r",
        "|####------| 2288/4948  46% [elapsed: 10:38 left: 12:22,  3.58 iters/sec]"
       ]
      },
      {
       "output_type": "stream",
       "stream": "stdout",
       "text": [
        "\r",
        "|####------| 2297/4948  46% [elapsed: 10:40 left: 12:19,  3.59 iters/sec]"
       ]
      },
      {
       "output_type": "stream",
       "stream": "stdout",
       "text": [
        "\r",
        "|####------| 2306/4948  46% [elapsed: 10:41 left: 12:15,  3.59 iters/sec]"
       ]
      },
      {
       "output_type": "stream",
       "stream": "stdout",
       "text": [
        "\r",
        "|####------| 2333/4948  47% [elapsed: 10:43 left: 12:01,  3.63 iters/sec]"
       ]
      },
      {
       "output_type": "stream",
       "stream": "stdout",
       "text": [
        "\r",
        "|####------| 2339/4948  47% [elapsed: 10:44 left: 11:59,  3.63 iters/sec]"
       ]
      },
      {
       "output_type": "stream",
       "stream": "stdout",
       "text": [
        "\r",
        "|####------| 2344/4948  47% [elapsed: 10:46 left: 11:57,  3.63 iters/sec]"
       ]
      },
      {
       "output_type": "stream",
       "stream": "stdout",
       "text": [
        "\r",
        "|####------| 2357/4948  47% [elapsed: 10:47 left: 11:51,  3.64 iters/sec]"
       ]
      },
      {
       "output_type": "stream",
       "stream": "stdout",
       "text": [
        "\r",
        "|####------| 2358/4948  47% [elapsed: 10:49 left: 11:53,  3.63 iters/sec]"
       ]
      },
      {
       "output_type": "stream",
       "stream": "stdout",
       "text": [
        "\r",
        "|####------| 2362/4948  47% [elapsed: 10:51 left: 11:52,  3.63 iters/sec]"
       ]
      },
      {
       "output_type": "stream",
       "stream": "stdout",
       "text": [
        "\r",
        "|####------| 2382/4948  48% [elapsed: 10:52 left: 11:42,  3.65 iters/sec]"
       ]
      },
      {
       "output_type": "stream",
       "stream": "stdout",
       "text": [
        "\r",
        "|####------| 2397/4948  48% [elapsed: 10:54 left: 11:36,  3.66 iters/sec]"
       ]
      },
      {
       "output_type": "stream",
       "stream": "stdout",
       "text": [
        "\r",
        "|####------| 2400/4948  48% [elapsed: 10:55 left: 11:36,  3.66 iters/sec]"
       ]
      },
      {
       "output_type": "stream",
       "stream": "stdout",
       "text": [
        "\r",
        "|####------| 2410/4948  48% [elapsed: 10:57 left: 11:32,  3.67 iters/sec]"
       ]
      },
      {
       "output_type": "stream",
       "stream": "stdout",
       "text": [
        "\r",
        "|####------| 2415/4948  48% [elapsed: 10:58 left: 11:30,  3.67 iters/sec]"
       ]
      },
      {
       "output_type": "stream",
       "stream": "stdout",
       "text": [
        "\r",
        "|####------| 2419/4948  48% [elapsed: 10:59 left: 11:29,  3.67 iters/sec]"
       ]
      },
      {
       "output_type": "stream",
       "stream": "stdout",
       "text": [
        "\r",
        "|####------| 2423/4948  48% [elapsed: 11:01 left: 11:29,  3.66 iters/sec]"
       ]
      },
      {
       "output_type": "stream",
       "stream": "stdout",
       "text": [
        "\r",
        "|####------| 2432/4948  49% [elapsed: 11:04 left: 11:27,  3.66 iters/sec]"
       ]
      },
      {
       "output_type": "stream",
       "stream": "stdout",
       "text": [
        "\r",
        "|####------| 2433/4948  49% [elapsed: 11:07 left: 11:29,  3.65 iters/sec]"
       ]
      },
      {
       "output_type": "stream",
       "stream": "stdout",
       "text": [
        "\r",
        "|####------| 2434/4948  49% [elapsed: 11:08 left: 11:30,  3.64 iters/sec]"
       ]
      },
      {
       "output_type": "stream",
       "stream": "stdout",
       "text": [
        "\r",
        "|####------| 2439/4948  49% [elapsed: 11:09 left: 11:28,  3.64 iters/sec]"
       ]
      },
      {
       "output_type": "stream",
       "stream": "stdout",
       "text": [
        "\r",
        "|####------| 2447/4948  49% [elapsed: 11:10 left: 11:25,  3.65 iters/sec]"
       ]
      },
      {
       "output_type": "stream",
       "stream": "stdout",
       "text": [
        "\r",
        "|####------| 2451/4948  49% [elapsed: 11:12 left: 11:25,  3.64 iters/sec]"
       ]
      },
      {
       "output_type": "stream",
       "stream": "stdout",
       "text": [
        "\r",
        "|####------| 2456/4948  49% [elapsed: 11:14 left: 11:24,  3.64 iters/sec]"
       ]
      },
      {
       "output_type": "stream",
       "stream": "stdout",
       "text": [
        "\r",
        "|####------| 2462/4948  49% [elapsed: 11:16 left: 11:23,  3.64 iters/sec]"
       ]
      },
      {
       "output_type": "stream",
       "stream": "stdout",
       "text": [
        "\r",
        "|####------| 2468/4948  49% [elapsed: 11:20 left: 11:23,  3.63 iters/sec]"
       ]
      },
      {
       "output_type": "stream",
       "stream": "stdout",
       "text": [
        "\r",
        "|#####-----| 2479/4948  50% [elapsed: 11:21 left: 11:19,  3.64 iters/sec]"
       ]
      },
      {
       "output_type": "stream",
       "stream": "stdout",
       "text": [
        "\r",
        "|#####-----| 2492/4948  50% [elapsed: 11:23 left: 11:13,  3.65 iters/sec]"
       ]
      },
      {
       "output_type": "stream",
       "stream": "stdout",
       "text": [
        "\r",
        "|#####-----| 2504/4948  50% [elapsed: 11:24 left: 11:08,  3.66 iters/sec]"
       ]
      },
      {
       "output_type": "stream",
       "stream": "stdout",
       "text": [
        "\r",
        "|#####-----| 2508/4948  50% [elapsed: 11:26 left: 11:07,  3.66 iters/sec]"
       ]
      },
      {
       "output_type": "stream",
       "stream": "stdout",
       "text": [
        "\r",
        "|#####-----| 2509/4948  50% [elapsed: 11:27 left: 11:08,  3.65 iters/sec]"
       ]
      },
      {
       "output_type": "stream",
       "stream": "stdout",
       "text": [
        "\r",
        "|#####-----| 2512/4948  50% [elapsed: 11:28 left: 11:08,  3.65 iters/sec]"
       ]
      },
      {
       "output_type": "stream",
       "stream": "stdout",
       "text": [
        "\r",
        "|#####-----| 2515/4948  50% [elapsed: 11:30 left: 11:08,  3.64 iters/sec]"
       ]
      },
      {
       "output_type": "stream",
       "stream": "stdout",
       "text": [
        "\r",
        "|#####-----| 2519/4948  50% [elapsed: 11:32 left: 11:07,  3.64 iters/sec]"
       ]
      },
      {
       "output_type": "stream",
       "stream": "stdout",
       "text": [
        "\r",
        "|#####-----| 2522/4948  50% [elapsed: 11:33 left: 11:07,  3.63 iters/sec]"
       ]
      },
      {
       "output_type": "stream",
       "stream": "stdout",
       "text": [
        "\r",
        "|#####-----| 2523/4948  50% [elapsed: 11:35 left: 11:08,  3.63 iters/sec]"
       ]
      },
      {
       "output_type": "stream",
       "stream": "stdout",
       "text": [
        "\r",
        "|#####-----| 2524/4948  51% [elapsed: 11:36 left: 11:09,  3.62 iters/sec]"
       ]
      },
      {
       "output_type": "stream",
       "stream": "stdout",
       "text": [
        "\r",
        "|#####-----| 2537/4948  51% [elapsed: 11:38 left: 11:03,  3.63 iters/sec]"
       ]
      },
      {
       "output_type": "stream",
       "stream": "stdout",
       "text": [
        "\r",
        "|#####-----| 2539/4948  51% [elapsed: 11:39 left: 11:03,  3.63 iters/sec]"
       ]
      },
      {
       "output_type": "stream",
       "stream": "stdout",
       "text": [
        "\r",
        "|#####-----| 2542/4948  51% [elapsed: 11:42 left: 11:04,  3.62 iters/sec]"
       ]
      },
      {
       "output_type": "stream",
       "stream": "stdout",
       "text": [
        "\r",
        "|#####-----| 2543/4948  51% [elapsed: 11:45 left: 11:07,  3.60 iters/sec]"
       ]
      },
      {
       "output_type": "stream",
       "stream": "stdout",
       "text": [
        "\r",
        "|#####-----| 2544/4948  51% [elapsed: 11:48 left: 11:09,  3.59 iters/sec]"
       ]
      },
      {
       "output_type": "stream",
       "stream": "stdout",
       "text": [
        "\r",
        "|#####-----| 2545/4948  51% [elapsed: 11:50 left: 11:10,  3.58 iters/sec]"
       ]
      },
      {
       "output_type": "stream",
       "stream": "stdout",
       "text": [
        "\r",
        "|#####-----| 2546/4948  51% [elapsed: 11:54 left: 11:13,  3.57 iters/sec]"
       ]
      },
      {
       "output_type": "stream",
       "stream": "stdout",
       "text": [
        "\r",
        "|#####-----| 2547/4948  51% [elapsed: 11:57 left: 11:16,  3.55 iters/sec]"
       ]
      },
      {
       "output_type": "stream",
       "stream": "stdout",
       "text": [
        "\r",
        "|#####-----| 2548/4948  51% [elapsed: 11:59 left: 11:17,  3.54 iters/sec]"
       ]
      },
      {
       "output_type": "stream",
       "stream": "stdout",
       "text": [
        "\r",
        "|#####-----| 2549/4948  51% [elapsed: 12:02 left: 11:19,  3.53 iters/sec]"
       ]
      },
      {
       "output_type": "stream",
       "stream": "stdout",
       "text": [
        "\r",
        "|#####-----| 2550/4948  51% [elapsed: 12:05 left: 11:22,  3.51 iters/sec]"
       ]
      },
      {
       "output_type": "stream",
       "stream": "stdout",
       "text": [
        "\r",
        "|#####-----| 2551/4948  51% [elapsed: 12:09 left: 11:25,  3.50 iters/sec]"
       ]
      },
      {
       "output_type": "stream",
       "stream": "stdout",
       "text": [
        "\r",
        "|#####-----| 2553/4948  51% [elapsed: 12:12 left: 11:27,  3.48 iters/sec]"
       ]
      },
      {
       "output_type": "stream",
       "stream": "stdout",
       "text": [
        "\r",
        "|#####-----| 2554/4948  51% [elapsed: 12:15 left: 11:29,  3.47 iters/sec]"
       ]
      },
      {
       "output_type": "stream",
       "stream": "stdout",
       "text": [
        "\r",
        "|#####-----| 2555/4948  51% [elapsed: 12:19 left: 11:32,  3.45 iters/sec]"
       ]
      },
      {
       "output_type": "stream",
       "stream": "stdout",
       "text": [
        "\r",
        "|#####-----| 2556/4948  51% [elapsed: 12:23 left: 11:35,  3.44 iters/sec]"
       ]
      },
      {
       "output_type": "stream",
       "stream": "stdout",
       "text": [
        "\r",
        "|#####-----| 2557/4948  51% [elapsed: 12:26 left: 11:37,  3.43 iters/sec]"
       ]
      },
      {
       "output_type": "stream",
       "stream": "stdout",
       "text": [
        "\r",
        "|#####-----| 2559/4948  51% [elapsed: 12:30 left: 11:40,  3.41 iters/sec]"
       ]
      },
      {
       "output_type": "stream",
       "stream": "stdout",
       "text": [
        "\r",
        "|#####-----| 2560/4948  51% [elapsed: 12:34 left: 11:43,  3.39 iters/sec]"
       ]
      },
      {
       "output_type": "stream",
       "stream": "stdout",
       "text": [
        "\r",
        "|#####-----| 2561/4948  51% [elapsed: 12:38 left: 11:46,  3.38 iters/sec]"
       ]
      },
      {
       "output_type": "stream",
       "stream": "stdout",
       "text": [
        "\r",
        "|#####-----| 2563/4948  51% [elapsed: 12:42 left: 11:49,  3.36 iters/sec]"
       ]
      },
      {
       "output_type": "stream",
       "stream": "stdout",
       "text": [
        "\r",
        "|#####-----| 2564/4948  51% [elapsed: 12:46 left: 11:52,  3.34 iters/sec]"
       ]
      },
      {
       "output_type": "stream",
       "stream": "stdout",
       "text": [
        "\r",
        "|#####-----| 2565/4948  51% [elapsed: 12:50 left: 11:55,  3.33 iters/sec]"
       ]
      },
      {
       "output_type": "stream",
       "stream": "stdout",
       "text": [
        "\r",
        "|#####-----| 2568/4948  51% [elapsed: 12:54 left: 11:57,  3.32 iters/sec]"
       ]
      },
      {
       "output_type": "stream",
       "stream": "stdout",
       "text": [
        "\r",
        "|#####-----| 2569/4948  51% [elapsed: 12:58 left: 12:00,  3.30 iters/sec]"
       ]
      },
      {
       "output_type": "stream",
       "stream": "stdout",
       "text": [
        "\r",
        "|#####-----| 2570/4948  51% [elapsed: 13:02 left: 12:03,  3.29 iters/sec]"
       ]
      },
      {
       "output_type": "stream",
       "stream": "stdout",
       "text": [
        "\r",
        "|#####-----| 2571/4948  51% [elapsed: 13:03 left: 12:04,  3.28 iters/sec]"
       ]
      },
      {
       "output_type": "stream",
       "stream": "stdout",
       "text": [
        "\r",
        "|#####-----| 2572/4948  51% [elapsed: 13:06 left: 12:06,  3.27 iters/sec]"
       ]
      },
      {
       "output_type": "stream",
       "stream": "stdout",
       "text": [
        "\r",
        "|#####-----| 2573/4948  52% [elapsed: 13:09 left: 12:08,  3.26 iters/sec]"
       ]
      },
      {
       "output_type": "stream",
       "stream": "stdout",
       "text": [
        "\r",
        "|#####-----| 2574/4948  52% [elapsed: 13:12 left: 12:11,  3.25 iters/sec]"
       ]
      },
      {
       "output_type": "stream",
       "stream": "stdout",
       "text": [
        "\r",
        "|#####-----| 2575/4948  52% [elapsed: 13:16 left: 12:13,  3.23 iters/sec]"
       ]
      },
      {
       "output_type": "stream",
       "stream": "stdout",
       "text": [
        "\r",
        "|#####-----| 2576/4948  52% [elapsed: 13:19 left: 12:16,  3.22 iters/sec]"
       ]
      },
      {
       "output_type": "stream",
       "stream": "stdout",
       "text": [
        "\r",
        "|#####-----| 2577/4948  52% [elapsed: 13:23 left: 12:19,  3.21 iters/sec]"
       ]
      },
      {
       "output_type": "stream",
       "stream": "stdout",
       "text": [
        "\r",
        "|#####-----| 2578/4948  52% [elapsed: 13:27 left: 12:22,  3.19 iters/sec]"
       ]
      },
      {
       "output_type": "stream",
       "stream": "stdout",
       "text": [
        "\r",
        "|#####-----| 2580/4948  52% [elapsed: 13:30 left: 12:24,  3.18 iters/sec]"
       ]
      },
      {
       "output_type": "stream",
       "stream": "stdout",
       "text": [
        "\r",
        "|#####-----| 2581/4948  52% [elapsed: 13:34 left: 12:26,  3.17 iters/sec]"
       ]
      },
      {
       "output_type": "stream",
       "stream": "stdout",
       "text": [
        "\r",
        "|#####-----| 2583/4948  52% [elapsed: 13:37 left: 12:28,  3.16 iters/sec]"
       ]
      },
      {
       "output_type": "stream",
       "stream": "stdout",
       "text": [
        "\r",
        "|#####-----| 2584/4948  52% [elapsed: 13:41 left: 12:31,  3.15 iters/sec]"
       ]
      },
      {
       "output_type": "stream",
       "stream": "stdout",
       "text": [
        "\r",
        "|#####-----| 2585/4948  52% [elapsed: 13:44 left: 12:33,  3.14 iters/sec]"
       ]
      },
      {
       "output_type": "stream",
       "stream": "stdout",
       "text": [
        "\r",
        "|#####-----| 2588/4948  52% [elapsed: 13:48 left: 12:35,  3.13 iters/sec]"
       ]
      },
      {
       "output_type": "stream",
       "stream": "stdout",
       "text": [
        "\r",
        "|#####-----| 2589/4948  52% [elapsed: 13:51 left: 12:37,  3.12 iters/sec]"
       ]
      },
      {
       "output_type": "stream",
       "stream": "stdout",
       "text": [
        "\r",
        "|#####-----| 2590/4948  52% [elapsed: 13:54 left: 12:39,  3.10 iters/sec]"
       ]
      },
      {
       "output_type": "stream",
       "stream": "stdout",
       "text": [
        "\r",
        "|#####-----| 2591/4948  52% [elapsed: 13:58 left: 12:42,  3.09 iters/sec]"
       ]
      },
      {
       "output_type": "stream",
       "stream": "stdout",
       "text": [
        "\r",
        "|#####-----| 2592/4948  52% [elapsed: 13:59 left: 12:43,  3.09 iters/sec]"
       ]
      },
      {
       "output_type": "stream",
       "stream": "stdout",
       "text": [
        "\r",
        "|#####-----| 2593/4948  52% [elapsed: 14:03 left: 12:45,  3.08 iters/sec]"
       ]
      },
      {
       "output_type": "stream",
       "stream": "stdout",
       "text": [
        "\r",
        "|#####-----| 2594/4948  52% [elapsed: 14:04 left: 12:46,  3.07 iters/sec]"
       ]
      },
      {
       "output_type": "stream",
       "stream": "stdout",
       "text": [
        "\r",
        "|#####-----| 2596/4948  52% [elapsed: 14:08 left: 12:48,  3.06 iters/sec]"
       ]
      },
      {
       "output_type": "stream",
       "stream": "stdout",
       "text": [
        "\r",
        "|#####-----| 2597/4948  52% [elapsed: 14:12 left: 12:51,  3.05 iters/sec]"
       ]
      },
      {
       "output_type": "stream",
       "stream": "stdout",
       "text": [
        "\r",
        "|#####-----| 2598/4948  52% [elapsed: 14:16 left: 12:54,  3.03 iters/sec]"
       ]
      },
      {
       "output_type": "stream",
       "stream": "stdout",
       "text": [
        "\r",
        "|#####-----| 2599/4948  52% [elapsed: 14:21 left: 12:58,  3.02 iters/sec]"
       ]
      },
      {
       "output_type": "stream",
       "stream": "stdout",
       "text": [
        "\r",
        "|#####-----| 2601/4948  52% [elapsed: 14:25 left: 13:00,  3.01 iters/sec]"
       ]
      },
      {
       "output_type": "stream",
       "stream": "stdout",
       "text": [
        "\r",
        "|#####-----| 2603/4948  52% [elapsed: 14:29 left: 13:02,  3.00 iters/sec]"
       ]
      },
      {
       "output_type": "stream",
       "stream": "stdout",
       "text": [
        "\r",
        "|#####-----| 2604/4948  52% [elapsed: 14:30 left: 13:03,  2.99 iters/sec]"
       ]
      },
      {
       "output_type": "stream",
       "stream": "stdout",
       "text": [
        "\r",
        "|#####-----| 2605/4948  52% [elapsed: 14:34 left: 13:06,  2.98 iters/sec]"
       ]
      },
      {
       "output_type": "stream",
       "stream": "stdout",
       "text": [
        "\r",
        "|#####-----| 2606/4948  52% [elapsed: 14:37 left: 13:08,  2.97 iters/sec]"
       ]
      },
      {
       "output_type": "stream",
       "stream": "stdout",
       "text": [
        "\r",
        "|#####-----| 2607/4948  52% [elapsed: 14:39 left: 13:09,  2.97 iters/sec]"
       ]
      },
      {
       "output_type": "stream",
       "stream": "stdout",
       "text": [
        "\r",
        "|#####-----| 2608/4948  52% [elapsed: 14:43 left: 13:12,  2.95 iters/sec]"
       ]
      },
      {
       "output_type": "stream",
       "stream": "stdout",
       "text": [
        "\r",
        "|#####-----| 2609/4948  52% [elapsed: 14:48 left: 13:16,  2.94 iters/sec]"
       ]
      },
      {
       "output_type": "stream",
       "stream": "stdout",
       "text": [
        "\r",
        "|#####-----| 2610/4948  52% [elapsed: 14:50 left: 13:18,  2.93 iters/sec]"
       ]
      },
      {
       "output_type": "stream",
       "stream": "stdout",
       "text": [
        "\r",
        "|#####-----| 2611/4948  52% [elapsed: 14:54 left: 13:20,  2.92 iters/sec]"
       ]
      },
      {
       "output_type": "stream",
       "stream": "stdout",
       "text": [
        "\r",
        "|#####-----| 2612/4948  52% [elapsed: 14:59 left: 13:24,  2.90 iters/sec]"
       ]
      },
      {
       "output_type": "stream",
       "stream": "stdout",
       "text": [
        "\r",
        "|#####-----| 2613/4948  52% [elapsed: 15:04 left: 13:28,  2.89 iters/sec]"
       ]
      },
      {
       "output_type": "stream",
       "stream": "stdout",
       "text": [
        "\r",
        "|#####-----| 2614/4948  52% [elapsed: 15:09 left: 13:31,  2.87 iters/sec]"
       ]
      },
      {
       "output_type": "stream",
       "stream": "stdout",
       "text": [
        "\r",
        "|#####-----| 2615/4948  52% [elapsed: 15:12 left: 13:34,  2.86 iters/sec]"
       ]
      },
      {
       "output_type": "stream",
       "stream": "stdout",
       "text": [
        "\r",
        "|#####-----| 2616/4948  52% [elapsed: 15:16 left: 13:37,  2.85 iters/sec]"
       ]
      },
      {
       "output_type": "stream",
       "stream": "stdout",
       "text": [
        "\r",
        "|#####-----| 2617/4948  52% [elapsed: 15:21 left: 13:40,  2.84 iters/sec]"
       ]
      },
      {
       "output_type": "stream",
       "stream": "stdout",
       "text": [
        "\r",
        "|#####-----| 2618/4948  52% [elapsed: 15:25 left: 13:43,  2.83 iters/sec]"
       ]
      },
      {
       "output_type": "stream",
       "stream": "stdout",
       "text": [
        "\r",
        "|#####-----| 2619/4948  52% [elapsed: 15:30 left: 13:47,  2.82 iters/sec]"
       ]
      },
      {
       "output_type": "stream",
       "stream": "stdout",
       "text": [
        "\r",
        "|#####-----| 2621/4948  52% [elapsed: 15:31 left: 13:47,  2.81 iters/sec]"
       ]
      },
      {
       "output_type": "stream",
       "stream": "stdout",
       "text": [
        "\r",
        "|#####-----| 2622/4948  52% [elapsed: 15:36 left: 13:50,  2.80 iters/sec]"
       ]
      },
      {
       "output_type": "stream",
       "stream": "stdout",
       "text": [
        "\r",
        "|#####-----| 2623/4948  53% [elapsed: 15:40 left: 13:53,  2.79 iters/sec]"
       ]
      },
      {
       "output_type": "stream",
       "stream": "stdout",
       "text": [
        "\r",
        "|#####-----| 2624/4948  53% [elapsed: 15:44 left: 13:56,  2.78 iters/sec]"
       ]
      },
      {
       "output_type": "stream",
       "stream": "stdout",
       "text": [
        "\r",
        "|#####-----| 2625/4948  53% [elapsed: 15:48 left: 13:59,  2.77 iters/sec]"
       ]
      },
      {
       "output_type": "stream",
       "stream": "stdout",
       "text": [
        "\r",
        "|#####-----| 2626/4948  53% [elapsed: 15:52 left: 14:02,  2.76 iters/sec]"
       ]
      },
      {
       "output_type": "stream",
       "stream": "stdout",
       "text": [
        "\r",
        "|#####-----| 2627/4948  53% [elapsed: 15:55 left: 14:04,  2.75 iters/sec]"
       ]
      },
      {
       "output_type": "stream",
       "stream": "stdout",
       "text": [
        "\r",
        "|#####-----| 2628/4948  53% [elapsed: 15:58 left: 14:06,  2.74 iters/sec]"
       ]
      },
      {
       "output_type": "stream",
       "stream": "stdout",
       "text": [
        "\r",
        "|#####-----| 2629/4948  53% [elapsed: 16:02 left: 14:08,  2.73 iters/sec]"
       ]
      },
      {
       "output_type": "stream",
       "stream": "stdout",
       "text": [
        "\r",
        "|#####-----| 2630/4948  53% [elapsed: 16:03 left: 14:09,  2.73 iters/sec]"
       ]
      },
      {
       "output_type": "stream",
       "stream": "stdout",
       "text": [
        "\r",
        "|#####-----| 2631/4948  53% [elapsed: 16:07 left: 14:11,  2.72 iters/sec]"
       ]
      },
      {
       "output_type": "stream",
       "stream": "stdout",
       "text": [
        "\r",
        "|#####-----| 2632/4948  53% [elapsed: 16:10 left: 14:14,  2.71 iters/sec]"
       ]
      },
      {
       "output_type": "stream",
       "stream": "stdout",
       "text": [
        "\r",
        "|#####-----| 2633/4948  53% [elapsed: 16:14 left: 14:16,  2.70 iters/sec]"
       ]
      },
      {
       "output_type": "stream",
       "stream": "stdout",
       "text": [
        "\r",
        "|#####-----| 2634/4948  53% [elapsed: 16:18 left: 14:19,  2.69 iters/sec]"
       ]
      },
      {
       "output_type": "stream",
       "stream": "stdout",
       "text": [
        "\r",
        "|#####-----| 2635/4948  53% [elapsed: 16:22 left: 14:22,  2.68 iters/sec]"
       ]
      },
      {
       "output_type": "stream",
       "stream": "stdout",
       "text": [
        "\r",
        "|#####-----| 2636/4948  53% [elapsed: 16:26 left: 14:25,  2.67 iters/sec]"
       ]
      },
      {
       "output_type": "stream",
       "stream": "stdout",
       "text": [
        "\r",
        "|#####-----| 2637/4948  53% [elapsed: 16:30 left: 14:28,  2.66 iters/sec]"
       ]
      },
      {
       "output_type": "stream",
       "stream": "stdout",
       "text": [
        "\r",
        "|#####-----| 2638/4948  53% [elapsed: 16:34 left: 14:30,  2.65 iters/sec]"
       ]
      },
      {
       "output_type": "stream",
       "stream": "stdout",
       "text": [
        "\r",
        "|#####-----| 2639/4948  53% [elapsed: 16:40 left: 14:35,  2.64 iters/sec]"
       ]
      },
      {
       "output_type": "stream",
       "stream": "stdout",
       "text": [
        "\r",
        "|#####-----| 2640/4948  53% [elapsed: 16:44 left: 14:38,  2.63 iters/sec]"
       ]
      },
      {
       "output_type": "stream",
       "stream": "stdout",
       "text": [
        "\r",
        "|#####-----| 2641/4948  53% [elapsed: 16:48 left: 14:40,  2.62 iters/sec]"
       ]
      },
      {
       "output_type": "stream",
       "stream": "stdout",
       "text": [
        "\r",
        "|#####-----| 2642/4948  53% [elapsed: 16:54 left: 14:45,  2.60 iters/sec]"
       ]
      },
      {
       "output_type": "stream",
       "stream": "stdout",
       "text": [
        "\r",
        "|#####-----| 2643/4948  53% [elapsed: 16:58 left: 14:47,  2.60 iters/sec]"
       ]
      },
      {
       "output_type": "stream",
       "stream": "stdout",
       "text": [
        "\r",
        "|#####-----| 2644/4948  53% [elapsed: 17:01 left: 14:50,  2.59 iters/sec]"
       ]
      },
      {
       "output_type": "stream",
       "stream": "stdout",
       "text": [
        "\r",
        "|#####-----| 2645/4948  53% [elapsed: 17:05 left: 14:53,  2.58 iters/sec]"
       ]
      },
      {
       "output_type": "stream",
       "stream": "stdout",
       "text": [
        "\r",
        "|#####-----| 2646/4948  53% [elapsed: 17:09 left: 14:55,  2.57 iters/sec]"
       ]
      },
      {
       "output_type": "stream",
       "stream": "stdout",
       "text": [
        "\r",
        "|#####-----| 2647/4948  53% [elapsed: 17:13 left: 14:58,  2.56 iters/sec]"
       ]
      },
      {
       "output_type": "stream",
       "stream": "stdout",
       "text": [
        "\r",
        "|#####-----| 2648/4948  53% [elapsed: 17:16 left: 15:00,  2.55 iters/sec]"
       ]
      },
      {
       "output_type": "stream",
       "stream": "stdout",
       "text": [
        "\r",
        "|#####-----| 2649/4948  53% [elapsed: 17:20 left: 15:02,  2.55 iters/sec]"
       ]
      },
      {
       "output_type": "stream",
       "stream": "stdout",
       "text": [
        "\r",
        "|#####-----| 2650/4948  53% [elapsed: 17:23 left: 15:04,  2.54 iters/sec]"
       ]
      },
      {
       "output_type": "stream",
       "stream": "stdout",
       "text": [
        "\r",
        "|#####-----| 2651/4948  53% [elapsed: 17:28 left: 15:08,  2.53 iters/sec]"
       ]
      },
      {
       "output_type": "stream",
       "stream": "stdout",
       "text": [
        "\r",
        "|#####-----| 2652/4948  53% [elapsed: 17:32 left: 15:11,  2.52 iters/sec]"
       ]
      },
      {
       "output_type": "stream",
       "stream": "stdout",
       "text": [
        "\r",
        "|#####-----| 2653/4948  53% [elapsed: 17:36 left: 15:13,  2.51 iters/sec]"
       ]
      },
      {
       "output_type": "stream",
       "stream": "stdout",
       "text": [
        "\r",
        "|#####-----| 2654/4948  53% [elapsed: 17:39 left: 15:16,  2.50 iters/sec]"
       ]
      },
      {
       "output_type": "stream",
       "stream": "stdout",
       "text": [
        "\r",
        "|#####-----| 2655/4948  53% [elapsed: 17:42 left: 15:17,  2.50 iters/sec]"
       ]
      },
      {
       "output_type": "stream",
       "stream": "stdout",
       "text": [
        "\r",
        "|#####-----| 2656/4948  53% [elapsed: 17:46 left: 15:19,  2.49 iters/sec]"
       ]
      },
      {
       "output_type": "stream",
       "stream": "stdout",
       "text": [
        "\r",
        "|#####-----| 2657/4948  53% [elapsed: 17:48 left: 15:20,  2.49 iters/sec]"
       ]
      },
      {
       "output_type": "stream",
       "stream": "stdout",
       "text": [
        "\r",
        "|#####-----| 2658/4948  53% [elapsed: 17:51 left: 15:23,  2.48 iters/sec]"
       ]
      },
      {
       "output_type": "stream",
       "stream": "stdout",
       "text": [
        "\r",
        "|#####-----| 2659/4948  53% [elapsed: 17:55 left: 15:25,  2.47 iters/sec]"
       ]
      },
      {
       "output_type": "stream",
       "stream": "stdout",
       "text": [
        "\r",
        "|#####-----| 2662/4948  53% [elapsed: 17:59 left: 15:26,  2.47 iters/sec]"
       ]
      },
      {
       "output_type": "stream",
       "stream": "stdout",
       "text": [
        "\r",
        "|#####-----| 2663/4948  53% [elapsed: 18:02 left: 15:28,  2.46 iters/sec]"
       ]
      },
      {
       "output_type": "stream",
       "stream": "stdout",
       "text": [
        "\r",
        "|#####-----| 2664/4948  53% [elapsed: 18:03 left: 15:29,  2.46 iters/sec]"
       ]
      },
      {
       "output_type": "stream",
       "stream": "stdout",
       "text": [
        "\r",
        "|#####-----| 2665/4948  53% [elapsed: 18:06 left: 15:31,  2.45 iters/sec]"
       ]
      },
      {
       "output_type": "stream",
       "stream": "stdout",
       "text": [
        "\r",
        "|#####-----| 2666/4948  53% [elapsed: 18:10 left: 15:33,  2.44 iters/sec]"
       ]
      },
      {
       "output_type": "stream",
       "stream": "stdout",
       "text": [
        "\r",
        "|#####-----| 2668/4948  53% [elapsed: 18:14 left: 15:35,  2.44 iters/sec]"
       ]
      },
      {
       "output_type": "stream",
       "stream": "stdout",
       "text": [
        "\r",
        "|#####-----| 2669/4948  53% [elapsed: 18:18 left: 15:38,  2.43 iters/sec]"
       ]
      },
      {
       "output_type": "stream",
       "stream": "stdout",
       "text": [
        "\r",
        "|#####-----| 2671/4948  53% [elapsed: 18:20 left: 15:38,  2.43 iters/sec]"
       ]
      },
      {
       "output_type": "stream",
       "stream": "stdout",
       "text": [
        "\r",
        "|#####-----| 2672/4948  54% [elapsed: 18:23 left: 15:39,  2.42 iters/sec]"
       ]
      },
      {
       "output_type": "stream",
       "stream": "stdout",
       "text": [
        "\r",
        "|#####-----| 2673/4948  54% [elapsed: 18:27 left: 15:42,  2.41 iters/sec]"
       ]
      },
      {
       "output_type": "stream",
       "stream": "stdout",
       "text": [
        "\r",
        "|#####-----| 2674/4948  54% [elapsed: 18:30 left: 15:44,  2.41 iters/sec]"
       ]
      },
      {
       "output_type": "stream",
       "stream": "stdout",
       "text": [
        "\r",
        "|#####-----| 2675/4948  54% [elapsed: 18:33 left: 15:46,  2.40 iters/sec]"
       ]
      },
      {
       "output_type": "stream",
       "stream": "stdout",
       "text": [
        "\r",
        "|#####-----| 2677/4948  54% [elapsed: 18:35 left: 15:46,  2.40 iters/sec]"
       ]
      },
      {
       "output_type": "stream",
       "stream": "stdout",
       "text": [
        "\r",
        "|#####-----| 2678/4948  54% [elapsed: 18:39 left: 15:48,  2.39 iters/sec]"
       ]
      },
      {
       "output_type": "stream",
       "stream": "stdout",
       "text": [
        "\r",
        "|#####-----| 2679/4948  54% [elapsed: 18:43 left: 15:51,  2.39 iters/sec]"
       ]
      },
      {
       "output_type": "stream",
       "stream": "stdout",
       "text": [
        "\r",
        "|#####-----| 2680/4948  54% [elapsed: 18:46 left: 15:53,  2.38 iters/sec]"
       ]
      },
      {
       "output_type": "stream",
       "stream": "stdout",
       "text": [
        "\r",
        "|#####-----| 2681/4948  54% [elapsed: 18:48 left: 15:54,  2.38 iters/sec]"
       ]
      },
      {
       "output_type": "stream",
       "stream": "stdout",
       "text": [
        "\r",
        "|#####-----| 2682/4948  54% [elapsed: 18:49 left: 15:54,  2.37 iters/sec]"
       ]
      },
      {
       "output_type": "stream",
       "stream": "stdout",
       "text": [
        "\r",
        "|#####-----| 2683/4948  54% [elapsed: 18:51 left: 15:54,  2.37 iters/sec]"
       ]
      },
      {
       "output_type": "stream",
       "stream": "stdout",
       "text": [
        "\r",
        "|#####-----| 2684/4948  54% [elapsed: 18:54 left: 15:57,  2.37 iters/sec]"
       ]
      },
      {
       "output_type": "stream",
       "stream": "stdout",
       "text": [
        "\r",
        "|#####-----| 2685/4948  54% [elapsed: 18:58 left: 15:59,  2.36 iters/sec]"
       ]
      },
      {
       "output_type": "stream",
       "stream": "stdout",
       "text": [
        "\r",
        "|#####-----| 2686/4948  54% [elapsed: 19:02 left: 16:01,  2.35 iters/sec]"
       ]
      },
      {
       "output_type": "stream",
       "stream": "stdout",
       "text": [
        "\r",
        "|#####-----| 2687/4948  54% [elapsed: 19:06 left: 16:05,  2.34 iters/sec]"
       ]
      },
      {
       "output_type": "stream",
       "stream": "stdout",
       "text": [
        "\r",
        "|#####-----| 2688/4948  54% [elapsed: 19:11 left: 16:08,  2.33 iters/sec]"
       ]
      },
      {
       "output_type": "stream",
       "stream": "stdout",
       "text": [
        "\r",
        "|#####-----| 2689/4948  54% [elapsed: 19:15 left: 16:10,  2.33 iters/sec]"
       ]
      },
      {
       "output_type": "stream",
       "stream": "stdout",
       "text": [
        "\r",
        "|#####-----| 2690/4948  54% [elapsed: 19:18 left: 16:12,  2.32 iters/sec]"
       ]
      },
      {
       "output_type": "stream",
       "stream": "stdout",
       "text": [
        "\r",
        "|#####-----| 2691/4948  54% [elapsed: 19:22 left: 16:15,  2.31 iters/sec]"
       ]
      },
      {
       "output_type": "stream",
       "stream": "stdout",
       "text": [
        "\r",
        "|#####-----| 2692/4948  54% [elapsed: 19:24 left: 16:15,  2.31 iters/sec]"
       ]
      },
      {
       "output_type": "stream",
       "stream": "stdout",
       "text": [
        "\r",
        "|#####-----| 2693/4948  54% [elapsed: 19:27 left: 16:17,  2.31 iters/sec]"
       ]
      },
      {
       "output_type": "stream",
       "stream": "stdout",
       "text": [
        "\r",
        "|#####-----| 2694/4948  54% [elapsed: 19:31 left: 16:20,  2.30 iters/sec]"
       ]
      },
      {
       "output_type": "stream",
       "stream": "stdout",
       "text": [
        "\r",
        "|#####-----| 2696/4948  54% [elapsed: 19:35 left: 16:22,  2.29 iters/sec]"
       ]
      },
      {
       "output_type": "stream",
       "stream": "stdout",
       "text": [
        "\r",
        "|#####-----| 2697/4948  54% [elapsed: 19:39 left: 16:24,  2.29 iters/sec]"
       ]
      },
      {
       "output_type": "stream",
       "stream": "stdout",
       "text": [
        "\r",
        "|#####-----| 2699/4948  54% [elapsed: 19:43 left: 16:26,  2.28 iters/sec]"
       ]
      },
      {
       "output_type": "stream",
       "stream": "stdout",
       "text": [
        "\r",
        "|#####-----| 2700/4948  54% [elapsed: 19:47 left: 16:28,  2.27 iters/sec]"
       ]
      },
      {
       "output_type": "stream",
       "stream": "stdout",
       "text": [
        "\r",
        "|#####-----| 2701/4948  54% [elapsed: 19:48 left: 16:29,  2.27 iters/sec]"
       ]
      },
      {
       "output_type": "stream",
       "stream": "stdout",
       "text": [
        "\r",
        "|#####-----| 2702/4948  54% [elapsed: 19:53 left: 16:32,  2.26 iters/sec]"
       ]
      },
      {
       "output_type": "stream",
       "stream": "stdout",
       "text": [
        "\r",
        "|#####-----| 2703/4948  54% [elapsed: 19:58 left: 16:35,  2.25 iters/sec]"
       ]
      },
      {
       "output_type": "stream",
       "stream": "stdout",
       "text": [
        "\r",
        "|#####-----| 2704/4948  54% [elapsed: 20:00 left: 16:36,  2.25 iters/sec]"
       ]
      },
      {
       "output_type": "stream",
       "stream": "stdout",
       "text": [
        "\r",
        "|#####-----| 2705/4948  54% [elapsed: 20:03 left: 16:38,  2.25 iters/sec]"
       ]
      },
      {
       "output_type": "stream",
       "stream": "stdout",
       "text": [
        "\r",
        "|#####-----| 2706/4948  54% [elapsed: 20:06 left: 16:39,  2.24 iters/sec]"
       ]
      },
      {
       "output_type": "stream",
       "stream": "stdout",
       "text": [
        "\r",
        "|#####-----| 2707/4948  54% [elapsed: 20:10 left: 16:41,  2.24 iters/sec]"
       ]
      },
      {
       "output_type": "stream",
       "stream": "stdout",
       "text": [
        "\r",
        "|#####-----| 2709/4948  54% [elapsed: 20:15 left: 16:44,  2.23 iters/sec]"
       ]
      },
      {
       "output_type": "stream",
       "stream": "stdout",
       "text": [
        "\r",
        "|#####-----| 2710/4948  54% [elapsed: 20:19 left: 16:46,  2.22 iters/sec]"
       ]
      },
      {
       "output_type": "stream",
       "stream": "stdout",
       "text": [
        "\r",
        "|#####-----| 2711/4948  54% [elapsed: 20:22 left: 16:48,  2.22 iters/sec]"
       ]
      },
      {
       "output_type": "stream",
       "stream": "stdout",
       "text": [
        "\r",
        "|#####-----| 2712/4948  54% [elapsed: 20:24 left: 16:49,  2.22 iters/sec]"
       ]
      },
      {
       "output_type": "stream",
       "stream": "stdout",
       "text": [
        "\r",
        "|#####-----| 2713/4948  54% [elapsed: 20:28 left: 16:51,  2.21 iters/sec]"
       ]
      },
      {
       "output_type": "stream",
       "stream": "stdout",
       "text": [
        "\r",
        "|#####-----| 2714/4948  54% [elapsed: 20:32 left: 16:54,  2.20 iters/sec]"
       ]
      },
      {
       "output_type": "stream",
       "stream": "stdout",
       "text": [
        "\r",
        "|#####-----| 2715/4948  54% [elapsed: 20:35 left: 16:56,  2.20 iters/sec]"
       ]
      },
      {
       "output_type": "stream",
       "stream": "stdout",
       "text": [
        "\r",
        "|#####-----| 2716/4948  54% [elapsed: 20:40 left: 16:59,  2.19 iters/sec]"
       ]
      },
      {
       "output_type": "stream",
       "stream": "stdout",
       "text": [
        "\r",
        "|#####-----| 2717/4948  54% [elapsed: 20:41 left: 16:59,  2.19 iters/sec]"
       ]
      },
      {
       "output_type": "stream",
       "stream": "stdout",
       "text": [
        "\r",
        "|#####-----| 2718/4948  54% [elapsed: 20:47 left: 17:03,  2.18 iters/sec]"
       ]
      },
      {
       "output_type": "stream",
       "stream": "stdout",
       "text": [
        "\r",
        "|#####-----| 2720/4948  54% [elapsed: 20:51 left: 17:04,  2.17 iters/sec]"
       ]
      },
      {
       "output_type": "stream",
       "stream": "stdout",
       "text": [
        "\r",
        "|#####-----| 2721/4948  54% [elapsed: 20:51 left: 17:04,  2.17 iters/sec]"
       ]
      },
      {
       "output_type": "stream",
       "stream": "stdout",
       "text": [
        "\r",
        "|#####-----| 2722/4948  55% [elapsed: 20:54 left: 17:06,  2.17 iters/sec]"
       ]
      },
      {
       "output_type": "stream",
       "stream": "stdout",
       "text": [
        "\r",
        "|#####-----| 2723/4948  55% [elapsed: 20:58 left: 17:08,  2.16 iters/sec]"
       ]
      },
      {
       "output_type": "stream",
       "stream": "stdout",
       "text": [
        "\r",
        "|#####-----| 2724/4948  55% [elapsed: 21:01 left: 17:10,  2.16 iters/sec]"
       ]
      },
      {
       "output_type": "stream",
       "stream": "stdout",
       "text": [
        "\r",
        "|#####-----| 2725/4948  55% [elapsed: 21:05 left: 17:12,  2.15 iters/sec]"
       ]
      },
      {
       "output_type": "stream",
       "stream": "stdout",
       "text": [
        "\r",
        "|#####-----| 2726/4948  55% [elapsed: 21:08 left: 17:14,  2.15 iters/sec]"
       ]
      },
      {
       "output_type": "stream",
       "stream": "stdout",
       "text": [
        "\r",
        "|#####-----| 2727/4948  55% [elapsed: 21:12 left: 17:16,  2.14 iters/sec]"
       ]
      },
      {
       "output_type": "stream",
       "stream": "stdout",
       "text": [
        "\r",
        "|#####-----| 2728/4948  55% [elapsed: 21:15 left: 17:17,  2.14 iters/sec]"
       ]
      },
      {
       "output_type": "stream",
       "stream": "stdout",
       "text": [
        "\r",
        "|#####-----| 2729/4948  55% [elapsed: 21:18 left: 17:19,  2.13 iters/sec]"
       ]
      },
      {
       "output_type": "stream",
       "stream": "stdout",
       "text": [
        "\r",
        "|#####-----| 2730/4948  55% [elapsed: 21:22 left: 17:22,  2.13 iters/sec]"
       ]
      },
      {
       "output_type": "stream",
       "stream": "stdout",
       "text": [
        "\r",
        "|#####-----| 2731/4948  55% [elapsed: 21:25 left: 17:23,  2.12 iters/sec]"
       ]
      },
      {
       "output_type": "stream",
       "stream": "stdout",
       "text": [
        "\r",
        "|#####-----| 2732/4948  55% [elapsed: 21:30 left: 17:26,  2.12 iters/sec]"
       ]
      },
      {
       "output_type": "stream",
       "stream": "stdout",
       "text": [
        "\r",
        "|#####-----| 2733/4948  55% [elapsed: 21:34 left: 17:29,  2.11 iters/sec]"
       ]
      },
      {
       "output_type": "stream",
       "stream": "stdout",
       "text": [
        "\r",
        "|#####-----| 2735/4948  55% [elapsed: 21:37 left: 17:30,  2.11 iters/sec]"
       ]
      },
      {
       "output_type": "stream",
       "stream": "stdout",
       "text": [
        "\r",
        "|#####-----| 2737/4948  55% [elapsed: 21:40 left: 17:30,  2.11 iters/sec]"
       ]
      },
      {
       "output_type": "stream",
       "stream": "stdout",
       "text": [
        "\r",
        "|#####-----| 2738/4948  55% [elapsed: 21:45 left: 17:33,  2.10 iters/sec]"
       ]
      },
      {
       "output_type": "stream",
       "stream": "stdout",
       "text": [
        "\r",
        "|#####-----| 2740/4948  55% [elapsed: 21:49 left: 17:34,  2.09 iters/sec]"
       ]
      },
      {
       "output_type": "stream",
       "stream": "stdout",
       "text": [
        "\r",
        "|#####-----| 2741/4948  55% [elapsed: 21:54 left: 17:38,  2.09 iters/sec]"
       ]
      },
      {
       "output_type": "stream",
       "stream": "stdout",
       "text": [
        "\r",
        "|#####-----| 2742/4948  55% [elapsed: 21:55 left: 17:38,  2.08 iters/sec]"
       ]
      },
      {
       "output_type": "stream",
       "stream": "stdout",
       "text": [
        "\r",
        "|#####-----| 2743/4948  55% [elapsed: 21:57 left: 17:38,  2.08 iters/sec]"
       ]
      },
      {
       "output_type": "stream",
       "stream": "stdout",
       "text": [
        "\r",
        "|#####-----| 2744/4948  55% [elapsed: 22:06 left: 17:45,  2.07 iters/sec]"
       ]
      },
      {
       "output_type": "stream",
       "stream": "stdout",
       "text": [
        "\r",
        "|#####-----| 2745/4948  55% [elapsed: 22:09 left: 17:47,  2.06 iters/sec]"
       ]
      },
      {
       "output_type": "stream",
       "stream": "stdout",
       "text": [
        "\r",
        "|#####-----| 2746/4948  55% [elapsed: 22:13 left: 17:49,  2.06 iters/sec]"
       ]
      },
      {
       "output_type": "stream",
       "stream": "stdout",
       "text": [
        "\r",
        "|#####-----| 2747/4948  55% [elapsed: 22:15 left: 17:49,  2.06 iters/sec]"
       ]
      },
      {
       "output_type": "stream",
       "stream": "stdout",
       "text": [
        "\r",
        "|#####-----| 2748/4948  55% [elapsed: 22:16 left: 17:49,  2.06 iters/sec]"
       ]
      },
      {
       "output_type": "stream",
       "stream": "stdout",
       "text": [
        "\r",
        "|#####-----| 2750/4948  55% [elapsed: 22:19 left: 17:50,  2.05 iters/sec]"
       ]
      },
      {
       "output_type": "stream",
       "stream": "stdout",
       "text": [
        "\r",
        "|#####-----| 2752/4948  55% [elapsed: 22:24 left: 17:52,  2.05 iters/sec]"
       ]
      },
      {
       "output_type": "stream",
       "stream": "stdout",
       "text": [
        "\r",
        "|#####-----| 2753/4948  55% [elapsed: 22:28 left: 17:55,  2.04 iters/sec]"
       ]
      },
      {
       "output_type": "stream",
       "stream": "stdout",
       "text": [
        "\r",
        "|#####-----| 2754/4948  55% [elapsed: 22:32 left: 17:57,  2.04 iters/sec]"
       ]
      },
      {
       "output_type": "stream",
       "stream": "stdout",
       "text": [
        "\r",
        "|#####-----| 2755/4948  55% [elapsed: 22:36 left: 18:00,  2.03 iters/sec]"
       ]
      },
      {
       "output_type": "stream",
       "stream": "stdout",
       "text": [
        "\r",
        "|#####-----| 2756/4948  55% [elapsed: 22:38 left: 18:00,  2.03 iters/sec]"
       ]
      },
      {
       "output_type": "stream",
       "stream": "stdout",
       "text": [
        "\r",
        "|#####-----| 2757/4948  55% [elapsed: 22:43 left: 18:03,  2.02 iters/sec]"
       ]
      },
      {
       "output_type": "stream",
       "stream": "stdout",
       "text": [
        "\r",
        "|#####-----| 2758/4948  55% [elapsed: 22:47 left: 18:05,  2.02 iters/sec]"
       ]
      },
      {
       "output_type": "stream",
       "stream": "stdout",
       "text": [
        "\r",
        "|#####-----| 2759/4948  55% [elapsed: 22:52 left: 18:09,  2.01 iters/sec]"
       ]
      },
      {
       "output_type": "stream",
       "stream": "stdout",
       "text": [
        "\r",
        "|#####-----| 2760/4948  55% [elapsed: 22:56 left: 18:10,  2.01 iters/sec]"
       ]
      },
      {
       "output_type": "stream",
       "stream": "stdout",
       "text": [
        "\r",
        "|#####-----| 2761/4948  55% [elapsed: 22:57 left: 18:11,  2.00 iters/sec]"
       ]
      },
      {
       "output_type": "stream",
       "stream": "stdout",
       "text": [
        "\r",
        "|#####-----| 2762/4948  55% [elapsed: 23:00 left: 18:12,  2.00 iters/sec]"
       ]
      },
      {
       "output_type": "stream",
       "stream": "stdout",
       "text": [
        "\r",
        "|#####-----| 2763/4948  55% [elapsed: 23:04 left: 18:14,  2.00 iters/sec]"
       ]
      },
      {
       "output_type": "stream",
       "stream": "stdout",
       "text": [
        "\r",
        "|#####-----| 2764/4948  55% [elapsed: 23:07 left: 18:16,  1.99 iters/sec]"
       ]
      },
      {
       "output_type": "stream",
       "stream": "stdout",
       "text": [
        "\r",
        "|#####-----| 2765/4948  55% [elapsed: 23:10 left: 18:18,  1.99 iters/sec]"
       ]
      },
      {
       "output_type": "stream",
       "stream": "stdout",
       "text": [
        "\r",
        "|#####-----| 2766/4948  55% [elapsed: 23:14 left: 18:20,  1.98 iters/sec]"
       ]
      },
      {
       "output_type": "stream",
       "stream": "stdout",
       "text": [
        "\r",
        "|#####-----| 2767/4948  55% [elapsed: 23:18 left: 18:22,  1.98 iters/sec]"
       ]
      },
      {
       "output_type": "stream",
       "stream": "stdout",
       "text": [
        "\r",
        "|#####-----| 2768/4948  55% [elapsed: 23:22 left: 18:24,  1.97 iters/sec]"
       ]
      },
      {
       "output_type": "stream",
       "stream": "stdout",
       "text": [
        "\r",
        "|#####-----| 2771/4948  56% [elapsed: 23:24 left: 18:23,  1.97 iters/sec]"
       ]
      },
      {
       "output_type": "stream",
       "stream": "stdout",
       "text": [
        "\r",
        "|#####-----| 2772/4948  56% [elapsed: 23:28 left: 18:25,  1.97 iters/sec]"
       ]
      },
      {
       "output_type": "stream",
       "stream": "stdout",
       "text": [
        "\r",
        "|#####-----| 2773/4948  56% [elapsed: 23:31 left: 18:27,  1.96 iters/sec]"
       ]
      },
      {
       "output_type": "stream",
       "stream": "stdout",
       "text": [
        "\r",
        "|#####-----| 2774/4948  56% [elapsed: 23:35 left: 18:29,  1.96 iters/sec]"
       ]
      },
      {
       "output_type": "stream",
       "stream": "stdout",
       "text": [
        "\r",
        "|#####-----| 2775/4948  56% [elapsed: 23:39 left: 18:31,  1.95 iters/sec]"
       ]
      },
      {
       "output_type": "stream",
       "stream": "stdout",
       "text": [
        "\r",
        "|#####-----| 2776/4948  56% [elapsed: 23:43 left: 18:33,  1.95 iters/sec]"
       ]
      },
      {
       "output_type": "stream",
       "stream": "stdout",
       "text": [
        "\r",
        "|#####-----| 2778/4948  56% [elapsed: 23:46 left: 18:34,  1.95 iters/sec]"
       ]
      },
      {
       "output_type": "stream",
       "stream": "stdout",
       "text": [
        "\r",
        "|#####-----| 2779/4948  56% [elapsed: 23:49 left: 18:35,  1.94 iters/sec]"
       ]
      },
      {
       "output_type": "stream",
       "stream": "stdout",
       "text": [
        "\r",
        "|#####-----| 2780/4948  56% [elapsed: 23:54 left: 18:38,  1.94 iters/sec]"
       ]
      },
      {
       "output_type": "stream",
       "stream": "stdout",
       "text": [
        "\r",
        "|#####-----| 2781/4948  56% [elapsed: 23:57 left: 18:40,  1.93 iters/sec]"
       ]
      },
      {
       "output_type": "stream",
       "stream": "stdout",
       "text": [
        "\r",
        "|#####-----| 2782/4948  56% [elapsed: 23:58 left: 18:40,  1.93 iters/sec]"
       ]
      },
      {
       "output_type": "stream",
       "stream": "stdout",
       "text": [
        "\r",
        "|#####-----| 2783/4948  56% [elapsed: 24:04 left: 18:43,  1.93 iters/sec]"
       ]
      },
      {
       "output_type": "stream",
       "stream": "stdout",
       "text": [
        "\r",
        "|#####-----| 2784/4948  56% [elapsed: 24:10 left: 18:47,  1.92 iters/sec]"
       ]
      },
      {
       "output_type": "stream",
       "stream": "stdout",
       "text": [
        "\r",
        "|#####-----| 2785/4948  56% [elapsed: 24:13 left: 18:49,  1.92 iters/sec]"
       ]
      },
      {
       "output_type": "stream",
       "stream": "stdout",
       "text": [
        "\r",
        "|#####-----| 2786/4948  56% [elapsed: 24:17 left: 18:51,  1.91 iters/sec]"
       ]
      },
      {
       "output_type": "stream",
       "stream": "stdout",
       "text": [
        "\r",
        "|#####-----| 2787/4948  56% [elapsed: 24:19 left: 18:51,  1.91 iters/sec]"
       ]
      },
      {
       "output_type": "stream",
       "stream": "stdout",
       "text": [
        "\r",
        "|#####-----| 2788/4948  56% [elapsed: 24:22 left: 18:53,  1.91 iters/sec]"
       ]
      },
      {
       "output_type": "stream",
       "stream": "stdout",
       "text": [
        "\r",
        "|#####-----| 2789/4948  56% [elapsed: 24:26 left: 18:55,  1.90 iters/sec]"
       ]
      },
      {
       "output_type": "stream",
       "stream": "stdout",
       "text": [
        "\r",
        "|#####-----| 2791/4948  56% [elapsed: 24:30 left: 18:56,  1.90 iters/sec]"
       ]
      },
      {
       "output_type": "stream",
       "stream": "stdout",
       "text": [
        "\r",
        "|#####-----| 2792/4948  56% [elapsed: 24:34 left: 18:58,  1.89 iters/sec]"
       ]
      },
      {
       "output_type": "stream",
       "stream": "stdout",
       "text": [
        "\r",
        "|#####-----| 2793/4948  56% [elapsed: 24:38 left: 19:00,  1.89 iters/sec]"
       ]
      },
      {
       "output_type": "stream",
       "stream": "stdout",
       "text": [
        "\r",
        "|#####-----| 2794/4948  56% [elapsed: 24:41 left: 19:02,  1.89 iters/sec]"
       ]
      },
      {
       "output_type": "stream",
       "stream": "stdout",
       "text": [
        "\r",
        "|#####-----| 2795/4948  56% [elapsed: 24:44 left: 19:03,  1.88 iters/sec]"
       ]
      },
      {
       "output_type": "stream",
       "stream": "stdout",
       "text": [
        "\r",
        "|#####-----| 2796/4948  56% [elapsed: 24:48 left: 19:05,  1.88 iters/sec]"
       ]
      },
      {
       "output_type": "stream",
       "stream": "stdout",
       "text": [
        "\r",
        "|#####-----| 2797/4948  56% [elapsed: 24:51 left: 19:07,  1.87 iters/sec]"
       ]
      },
      {
       "output_type": "stream",
       "stream": "stdout",
       "text": [
        "\r",
        "|#####-----| 2798/4948  56% [elapsed: 24:55 left: 19:09,  1.87 iters/sec]"
       ]
      },
      {
       "output_type": "stream",
       "stream": "stdout",
       "text": [
        "\r",
        "|#####-----| 2799/4948  56% [elapsed: 24:59 left: 19:11,  1.87 iters/sec]"
       ]
      },
      {
       "output_type": "stream",
       "stream": "stdout",
       "text": [
        "\r",
        "|#####-----| 2800/4948  56% [elapsed: 25:04 left: 19:13,  1.86 iters/sec]"
       ]
      },
      {
       "output_type": "stream",
       "stream": "stdout",
       "text": [
        "\r",
        "|#####-----| 2801/4948  56% [elapsed: 25:08 left: 19:15,  1.86 iters/sec]"
       ]
      },
      {
       "output_type": "stream",
       "stream": "stdout",
       "text": [
        "\r",
        "|#####-----| 2802/4948  56% [elapsed: 25:12 left: 19:18,  1.85 iters/sec]"
       ]
      },
      {
       "output_type": "stream",
       "stream": "stdout",
       "text": [
        "\r",
        "|#####-----| 2803/4948  56% [elapsed: 25:16 left: 19:20,  1.85 iters/sec]"
       ]
      },
      {
       "output_type": "stream",
       "stream": "stdout",
       "text": [
        "\r",
        "|#####-----| 2804/4948  56% [elapsed: 25:20 left: 19:22,  1.84 iters/sec]"
       ]
      },
      {
       "output_type": "stream",
       "stream": "stdout",
       "text": [
        "\r",
        "|#####-----| 2806/4948  56% [elapsed: 25:23 left: 19:23,  1.84 iters/sec]"
       ]
      },
      {
       "output_type": "stream",
       "stream": "stdout",
       "text": [
        "\r",
        "|#####-----| 2807/4948  56% [elapsed: 25:25 left: 19:23,  1.84 iters/sec]"
       ]
      },
      {
       "output_type": "stream",
       "stream": "stdout",
       "text": [
        "\r",
        "|#####-----| 2808/4948  56% [elapsed: 25:28 left: 19:25,  1.84 iters/sec]"
       ]
      },
      {
       "output_type": "stream",
       "stream": "stdout",
       "text": [
        "\r",
        "|#####-----| 2809/4948  56% [elapsed: 25:32 left: 19:27,  1.83 iters/sec]"
       ]
      },
      {
       "output_type": "stream",
       "stream": "stdout",
       "text": [
        "\r",
        "|#####-----| 2810/4948  56% [elapsed: 25:36 left: 19:29,  1.83 iters/sec]"
       ]
      },
      {
       "output_type": "stream",
       "stream": "stdout",
       "text": [
        "\r",
        "|#####-----| 2812/4948  56% [elapsed: 25:40 left: 19:30,  1.83 iters/sec]"
       ]
      },
      {
       "output_type": "stream",
       "stream": "stdout",
       "text": [
        "\r",
        "|#####-----| 2813/4948  56% [elapsed: 25:43 left: 19:31,  1.82 iters/sec]"
       ]
      },
      {
       "output_type": "stream",
       "stream": "stdout",
       "text": [
        "\r",
        "|#####-----| 2814/4948  56% [elapsed: 25:47 left: 19:33,  1.82 iters/sec]"
       ]
      },
      {
       "output_type": "stream",
       "stream": "stdout",
       "text": [
        "\r",
        "|#####-----| 2815/4948  56% [elapsed: 25:50 left: 19:35,  1.82 iters/sec]"
       ]
      },
      {
       "output_type": "stream",
       "stream": "stdout",
       "text": [
        "\r",
        "|#####-----| 2817/4948  56% [elapsed: 25:53 left: 19:35,  1.81 iters/sec]"
       ]
      },
      {
       "output_type": "stream",
       "stream": "stdout",
       "text": [
        "\r",
        "|#####-----| 2818/4948  56% [elapsed: 25:57 left: 19:37,  1.81 iters/sec]"
       ]
      },
      {
       "output_type": "stream",
       "stream": "stdout",
       "text": [
        "\r",
        "|#####-----| 2819/4948  56% [elapsed: 25:58 left: 19:37,  1.81 iters/sec]"
       ]
      },
      {
       "output_type": "stream",
       "stream": "stdout",
       "text": [
        "\r",
        "|#####-----| 2820/4948  56% [elapsed: 26:01 left: 19:38,  1.81 iters/sec]"
       ]
      },
      {
       "output_type": "stream",
       "stream": "stdout",
       "text": [
        "\r",
        "|#####-----| 2822/4948  57% [elapsed: 26:05 left: 19:39,  1.80 iters/sec]"
       ]
      },
      {
       "output_type": "stream",
       "stream": "stdout",
       "text": [
        "\r",
        "|#####-----| 2823/4948  57% [elapsed: 26:08 left: 19:40,  1.80 iters/sec]"
       ]
      },
      {
       "output_type": "stream",
       "stream": "stdout",
       "text": [
        "\r",
        "|#####-----| 2824/4948  57% [elapsed: 26:12 left: 19:42,  1.80 iters/sec]"
       ]
      },
      {
       "output_type": "stream",
       "stream": "stdout",
       "text": [
        "\r",
        "|#####-----| 2825/4948  57% [elapsed: 26:15 left: 19:44,  1.79 iters/sec]"
       ]
      },
      {
       "output_type": "stream",
       "stream": "stdout",
       "text": [
        "\r",
        "|#####-----| 2827/4948  57% [elapsed: 26:18 left: 19:44,  1.79 iters/sec]"
       ]
      },
      {
       "output_type": "stream",
       "stream": "stdout",
       "text": [
        "\r",
        "|#####-----| 2828/4948  57% [elapsed: 26:22 left: 19:45,  1.79 iters/sec]"
       ]
      },
      {
       "output_type": "stream",
       "stream": "stdout",
       "text": [
        "\r",
        "|#####-----| 2829/4948  57% [elapsed: 26:25 left: 19:47,  1.78 iters/sec]"
       ]
      },
      {
       "output_type": "stream",
       "stream": "stdout",
       "text": [
        "\r",
        "|#####-----| 2830/4948  57% [elapsed: 26:30 left: 19:50,  1.78 iters/sec]"
       ]
      },
      {
       "output_type": "stream",
       "stream": "stdout",
       "text": [
        "\r",
        "|#####-----| 2831/4948  57% [elapsed: 26:34 left: 19:52,  1.78 iters/sec]"
       ]
      },
      {
       "output_type": "stream",
       "stream": "stdout",
       "text": [
        "\r",
        "|#####-----| 2832/4948  57% [elapsed: 26:41 left: 19:56,  1.77 iters/sec]"
       ]
      },
      {
       "output_type": "stream",
       "stream": "stdout",
       "text": [
        "\r",
        "|#####-----| 2833/4948  57% [elapsed: 26:45 left: 19:58,  1.76 iters/sec]"
       ]
      },
      {
       "output_type": "stream",
       "stream": "stdout",
       "text": [
        "\r",
        "|#####-----| 2834/4948  57% [elapsed: 26:49 left: 20:00,  1.76 iters/sec]"
       ]
      },
      {
       "output_type": "stream",
       "stream": "stdout",
       "text": [
        "\r",
        "|#####-----| 2836/4948  57% [elapsed: 26:51 left: 20:00,  1.76 iters/sec]"
       ]
      },
      {
       "output_type": "stream",
       "stream": "stdout",
       "text": [
        "\r",
        "|#####-----| 2837/4948  57% [elapsed: 26:55 left: 20:02,  1.76 iters/sec]"
       ]
      },
      {
       "output_type": "stream",
       "stream": "stdout",
       "text": [
        "\r",
        "|#####-----| 2838/4948  57% [elapsed: 26:59 left: 20:04,  1.75 iters/sec]"
       ]
      },
      {
       "output_type": "stream",
       "stream": "stdout",
       "text": [
        "\r",
        "|#####-----| 2839/4948  57% [elapsed: 27:03 left: 20:05,  1.75 iters/sec]"
       ]
      },
      {
       "output_type": "stream",
       "stream": "stdout",
       "text": [
        "\r",
        "|#####-----| 2840/4948  57% [elapsed: 27:04 left: 20:06,  1.75 iters/sec]"
       ]
      },
      {
       "output_type": "stream",
       "stream": "stdout",
       "text": [
        "\r",
        "|#####-----| 2841/4948  57% [elapsed: 27:09 left: 20:08,  1.74 iters/sec]"
       ]
      },
      {
       "output_type": "stream",
       "stream": "stdout",
       "text": [
        "\r",
        "|#####-----| 2842/4948  57% [elapsed: 27:12 left: 20:10,  1.74 iters/sec]"
       ]
      },
      {
       "output_type": "stream",
       "stream": "stdout",
       "text": [
        "\r",
        "|#####-----| 2843/4948  57% [elapsed: 27:14 left: 20:10,  1.74 iters/sec]"
       ]
      },
      {
       "output_type": "stream",
       "stream": "stdout",
       "text": [
        "\r",
        "|#####-----| 2844/4948  57% [elapsed: 27:17 left: 20:11,  1.74 iters/sec]"
       ]
      },
      {
       "output_type": "stream",
       "stream": "stdout",
       "text": [
        "\r",
        "|#####-----| 2845/4948  57% [elapsed: 27:20 left: 20:12,  1.73 iters/sec]"
       ]
      },
      {
       "output_type": "stream",
       "stream": "stdout",
       "text": [
        "\r",
        "|#####-----| 2846/4948  57% [elapsed: 27:23 left: 20:13,  1.73 iters/sec]"
       ]
      },
      {
       "output_type": "stream",
       "stream": "stdout",
       "text": [
        "\r",
        "|#####-----| 2847/4948  57% [elapsed: 27:24 left: 20:13,  1.73 iters/sec]"
       ]
      },
      {
       "output_type": "stream",
       "stream": "stdout",
       "text": [
        "\r",
        "|#####-----| 2849/4948  57% [elapsed: 27:28 left: 20:14,  1.73 iters/sec]"
       ]
      },
      {
       "output_type": "stream",
       "stream": "stdout",
       "text": [
        "\r",
        "|#####-----| 2850/4948  57% [elapsed: 27:31 left: 20:15,  1.73 iters/sec]"
       ]
      },
      {
       "output_type": "stream",
       "stream": "stdout",
       "text": [
        "\r",
        "|#####-----| 2851/4948  57% [elapsed: 27:33 left: 20:16,  1.72 iters/sec]"
       ]
      },
      {
       "output_type": "stream",
       "stream": "stdout",
       "text": [
        "\r",
        "|#####-----| 2852/4948  57% [elapsed: 27:37 left: 20:17,  1.72 iters/sec]"
       ]
      },
      {
       "output_type": "stream",
       "stream": "stdout",
       "text": [
        "\r",
        "|#####-----| 2853/4948  57% [elapsed: 27:38 left: 20:17,  1.72 iters/sec]"
       ]
      },
      {
       "output_type": "stream",
       "stream": "stdout",
       "text": [
        "\r",
        "|#####-----| 2854/4948  57% [elapsed: 27:42 left: 20:19,  1.72 iters/sec]"
       ]
      },
      {
       "output_type": "stream",
       "stream": "stdout",
       "text": [
        "\r",
        "|#####-----| 2855/4948  57% [elapsed: 27:43 left: 20:19,  1.72 iters/sec]"
       ]
      },
      {
       "output_type": "stream",
       "stream": "stdout",
       "text": [
        "\r",
        "|#####-----| 2857/4948  57% [elapsed: 27:47 left: 20:20,  1.71 iters/sec]"
       ]
      },
      {
       "output_type": "stream",
       "stream": "stdout",
       "text": [
        "\r",
        "|#####-----| 2858/4948  57% [elapsed: 27:51 left: 20:22,  1.71 iters/sec]"
       ]
      },
      {
       "output_type": "stream",
       "stream": "stdout",
       "text": [
        "\r",
        "|#####-----| 2859/4948  57% [elapsed: 27:55 left: 20:23,  1.71 iters/sec]"
       ]
      },
      {
       "output_type": "stream",
       "stream": "stdout",
       "text": [
        "\r",
        "|#####-----| 2860/4948  57% [elapsed: 27:58 left: 20:25,  1.70 iters/sec]"
       ]
      },
      {
       "output_type": "stream",
       "stream": "stdout",
       "text": [
        "\r",
        "|#####-----| 2861/4948  57% [elapsed: 28:03 left: 20:28,  1.70 iters/sec]"
       ]
      },
      {
       "output_type": "stream",
       "stream": "stdout",
       "text": [
        "\r",
        "|#####-----| 2863/4948  57% [elapsed: 28:07 left: 20:29,  1.70 iters/sec]"
       ]
      },
      {
       "output_type": "stream",
       "stream": "stdout",
       "text": [
        "\r",
        "|#####-----| 2864/4948  57% [elapsed: 28:11 left: 20:30,  1.69 iters/sec]"
       ]
      },
      {
       "output_type": "stream",
       "stream": "stdout",
       "text": [
        "\r",
        "|#####-----| 2865/4948  57% [elapsed: 28:15 left: 20:32,  1.69 iters/sec]"
       ]
      },
      {
       "output_type": "stream",
       "stream": "stdout",
       "text": [
        "\r",
        "|#####-----| 2866/4948  57% [elapsed: 28:19 left: 20:34,  1.69 iters/sec]"
       ]
      },
      {
       "output_type": "stream",
       "stream": "stdout",
       "text": [
        "\r",
        "|#####-----| 2867/4948  57% [elapsed: 28:22 left: 20:36,  1.68 iters/sec]"
       ]
      },
      {
       "output_type": "stream",
       "stream": "stdout",
       "text": [
        "\r",
        "|#####-----| 2868/4948  57% [elapsed: 28:26 left: 20:37,  1.68 iters/sec]"
       ]
      },
      {
       "output_type": "stream",
       "stream": "stdout",
       "text": [
        "\r",
        "|#####-----| 2869/4948  57% [elapsed: 28:30 left: 20:39,  1.68 iters/sec]"
       ]
      },
      {
       "output_type": "stream",
       "stream": "stdout",
       "text": [
        "\r",
        "|#####-----| 2870/4948  58% [elapsed: 28:34 left: 20:41,  1.67 iters/sec]"
       ]
      },
      {
       "output_type": "stream",
       "stream": "stdout",
       "text": [
        "\r",
        "|#####-----| 2871/4948  58% [elapsed: 28:38 left: 20:43,  1.67 iters/sec]"
       ]
      },
      {
       "output_type": "stream",
       "stream": "stdout",
       "text": [
        "\r",
        "|#####-----| 2872/4948  58% [elapsed: 28:41 left: 20:44,  1.67 iters/sec]"
       ]
      },
      {
       "output_type": "stream",
       "stream": "stdout",
       "text": [
        "\r",
        "|#####-----| 2873/4948  58% [elapsed: 28:46 left: 20:46,  1.66 iters/sec]"
       ]
      },
      {
       "output_type": "stream",
       "stream": "stdout",
       "text": [
        "\r",
        "|#####-----| 2874/4948  58% [elapsed: 28:48 left: 20:47,  1.66 iters/sec]"
       ]
      },
      {
       "output_type": "stream",
       "stream": "stdout",
       "text": [
        "\r",
        "|#####-----| 2875/4948  58% [elapsed: 28:51 left: 20:48,  1.66 iters/sec]"
       ]
      },
      {
       "output_type": "stream",
       "stream": "stdout",
       "text": [
        "\r",
        "|#####-----| 2876/4948  58% [elapsed: 28:54 left: 20:49,  1.66 iters/sec]"
       ]
      },
      {
       "output_type": "stream",
       "stream": "stdout",
       "text": [
        "\r",
        "|#####-----| 2877/4948  58% [elapsed: 28:56 left: 20:49,  1.66 iters/sec]"
       ]
      },
      {
       "output_type": "stream",
       "stream": "stdout",
       "text": [
        "\r",
        "|#####-----| 2878/4948  58% [elapsed: 28:59 left: 20:51,  1.65 iters/sec]"
       ]
      },
      {
       "output_type": "stream",
       "stream": "stdout",
       "text": [
        "\r",
        "|#####-----| 2879/4948  58% [elapsed: 29:02 left: 20:52,  1.65 iters/sec]"
       ]
      },
      {
       "output_type": "stream",
       "stream": "stdout",
       "text": [
        "\r",
        "|#####-----| 2881/4948  58% [elapsed: 29:07 left: 20:53,  1.65 iters/sec]"
       ]
      },
      {
       "output_type": "stream",
       "stream": "stdout",
       "text": [
        "\r",
        "|#####-----| 2882/4948  58% [elapsed: 29:11 left: 20:55,  1.64 iters/sec]"
       ]
      },
      {
       "output_type": "stream",
       "stream": "stdout",
       "text": [
        "\r",
        "|#####-----| 2883/4948  58% [elapsed: 29:15 left: 20:57,  1.64 iters/sec]"
       ]
      },
      {
       "output_type": "stream",
       "stream": "stdout",
       "text": [
        "\r",
        "|#####-----| 2884/4948  58% [elapsed: 29:18 left: 20:58,  1.64 iters/sec]"
       ]
      },
      {
       "output_type": "stream",
       "stream": "stdout",
       "text": [
        "\r",
        "|#####-----| 2885/4948  58% [elapsed: 29:20 left: 20:58,  1.64 iters/sec]"
       ]
      },
      {
       "output_type": "stream",
       "stream": "stdout",
       "text": [
        "\r",
        "|#####-----| 2886/4948  58% [elapsed: 29:24 left: 21:00,  1.64 iters/sec]"
       ]
      },
      {
       "output_type": "stream",
       "stream": "stdout",
       "text": [
        "\r",
        "|#####-----| 2887/4948  58% [elapsed: 29:27 left: 21:01,  1.63 iters/sec]"
       ]
      },
      {
       "output_type": "stream",
       "stream": "stdout",
       "text": [
        "\r",
        "|#####-----| 2888/4948  58% [elapsed: 29:30 left: 21:02,  1.63 iters/sec]"
       ]
      },
      {
       "output_type": "stream",
       "stream": "stdout",
       "text": [
        "\r",
        "|#####-----| 2889/4948  58% [elapsed: 29:33 left: 21:04,  1.63 iters/sec]"
       ]
      },
      {
       "output_type": "stream",
       "stream": "stdout",
       "text": [
        "\r",
        "|#####-----| 2890/4948  58% [elapsed: 29:37 left: 21:05,  1.63 iters/sec]"
       ]
      },
      {
       "output_type": "stream",
       "stream": "stdout",
       "text": [
        "\r",
        "|#####-----| 2891/4948  58% [elapsed: 29:38 left: 21:05,  1.63 iters/sec]"
       ]
      },
      {
       "output_type": "stream",
       "stream": "stdout",
       "text": [
        "\r",
        "|#####-----| 2892/4948  58% [elapsed: 29:42 left: 21:07,  1.62 iters/sec]"
       ]
      },
      {
       "output_type": "stream",
       "stream": "stdout",
       "text": [
        "\r",
        "|#####-----| 2893/4948  58% [elapsed: 29:45 left: 21:08,  1.62 iters/sec]"
       ]
      },
      {
       "output_type": "stream",
       "stream": "stdout",
       "text": [
        "\r",
        "|#####-----| 2894/4948  58% [elapsed: 29:48 left: 21:09,  1.62 iters/sec]"
       ]
      },
      {
       "output_type": "stream",
       "stream": "stdout",
       "text": [
        "\r",
        "|#####-----| 2895/4948  58% [elapsed: 29:52 left: 21:11,  1.62 iters/sec]"
       ]
      },
      {
       "output_type": "stream",
       "stream": "stdout",
       "text": [
        "\r",
        "|#####-----| 2896/4948  58% [elapsed: 29:55 left: 21:12,  1.61 iters/sec]"
       ]
      },
      {
       "output_type": "stream",
       "stream": "stdout",
       "text": [
        "\r",
        "|#####-----| 2898/4948  58% [elapsed: 29:59 left: 21:12,  1.61 iters/sec]"
       ]
      },
      {
       "output_type": "stream",
       "stream": "stdout",
       "text": [
        "\r",
        "|#####-----| 2899/4948  58% [elapsed: 30:02 left: 21:14,  1.61 iters/sec]"
       ]
      },
      {
       "output_type": "stream",
       "stream": "stdout",
       "text": [
        "\r",
        "|#####-----| 2900/4948  58% [elapsed: 30:06 left: 21:15,  1.61 iters/sec]"
       ]
      },
      {
       "output_type": "stream",
       "stream": "stdout",
       "text": [
        "\r",
        "|#####-----| 2901/4948  58% [elapsed: 30:10 left: 21:17,  1.60 iters/sec]"
       ]
      },
      {
       "output_type": "stream",
       "stream": "stdout",
       "text": [
        "\r",
        "|#####-----| 2902/4948  58% [elapsed: 30:14 left: 21:19,  1.60 iters/sec]"
       ]
      },
      {
       "output_type": "stream",
       "stream": "stdout",
       "text": [
        "\r",
        "|#####-----| 2903/4948  58% [elapsed: 30:19 left: 21:21,  1.60 iters/sec]"
       ]
      },
      {
       "output_type": "stream",
       "stream": "stdout",
       "text": [
        "\r",
        "|#####-----| 2904/4948  58% [elapsed: 30:22 left: 21:22,  1.59 iters/sec]"
       ]
      },
      {
       "output_type": "stream",
       "stream": "stdout",
       "text": [
        "\r",
        "|#####-----| 2905/4948  58% [elapsed: 30:27 left: 21:25,  1.59 iters/sec]"
       ]
      },
      {
       "output_type": "stream",
       "stream": "stdout",
       "text": [
        "\r",
        "|#####-----| 2906/4948  58% [elapsed: 30:31 left: 21:27,  1.59 iters/sec]"
       ]
      },
      {
       "output_type": "stream",
       "stream": "stdout",
       "text": [
        "\r",
        "|#####-----| 2907/4948  58% [elapsed: 30:36 left: 21:29,  1.58 iters/sec]"
       ]
      },
      {
       "output_type": "stream",
       "stream": "stdout",
       "text": [
        "\r",
        "|#####-----| 2908/4948  58% [elapsed: 30:40 left: 21:30,  1.58 iters/sec]"
       ]
      },
      {
       "output_type": "stream",
       "stream": "stdout",
       "text": [
        "\r",
        "|#####-----| 2909/4948  58% [elapsed: 30:45 left: 21:33,  1.58 iters/sec]"
       ]
      },
      {
       "output_type": "stream",
       "stream": "stdout",
       "text": [
        "\r",
        "|#####-----| 2910/4948  58% [elapsed: 30:48 left: 21:34,  1.57 iters/sec]"
       ]
      },
      {
       "output_type": "stream",
       "stream": "stdout",
       "text": [
        "\r",
        "|#####-----| 2911/4948  58% [elapsed: 30:52 left: 21:36,  1.57 iters/sec]"
       ]
      },
      {
       "output_type": "stream",
       "stream": "stdout",
       "text": [
        "\r",
        "|#####-----| 2912/4948  58% [elapsed: 30:56 left: 21:37,  1.57 iters/sec]"
       ]
      },
      {
       "output_type": "stream",
       "stream": "stdout",
       "text": [
        "\r",
        "|#####-----| 2914/4948  58% [elapsed: 30:59 left: 21:38,  1.57 iters/sec]"
       ]
      },
      {
       "output_type": "stream",
       "stream": "stdout",
       "text": [
        "\r",
        "|#####-----| 2915/4948  58% [elapsed: 31:03 left: 21:39,  1.56 iters/sec]"
       ]
      },
      {
       "output_type": "stream",
       "stream": "stdout",
       "text": [
        "\r",
        "|#####-----| 2916/4948  58% [elapsed: 31:04 left: 21:39,  1.56 iters/sec]"
       ]
      },
      {
       "output_type": "stream",
       "stream": "stdout",
       "text": [
        "\r",
        "|#####-----| 2919/4948  58% [elapsed: 31:06 left: 21:37,  1.56 iters/sec]"
       ]
      },
      {
       "output_type": "stream",
       "stream": "stdout",
       "text": [
        "\r",
        "|#####-----| 2921/4948  59% [elapsed: 31:09 left: 21:37,  1.56 iters/sec]"
       ]
      },
      {
       "output_type": "stream",
       "stream": "stdout",
       "text": [
        "\r",
        "|#####-----| 2923/4948  59% [elapsed: 31:12 left: 21:37,  1.56 iters/sec]"
       ]
      },
      {
       "output_type": "stream",
       "stream": "stdout",
       "text": [
        "\r",
        "|#####-----| 2924/4948  59% [elapsed: 31:15 left: 21:38,  1.56 iters/sec]"
       ]
      },
      {
       "output_type": "stream",
       "stream": "stdout",
       "text": [
        "\r",
        "|#####-----| 2925/4948  59% [elapsed: 31:18 left: 21:39,  1.56 iters/sec]"
       ]
      },
      {
       "output_type": "stream",
       "stream": "stdout",
       "text": [
        "\r",
        "|#####-----| 2926/4948  59% [elapsed: 31:20 left: 21:39,  1.56 iters/sec]"
       ]
      },
      {
       "output_type": "stream",
       "stream": "stdout",
       "text": [
        "\r",
        "|#####-----| 2927/4948  59% [elapsed: 31:21 left: 21:39,  1.56 iters/sec]"
       ]
      },
      {
       "output_type": "stream",
       "stream": "stdout",
       "text": [
        "\r",
        "|#####-----| 2928/4948  59% [elapsed: 31:25 left: 21:40,  1.55 iters/sec]"
       ]
      },
      {
       "output_type": "stream",
       "stream": "stdout",
       "text": [
        "\r",
        "|#####-----| 2929/4948  59% [elapsed: 31:29 left: 21:42,  1.55 iters/sec]"
       ]
      },
      {
       "output_type": "stream",
       "stream": "stdout",
       "text": [
        "\r",
        "|#####-----| 2930/4948  59% [elapsed: 31:30 left: 21:42,  1.55 iters/sec]"
       ]
      },
      {
       "output_type": "stream",
       "stream": "stdout",
       "text": [
        "\r",
        "|#####-----| 2931/4948  59% [elapsed: 31:32 left: 21:42,  1.55 iters/sec]"
       ]
      },
      {
       "output_type": "stream",
       "stream": "stdout",
       "text": [
        "\r",
        "|#####-----| 2932/4948  59% [elapsed: 31:33 left: 21:42,  1.55 iters/sec]"
       ]
      },
      {
       "output_type": "stream",
       "stream": "stdout",
       "text": [
        "\r",
        "|#####-----| 2933/4948  59% [elapsed: 31:36 left: 21:43,  1.55 iters/sec]"
       ]
      },
      {
       "output_type": "stream",
       "stream": "stdout",
       "text": [
        "\r",
        "|#####-----| 2934/4948  59% [elapsed: 31:40 left: 21:44,  1.54 iters/sec]"
       ]
      },
      {
       "output_type": "stream",
       "stream": "stdout",
       "text": [
        "\r",
        "|#####-----| 2935/4948  59% [elapsed: 31:43 left: 21:45,  1.54 iters/sec]"
       ]
      },
      {
       "output_type": "stream",
       "stream": "stdout",
       "text": [
        "\r",
        "|#####-----| 2937/4948  59% [elapsed: 31:47 left: 21:46,  1.54 iters/sec]"
       ]
      },
      {
       "output_type": "stream",
       "stream": "stdout",
       "text": [
        "\r",
        "|#####-----| 2938/4948  59% [elapsed: 31:49 left: 21:46,  1.54 iters/sec]"
       ]
      },
      {
       "output_type": "stream",
       "stream": "stdout",
       "text": [
        "\r",
        "|#####-----| 2939/4948  59% [elapsed: 31:54 left: 21:48,  1.53 iters/sec]"
       ]
      },
      {
       "output_type": "stream",
       "stream": "stdout",
       "text": [
        "\r",
        "|#####-----| 2940/4948  59% [elapsed: 32:00 left: 21:51,  1.53 iters/sec]"
       ]
      },
      {
       "output_type": "stream",
       "stream": "stdout",
       "text": [
        "\r",
        "|#####-----| 2941/4948  59% [elapsed: 32:07 left: 21:55,  1.53 iters/sec]"
       ]
      },
      {
       "output_type": "stream",
       "stream": "stdout",
       "text": [
        "\r",
        "|#####-----| 2942/4948  59% [elapsed: 32:11 left: 21:56,  1.52 iters/sec]"
       ]
      },
      {
       "output_type": "stream",
       "stream": "stdout",
       "text": [
        "\r",
        "|#####-----| 2943/4948  59% [elapsed: 32:17 left: 21:59,  1.52 iters/sec]"
       ]
      },
      {
       "output_type": "stream",
       "stream": "stdout",
       "text": [
        "\r",
        "|#####-----| 2944/4948  59% [elapsed: 32:21 left: 22:01,  1.52 iters/sec]"
       ]
      },
      {
       "output_type": "stream",
       "stream": "stdout",
       "text": [
        "\r",
        "|#####-----| 2945/4948  59% [elapsed: 32:25 left: 22:03,  1.51 iters/sec]"
       ]
      },
      {
       "output_type": "stream",
       "stream": "stdout",
       "text": [
        "\r",
        "|#####-----| 2946/4948  59% [elapsed: 32:30 left: 22:05,  1.51 iters/sec]"
       ]
      },
      {
       "output_type": "stream",
       "stream": "stdout",
       "text": [
        "\r",
        "|#####-----| 2947/4948  59% [elapsed: 32:34 left: 22:07,  1.51 iters/sec]"
       ]
      },
      {
       "output_type": "stream",
       "stream": "stdout",
       "text": [
        "\r",
        "|#####-----| 2948/4948  59% [elapsed: 32:38 left: 22:08,  1.51 iters/sec]"
       ]
      },
      {
       "output_type": "stream",
       "stream": "stdout",
       "text": [
        "\r",
        "|#####-----| 2949/4948  59% [elapsed: 32:43 left: 22:10,  1.50 iters/sec]"
       ]
      },
      {
       "output_type": "stream",
       "stream": "stdout",
       "text": [
        "\r",
        "|#####-----| 2950/4948  59% [elapsed: 32:47 left: 22:12,  1.50 iters/sec]"
       ]
      },
      {
       "output_type": "stream",
       "stream": "stdout",
       "text": [
        "\r",
        "|#####-----| 2951/4948  59% [elapsed: 32:51 left: 22:14,  1.50 iters/sec]"
       ]
      },
      {
       "output_type": "stream",
       "stream": "stdout",
       "text": [
        "\r",
        "|#####-----| 2952/4948  59% [elapsed: 32:55 left: 22:15,  1.49 iters/sec]"
       ]
      },
      {
       "output_type": "stream",
       "stream": "stdout",
       "text": [
        "\r",
        "|#####-----| 2953/4948  59% [elapsed: 32:59 left: 22:17,  1.49 iters/sec]"
       ]
      },
      {
       "output_type": "stream",
       "stream": "stdout",
       "text": [
        "\r",
        "|#####-----| 2954/4948  59% [elapsed: 33:02 left: 22:18,  1.49 iters/sec]"
       ]
      },
      {
       "output_type": "stream",
       "stream": "stdout",
       "text": [
        "\r",
        "|#####-----| 2955/4948  59% [elapsed: 33:07 left: 22:20,  1.49 iters/sec]"
       ]
      },
      {
       "output_type": "stream",
       "stream": "stdout",
       "text": [
        "\r",
        "|#####-----| 2957/4948  59% [elapsed: 33:11 left: 22:20,  1.48 iters/sec]"
       ]
      },
      {
       "output_type": "stream",
       "stream": "stdout",
       "text": [
        "\r",
        "|#####-----| 2959/4948  59% [elapsed: 33:16 left: 22:21,  1.48 iters/sec]"
       ]
      },
      {
       "output_type": "stream",
       "stream": "stdout",
       "text": [
        "\r",
        "|#####-----| 2960/4948  59% [elapsed: 33:19 left: 22:22,  1.48 iters/sec]"
       ]
      },
      {
       "output_type": "stream",
       "stream": "stdout",
       "text": [
        "\r",
        "|#####-----| 2961/4948  59% [elapsed: 33:24 left: 22:24,  1.48 iters/sec]"
       ]
      },
      {
       "output_type": "stream",
       "stream": "stdout",
       "text": [
        "\r",
        "|#####-----| 2962/4948  59% [elapsed: 33:29 left: 22:27,  1.47 iters/sec]"
       ]
      },
      {
       "output_type": "stream",
       "stream": "stdout",
       "text": [
        "\r",
        "|#####-----| 2963/4948  59% [elapsed: 33:31 left: 22:27,  1.47 iters/sec]"
       ]
      },
      {
       "output_type": "stream",
       "stream": "stdout",
       "text": [
        "\r",
        "|#####-----| 2964/4948  59% [elapsed: 33:34 left: 22:28,  1.47 iters/sec]"
       ]
      },
      {
       "output_type": "stream",
       "stream": "stdout",
       "text": [
        "\r",
        "|#####-----| 2965/4948  59% [elapsed: 33:39 left: 22:30,  1.47 iters/sec]"
       ]
      },
      {
       "output_type": "stream",
       "stream": "stdout",
       "text": [
        "\r",
        "|#####-----| 2966/4948  59% [elapsed: 33:44 left: 22:32,  1.47 iters/sec]"
       ]
      },
      {
       "output_type": "stream",
       "stream": "stdout",
       "text": [
        "\r",
        "|#####-----| 2967/4948  59% [elapsed: 33:47 left: 22:33,  1.46 iters/sec]"
       ]
      },
      {
       "output_type": "stream",
       "stream": "stdout",
       "text": [
        "\r",
        "|#####-----| 2968/4948  59% [elapsed: 33:51 left: 22:35,  1.46 iters/sec]"
       ]
      },
      {
       "output_type": "stream",
       "stream": "stdout",
       "text": [
        "\r",
        "|######----| 2969/4948  60% [elapsed: 33:55 left: 22:36,  1.46 iters/sec]"
       ]
      },
      {
       "output_type": "stream",
       "stream": "stdout",
       "text": [
        "\r",
        "|######----| 2970/4948  60% [elapsed: 33:59 left: 22:38,  1.46 iters/sec]"
       ]
      },
      {
       "output_type": "stream",
       "stream": "stdout",
       "text": [
        "\r",
        "|######----| 2971/4948  60% [elapsed: 34:03 left: 22:40,  1.45 iters/sec]"
       ]
      },
      {
       "output_type": "stream",
       "stream": "stdout",
       "text": [
        "\r",
        "|######----| 2972/4948  60% [elapsed: 34:07 left: 22:41,  1.45 iters/sec]"
       ]
      },
      {
       "output_type": "stream",
       "stream": "stdout",
       "text": [
        "\r",
        "|######----| 2973/4948  60% [elapsed: 34:11 left: 22:42,  1.45 iters/sec]"
       ]
      },
      {
       "output_type": "stream",
       "stream": "stdout",
       "text": [
        "\r",
        "|######----| 2974/4948  60% [elapsed: 34:15 left: 22:44,  1.45 iters/sec]"
       ]
      },
      {
       "output_type": "stream",
       "stream": "stdout",
       "text": [
        "\r",
        "|######----| 2975/4948  60% [elapsed: 34:19 left: 22:45,  1.44 iters/sec]"
       ]
      },
      {
       "output_type": "stream",
       "stream": "stdout",
       "text": [
        "\r",
        "|######----| 2977/4948  60% [elapsed: 34:23 left: 22:46,  1.44 iters/sec]"
       ]
      },
      {
       "output_type": "stream",
       "stream": "stdout",
       "text": [
        "\r",
        "|######----| 2978/4948  60% [elapsed: 34:27 left: 22:47,  1.44 iters/sec]"
       ]
      },
      {
       "output_type": "stream",
       "stream": "stdout",
       "text": [
        "\r",
        "|######----| 2979/4948  60% [elapsed: 34:31 left: 22:49,  1.44 iters/sec]"
       ]
      },
      {
       "output_type": "stream",
       "stream": "stdout",
       "text": [
        "\r",
        "|######----| 2980/4948  60% [elapsed: 34:35 left: 22:50,  1.44 iters/sec]"
       ]
      },
      {
       "output_type": "stream",
       "stream": "stdout",
       "text": [
        "\r",
        "|######----| 2981/4948  60% [elapsed: 34:41 left: 22:53,  1.43 iters/sec]"
       ]
      },
      {
       "output_type": "stream",
       "stream": "stdout",
       "text": [
        "\r",
        "|######----| 2982/4948  60% [elapsed: 34:45 left: 22:55,  1.43 iters/sec]"
       ]
      },
      {
       "output_type": "stream",
       "stream": "stdout",
       "text": [
        "\r",
        "|######----| 2983/4948  60% [elapsed: 34:50 left: 22:56,  1.43 iters/sec]"
       ]
      },
      {
       "output_type": "stream",
       "stream": "stdout",
       "text": [
        "\r",
        "|######----| 2984/4948  60% [elapsed: 34:51 left: 22:56,  1.43 iters/sec]"
       ]
      },
      {
       "output_type": "stream",
       "stream": "stdout",
       "text": [
        "\r",
        "|######----| 2985/4948  60% [elapsed: 34:54 left: 22:57,  1.43 iters/sec]"
       ]
      },
      {
       "output_type": "stream",
       "stream": "stdout",
       "text": [
        "\r",
        "|######----| 2986/4948  60% [elapsed: 34:58 left: 22:58,  1.42 iters/sec]"
       ]
      },
      {
       "output_type": "stream",
       "stream": "stdout",
       "text": [
        "\r",
        "|######----| 2987/4948  60% [elapsed: 35:03 left: 23:00,  1.42 iters/sec]"
       ]
      },
      {
       "output_type": "stream",
       "stream": "stdout",
       "text": [
        "\r",
        "|######----| 2988/4948  60% [elapsed: 35:04 left: 23:00,  1.42 iters/sec]"
       ]
      },
      {
       "output_type": "stream",
       "stream": "stdout",
       "text": [
        "\r",
        "|######----| 2990/4948  60% [elapsed: 35:08 left: 23:00,  1.42 iters/sec]"
       ]
      },
      {
       "output_type": "stream",
       "stream": "stdout",
       "text": [
        "\r",
        "|######----| 2991/4948  60% [elapsed: 35:11 left: 23:01,  1.42 iters/sec]"
       ]
      },
      {
       "output_type": "stream",
       "stream": "stdout",
       "text": [
        "\r",
        "|######----| 2992/4948  60% [elapsed: 35:13 left: 23:01,  1.42 iters/sec]"
       ]
      },
      {
       "output_type": "stream",
       "stream": "stdout",
       "text": [
        "\r",
        "|######----| 2993/4948  60% [elapsed: 35:16 left: 23:02,  1.41 iters/sec]"
       ]
      },
      {
       "output_type": "stream",
       "stream": "stdout",
       "text": [
        "\r",
        "|######----| 2996/4948  60% [elapsed: 35:20 left: 23:01,  1.41 iters/sec]"
       ]
      },
      {
       "output_type": "stream",
       "stream": "stdout",
       "text": [
        "\r",
        "|######----| 2997/4948  60% [elapsed: 35:24 left: 23:02,  1.41 iters/sec]"
       ]
      },
      {
       "output_type": "stream",
       "stream": "stdout",
       "text": [
        "\r",
        "|######----| 2998/4948  60% [elapsed: 35:27 left: 23:04,  1.41 iters/sec]"
       ]
      },
      {
       "output_type": "stream",
       "stream": "stdout",
       "text": [
        "\r",
        "|######----| 2999/4948  60% [elapsed: 35:29 left: 23:03,  1.41 iters/sec]"
       ]
      },
      {
       "output_type": "stream",
       "stream": "stdout",
       "text": [
        "\r",
        "|######----| 3000/4948  60% [elapsed: 35:32 left: 23:04,  1.41 iters/sec]"
       ]
      },
      {
       "output_type": "stream",
       "stream": "stdout",
       "text": [
        "\r",
        "|######----| 3001/4948  60% [elapsed: 35:35 left: 23:05,  1.41 iters/sec]"
       ]
      },
      {
       "output_type": "stream",
       "stream": "stdout",
       "text": [
        "\r",
        "|######----| 3002/4948  60% [elapsed: 35:39 left: 23:06,  1.40 iters/sec]"
       ]
      },
      {
       "output_type": "stream",
       "stream": "stdout",
       "text": [
        "\r",
        "|######----| 3004/4948  60% [elapsed: 35:41 left: 23:05,  1.40 iters/sec]"
       ]
      },
      {
       "output_type": "stream",
       "stream": "stdout",
       "text": [
        "\r",
        "|######----| 3005/4948  60% [elapsed: 35:44 left: 23:06,  1.40 iters/sec]"
       ]
      },
      {
       "output_type": "stream",
       "stream": "stdout",
       "text": [
        "\r",
        "|######----| 3006/4948  60% [elapsed: 35:48 left: 23:08,  1.40 iters/sec]"
       ]
      },
      {
       "output_type": "stream",
       "stream": "stdout",
       "text": [
        "\r",
        "|######----| 3007/4948  60% [elapsed: 35:50 left: 23:07,  1.40 iters/sec]"
       ]
      },
      {
       "output_type": "stream",
       "stream": "stdout",
       "text": [
        "\r",
        "|######----| 3008/4948  60% [elapsed: 35:53 left: 23:08,  1.40 iters/sec]"
       ]
      },
      {
       "output_type": "stream",
       "stream": "stdout",
       "text": [
        "\r",
        "|######----| 3009/4948  60% [elapsed: 35:55 left: 23:09,  1.40 iters/sec]"
       ]
      },
      {
       "output_type": "stream",
       "stream": "stdout",
       "text": [
        "\r",
        "|######----| 3010/4948  60% [elapsed: 35:59 left: 23:10,  1.39 iters/sec]"
       ]
      },
      {
       "output_type": "stream",
       "stream": "stdout",
       "text": [
        "\r",
        "|######----| 3011/4948  60% [elapsed: 36:02 left: 23:10,  1.39 iters/sec]"
       ]
      },
      {
       "output_type": "stream",
       "stream": "stdout",
       "text": [
        "\r",
        "|######----| 3012/4948  60% [elapsed: 36:06 left: 23:12,  1.39 iters/sec]"
       ]
      },
      {
       "output_type": "stream",
       "stream": "stdout",
       "text": [
        "\r",
        "|######----| 3013/4948  60% [elapsed: 36:09 left: 23:13,  1.39 iters/sec]"
       ]
      },
      {
       "output_type": "stream",
       "stream": "stdout",
       "text": [
        "\r",
        "|######----| 3014/4948  60% [elapsed: 36:13 left: 23:14,  1.39 iters/sec]"
       ]
      },
      {
       "output_type": "stream",
       "stream": "stdout",
       "text": [
        "\r",
        "|######----| 3015/4948  60% [elapsed: 36:15 left: 23:14,  1.39 iters/sec]"
       ]
      },
      {
       "output_type": "stream",
       "stream": "stdout",
       "text": [
        "\r",
        "|######----| 3016/4948  60% [elapsed: 36:19 left: 23:16,  1.38 iters/sec]"
       ]
      },
      {
       "output_type": "stream",
       "stream": "stdout",
       "text": [
        "\r",
        "|######----| 3017/4948  60% [elapsed: 36:23 left: 23:17,  1.38 iters/sec]"
       ]
      },
      {
       "output_type": "stream",
       "stream": "stdout",
       "text": [
        "\r",
        "|######----| 3018/4948  60% [elapsed: 36:27 left: 23:18,  1.38 iters/sec]"
       ]
      },
      {
       "output_type": "stream",
       "stream": "stdout",
       "text": [
        "\r",
        "|######----| 3020/4948  61% [elapsed: 36:31 left: 23:19,  1.38 iters/sec]"
       ]
      },
      {
       "output_type": "stream",
       "stream": "stdout",
       "text": [
        "\r",
        "|######----| 3021/4948  61% [elapsed: 36:33 left: 23:19,  1.38 iters/sec]"
       ]
      },
      {
       "output_type": "stream",
       "stream": "stdout",
       "text": [
        "\r",
        "|######----| 3022/4948  61% [elapsed: 36:37 left: 23:20,  1.38 iters/sec]"
       ]
      },
      {
       "output_type": "stream",
       "stream": "stdout",
       "text": [
        "\r",
        "|######----| 3024/4948  61% [elapsed: 36:40 left: 23:20,  1.37 iters/sec]"
       ]
      },
      {
       "output_type": "stream",
       "stream": "stdout",
       "text": [
        "\r",
        "|######----| 3025/4948  61% [elapsed: 36:46 left: 23:22,  1.37 iters/sec]"
       ]
      },
      {
       "output_type": "stream",
       "stream": "stdout",
       "text": [
        "\r",
        "|######----| 3026/4948  61% [elapsed: 36:50 left: 23:23,  1.37 iters/sec]"
       ]
      },
      {
       "output_type": "stream",
       "stream": "stdout",
       "text": [
        "\r",
        "|######----| 3027/4948  61% [elapsed: 36:54 left: 23:25,  1.37 iters/sec]"
       ]
      },
      {
       "output_type": "stream",
       "stream": "stdout",
       "text": [
        "\r",
        "|######----| 3028/4948  61% [elapsed: 36:58 left: 23:26,  1.36 iters/sec]"
       ]
      },
      {
       "output_type": "stream",
       "stream": "stdout",
       "text": [
        "\r",
        "|######----| 3029/4948  61% [elapsed: 37:02 left: 23:28,  1.36 iters/sec]"
       ]
      },
      {
       "output_type": "stream",
       "stream": "stdout",
       "text": [
        "\r",
        "|######----| 3030/4948  61% [elapsed: 37:10 left: 23:31,  1.36 iters/sec]"
       ]
      },
      {
       "output_type": "stream",
       "stream": "stdout",
       "text": [
        "\r",
        "|######----| 3031/4948  61% [elapsed: 37:17 left: 23:35,  1.35 iters/sec]"
       ]
      },
      {
       "output_type": "stream",
       "stream": "stdout",
       "text": [
        "\r",
        "|######----| 3032/4948  61% [elapsed: 37:18 left: 23:34,  1.35 iters/sec]"
       ]
      },
      {
       "output_type": "stream",
       "stream": "stdout",
       "text": [
        "\r",
        "|######----| 3033/4948  61% [elapsed: 37:40 left: 23:47,  1.34 iters/sec]"
       ]
      },
      {
       "output_type": "stream",
       "stream": "stdout",
       "text": [
        "\r",
        "|######----| 3035/4948  61% [elapsed: 37:40 left: 23:45,  1.34 iters/sec]"
       ]
      },
      {
       "output_type": "stream",
       "stream": "stdout",
       "text": [
        "\r",
        "|######----| 3036/4948  61% [elapsed: 37:44 left: 23:46,  1.34 iters/sec]"
       ]
      },
      {
       "output_type": "stream",
       "stream": "stdout",
       "text": [
        "\r",
        "|######----| 3037/4948  61% [elapsed: 37:48 left: 23:47,  1.34 iters/sec]"
       ]
      },
      {
       "output_type": "stream",
       "stream": "stdout",
       "text": [
        "\r",
        "|######----| 3038/4948  61% [elapsed: 37:52 left: 23:48,  1.34 iters/sec]"
       ]
      },
      {
       "output_type": "stream",
       "stream": "stdout",
       "text": [
        "\r",
        "|######----| 3039/4948  61% [elapsed: 37:56 left: 23:49,  1.34 iters/sec]"
       ]
      },
      {
       "output_type": "stream",
       "stream": "stdout",
       "text": [
        "\r",
        "|######----| 3040/4948  61% [elapsed: 37:59 left: 23:50,  1.33 iters/sec]"
       ]
      },
      {
       "output_type": "stream",
       "stream": "stdout",
       "text": [
        "\r",
        "|######----| 3041/4948  61% [elapsed: 38:03 left: 23:51,  1.33 iters/sec]"
       ]
      },
      {
       "output_type": "stream",
       "stream": "stdout",
       "text": [
        "\r",
        "|######----| 3042/4948  61% [elapsed: 38:05 left: 23:51,  1.33 iters/sec]"
       ]
      },
      {
       "output_type": "stream",
       "stream": "stdout",
       "text": [
        "\r",
        "|######----| 3043/4948  61% [elapsed: 38:13 left: 23:56,  1.33 iters/sec]"
       ]
      },
      {
       "output_type": "stream",
       "stream": "stdout",
       "text": [
        "\r",
        "|######----| 3044/4948  61% [elapsed: 38:20 left: 23:58,  1.32 iters/sec]"
       ]
      },
      {
       "output_type": "stream",
       "stream": "stdout",
       "text": [
        "\r",
        "|######----| 3045/4948  61% [elapsed: 38:25 left: 24:00,  1.32 iters/sec]"
       ]
      },
      {
       "output_type": "stream",
       "stream": "stdout",
       "text": [
        "\r",
        "|######----| 3046/4948  61% [elapsed: 38:26 left: 24:00,  1.32 iters/sec]"
       ]
      },
      {
       "output_type": "stream",
       "stream": "stdout",
       "text": [
        "\r",
        "|######----| 3048/4948  61% [elapsed: 38:28 left: 23:58,  1.32 iters/sec]"
       ]
      },
      {
       "output_type": "stream",
       "stream": "stdout",
       "text": [
        "\r",
        "|######----| 3051/4948  61% [elapsed: 38:31 left: 23:57,  1.32 iters/sec]"
       ]
      },
      {
       "output_type": "stream",
       "stream": "stdout",
       "text": [
        "\r",
        "|######----| 3052/4948  61% [elapsed: 38:36 left: 23:59,  1.32 iters/sec]"
       ]
      },
      {
       "output_type": "stream",
       "stream": "stdout",
       "text": [
        "\r",
        "|######----| 3054/4948  61% [elapsed: 38:40 left: 23:59,  1.32 iters/sec]"
       ]
      },
      {
       "output_type": "stream",
       "stream": "stdout",
       "text": [
        "\r",
        "|######----| 3055/4948  61% [elapsed: 38:44 left: 24:00,  1.31 iters/sec]"
       ]
      },
      {
       "output_type": "stream",
       "stream": "stdout",
       "text": [
        "\r",
        "|######----| 3056/4948  61% [elapsed: 38:48 left: 24:01,  1.31 iters/sec]"
       ]
      },
      {
       "output_type": "stream",
       "stream": "stdout",
       "text": [
        "\r",
        "|######----| 3057/4948  61% [elapsed: 38:53 left: 24:03,  1.31 iters/sec]"
       ]
      },
      {
       "output_type": "stream",
       "stream": "stdout",
       "text": [
        "\r",
        "|######----| 3058/4948  61% [elapsed: 38:57 left: 24:04,  1.31 iters/sec]"
       ]
      },
      {
       "output_type": "stream",
       "stream": "stdout",
       "text": [
        "\r",
        "|######----| 3059/4948  61% [elapsed: 39:00 left: 24:05,  1.31 iters/sec]"
       ]
      },
      {
       "output_type": "stream",
       "stream": "stdout",
       "text": [
        "\r",
        "|######----| 3060/4948  61% [elapsed: 39:04 left: 24:06,  1.31 iters/sec]"
       ]
      },
      {
       "output_type": "stream",
       "stream": "stdout",
       "text": [
        "\r",
        "|######----| 3061/4948  61% [elapsed: 39:05 left: 24:06,  1.30 iters/sec]"
       ]
      },
      {
       "output_type": "stream",
       "stream": "stdout",
       "text": [
        "\r",
        "|######----| 3062/4948  61% [elapsed: 39:09 left: 24:07,  1.30 iters/sec]"
       ]
      },
      {
       "output_type": "stream",
       "stream": "stdout",
       "text": [
        "\r",
        "|######----| 3063/4948  61% [elapsed: 39:11 left: 24:06,  1.30 iters/sec]"
       ]
      },
      {
       "output_type": "stream",
       "stream": "stdout",
       "text": [
        "\r",
        "|######----| 3064/4948  61% [elapsed: 39:14 left: 24:08,  1.30 iters/sec]"
       ]
      },
      {
       "output_type": "stream",
       "stream": "stdout",
       "text": [
        "\r",
        "|######----| 3065/4948  61% [elapsed: 39:18 left: 24:08,  1.30 iters/sec]"
       ]
      },
      {
       "output_type": "stream",
       "stream": "stdout",
       "text": [
        "\r",
        "|######----| 3066/4948  61% [elapsed: 39:22 left: 24:10,  1.30 iters/sec]"
       ]
      },
      {
       "output_type": "stream",
       "stream": "stdout",
       "text": [
        "\r",
        "|######----| 3067/4948  61% [elapsed: 39:24 left: 24:10,  1.30 iters/sec]"
       ]
      },
      {
       "output_type": "stream",
       "stream": "stdout",
       "text": [
        "\r",
        "|######----| 3068/4948  62% [elapsed: 39:27 left: 24:10,  1.30 iters/sec]"
       ]
      },
      {
       "output_type": "stream",
       "stream": "stdout",
       "text": [
        "\r",
        "|######----| 3069/4948  62% [elapsed: 39:33 left: 24:13,  1.29 iters/sec]"
       ]
      },
      {
       "output_type": "stream",
       "stream": "stdout",
       "text": [
        "\r",
        "|######----| 3070/4948  62% [elapsed: 39:36 left: 24:13,  1.29 iters/sec]"
       ]
      },
      {
       "output_type": "stream",
       "stream": "stdout",
       "text": [
        "\r",
        "|######----| 3071/4948  62% [elapsed: 39:40 left: 24:14,  1.29 iters/sec]"
       ]
      },
      {
       "output_type": "stream",
       "stream": "stdout",
       "text": [
        "\r",
        "|######----| 3074/4948  62% [elapsed: 39:41 left: 24:12,  1.29 iters/sec]"
       ]
      },
      {
       "output_type": "stream",
       "stream": "stdout",
       "text": [
        "\r",
        "|######----| 3075/4948  62% [elapsed: 39:45 left: 24:12,  1.29 iters/sec]"
       ]
      },
      {
       "output_type": "stream",
       "stream": "stdout",
       "text": [
        "\r",
        "|######----| 3077/4948  62% [elapsed: 39:48 left: 24:12,  1.29 iters/sec]"
       ]
      },
      {
       "output_type": "stream",
       "stream": "stdout",
       "text": [
        "\r",
        "|######----| 3078/4948  62% [elapsed: 39:49 left: 24:11,  1.29 iters/sec]"
       ]
      },
      {
       "output_type": "stream",
       "stream": "stdout",
       "text": [
        "\r",
        "|######----| 3079/4948  62% [elapsed: 39:53 left: 24:12,  1.29 iters/sec]"
       ]
      },
      {
       "output_type": "stream",
       "stream": "stdout",
       "text": [
        "\r",
        "|######----| 3080/4948  62% [elapsed: 39:58 left: 24:14,  1.28 iters/sec]"
       ]
      },
      {
       "output_type": "stream",
       "stream": "stdout",
       "text": [
        "\r",
        "|######----| 3081/4948  62% [elapsed: 40:04 left: 24:17,  1.28 iters/sec]"
       ]
      },
      {
       "output_type": "stream",
       "stream": "stdout",
       "text": [
        "\r",
        "|######----| 3082/4948  62% [elapsed: 40:08 left: 24:18,  1.28 iters/sec]"
       ]
      },
      {
       "output_type": "stream",
       "stream": "stdout",
       "text": [
        "\r",
        "|######----| 3083/4948  62% [elapsed: 40:11 left: 24:19,  1.28 iters/sec]"
       ]
      },
      {
       "output_type": "stream",
       "stream": "stdout",
       "text": [
        "\r",
        "|######----| 3085/4948  62% [elapsed: 40:15 left: 24:18,  1.28 iters/sec]"
       ]
      },
      {
       "output_type": "stream",
       "stream": "stdout",
       "text": [
        "\r",
        "|######----| 3086/4948  62% [elapsed: 40:23 left: 24:22,  1.27 iters/sec]"
       ]
      },
      {
       "output_type": "stream",
       "stream": "stdout",
       "text": [
        "\r",
        "|######----| 3087/4948  62% [elapsed: 40:29 left: 24:24,  1.27 iters/sec]"
       ]
      },
      {
       "output_type": "stream",
       "stream": "stdout",
       "text": [
        "\r",
        "|######----| 3088/4948  62% [elapsed: 40:48 left: 24:34,  1.26 iters/sec]"
       ]
      },
      {
       "output_type": "stream",
       "stream": "stdout",
       "text": [
        "\r",
        "|######----| 3089/4948  62% [elapsed: 40:52 left: 24:36,  1.26 iters/sec]"
       ]
      },
      {
       "output_type": "stream",
       "stream": "stdout",
       "text": [
        "\r",
        "|######----| 3090/4948  62% [elapsed: 40:58 left: 24:38,  1.26 iters/sec]"
       ]
      },
      {
       "output_type": "stream",
       "stream": "stdout",
       "text": [
        "\r",
        "|######----| 3091/4948  62% [elapsed: 41:04 left: 24:40,  1.25 iters/sec]"
       ]
      },
      {
       "output_type": "stream",
       "stream": "stdout",
       "text": [
        "\r",
        "|######----| 3092/4948  62% [elapsed: 41:09 left: 24:42,  1.25 iters/sec]"
       ]
      },
      {
       "output_type": "stream",
       "stream": "stdout",
       "text": [
        "\r",
        "|######----| 3093/4948  62% [elapsed: 41:15 left: 24:44,  1.25 iters/sec]"
       ]
      },
      {
       "output_type": "stream",
       "stream": "stdout",
       "text": [
        "\r",
        "|######----| 3094/4948  62% [elapsed: 41:18 left: 24:45,  1.25 iters/sec]"
       ]
      },
      {
       "output_type": "stream",
       "stream": "stdout",
       "text": [
        "\r",
        "|######----| 3095/4948  62% [elapsed: 41:22 left: 24:46,  1.25 iters/sec]"
       ]
      },
      {
       "output_type": "stream",
       "stream": "stdout",
       "text": [
        "\r",
        "|######----| 3096/4948  62% [elapsed: 41:25 left: 24:46,  1.25 iters/sec]"
       ]
      },
      {
       "output_type": "stream",
       "stream": "stdout",
       "text": [
        "\r",
        "|######----| 3097/4948  62% [elapsed: 41:29 left: 24:47,  1.24 iters/sec]"
       ]
      },
      {
       "output_type": "stream",
       "stream": "stdout",
       "text": [
        "\r",
        "|######----| 3098/4948  62% [elapsed: 41:33 left: 24:49,  1.24 iters/sec]"
       ]
      },
      {
       "output_type": "stream",
       "stream": "stdout",
       "text": [
        "\r",
        "|######----| 3099/4948  62% [elapsed: 41:38 left: 24:50,  1.24 iters/sec]"
       ]
      },
      {
       "output_type": "stream",
       "stream": "stdout",
       "text": [
        "\r",
        "|######----| 3100/4948  62% [elapsed: 41:42 left: 24:52,  1.24 iters/sec]"
       ]
      },
      {
       "output_type": "stream",
       "stream": "stdout",
       "text": [
        "\r",
        "|######----| 3102/4948  62% [elapsed: 41:46 left: 24:51,  1.24 iters/sec]"
       ]
      },
      {
       "output_type": "stream",
       "stream": "stdout",
       "text": [
        "\r",
        "|######----| 3103/4948  62% [elapsed: 41:52 left: 24:53,  1.24 iters/sec]"
       ]
      },
      {
       "output_type": "stream",
       "stream": "stdout",
       "text": [
        "\r",
        "|######----| 3104/4948  62% [elapsed: 41:57 left: 24:55,  1.23 iters/sec]"
       ]
      },
      {
       "output_type": "stream",
       "stream": "stdout",
       "text": [
        "\r",
        "|######----| 3105/4948  62% [elapsed: 42:02 left: 24:57,  1.23 iters/sec]"
       ]
      },
      {
       "output_type": "stream",
       "stream": "stdout",
       "text": [
        "\r",
        "|######----| 3106/4948  62% [elapsed: 42:05 left: 24:57,  1.23 iters/sec]"
       ]
      },
      {
       "output_type": "stream",
       "stream": "stdout",
       "text": [
        "\r",
        "|######----| 3107/4948  62% [elapsed: 42:11 left: 24:59,  1.23 iters/sec]"
       ]
      },
      {
       "output_type": "stream",
       "stream": "stdout",
       "text": [
        "\r",
        "|######----| 3109/4948  62% [elapsed: 42:11 left: 24:57,  1.23 iters/sec]"
       ]
      },
      {
       "output_type": "stream",
       "stream": "stdout",
       "text": [
        "\r",
        "|######----| 3110/4948  62% [elapsed: 42:19 left: 25:00,  1.22 iters/sec]"
       ]
      },
      {
       "output_type": "stream",
       "stream": "stdout",
       "text": [
        "\r",
        "|######----| 3112/4948  62% [elapsed: 42:23 left: 25:00,  1.22 iters/sec]"
       ]
      },
      {
       "output_type": "stream",
       "stream": "stdout",
       "text": [
        "\r",
        "|######----| 3113/4948  62% [elapsed: 42:26 left: 25:01,  1.22 iters/sec]"
       ]
      },
      {
       "output_type": "stream",
       "stream": "stdout",
       "text": [
        "\r",
        "|######----| 3114/4948  62% [elapsed: 42:29 left: 25:01,  1.22 iters/sec]"
       ]
      },
      {
       "output_type": "stream",
       "stream": "stdout",
       "text": [
        "\r",
        "|######----| 3115/4948  62% [elapsed: 42:31 left: 25:01,  1.22 iters/sec]"
       ]
      },
      {
       "output_type": "stream",
       "stream": "stdout",
       "text": [
        "\r",
        "|######----| 3116/4948  62% [elapsed: 42:36 left: 25:02,  1.22 iters/sec]"
       ]
      },
      {
       "output_type": "stream",
       "stream": "stdout",
       "text": [
        "\r",
        "|######----| 3117/4948  62% [elapsed: 42:37 left: 25:02,  1.22 iters/sec]"
       ]
      },
      {
       "output_type": "stream",
       "stream": "stdout",
       "text": [
        "\r",
        "|######----| 3119/4948  63% [elapsed: 42:41 left: 25:02,  1.22 iters/sec]"
       ]
      },
      {
       "output_type": "stream",
       "stream": "stdout",
       "text": [
        "\r",
        "|######----| 3120/4948  63% [elapsed: 42:43 left: 25:01,  1.22 iters/sec]"
       ]
      },
      {
       "output_type": "stream",
       "stream": "stdout",
       "text": [
        "\r",
        "|######----| 3121/4948  63% [elapsed: 42:44 left: 25:01,  1.22 iters/sec]"
       ]
      },
      {
       "output_type": "stream",
       "stream": "stdout",
       "text": [
        "\r",
        "|######----| 3122/4948  63% [elapsed: 42:47 left: 25:01,  1.22 iters/sec]"
       ]
      },
      {
       "output_type": "stream",
       "stream": "stdout",
       "text": [
        "\r",
        "|######----| 3123/4948  63% [elapsed: 42:50 left: 25:02,  1.21 iters/sec]"
       ]
      },
      {
       "output_type": "stream",
       "stream": "stdout",
       "text": [
        "\r",
        "|######----| 3124/4948  63% [elapsed: 42:53 left: 25:02,  1.21 iters/sec]"
       ]
      },
      {
       "output_type": "stream",
       "stream": "stdout",
       "text": [
        "\r",
        "|######----| 3125/4948  63% [elapsed: 42:55 left: 25:02,  1.21 iters/sec]"
       ]
      },
      {
       "output_type": "stream",
       "stream": "stdout",
       "text": [
        "\r",
        "|######----| 3126/4948  63% [elapsed: 42:56 left: 25:01,  1.21 iters/sec]"
       ]
      },
      {
       "output_type": "stream",
       "stream": "stdout",
       "text": [
        "\r",
        "|######----| 3128/4948  63% [elapsed: 42:59 left: 25:01,  1.21 iters/sec]"
       ]
      },
      {
       "output_type": "stream",
       "stream": "stdout",
       "text": [
        "\r",
        "|######----| 3129/4948  63% [elapsed: 43:03 left: 25:01,  1.21 iters/sec]"
       ]
      },
      {
       "output_type": "stream",
       "stream": "stdout",
       "text": [
        "\r",
        "|######----| 3130/4948  63% [elapsed: 43:07 left: 25:02,  1.21 iters/sec]"
       ]
      },
      {
       "output_type": "stream",
       "stream": "stdout",
       "text": [
        "\r",
        "|######----| 3131/4948  63% [elapsed: 43:09 left: 25:02,  1.21 iters/sec]"
       ]
      },
      {
       "output_type": "stream",
       "stream": "stdout",
       "text": [
        "\r",
        "|######----| 3132/4948  63% [elapsed: 43:13 left: 25:03,  1.21 iters/sec]"
       ]
      },
      {
       "output_type": "stream",
       "stream": "stdout",
       "text": [
        "\r",
        "|######----| 3134/4948  63% [elapsed: 43:14 left: 25:01,  1.21 iters/sec]"
       ]
      },
      {
       "output_type": "stream",
       "stream": "stdout",
       "text": [
        "\r",
        "|######----| 3135/4948  63% [elapsed: 43:16 left: 25:01,  1.21 iters/sec]"
       ]
      },
      {
       "output_type": "stream",
       "stream": "stdout",
       "text": [
        "\r",
        "|######----| 3136/4948  63% [elapsed: 43:17 left: 25:00,  1.21 iters/sec]"
       ]
      },
      {
       "output_type": "stream",
       "stream": "stdout",
       "text": [
        "\r",
        "|######----| 3137/4948  63% [elapsed: 43:20 left: 25:01,  1.21 iters/sec]"
       ]
      },
      {
       "output_type": "stream",
       "stream": "stdout",
       "text": [
        "\r",
        "|######----| 3138/4948  63% [elapsed: 43:21 left: 25:00,  1.21 iters/sec]"
       ]
      },
      {
       "output_type": "stream",
       "stream": "stdout",
       "text": [
        "\r",
        "|######----| 3139/4948  63% [elapsed: 43:25 left: 25:01,  1.20 iters/sec]"
       ]
      },
      {
       "output_type": "stream",
       "stream": "stdout",
       "text": [
        "\r",
        "|######----| 3140/4948  63% [elapsed: 43:29 left: 25:02,  1.20 iters/sec]"
       ]
      },
      {
       "output_type": "stream",
       "stream": "stdout",
       "text": [
        "\r",
        "|######----| 3141/4948  63% [elapsed: 43:33 left: 25:03,  1.20 iters/sec]"
       ]
      },
      {
       "output_type": "stream",
       "stream": "stdout",
       "text": [
        "\r",
        "|######----| 3144/4948  63% [elapsed: 43:36 left: 25:01,  1.20 iters/sec]"
       ]
      },
      {
       "output_type": "stream",
       "stream": "stdout",
       "text": [
        "\r",
        "|######----| 3145/4948  63% [elapsed: 43:42 left: 25:03,  1.20 iters/sec]"
       ]
      },
      {
       "output_type": "stream",
       "stream": "stdout",
       "text": [
        "\r",
        "|######----| 3146/4948  63% [elapsed: 43:47 left: 25:05,  1.20 iters/sec]"
       ]
      },
      {
       "output_type": "stream",
       "stream": "stdout",
       "text": [
        "\r",
        "|######----| 3147/4948  63% [elapsed: 43:51 left: 25:05,  1.20 iters/sec]"
       ]
      },
      {
       "output_type": "stream",
       "stream": "stdout",
       "text": [
        "\r",
        "|######----| 3148/4948  63% [elapsed: 43:55 left: 25:06,  1.19 iters/sec]"
       ]
      },
      {
       "output_type": "stream",
       "stream": "stdout",
       "text": [
        "\r",
        "|######----| 3149/4948  63% [elapsed: 43:58 left: 25:07,  1.19 iters/sec]"
       ]
      },
      {
       "output_type": "stream",
       "stream": "stdout",
       "text": [
        "\r",
        "|######----| 3151/4948  63% [elapsed: 44:02 left: 25:07,  1.19 iters/sec]"
       ]
      },
      {
       "output_type": "stream",
       "stream": "stdout",
       "text": [
        "\r",
        "|######----| 3152/4948  63% [elapsed: 44:06 left: 25:08,  1.19 iters/sec]"
       ]
      },
      {
       "output_type": "stream",
       "stream": "stdout",
       "text": [
        "\r",
        "|######----| 3153/4948  63% [elapsed: 44:10 left: 25:08,  1.19 iters/sec]"
       ]
      },
      {
       "output_type": "stream",
       "stream": "stdout",
       "text": [
        "\r",
        "|######----| 3154/4948  63% [elapsed: 44:13 left: 25:09,  1.19 iters/sec]"
       ]
      },
      {
       "output_type": "stream",
       "stream": "stdout",
       "text": [
        "\r",
        "|######----| 3155/4948  63% [elapsed: 44:16 left: 25:09,  1.19 iters/sec]"
       ]
      },
      {
       "output_type": "stream",
       "stream": "stdout",
       "text": [
        "\r",
        "|######----| 3156/4948  63% [elapsed: 44:19 left: 25:09,  1.19 iters/sec]"
       ]
      },
      {
       "output_type": "stream",
       "stream": "stdout",
       "text": [
        "\r",
        "|######----| 3157/4948  63% [elapsed: 44:23 left: 25:10,  1.19 iters/sec]"
       ]
      },
      {
       "output_type": "stream",
       "stream": "stdout",
       "text": [
        "\r",
        "|######----| 3158/4948  63% [elapsed: 44:26 left: 25:11,  1.18 iters/sec]"
       ]
      },
      {
       "output_type": "stream",
       "stream": "stdout",
       "text": [
        "\r",
        "|######----| 3159/4948  63% [elapsed: 44:28 left: 25:11,  1.18 iters/sec]"
       ]
      },
      {
       "output_type": "stream",
       "stream": "stdout",
       "text": [
        "\r",
        "|######----| 3160/4948  63% [elapsed: 44:31 left: 25:11,  1.18 iters/sec]"
       ]
      },
      {
       "output_type": "stream",
       "stream": "stdout",
       "text": [
        "\r",
        "|######----| 3161/4948  63% [elapsed: 44:35 left: 25:12,  1.18 iters/sec]"
       ]
      },
      {
       "output_type": "stream",
       "stream": "stdout",
       "text": [
        "\r",
        "|######----| 3162/4948  63% [elapsed: 44:36 left: 25:11,  1.18 iters/sec]"
       ]
      },
      {
       "output_type": "stream",
       "stream": "stdout",
       "text": [
        "\r",
        "|######----| 3164/4948  63% [elapsed: 44:38 left: 25:10,  1.18 iters/sec]"
       ]
      },
      {
       "output_type": "stream",
       "stream": "stdout",
       "text": [
        "\r",
        "|######----| 3165/4948  63% [elapsed: 44:41 left: 25:10,  1.18 iters/sec]"
       ]
      },
      {
       "output_type": "stream",
       "stream": "stdout",
       "text": [
        "\r",
        "|######----| 3166/4948  63% [elapsed: 44:45 left: 25:11,  1.18 iters/sec]"
       ]
      },
      {
       "output_type": "stream",
       "stream": "stdout",
       "text": [
        "\r",
        "|######----| 3167/4948  64% [elapsed: 44:46 left: 25:10,  1.18 iters/sec]"
       ]
      },
      {
       "output_type": "stream",
       "stream": "stdout",
       "text": [
        "\r",
        "|######----| 3168/4948  64% [elapsed: 44:48 left: 25:10,  1.18 iters/sec]"
       ]
      },
      {
       "output_type": "stream",
       "stream": "stdout",
       "text": [
        "\r",
        "|######----| 3169/4948  64% [elapsed: 44:52 left: 25:11,  1.18 iters/sec]"
       ]
      },
      {
       "output_type": "stream",
       "stream": "stdout",
       "text": [
        "\r",
        "|######----| 3171/4948  64% [elapsed: 44:56 left: 25:10,  1.18 iters/sec]"
       ]
      },
      {
       "output_type": "stream",
       "stream": "stdout",
       "text": [
        "\r",
        "|######----| 3172/4948  64% [elapsed: 44:59 left: 25:11,  1.18 iters/sec]"
       ]
      },
      {
       "output_type": "stream",
       "stream": "stdout",
       "text": [
        "\r",
        "|######----| 3173/4948  64% [elapsed: 45:02 left: 25:11,  1.17 iters/sec]"
       ]
      },
      {
       "output_type": "stream",
       "stream": "stdout",
       "text": [
        "\r",
        "|######----| 3174/4948  64% [elapsed: 45:07 left: 25:13,  1.17 iters/sec]"
       ]
      },
      {
       "output_type": "stream",
       "stream": "stdout",
       "text": [
        "\r",
        "|######----| 3176/4948  64% [elapsed: 45:11 left: 25:12,  1.17 iters/sec]"
       ]
      },
      {
       "output_type": "stream",
       "stream": "stdout",
       "text": [
        "\r",
        "|######----| 3177/4948  64% [elapsed: 45:15 left: 25:13,  1.17 iters/sec]"
       ]
      },
      {
       "output_type": "stream",
       "stream": "stdout",
       "text": [
        "\r",
        "|######----| 3178/4948  64% [elapsed: 45:18 left: 25:14,  1.17 iters/sec]"
       ]
      },
      {
       "output_type": "stream",
       "stream": "stdout",
       "text": [
        "\r",
        "|######----| 3179/4948  64% [elapsed: 45:21 left: 25:14,  1.17 iters/sec]"
       ]
      },
      {
       "output_type": "stream",
       "stream": "stdout",
       "text": [
        "\r",
        "|######----| 3180/4948  64% [elapsed: 45:24 left: 25:14,  1.17 iters/sec]"
       ]
      },
      {
       "output_type": "stream",
       "stream": "stdout",
       "text": [
        "\r",
        "|######----| 3181/4948  64% [elapsed: 45:26 left: 25:14,  1.17 iters/sec]"
       ]
      },
      {
       "output_type": "stream",
       "stream": "stdout",
       "text": [
        "\r",
        "|######----| 3182/4948  64% [elapsed: 45:29 left: 25:14,  1.17 iters/sec]"
       ]
      },
      {
       "output_type": "stream",
       "stream": "stdout",
       "text": [
        "\r",
        "|######----| 3183/4948  64% [elapsed: 45:30 left: 25:14,  1.17 iters/sec]"
       ]
      },
      {
       "output_type": "stream",
       "stream": "stdout",
       "text": [
        "\r",
        "|######----| 3184/4948  64% [elapsed: 45:33 left: 25:14,  1.16 iters/sec]"
       ]
      },
      {
       "output_type": "stream",
       "stream": "stdout",
       "text": [
        "\r",
        "|######----| 3185/4948  64% [elapsed: 45:37 left: 25:15,  1.16 iters/sec]"
       ]
      },
      {
       "output_type": "stream",
       "stream": "stdout",
       "text": [
        "\r",
        "|######----| 3186/4948  64% [elapsed: 45:42 left: 25:16,  1.16 iters/sec]"
       ]
      },
      {
       "output_type": "stream",
       "stream": "stdout",
       "text": [
        "\r",
        "|######----| 3187/4948  64% [elapsed: 45:45 left: 25:17,  1.16 iters/sec]"
       ]
      },
      {
       "output_type": "stream",
       "stream": "stdout",
       "text": [
        "\r",
        "|######----| 3188/4948  64% [elapsed: 45:46 left: 25:16,  1.16 iters/sec]"
       ]
      },
      {
       "output_type": "stream",
       "stream": "stdout",
       "text": [
        "\r",
        "|######----| 3189/4948  64% [elapsed: 45:50 left: 25:16,  1.16 iters/sec]"
       ]
      },
      {
       "output_type": "stream",
       "stream": "stdout",
       "text": [
        "\r",
        "|######----| 3190/4948  64% [elapsed: 45:54 left: 25:17,  1.16 iters/sec]"
       ]
      },
      {
       "output_type": "stream",
       "stream": "stdout",
       "text": [
        "\r",
        "|######----| 3191/4948  64% [elapsed: 45:57 left: 25:18,  1.16 iters/sec]"
       ]
      },
      {
       "output_type": "stream",
       "stream": "stdout",
       "text": [
        "\r",
        "|######----| 3192/4948  64% [elapsed: 46:01 left: 25:18,  1.16 iters/sec]"
       ]
      },
      {
       "output_type": "stream",
       "stream": "stdout",
       "text": [
        "\r",
        "|######----| 3193/4948  64% [elapsed: 46:05 left: 25:19,  1.15 iters/sec]"
       ]
      },
      {
       "output_type": "stream",
       "stream": "stdout",
       "text": [
        "\r",
        "|######----| 3195/4948  64% [elapsed: 46:08 left: 25:18,  1.15 iters/sec]"
       ]
      },
      {
       "output_type": "stream",
       "stream": "stdout",
       "text": [
        "\r",
        "|######----| 3196/4948  64% [elapsed: 46:11 left: 25:19,  1.15 iters/sec]"
       ]
      },
      {
       "output_type": "stream",
       "stream": "stdout",
       "text": [
        "\r",
        "|######----| 3197/4948  64% [elapsed: 46:14 left: 25:19,  1.15 iters/sec]"
       ]
      },
      {
       "output_type": "stream",
       "stream": "stdout",
       "text": [
        "\r",
        "|######----| 3198/4948  64% [elapsed: 46:18 left: 25:20,  1.15 iters/sec]"
       ]
      },
      {
       "output_type": "stream",
       "stream": "stdout",
       "text": [
        "\r",
        "|######----| 3200/4948  64% [elapsed: 46:22 left: 25:19,  1.15 iters/sec]"
       ]
      },
      {
       "output_type": "stream",
       "stream": "stdout",
       "text": [
        "\r",
        "|######----| 3201/4948  64% [elapsed: 46:26 left: 25:20,  1.15 iters/sec]"
       ]
      },
      {
       "output_type": "stream",
       "stream": "stdout",
       "text": [
        "\r",
        "|######----| 3202/4948  64% [elapsed: 46:30 left: 25:21,  1.15 iters/sec]"
       ]
      },
      {
       "output_type": "stream",
       "stream": "stdout",
       "text": [
        "\r",
        "|######----| 3203/4948  64% [elapsed: 46:34 left: 25:22,  1.15 iters/sec]"
       ]
      },
      {
       "output_type": "stream",
       "stream": "stdout",
       "text": [
        "\r",
        "|######----| 3204/4948  64% [elapsed: 46:35 left: 25:21,  1.15 iters/sec]"
       ]
      },
      {
       "output_type": "stream",
       "stream": "stdout",
       "text": [
        "\r",
        "|######----| 3205/4948  64% [elapsed: 46:39 left: 25:22,  1.14 iters/sec]"
       ]
      },
      {
       "output_type": "stream",
       "stream": "stdout",
       "text": [
        "\r",
        "|######----| 3206/4948  64% [elapsed: 46:43 left: 25:23,  1.14 iters/sec]"
       ]
      },
      {
       "output_type": "stream",
       "stream": "stdout",
       "text": [
        "\r",
        "|######----| 3207/4948  64% [elapsed: 46:48 left: 25:24,  1.14 iters/sec]"
       ]
      },
      {
       "output_type": "stream",
       "stream": "stdout",
       "text": [
        "\r",
        "|######----| 3208/4948  64% [elapsed: 46:51 left: 25:24,  1.14 iters/sec]"
       ]
      },
      {
       "output_type": "stream",
       "stream": "stdout",
       "text": [
        "\r",
        "|######----| 3209/4948  64% [elapsed: 46:55 left: 25:26,  1.14 iters/sec]"
       ]
      },
      {
       "output_type": "stream",
       "stream": "stdout",
       "text": [
        "\r",
        "|######----| 3210/4948  64% [elapsed: 46:59 left: 25:26,  1.14 iters/sec]"
       ]
      },
      {
       "output_type": "stream",
       "stream": "stdout",
       "text": [
        "\r",
        "|######----| 3211/4948  64% [elapsed: 47:02 left: 25:26,  1.14 iters/sec]"
       ]
      },
      {
       "output_type": "stream",
       "stream": "stdout",
       "text": [
        "\r",
        "|######----| 3212/4948  64% [elapsed: 47:03 left: 25:26,  1.14 iters/sec]"
       ]
      },
      {
       "output_type": "stream",
       "stream": "stdout",
       "text": [
        "\r",
        "|######----| 3213/4948  64% [elapsed: 47:06 left: 25:26,  1.14 iters/sec]"
       ]
      },
      {
       "output_type": "stream",
       "stream": "stdout",
       "text": [
        "\r",
        "|######----| 3214/4948  64% [elapsed: 47:09 left: 25:26,  1.14 iters/sec]"
       ]
      },
      {
       "output_type": "stream",
       "stream": "stdout",
       "text": [
        "\r",
        "|######----| 3215/4948  64% [elapsed: 47:13 left: 25:27,  1.13 iters/sec]"
       ]
      },
      {
       "output_type": "stream",
       "stream": "stdout",
       "text": [
        "\r",
        "|######----| 3216/4948  64% [elapsed: 47:18 left: 25:28,  1.13 iters/sec]"
       ]
      },
      {
       "output_type": "stream",
       "stream": "stdout",
       "text": [
        "\r",
        "|######----| 3217/4948  65% [elapsed: 47:21 left: 25:28,  1.13 iters/sec]"
       ]
      },
      {
       "output_type": "stream",
       "stream": "stdout",
       "text": [
        "\r",
        "|######----| 3218/4948  65% [elapsed: 47:24 left: 25:29,  1.13 iters/sec]"
       ]
      },
      {
       "output_type": "stream",
       "stream": "stdout",
       "text": [
        "\r",
        "|######----| 3219/4948  65% [elapsed: 47:25 left: 25:28,  1.13 iters/sec]"
       ]
      },
      {
       "output_type": "stream",
       "stream": "stdout",
       "text": [
        "\r",
        "|######----| 3220/4948  65% [elapsed: 47:29 left: 25:29,  1.13 iters/sec]"
       ]
      },
      {
       "output_type": "stream",
       "stream": "stdout",
       "text": [
        "\r",
        "|######----| 3221/4948  65% [elapsed: 47:32 left: 25:29,  1.13 iters/sec]"
       ]
      },
      {
       "output_type": "stream",
       "stream": "stdout",
       "text": [
        "\r",
        "|######----| 3222/4948  65% [elapsed: 47:35 left: 25:29,  1.13 iters/sec]"
       ]
      },
      {
       "output_type": "stream",
       "stream": "stdout",
       "text": [
        "\r",
        "|######----| 3223/4948  65% [elapsed: 47:39 left: 25:30,  1.13 iters/sec]"
       ]
      },
      {
       "output_type": "stream",
       "stream": "stdout",
       "text": [
        "\r",
        "|######----| 3224/4948  65% [elapsed: 47:42 left: 25:30,  1.13 iters/sec]"
       ]
      },
      {
       "output_type": "stream",
       "stream": "stdout",
       "text": [
        "\r",
        "|######----| 3225/4948  65% [elapsed: 47:46 left: 25:31,  1.13 iters/sec]"
       ]
      },
      {
       "output_type": "stream",
       "stream": "stdout",
       "text": [
        "\r",
        "|######----| 3226/4948  65% [elapsed: 47:50 left: 25:32,  1.12 iters/sec]"
       ]
      },
      {
       "output_type": "stream",
       "stream": "stdout",
       "text": [
        "\r",
        "|######----| 3227/4948  65% [elapsed: 47:54 left: 25:33,  1.12 iters/sec]"
       ]
      },
      {
       "output_type": "stream",
       "stream": "stdout",
       "text": [
        "\r",
        "|######----| 3228/4948  65% [elapsed: 47:59 left: 25:34,  1.12 iters/sec]"
       ]
      },
      {
       "output_type": "stream",
       "stream": "stdout",
       "text": [
        "\r",
        "|######----| 3229/4948  65% [elapsed: 48:03 left: 25:34,  1.12 iters/sec]"
       ]
      },
      {
       "output_type": "stream",
       "stream": "stdout",
       "text": [
        "\r",
        "|######----| 3230/4948  65% [elapsed: 48:06 left: 25:35,  1.12 iters/sec]"
       ]
      },
      {
       "output_type": "stream",
       "stream": "stdout",
       "text": [
        "\r",
        "|######----| 3231/4948  65% [elapsed: 48:09 left: 25:35,  1.12 iters/sec]"
       ]
      },
      {
       "output_type": "stream",
       "stream": "stdout",
       "text": [
        "\r",
        "|######----| 3232/4948  65% [elapsed: 48:13 left: 25:36,  1.12 iters/sec]"
       ]
      },
      {
       "output_type": "stream",
       "stream": "stdout",
       "text": [
        "\r",
        "|######----| 3233/4948  65% [elapsed: 48:16 left: 25:36,  1.12 iters/sec]"
       ]
      },
      {
       "output_type": "stream",
       "stream": "stdout",
       "text": [
        "\r",
        "|######----| 3234/4948  65% [elapsed: 48:21 left: 25:37,  1.11 iters/sec]"
       ]
      },
      {
       "output_type": "stream",
       "stream": "stdout",
       "text": [
        "\r",
        "|######----| 3235/4948  65% [elapsed: 48:25 left: 25:38,  1.11 iters/sec]"
       ]
      },
      {
       "output_type": "stream",
       "stream": "stdout",
       "text": [
        "\r",
        "|######----| 3236/4948  65% [elapsed: 48:28 left: 25:38,  1.11 iters/sec]"
       ]
      },
      {
       "output_type": "stream",
       "stream": "stdout",
       "text": [
        "\r",
        "|######----| 3237/4948  65% [elapsed: 48:32 left: 25:39,  1.11 iters/sec]"
       ]
      },
      {
       "output_type": "stream",
       "stream": "stdout",
       "text": [
        "\r",
        "|######----| 3238/4948  65% [elapsed: 48:35 left: 25:39,  1.11 iters/sec]"
       ]
      },
      {
       "output_type": "stream",
       "stream": "stdout",
       "text": [
        "\r",
        "|######----| 3239/4948  65% [elapsed: 48:39 left: 25:40,  1.11 iters/sec]"
       ]
      },
      {
       "output_type": "stream",
       "stream": "stdout",
       "text": [
        "\r",
        "|######----| 3240/4948  65% [elapsed: 48:43 left: 25:41,  1.11 iters/sec]"
       ]
      },
      {
       "output_type": "stream",
       "stream": "stdout",
       "text": [
        "\r",
        "|######----| 3241/4948  65% [elapsed: 48:47 left: 25:41,  1.11 iters/sec]"
       ]
      },
      {
       "output_type": "stream",
       "stream": "stdout",
       "text": [
        "\r",
        "|######----| 3242/4948  65% [elapsed: 48:49 left: 25:41,  1.11 iters/sec]"
       ]
      },
      {
       "output_type": "stream",
       "stream": "stdout",
       "text": [
        "\r",
        "|######----| 3243/4948  65% [elapsed: 48:52 left: 25:41,  1.11 iters/sec]"
       ]
      },
      {
       "output_type": "stream",
       "stream": "stdout",
       "text": [
        "\r",
        "|######----| 3244/4948  65% [elapsed: 48:54 left: 25:41,  1.11 iters/sec]"
       ]
      },
      {
       "output_type": "stream",
       "stream": "stdout",
       "text": [
        "\r",
        "|######----| 3245/4948  65% [elapsed: 48:57 left: 25:41,  1.10 iters/sec]"
       ]
      },
      {
       "output_type": "stream",
       "stream": "stdout",
       "text": [
        "\r",
        "|######----| 3246/4948  65% [elapsed: 49:00 left: 25:42,  1.10 iters/sec]"
       ]
      },
      {
       "output_type": "stream",
       "stream": "stdout",
       "text": [
        "\r",
        "|######----| 3247/4948  65% [elapsed: 49:03 left: 25:42,  1.10 iters/sec]"
       ]
      },
      {
       "output_type": "stream",
       "stream": "stdout",
       "text": [
        "\r",
        "|######----| 3248/4948  65% [elapsed: 49:07 left: 25:42,  1.10 iters/sec]"
       ]
      },
      {
       "output_type": "stream",
       "stream": "stdout",
       "text": [
        "\r",
        "|######----| 3250/4948  65% [elapsed: 49:10 left: 25:41,  1.10 iters/sec]"
       ]
      },
      {
       "output_type": "stream",
       "stream": "stdout",
       "text": [
        "\r",
        "|######----| 3251/4948  65% [elapsed: 49:13 left: 25:41,  1.10 iters/sec]"
       ]
      },
      {
       "output_type": "stream",
       "stream": "stdout",
       "text": [
        "\r",
        "|######----| 3252/4948  65% [elapsed: 49:16 left: 25:41,  1.10 iters/sec]"
       ]
      },
      {
       "output_type": "stream",
       "stream": "stdout",
       "text": [
        "\r",
        "|######----| 3253/4948  65% [elapsed: 49:19 left: 25:42,  1.10 iters/sec]"
       ]
      },
      {
       "output_type": "stream",
       "stream": "stdout",
       "text": [
        "\r",
        "|######----| 3254/4948  65% [elapsed: 49:22 left: 25:42,  1.10 iters/sec]"
       ]
      },
      {
       "output_type": "stream",
       "stream": "stdout",
       "text": [
        "\r",
        "|######----| 3255/4948  65% [elapsed: 49:26 left: 25:42,  1.10 iters/sec]"
       ]
      },
      {
       "output_type": "stream",
       "stream": "stdout",
       "text": [
        "\r",
        "|######----| 3256/4948  65% [elapsed: 49:29 left: 25:42,  1.10 iters/sec]"
       ]
      },
      {
       "output_type": "stream",
       "stream": "stdout",
       "text": [
        "\r",
        "|######----| 3257/4948  65% [elapsed: 49:30 left: 25:42,  1.10 iters/sec]"
       ]
      },
      {
       "output_type": "stream",
       "stream": "stdout",
       "text": [
        "\r",
        "|######----| 3258/4948  65% [elapsed: 49:33 left: 25:42,  1.10 iters/sec]"
       ]
      },
      {
       "output_type": "stream",
       "stream": "stdout",
       "text": [
        "\r",
        "|######----| 3259/4948  65% [elapsed: 49:35 left: 25:41,  1.10 iters/sec]"
       ]
      },
      {
       "output_type": "stream",
       "stream": "stdout",
       "text": [
        "\r",
        "|######----| 3260/4948  65% [elapsed: 49:37 left: 25:41,  1.09 iters/sec]"
       ]
      },
      {
       "output_type": "stream",
       "stream": "stdout",
       "text": [
        "\r",
        "|######----| 3261/4948  65% [elapsed: 49:40 left: 25:41,  1.09 iters/sec]"
       ]
      },
      {
       "output_type": "stream",
       "stream": "stdout",
       "text": [
        "\r",
        "|######----| 3262/4948  65% [elapsed: 49:43 left: 25:42,  1.09 iters/sec]"
       ]
      },
      {
       "output_type": "stream",
       "stream": "stdout",
       "text": [
        "\r",
        "|######----| 3263/4948  65% [elapsed: 49:46 left: 25:42,  1.09 iters/sec]"
       ]
      },
      {
       "output_type": "stream",
       "stream": "stdout",
       "text": [
        "\r",
        "|######----| 3264/4948  65% [elapsed: 49:49 left: 25:42,  1.09 iters/sec]"
       ]
      },
      {
       "output_type": "stream",
       "stream": "stdout",
       "text": [
        "\r",
        "|######----| 3265/4948  65% [elapsed: 49:53 left: 25:42,  1.09 iters/sec]"
       ]
      },
      {
       "output_type": "stream",
       "stream": "stdout",
       "text": [
        "\r",
        "|######----| 3266/4948  66% [elapsed: 49:54 left: 25:42,  1.09 iters/sec]"
       ]
      },
      {
       "output_type": "stream",
       "stream": "stdout",
       "text": [
        "\r",
        "|######----| 3267/4948  66% [elapsed: 49:57 left: 25:42,  1.09 iters/sec]"
       ]
      },
      {
       "output_type": "stream",
       "stream": "stdout",
       "text": [
        "\r",
        "|######----| 3268/4948  66% [elapsed: 50:00 left: 25:42,  1.09 iters/sec]"
       ]
      },
      {
       "output_type": "stream",
       "stream": "stdout",
       "text": [
        "\r",
        "|######----| 3269/4948  66% [elapsed: 50:01 left: 25:41,  1.09 iters/sec]"
       ]
      },
      {
       "output_type": "stream",
       "stream": "stdout",
       "text": [
        "\r",
        "|######----| 3270/4948  66% [elapsed: 50:05 left: 25:42,  1.09 iters/sec]"
       ]
      },
      {
       "output_type": "stream",
       "stream": "stdout",
       "text": [
        "\r",
        "|######----| 3271/4948  66% [elapsed: 50:08 left: 25:42,  1.09 iters/sec]"
       ]
      },
      {
       "output_type": "stream",
       "stream": "stdout",
       "text": [
        "\r",
        "|######----| 3272/4948  66% [elapsed: 50:11 left: 25:42,  1.09 iters/sec]"
       ]
      },
      {
       "output_type": "stream",
       "stream": "stdout",
       "text": [
        "\r",
        "|######----| 3273/4948  66% [elapsed: 50:14 left: 25:42,  1.09 iters/sec]"
       ]
      },
      {
       "output_type": "stream",
       "stream": "stdout",
       "text": [
        "\r",
        "|######----| 3274/4948  66% [elapsed: 50:18 left: 25:43,  1.08 iters/sec]"
       ]
      },
      {
       "output_type": "stream",
       "stream": "stdout",
       "text": [
        "\r",
        "|######----| 3275/4948  66% [elapsed: 50:20 left: 25:42,  1.08 iters/sec]"
       ]
      },
      {
       "output_type": "stream",
       "stream": "stdout",
       "text": [
        "\r",
        "|######----| 3276/4948  66% [elapsed: 50:24 left: 25:43,  1.08 iters/sec]"
       ]
      },
      {
       "output_type": "stream",
       "stream": "stdout",
       "text": [
        "\r",
        "|######----| 3277/4948  66% [elapsed: 50:26 left: 25:43,  1.08 iters/sec]"
       ]
      },
      {
       "output_type": "stream",
       "stream": "stdout",
       "text": [
        "\r",
        "|######----| 3278/4948  66% [elapsed: 50:30 left: 25:43,  1.08 iters/sec]"
       ]
      },
      {
       "output_type": "stream",
       "stream": "stdout",
       "text": [
        "\r",
        "|######----| 3279/4948  66% [elapsed: 50:33 left: 25:44,  1.08 iters/sec]"
       ]
      },
      {
       "output_type": "stream",
       "stream": "stdout",
       "text": [
        "\r",
        "|######----| 3281/4948  66% [elapsed: 50:37 left: 25:43,  1.08 iters/sec]"
       ]
      },
      {
       "output_type": "stream",
       "stream": "stdout",
       "text": [
        "\r",
        "|######----| 3282/4948  66% [elapsed: 50:40 left: 25:43,  1.08 iters/sec]"
       ]
      },
      {
       "output_type": "stream",
       "stream": "stdout",
       "text": [
        "\r",
        "|######----| 3283/4948  66% [elapsed: 50:44 left: 25:43,  1.08 iters/sec]"
       ]
      },
      {
       "output_type": "stream",
       "stream": "stdout",
       "text": [
        "\r",
        "|######----| 3284/4948  66% [elapsed: 50:48 left: 25:44,  1.08 iters/sec]"
       ]
      },
      {
       "output_type": "stream",
       "stream": "stdout",
       "text": [
        "\r",
        "|######----| 3285/4948  66% [elapsed: 50:51 left: 25:44,  1.08 iters/sec]"
       ]
      },
      {
       "output_type": "stream",
       "stream": "stdout",
       "text": [
        "\r",
        "|######----| 3286/4948  66% [elapsed: 50:52 left: 25:43,  1.08 iters/sec]"
       ]
      },
      {
       "output_type": "stream",
       "stream": "stdout",
       "text": [
        "\r",
        "|######----| 3287/4948  66% [elapsed: 50:55 left: 25:44,  1.08 iters/sec]"
       ]
      },
      {
       "output_type": "stream",
       "stream": "stdout",
       "text": [
        "\r",
        "|######----| 3288/4948  66% [elapsed: 50:57 left: 25:43,  1.08 iters/sec]"
       ]
      },
      {
       "output_type": "stream",
       "stream": "stdout",
       "text": [
        "\r",
        "|######----| 3289/4948  66% [elapsed: 51:01 left: 25:44,  1.07 iters/sec]"
       ]
      },
      {
       "output_type": "stream",
       "stream": "stdout",
       "text": [
        "\r",
        "|######----| 3290/4948  66% [elapsed: 51:04 left: 25:44,  1.07 iters/sec]"
       ]
      },
      {
       "output_type": "stream",
       "stream": "stdout",
       "text": [
        "\r",
        "|######----| 3291/4948  66% [elapsed: 51:07 left: 25:44,  1.07 iters/sec]"
       ]
      },
      {
       "output_type": "stream",
       "stream": "stdout",
       "text": [
        "\r",
        "|######----| 3292/4948  66% [elapsed: 51:11 left: 25:44,  1.07 iters/sec]"
       ]
      },
      {
       "output_type": "stream",
       "stream": "stdout",
       "text": [
        "\r",
        "|######----| 3293/4948  66% [elapsed: 51:15 left: 25:45,  1.07 iters/sec]"
       ]
      },
      {
       "output_type": "stream",
       "stream": "stdout",
       "text": [
        "\r",
        "|######----| 3294/4948  66% [elapsed: 51:18 left: 25:45,  1.07 iters/sec]"
       ]
      },
      {
       "output_type": "stream",
       "stream": "stdout",
       "text": [
        "\r",
        "|######----| 3295/4948  66% [elapsed: 51:22 left: 25:46,  1.07 iters/sec]"
       ]
      },
      {
       "output_type": "stream",
       "stream": "stdout",
       "text": [
        "\r",
        "|######----| 3299/4948  66% [elapsed: 51:23 left: 25:41,  1.07 iters/sec]"
       ]
      },
      {
       "output_type": "stream",
       "stream": "stdout",
       "text": [
        "\r",
        "|######----| 3300/4948  66% [elapsed: 51:26 left: 25:41,  1.07 iters/sec]"
       ]
      },
      {
       "output_type": "stream",
       "stream": "stdout",
       "text": [
        "\r",
        "|######----| 3301/4948  66% [elapsed: 51:30 left: 25:41,  1.07 iters/sec]"
       ]
      },
      {
       "output_type": "stream",
       "stream": "stdout",
       "text": [
        "\r",
        "|######----| 3303/4948  66% [elapsed: 51:33 left: 25:40,  1.07 iters/sec]"
       ]
      },
      {
       "output_type": "stream",
       "stream": "stdout",
       "text": [
        "\r",
        "|######----| 3304/4948  66% [elapsed: 51:36 left: 25:40,  1.07 iters/sec]"
       ]
      },
      {
       "output_type": "stream",
       "stream": "stdout",
       "text": [
        "\r",
        "|######----| 3305/4948  66% [elapsed: 51:39 left: 25:40,  1.07 iters/sec]"
       ]
      },
      {
       "output_type": "stream",
       "stream": "stdout",
       "text": [
        "\r",
        "|######----| 3307/4948  66% [elapsed: 51:42 left: 25:39,  1.07 iters/sec]"
       ]
      },
      {
       "output_type": "stream",
       "stream": "stdout",
       "text": [
        "\r",
        "|######----| 3308/4948  66% [elapsed: 51:46 left: 25:40,  1.06 iters/sec]"
       ]
      },
      {
       "output_type": "stream",
       "stream": "stdout",
       "text": [
        "\r",
        "|######----| 3309/4948  66% [elapsed: 51:48 left: 25:39,  1.06 iters/sec]"
       ]
      },
      {
       "output_type": "stream",
       "stream": "stdout",
       "text": [
        "\r",
        "|######----| 3310/4948  66% [elapsed: 51:51 left: 25:39,  1.06 iters/sec]"
       ]
      },
      {
       "output_type": "stream",
       "stream": "stdout",
       "text": [
        "\r",
        "|######----| 3311/4948  66% [elapsed: 51:54 left: 25:39,  1.06 iters/sec]"
       ]
      },
      {
       "output_type": "stream",
       "stream": "stdout",
       "text": [
        "\r",
        "|######----| 3312/4948  66% [elapsed: 51:57 left: 25:39,  1.06 iters/sec]"
       ]
      },
      {
       "output_type": "stream",
       "stream": "stdout",
       "text": [
        "\r",
        "|######----| 3313/4948  66% [elapsed: 52:00 left: 25:40,  1.06 iters/sec]"
       ]
      },
      {
       "output_type": "stream",
       "stream": "stdout",
       "text": [
        "\r",
        "|######----| 3314/4948  66% [elapsed: 52:04 left: 25:40,  1.06 iters/sec]"
       ]
      },
      {
       "output_type": "stream",
       "stream": "stdout",
       "text": [
        "\r",
        "|######----| 3315/4948  66% [elapsed: 52:07 left: 25:40,  1.06 iters/sec]"
       ]
      },
      {
       "output_type": "stream",
       "stream": "stdout",
       "text": [
        "\r",
        "|######----| 3316/4948  67% [elapsed: 52:11 left: 25:41,  1.06 iters/sec]"
       ]
      },
      {
       "output_type": "stream",
       "stream": "stdout",
       "text": [
        "\r",
        "|######----| 3317/4948  67% [elapsed: 52:15 left: 25:41,  1.06 iters/sec]"
       ]
      },
      {
       "output_type": "stream",
       "stream": "stdout",
       "text": [
        "\r",
        "|######----| 3318/4948  67% [elapsed: 52:18 left: 25:41,  1.06 iters/sec]"
       ]
      },
      {
       "output_type": "stream",
       "stream": "stdout",
       "text": [
        "\r",
        "|######----| 3319/4948  67% [elapsed: 52:21 left: 25:42,  1.06 iters/sec]"
       ]
      },
      {
       "output_type": "stream",
       "stream": "stdout",
       "text": [
        "\r",
        "|######----| 3320/4948  67% [elapsed: 52:25 left: 25:42,  1.06 iters/sec]"
       ]
      },
      {
       "output_type": "stream",
       "stream": "stdout",
       "text": [
        "\r",
        "|######----| 3321/4948  67% [elapsed: 52:28 left: 25:42,  1.05 iters/sec]"
       ]
      },
      {
       "output_type": "stream",
       "stream": "stdout",
       "text": [
        "\r",
        "|######----| 3322/4948  67% [elapsed: 52:32 left: 25:43,  1.05 iters/sec]"
       ]
      },
      {
       "output_type": "stream",
       "stream": "stdout",
       "text": [
        "\r",
        "|######----| 3323/4948  67% [elapsed: 52:36 left: 25:43,  1.05 iters/sec]"
       ]
      },
      {
       "output_type": "stream",
       "stream": "stdout",
       "text": [
        "\r",
        "|######----| 3324/4948  67% [elapsed: 52:39 left: 25:43,  1.05 iters/sec]"
       ]
      },
      {
       "output_type": "stream",
       "stream": "stdout",
       "text": [
        "\r",
        "|######----| 3325/4948  67% [elapsed: 52:43 left: 25:44,  1.05 iters/sec]"
       ]
      },
      {
       "output_type": "stream",
       "stream": "stdout",
       "text": [
        "\r",
        "|######----| 3326/4948  67% [elapsed: 52:48 left: 25:45,  1.05 iters/sec]"
       ]
      },
      {
       "output_type": "stream",
       "stream": "stdout",
       "text": [
        "\r",
        "|######----| 3327/4948  67% [elapsed: 52:49 left: 25:44,  1.05 iters/sec]"
       ]
      },
      {
       "output_type": "stream",
       "stream": "stdout",
       "text": [
        "\r",
        "|######----| 3328/4948  67% [elapsed: 52:53 left: 25:44,  1.05 iters/sec]"
       ]
      },
      {
       "output_type": "stream",
       "stream": "stdout",
       "text": [
        "\r",
        "|######----| 3329/4948  67% [elapsed: 52:54 left: 25:43,  1.05 iters/sec]"
       ]
      },
      {
       "output_type": "stream",
       "stream": "stdout",
       "text": [
        "\r",
        "|######----| 3330/4948  67% [elapsed: 53:01 left: 25:45,  1.05 iters/sec]"
       ]
      },
      {
       "output_type": "stream",
       "stream": "stdout",
       "text": [
        "\r",
        "|######----| 3331/4948  67% [elapsed: 53:02 left: 25:44,  1.05 iters/sec]"
       ]
      },
      {
       "output_type": "stream",
       "stream": "stdout",
       "text": [
        "\r",
        "|######----| 3332/4948  67% [elapsed: 53:05 left: 25:45,  1.05 iters/sec]"
       ]
      },
      {
       "output_type": "stream",
       "stream": "stdout",
       "text": [
        "\r",
        "|######----| 3333/4948  67% [elapsed: 53:08 left: 25:45,  1.05 iters/sec]"
       ]
      },
      {
       "output_type": "stream",
       "stream": "stdout",
       "text": [
        "\r",
        "|######----| 3334/4948  67% [elapsed: 53:11 left: 25:45,  1.04 iters/sec]"
       ]
      },
      {
       "output_type": "stream",
       "stream": "stdout",
       "text": [
        "\r",
        "|######----| 3335/4948  67% [elapsed: 53:14 left: 25:45,  1.04 iters/sec]"
       ]
      },
      {
       "output_type": "stream",
       "stream": "stdout",
       "text": [
        "\r",
        "|######----| 3336/4948  67% [elapsed: 53:15 left: 25:43,  1.04 iters/sec]"
       ]
      },
      {
       "output_type": "stream",
       "stream": "stdout",
       "text": [
        "\r",
        "|######----| 3338/4948  67% [elapsed: 53:18 left: 25:42,  1.04 iters/sec]"
       ]
      },
      {
       "output_type": "stream",
       "stream": "stdout",
       "text": [
        "\r",
        "|######----| 3339/4948  67% [elapsed: 53:21 left: 25:42,  1.04 iters/sec]"
       ]
      },
      {
       "output_type": "stream",
       "stream": "stdout",
       "text": [
        "\r",
        "|######----| 3340/4948  67% [elapsed: 53:25 left: 25:43,  1.04 iters/sec]"
       ]
      },
      {
       "output_type": "stream",
       "stream": "stdout",
       "text": [
        "\r",
        "|######----| 3341/4948  67% [elapsed: 53:29 left: 25:43,  1.04 iters/sec]"
       ]
      },
      {
       "output_type": "stream",
       "stream": "stdout",
       "text": [
        "\r",
        "|######----| 3342/4948  67% [elapsed: 53:32 left: 25:43,  1.04 iters/sec]"
       ]
      },
      {
       "output_type": "stream",
       "stream": "stdout",
       "text": [
        "\r",
        "|######----| 3343/4948  67% [elapsed: 53:33 left: 25:42,  1.04 iters/sec]"
       ]
      },
      {
       "output_type": "stream",
       "stream": "stdout",
       "text": [
        "\r",
        "|######----| 3344/4948  67% [elapsed: 53:36 left: 25:42,  1.04 iters/sec]"
       ]
      },
      {
       "output_type": "stream",
       "stream": "stdout",
       "text": [
        "\r",
        "|######----| 3345/4948  67% [elapsed: 53:41 left: 25:43,  1.04 iters/sec]"
       ]
      },
      {
       "output_type": "stream",
       "stream": "stdout",
       "text": [
        "\r",
        "|######----| 3346/4948  67% [elapsed: 53:42 left: 25:43,  1.04 iters/sec]"
       ]
      },
      {
       "output_type": "stream",
       "stream": "stdout",
       "text": [
        "\r",
        "|######----| 3347/4948  67% [elapsed: 53:46 left: 25:43,  1.04 iters/sec]"
       ]
      },
      {
       "output_type": "stream",
       "stream": "stdout",
       "text": [
        "\r",
        "|######----| 3348/4948  67% [elapsed: 53:50 left: 25:43,  1.04 iters/sec]"
       ]
      },
      {
       "output_type": "stream",
       "stream": "stdout",
       "text": [
        "\r",
        "|######----| 3349/4948  67% [elapsed: 54:00 left: 25:47,  1.03 iters/sec]"
       ]
      },
      {
       "output_type": "stream",
       "stream": "stdout",
       "text": [
        "\r",
        "|######----| 3350/4948  67% [elapsed: 54:04 left: 25:47,  1.03 iters/sec]"
       ]
      },
      {
       "output_type": "stream",
       "stream": "stdout",
       "text": [
        "\r",
        "|######----| 3351/4948  67% [elapsed: 54:07 left: 25:47,  1.03 iters/sec]"
       ]
      },
      {
       "output_type": "stream",
       "stream": "stdout",
       "text": [
        "\r",
        "|######----| 3352/4948  67% [elapsed: 54:10 left: 25:47,  1.03 iters/sec]"
       ]
      },
      {
       "output_type": "stream",
       "stream": "stdout",
       "text": [
        "\r",
        "|######----| 3353/4948  67% [elapsed: 54:13 left: 25:47,  1.03 iters/sec]"
       ]
      },
      {
       "output_type": "stream",
       "stream": "stdout",
       "text": [
        "\r",
        "|######----| 3355/4948  67% [elapsed: 54:17 left: 25:46,  1.03 iters/sec]"
       ]
      },
      {
       "output_type": "stream",
       "stream": "stdout",
       "text": [
        "\r",
        "|######----| 3356/4948  67% [elapsed: 54:21 left: 25:47,  1.03 iters/sec]"
       ]
      },
      {
       "output_type": "stream",
       "stream": "stdout",
       "text": [
        "\r",
        "|######----| 3357/4948  67% [elapsed: 54:24 left: 25:47,  1.03 iters/sec]"
       ]
      },
      {
       "output_type": "stream",
       "stream": "stdout",
       "text": [
        "\r",
        "|######----| 3359/4948  67% [elapsed: 54:26 left: 25:45,  1.03 iters/sec]"
       ]
      },
      {
       "output_type": "stream",
       "stream": "stdout",
       "text": [
        "\r",
        "|######----| 3361/4948  67% [elapsed: 54:29 left: 25:43,  1.03 iters/sec]"
       ]
      },
      {
       "output_type": "stream",
       "stream": "stdout",
       "text": [
        "\r",
        "|######----| 3362/4948  67% [elapsed: 54:32 left: 25:43,  1.03 iters/sec]"
       ]
      },
      {
       "output_type": "stream",
       "stream": "stdout",
       "text": [
        "\r",
        "|######----| 3364/4948  67% [elapsed: 54:36 left: 25:42,  1.03 iters/sec]"
       ]
      },
      {
       "output_type": "stream",
       "stream": "stdout",
       "text": [
        "\r",
        "|######----| 3365/4948  68% [elapsed: 54:38 left: 25:42,  1.03 iters/sec]"
       ]
      },
      {
       "output_type": "stream",
       "stream": "stdout",
       "text": [
        "\r",
        "|######----| 3366/4948  68% [elapsed: 54:41 left: 25:42,  1.03 iters/sec]"
       ]
      },
      {
       "output_type": "stream",
       "stream": "stdout",
       "text": [
        "\r",
        "|######----| 3367/4948  68% [elapsed: 54:42 left: 25:41,  1.03 iters/sec]"
       ]
      },
      {
       "output_type": "stream",
       "stream": "stdout",
       "text": [
        "\r",
        "|######----| 3368/4948  68% [elapsed: 54:44 left: 25:40,  1.03 iters/sec]"
       ]
      },
      {
       "output_type": "stream",
       "stream": "stdout",
       "text": [
        "\r",
        "|######----| 3369/4948  68% [elapsed: 54:47 left: 25:40,  1.02 iters/sec]"
       ]
      },
      {
       "output_type": "stream",
       "stream": "stdout",
       "text": [
        "\r",
        "|######----| 3370/4948  68% [elapsed: 54:48 left: 25:39,  1.02 iters/sec]"
       ]
      },
      {
       "output_type": "stream",
       "stream": "stdout",
       "text": [
        "\r",
        "|######----| 3371/4948  68% [elapsed: 54:51 left: 25:39,  1.02 iters/sec]"
       ]
      },
      {
       "output_type": "stream",
       "stream": "stdout",
       "text": [
        "\r",
        "|######----| 3372/4948  68% [elapsed: 54:55 left: 25:40,  1.02 iters/sec]"
       ]
      },
      {
       "output_type": "stream",
       "stream": "stdout",
       "text": [
        "\r",
        "|######----| 3373/4948  68% [elapsed: 54:58 left: 25:40,  1.02 iters/sec]"
       ]
      },
      {
       "output_type": "stream",
       "stream": "stdout",
       "text": [
        "\r",
        "|######----| 3374/4948  68% [elapsed: 55:03 left: 25:41,  1.02 iters/sec]"
       ]
      },
      {
       "output_type": "stream",
       "stream": "stdout",
       "text": [
        "\r",
        "|######----| 3375/4948  68% [elapsed: 55:08 left: 25:41,  1.02 iters/sec]"
       ]
      },
      {
       "output_type": "stream",
       "stream": "stdout",
       "text": [
        "\r",
        "|######----| 3376/4948  68% [elapsed: 55:11 left: 25:42,  1.02 iters/sec]"
       ]
      },
      {
       "output_type": "stream",
       "stream": "stdout",
       "text": [
        "\r",
        "|######----| 3377/4948  68% [elapsed: 55:15 left: 25:42,  1.02 iters/sec]"
       ]
      },
      {
       "output_type": "stream",
       "stream": "stdout",
       "text": [
        "\r",
        "|######----| 3379/4948  68% [elapsed: 55:18 left: 25:40,  1.02 iters/sec]"
       ]
      },
      {
       "output_type": "stream",
       "stream": "stdout",
       "text": [
        "\r",
        "|######----| 3380/4948  68% [elapsed: 55:22 left: 25:41,  1.02 iters/sec]"
       ]
      },
      {
       "output_type": "stream",
       "stream": "stdout",
       "text": [
        "\r",
        "|######----| 3382/4948  68% [elapsed: 55:23 left: 25:39,  1.02 iters/sec]"
       ]
      },
      {
       "output_type": "stream",
       "stream": "stdout",
       "text": [
        "\r",
        "|######----| 3384/4948  68% [elapsed: 55:27 left: 25:37,  1.02 iters/sec]"
       ]
      },
      {
       "output_type": "stream",
       "stream": "stdout",
       "text": [
        "\r",
        "|######----| 3385/4948  68% [elapsed: 55:30 left: 25:37,  1.02 iters/sec]"
       ]
      },
      {
       "output_type": "stream",
       "stream": "stdout",
       "text": [
        "\r",
        "|######----| 3386/4948  68% [elapsed: 55:33 left: 25:37,  1.02 iters/sec]"
       ]
      },
      {
       "output_type": "stream",
       "stream": "stdout",
       "text": [
        "\r",
        "|######----| 3387/4948  68% [elapsed: 55:36 left: 25:37,  1.02 iters/sec]"
       ]
      },
      {
       "output_type": "stream",
       "stream": "stdout",
       "text": [
        "\r",
        "|######----| 3388/4948  68% [elapsed: 55:39 left: 25:37,  1.01 iters/sec]"
       ]
      },
      {
       "output_type": "stream",
       "stream": "stdout",
       "text": [
        "\r",
        "|######----| 3389/4948  68% [elapsed: 55:44 left: 25:38,  1.01 iters/sec]"
       ]
      },
      {
       "output_type": "stream",
       "stream": "stdout",
       "text": [
        "\r",
        "|######----| 3390/4948  68% [elapsed: 55:47 left: 25:38,  1.01 iters/sec]"
       ]
      },
      {
       "output_type": "stream",
       "stream": "stdout",
       "text": [
        "\r",
        "|######----| 3391/4948  68% [elapsed: 55:49 left: 25:37,  1.01 iters/sec]"
       ]
      },
      {
       "output_type": "stream",
       "stream": "stdout",
       "text": [
        "\r",
        "|######----| 3392/4948  68% [elapsed: 55:53 left: 25:38,  1.01 iters/sec]"
       ]
      },
      {
       "output_type": "stream",
       "stream": "stdout",
       "text": [
        "\r",
        "|######----| 3394/4948  68% [elapsed: 55:56 left: 25:37,  1.01 iters/sec]"
       ]
      },
      {
       "output_type": "stream",
       "stream": "stdout",
       "text": [
        "\r",
        "|######----| 3395/4948  68% [elapsed: 55:58 left: 25:36,  1.01 iters/sec]"
       ]
      },
      {
       "output_type": "stream",
       "stream": "stdout",
       "text": [
        "\r",
        "|######----| 3396/4948  68% [elapsed: 56:01 left: 25:36,  1.01 iters/sec]"
       ]
      },
      {
       "output_type": "stream",
       "stream": "stdout",
       "text": [
        "\r",
        "|######----| 3397/4948  68% [elapsed: 56:05 left: 25:36,  1.01 iters/sec]"
       ]
      },
      {
       "output_type": "stream",
       "stream": "stdout",
       "text": [
        "\r",
        "|######----| 3398/4948  68% [elapsed: 56:08 left: 25:36,  1.01 iters/sec]"
       ]
      },
      {
       "output_type": "stream",
       "stream": "stdout",
       "text": [
        "\r",
        "|######----| 3399/4948  68% [elapsed: 56:11 left: 25:36,  1.01 iters/sec]"
       ]
      },
      {
       "output_type": "stream",
       "stream": "stdout",
       "text": [
        "\r",
        "|######----| 3400/4948  68% [elapsed: 56:12 left: 25:35,  1.01 iters/sec]"
       ]
      },
      {
       "output_type": "stream",
       "stream": "stdout",
       "text": [
        "\r",
        "|######----| 3401/4948  68% [elapsed: 56:15 left: 25:35,  1.01 iters/sec]"
       ]
      },
      {
       "output_type": "stream",
       "stream": "stdout",
       "text": [
        "\r",
        "|######----| 3402/4948  68% [elapsed: 56:18 left: 25:35,  1.01 iters/sec]"
       ]
      },
      {
       "output_type": "stream",
       "stream": "stdout",
       "text": [
        "\r",
        "|######----| 3403/4948  68% [elapsed: 56:20 left: 25:34,  1.01 iters/sec]"
       ]
      },
      {
       "output_type": "stream",
       "stream": "stdout",
       "text": [
        "\r",
        "|######----| 3404/4948  68% [elapsed: 56:24 left: 25:35,  1.01 iters/sec]"
       ]
      },
      {
       "output_type": "stream",
       "stream": "stdout",
       "text": [
        "\r",
        "|######----| 3405/4948  68% [elapsed: 56:28 left: 25:35,  1.00 iters/sec]"
       ]
      },
      {
       "output_type": "stream",
       "stream": "stdout",
       "text": [
        "\r",
        "|######----| 3406/4948  68% [elapsed: 56:30 left: 25:34,  1.00 iters/sec]"
       ]
      },
      {
       "output_type": "stream",
       "stream": "stdout",
       "text": [
        "\r",
        "|######----| 3407/4948  68% [elapsed: 56:34 left: 25:35,  1.00 iters/sec]"
       ]
      },
      {
       "output_type": "stream",
       "stream": "stdout",
       "text": [
        "\r",
        "|######----| 3409/4948  68% [elapsed: 56:38 left: 25:34,  1.00 iters/sec]"
       ]
      },
      {
       "output_type": "stream",
       "stream": "stdout",
       "text": [
        "\r",
        "|######----| 3410/4948  68% [elapsed: 56:42 left: 25:34,  1.00 iters/sec]"
       ]
      },
      {
       "output_type": "stream",
       "stream": "stdout",
       "text": [
        "\r",
        "|######----| 3412/4948  68% [elapsed: 56:46 left: 25:33,  1.00 iters/sec]"
       ]
      },
      {
       "output_type": "stream",
       "stream": "stdout",
       "text": [
        "\r",
        "|######----| 3413/4948  68% [elapsed: 56:49 left: 25:33,  1.00 iters/sec]"
       ]
      },
      {
       "output_type": "stream",
       "stream": "stdout",
       "text": [
        "\r",
        "|######----| 3414/4948  68% [elapsed: 56:53 left: 25:33,  1.00 iters/sec]"
       ]
      },
      {
       "output_type": "stream",
       "stream": "stdout",
       "text": [
        "\r",
        "|######----| 3415/4948  69% [elapsed: 56:59 left: 25:34,  1.00 iters/sec]"
       ]
      },
      {
       "output_type": "stream",
       "stream": "stdout",
       "text": [
        "\r",
        "|######----| 3416/4948  69% [elapsed: 57:03 left: 25:35,  1.00 iters/sec]"
       ]
      },
      {
       "output_type": "stream",
       "stream": "stdout",
       "text": [
        "\r",
        "|######----| 3417/4948  69% [elapsed: 57:07 left: 25:35,  1.00 iters/sec]"
       ]
      },
      {
       "output_type": "stream",
       "stream": "stdout",
       "text": [
        "\r",
        "|######----| 3418/4948  69% [elapsed: 57:10 left: 25:35,  1.00 iters/sec]"
       ]
      },
      {
       "output_type": "stream",
       "stream": "stdout",
       "text": [
        "\r",
        "|######----| 3419/4948  69% [elapsed: 57:14 left: 25:35,  1.00 iters/sec]"
       ]
      },
      {
       "output_type": "stream",
       "stream": "stdout",
       "text": [
        "\r",
        "|######----| 3420/4948  69% [elapsed: 57:18 left: 25:36,  0.99 iters/sec]"
       ]
      },
      {
       "output_type": "stream",
       "stream": "stdout",
       "text": [
        "\r",
        "|######----| 3421/4948  69% [elapsed: 57:22 left: 25:36,  0.99 iters/sec]"
       ]
      },
      {
       "output_type": "stream",
       "stream": "stdout",
       "text": [
        "\r",
        "|######----| 3422/4948  69% [elapsed: 57:26 left: 25:36,  0.99 iters/sec]"
       ]
      },
      {
       "output_type": "stream",
       "stream": "stdout",
       "text": [
        "\r",
        "|######----| 3423/4948  69% [elapsed: 57:28 left: 25:36,  0.99 iters/sec]"
       ]
      },
      {
       "output_type": "stream",
       "stream": "stdout",
       "text": [
        "\r",
        "|######----| 3424/4948  69% [elapsed: 57:30 left: 25:35,  0.99 iters/sec]"
       ]
      },
      {
       "output_type": "stream",
       "stream": "stdout",
       "text": [
        "\r",
        "|######----| 3425/4948  69% [elapsed: 57:33 left: 25:35,  0.99 iters/sec]"
       ]
      },
      {
       "output_type": "stream",
       "stream": "stdout",
       "text": [
        "\r",
        "|######----| 3426/4948  69% [elapsed: 57:34 left: 25:34,  0.99 iters/sec]"
       ]
      },
      {
       "output_type": "stream",
       "stream": "stdout",
       "text": [
        "\r",
        "|######----| 3427/4948  69% [elapsed: 57:37 left: 25:34,  0.99 iters/sec]"
       ]
      },
      {
       "output_type": "stream",
       "stream": "stdout",
       "text": [
        "\r",
        "|######----| 3428/4948  69% [elapsed: 57:41 left: 25:34,  0.99 iters/sec]"
       ]
      },
      {
       "output_type": "stream",
       "stream": "stdout",
       "text": [
        "\r",
        "|######----| 3429/4948  69% [elapsed: 57:44 left: 25:34,  0.99 iters/sec]"
       ]
      },
      {
       "output_type": "stream",
       "stream": "stdout",
       "text": [
        "\r",
        "|######----| 3430/4948  69% [elapsed: 57:45 left: 25:33,  0.99 iters/sec]"
       ]
      },
      {
       "output_type": "stream",
       "stream": "stdout",
       "text": [
        "\r",
        "|######----| 3431/4948  69% [elapsed: 57:49 left: 25:34,  0.99 iters/sec]"
       ]
      },
      {
       "output_type": "stream",
       "stream": "stdout",
       "text": [
        "\r",
        "|######----| 3432/4948  69% [elapsed: 57:52 left: 25:34,  0.99 iters/sec]"
       ]
      },
      {
       "output_type": "stream",
       "stream": "stdout",
       "text": [
        "\r",
        "|######----| 3433/4948  69% [elapsed: 57:56 left: 25:34,  0.99 iters/sec]"
       ]
      },
      {
       "output_type": "stream",
       "stream": "stdout",
       "text": [
        "\r",
        "|######----| 3435/4948  69% [elapsed: 57:59 left: 25:32,  0.99 iters/sec]"
       ]
      },
      {
       "output_type": "stream",
       "stream": "stdout",
       "text": [
        "\r",
        "|######----| 3436/4948  69% [elapsed: 58:02 left: 25:32,  0.99 iters/sec]"
       ]
      },
      {
       "output_type": "stream",
       "stream": "stdout",
       "text": [
        "\r",
        "|######----| 3437/4948  69% [elapsed: 58:05 left: 25:32,  0.99 iters/sec]"
       ]
      },
      {
       "output_type": "stream",
       "stream": "stdout",
       "text": [
        "\r",
        "|######----| 3438/4948  69% [elapsed: 58:09 left: 25:32,  0.99 iters/sec]"
       ]
      },
      {
       "output_type": "stream",
       "stream": "stdout",
       "text": [
        "\r",
        "|######----| 3439/4948  69% [elapsed: 58:10 left: 25:31,  0.99 iters/sec]"
       ]
      },
      {
       "output_type": "stream",
       "stream": "stdout",
       "text": [
        "\r",
        "|######----| 3440/4948  69% [elapsed: 58:11 left: 25:30,  0.99 iters/sec]"
       ]
      },
      {
       "output_type": "stream",
       "stream": "stdout",
       "text": [
        "\r",
        "|######----| 3441/4948  69% [elapsed: 58:13 left: 25:29,  0.99 iters/sec]"
       ]
      },
      {
       "output_type": "stream",
       "stream": "stdout",
       "text": [
        "\r",
        "|######----| 3443/4948  69% [elapsed: 58:14 left: 25:27,  0.99 iters/sec]"
       ]
      },
      {
       "output_type": "stream",
       "stream": "stdout",
       "text": [
        "\r",
        "|######----| 3444/4948  69% [elapsed: 58:17 left: 25:27,  0.98 iters/sec]"
       ]
      },
      {
       "output_type": "stream",
       "stream": "stdout",
       "text": [
        "\r",
        "|######----| 3445/4948  69% [elapsed: 58:20 left: 25:27,  0.98 iters/sec]"
       ]
      },
      {
       "output_type": "stream",
       "stream": "stdout",
       "text": [
        "\r",
        "|######----| 3446/4948  69% [elapsed: 58:24 left: 25:27,  0.98 iters/sec]"
       ]
      },
      {
       "output_type": "stream",
       "stream": "stdout",
       "text": [
        "\r",
        "|######----| 3447/4948  69% [elapsed: 58:28 left: 25:27,  0.98 iters/sec]"
       ]
      },
      {
       "output_type": "stream",
       "stream": "stdout",
       "text": [
        "\r",
        "|######----| 3448/4948  69% [elapsed: 58:33 left: 25:28,  0.98 iters/sec]"
       ]
      },
      {
       "output_type": "stream",
       "stream": "stdout",
       "text": [
        "\r",
        "|######----| 3451/4948  69% [elapsed: 58:37 left: 25:25,  0.98 iters/sec]"
       ]
      },
      {
       "output_type": "stream",
       "stream": "stdout",
       "text": [
        "\r",
        "|######----| 3452/4948  69% [elapsed: 58:40 left: 25:25,  0.98 iters/sec]"
       ]
      },
      {
       "output_type": "stream",
       "stream": "stdout",
       "text": [
        "\r",
        "|######----| 3453/4948  69% [elapsed: 58:42 left: 25:25,  0.98 iters/sec]"
       ]
      },
      {
       "output_type": "stream",
       "stream": "stdout",
       "text": [
        "\r",
        "|######----| 3454/4948  69% [elapsed: 58:44 left: 25:24,  0.98 iters/sec]"
       ]
      },
      {
       "output_type": "stream",
       "stream": "stdout",
       "text": [
        "\r",
        "|######----| 3455/4948  69% [elapsed: 58:48 left: 25:24,  0.98 iters/sec]"
       ]
      },
      {
       "output_type": "stream",
       "stream": "stdout",
       "text": [
        "\r",
        "|######----| 3456/4948  69% [elapsed: 58:51 left: 25:24,  0.98 iters/sec]"
       ]
      },
      {
       "output_type": "stream",
       "stream": "stdout",
       "text": [
        "\r",
        "|######----| 3457/4948  69% [elapsed: 58:55 left: 25:25,  0.98 iters/sec]"
       ]
      },
      {
       "output_type": "stream",
       "stream": "stdout",
       "text": [
        "\r",
        "|######----| 3458/4948  69% [elapsed: 58:59 left: 25:25,  0.98 iters/sec]"
       ]
      },
      {
       "output_type": "stream",
       "stream": "stdout",
       "text": [
        "\r",
        "|######----| 3459/4948  69% [elapsed: 59:03 left: 25:25,  0.98 iters/sec]"
       ]
      },
      {
       "output_type": "stream",
       "stream": "stdout",
       "text": [
        "\r",
        "|######----| 3460/4948  69% [elapsed: 59:06 left: 25:25,  0.98 iters/sec]"
       ]
      },
      {
       "output_type": "stream",
       "stream": "stdout",
       "text": [
        "\r",
        "|######----| 3461/4948  69% [elapsed: 59:09 left: 25:24,  0.98 iters/sec]"
       ]
      },
      {
       "output_type": "stream",
       "stream": "stdout",
       "text": [
        "\r",
        "|######----| 3462/4948  69% [elapsed: 59:12 left: 25:24,  0.97 iters/sec]"
       ]
      },
      {
       "output_type": "stream",
       "stream": "stdout",
       "text": [
        "\r",
        "|######----| 3463/4948  69% [elapsed: 59:17 left: 25:25,  0.97 iters/sec]"
       ]
      },
      {
       "output_type": "stream",
       "stream": "stdout",
       "text": [
        "\r",
        "|#######---| 3464/4948  70% [elapsed: 59:21 left: 25:25,  0.97 iters/sec]"
       ]
      },
      {
       "output_type": "stream",
       "stream": "stdout",
       "text": [
        "\r",
        "|#######---| 3466/4948  70% [elapsed: 59:25 left: 25:24,  0.97 iters/sec]"
       ]
      },
      {
       "output_type": "stream",
       "stream": "stdout",
       "text": [
        "\r",
        "|#######---| 3467/4948  70% [elapsed: 59:30 left: 25:25,  0.97 iters/sec]"
       ]
      },
      {
       "output_type": "stream",
       "stream": "stdout",
       "text": [
        "\r",
        "|#######---| 3468/4948  70% [elapsed: 59:34 left: 25:25,  0.97 iters/sec]"
       ]
      },
      {
       "output_type": "stream",
       "stream": "stdout",
       "text": [
        "\r",
        "|#######---| 3469/4948  70% [elapsed: 59:36 left: 25:24,  0.97 iters/sec]"
       ]
      },
      {
       "output_type": "stream",
       "stream": "stdout",
       "text": [
        "\r",
        "|#######---| 3470/4948  70% [elapsed: 59:40 left: 25:25,  0.97 iters/sec]"
       ]
      },
      {
       "output_type": "stream",
       "stream": "stdout",
       "text": [
        "\r",
        "|#######---| 3471/4948  70% [elapsed: 59:44 left: 25:25,  0.97 iters/sec]"
       ]
      },
      {
       "output_type": "stream",
       "stream": "stdout",
       "text": [
        "\r",
        "|#######---| 3472/4948  70% [elapsed: 59:49 left: 25:25,  0.97 iters/sec]"
       ]
      },
      {
       "output_type": "stream",
       "stream": "stdout",
       "text": [
        "\r",
        "|#######---| 3473/4948  70% [elapsed: 59:52 left: 25:25,  0.97 iters/sec]"
       ]
      },
      {
       "output_type": "stream",
       "stream": "stdout",
       "text": [
        "\r",
        "|#######---| 3474/4948  70% [elapsed: 59:56 left: 25:25,  0.97 iters/sec]"
       ]
      },
      {
       "output_type": "stream",
       "stream": "stdout",
       "text": [
        "\r",
        "|#######---| 3475/4948  70% [elapsed: 1:00:00 left: 25:26,  0.97 iters/sec]"
       ]
      },
      {
       "output_type": "stream",
       "stream": "stdout",
       "text": [
        "\r",
        "|#######---| 3476/4948  70% [elapsed: 1:00:04 left: 25:26,  0.96 iters/sec]"
       ]
      },
      {
       "output_type": "stream",
       "stream": "stdout",
       "text": [
        "\r",
        "|#######---| 3477/4948  70% [elapsed: 1:00:08 left: 25:26,  0.96 iters/sec]"
       ]
      },
      {
       "output_type": "stream",
       "stream": "stdout",
       "text": [
        "\r",
        "|#######---| 3478/4948  70% [elapsed: 1:00:11 left: 25:26,  0.96 iters/sec]"
       ]
      },
      {
       "output_type": "stream",
       "stream": "stdout",
       "text": [
        "\r",
        "|#######---| 3480/4948  70% [elapsed: 1:00:12 left: 25:24,  0.96 iters/sec]"
       ]
      },
      {
       "output_type": "stream",
       "stream": "stdout",
       "text": [
        "\r",
        "|#######---| 3481/4948  70% [elapsed: 1:00:17 left: 25:24,  0.96 iters/sec]"
       ]
      },
      {
       "output_type": "stream",
       "stream": "stdout",
       "text": [
        "\r",
        "|#######---| 3482/4948  70% [elapsed: 1:00:20 left: 25:24,  0.96 iters/sec]"
       ]
      },
      {
       "output_type": "stream",
       "stream": "stdout",
       "text": [
        "\r",
        "|#######---| 3483/4948  70% [elapsed: 1:00:24 left: 25:24,  0.96 iters/sec]"
       ]
      },
      {
       "output_type": "stream",
       "stream": "stdout",
       "text": [
        "\r",
        "|#######---| 3484/4948  70% [elapsed: 1:00:28 left: 25:24,  0.96 iters/sec]"
       ]
      },
      {
       "output_type": "stream",
       "stream": "stdout",
       "text": [
        "\r",
        "|#######---| 3485/4948  70% [elapsed: 1:00:32 left: 25:25,  0.96 iters/sec]"
       ]
      },
      {
       "output_type": "stream",
       "stream": "stdout",
       "text": [
        "\r",
        "|#######---| 3486/4948  70% [elapsed: 1:00:37 left: 25:25,  0.96 iters/sec]"
       ]
      },
      {
       "output_type": "stream",
       "stream": "stdout",
       "text": [
        "\r",
        "|#######---| 3487/4948  70% [elapsed: 1:00:41 left: 25:25,  0.96 iters/sec]"
       ]
      },
      {
       "output_type": "stream",
       "stream": "stdout",
       "text": [
        "\r",
        "|#######---| 3488/4948  70% [elapsed: 1:00:44 left: 25:25,  0.96 iters/sec]"
       ]
      },
      {
       "output_type": "stream",
       "stream": "stdout",
       "text": [
        "\r",
        "|#######---| 3489/4948  70% [elapsed: 1:00:47 left: 25:25,  0.96 iters/sec]"
       ]
      },
      {
       "output_type": "stream",
       "stream": "stdout",
       "text": [
        "\r",
        "|#######---| 3490/4948  70% [elapsed: 1:00:48 left: 25:24,  0.96 iters/sec]"
       ]
      },
      {
       "output_type": "stream",
       "stream": "stdout",
       "text": [
        "\r",
        "|#######---| 3491/4948  70% [elapsed: 1:00:50 left: 25:23,  0.96 iters/sec]"
       ]
      },
      {
       "output_type": "stream",
       "stream": "stdout",
       "text": [
        "\r",
        "|#######---| 3492/4948  70% [elapsed: 1:00:53 left: 25:23,  0.96 iters/sec]"
       ]
      },
      {
       "output_type": "stream",
       "stream": "stdout",
       "text": [
        "\r",
        "|#######---| 3493/4948  70% [elapsed: 1:00:57 left: 25:23,  0.96 iters/sec]"
       ]
      },
      {
       "output_type": "stream",
       "stream": "stdout",
       "text": [
        "\r",
        "|#######---| 3495/4948  70% [elapsed: 1:01:02 left: 25:22,  0.95 iters/sec]"
       ]
      },
      {
       "output_type": "stream",
       "stream": "stdout",
       "text": [
        "\r",
        "|#######---| 3496/4948  70% [elapsed: 1:01:03 left: 25:21,  0.95 iters/sec]"
       ]
      },
      {
       "output_type": "stream",
       "stream": "stdout",
       "text": [
        "\r",
        "|#######---| 3497/4948  70% [elapsed: 1:01:06 left: 25:21,  0.95 iters/sec]"
       ]
      },
      {
       "output_type": "stream",
       "stream": "stdout",
       "text": [
        "\r",
        "|#######---| 3498/4948  70% [elapsed: 1:01:10 left: 25:21,  0.95 iters/sec]"
       ]
      },
      {
       "output_type": "stream",
       "stream": "stdout",
       "text": [
        "\r",
        "|#######---| 3499/4948  70% [elapsed: 1:01:14 left: 25:21,  0.95 iters/sec]"
       ]
      },
      {
       "output_type": "stream",
       "stream": "stdout",
       "text": [
        "\r",
        "|#######---| 3500/4948  70% [elapsed: 1:01:19 left: 25:22,  0.95 iters/sec]"
       ]
      },
      {
       "output_type": "stream",
       "stream": "stdout",
       "text": [
        "\r",
        "|#######---| 3501/4948  70% [elapsed: 1:01:24 left: 25:22,  0.95 iters/sec]"
       ]
      },
      {
       "output_type": "stream",
       "stream": "stdout",
       "text": [
        "\r",
        "|#######---| 3502/4948  70% [elapsed: 1:01:28 left: 25:23,  0.95 iters/sec]"
       ]
      },
      {
       "output_type": "stream",
       "stream": "stdout",
       "text": [
        "\r",
        "|#######---| 3504/4948  70% [elapsed: 1:01:32 left: 25:21,  0.95 iters/sec]"
       ]
      },
      {
       "output_type": "stream",
       "stream": "stdout",
       "text": [
        "\r",
        "|#######---| 3506/4948  70% [elapsed: 1:01:36 left: 25:20,  0.95 iters/sec]"
       ]
      },
      {
       "output_type": "stream",
       "stream": "stdout",
       "text": [
        "\r",
        "|#######---| 3507/4948  70% [elapsed: 1:01:40 left: 25:20,  0.95 iters/sec]"
       ]
      },
      {
       "output_type": "stream",
       "stream": "stdout",
       "text": [
        "\r",
        "|#######---| 3508/4948  70% [elapsed: 1:01:44 left: 25:20,  0.95 iters/sec]"
       ]
      },
      {
       "output_type": "stream",
       "stream": "stdout",
       "text": [
        "\r",
        "|#######---| 3509/4948  70% [elapsed: 1:01:48 left: 25:20,  0.95 iters/sec]"
       ]
      },
      {
       "output_type": "stream",
       "stream": "stdout",
       "text": [
        "\r",
        "|#######---| 3510/4948  70% [elapsed: 1:01:51 left: 25:20,  0.95 iters/sec]"
       ]
      },
      {
       "output_type": "stream",
       "stream": "stdout",
       "text": [
        "\r",
        "|#######---| 3511/4948  70% [elapsed: 1:01:56 left: 25:20,  0.94 iters/sec]"
       ]
      },
      {
       "output_type": "stream",
       "stream": "stdout",
       "text": [
        "\r",
        "|#######---| 3512/4948  70% [elapsed: 1:01:59 left: 25:20,  0.94 iters/sec]"
       ]
      },
      {
       "output_type": "stream",
       "stream": "stdout",
       "text": [
        "\r",
        "|#######---| 3513/4948  70% [elapsed: 1:02:07 left: 25:22,  0.94 iters/sec]"
       ]
      },
      {
       "output_type": "stream",
       "stream": "stdout",
       "text": [
        "\r",
        "|#######---| 3515/4948  71% [elapsed: 1:02:10 left: 25:21,  0.94 iters/sec]"
       ]
      },
      {
       "output_type": "stream",
       "stream": "stdout",
       "text": [
        "\r",
        "|#######---| 3516/4948  71% [elapsed: 1:02:14 left: 25:21,  0.94 iters/sec]"
       ]
      },
      {
       "output_type": "stream",
       "stream": "stdout",
       "text": [
        "\r",
        "|#######---| 3517/4948  71% [elapsed: 1:02:17 left: 25:20,  0.94 iters/sec]"
       ]
      },
      {
       "output_type": "stream",
       "stream": "stdout",
       "text": [
        "\r",
        "|#######---| 3518/4948  71% [elapsed: 1:02:19 left: 25:19,  0.94 iters/sec]"
       ]
      },
      {
       "output_type": "stream",
       "stream": "stdout",
       "text": [
        "\r",
        "|#######---| 3520/4948  71% [elapsed: 1:02:23 left: 25:18,  0.94 iters/sec]"
       ]
      },
      {
       "output_type": "stream",
       "stream": "stdout",
       "text": [
        "\r",
        "|#######---| 3521/4948  71% [elapsed: 1:02:24 left: 25:17,  0.94 iters/sec]"
       ]
      },
      {
       "output_type": "stream",
       "stream": "stdout",
       "text": [
        "\r",
        "|#######---| 3522/4948  71% [elapsed: 1:02:28 left: 25:17,  0.94 iters/sec]"
       ]
      },
      {
       "output_type": "stream",
       "stream": "stdout",
       "text": [
        "\r",
        "|#######---| 3523/4948  71% [elapsed: 1:02:30 left: 25:16,  0.94 iters/sec]"
       ]
      },
      {
       "output_type": "stream",
       "stream": "stdout",
       "text": [
        "\r",
        "|#######---| 3524/4948  71% [elapsed: 1:02:33 left: 25:16,  0.94 iters/sec]"
       ]
      },
      {
       "output_type": "stream",
       "stream": "stdout",
       "text": [
        "\r",
        "|#######---| 3525/4948  71% [elapsed: 1:02:36 left: 25:16,  0.94 iters/sec]"
       ]
      },
      {
       "output_type": "stream",
       "stream": "stdout",
       "text": [
        "\r",
        "|#######---| 3526/4948  71% [elapsed: 1:02:40 left: 25:16,  0.94 iters/sec]"
       ]
      },
      {
       "output_type": "stream",
       "stream": "stdout",
       "text": [
        "\r",
        "|#######---| 3527/4948  71% [elapsed: 1:02:44 left: 25:16,  0.94 iters/sec]"
       ]
      },
      {
       "output_type": "stream",
       "stream": "stdout",
       "text": [
        "\r",
        "|#######---| 3529/4948  71% [elapsed: 1:02:48 left: 25:15,  0.94 iters/sec]"
       ]
      },
      {
       "output_type": "stream",
       "stream": "stdout",
       "text": [
        "\r",
        "|#######---| 3530/4948  71% [elapsed: 1:02:49 left: 25:14,  0.94 iters/sec]"
       ]
      },
      {
       "output_type": "stream",
       "stream": "stdout",
       "text": [
        "\r",
        "|#######---| 3531/4948  71% [elapsed: 1:02:54 left: 25:14,  0.94 iters/sec]"
       ]
      },
      {
       "output_type": "stream",
       "stream": "stdout",
       "text": [
        "\r",
        "|#######---| 3532/4948  71% [elapsed: 1:02:55 left: 25:13,  0.94 iters/sec]"
       ]
      },
      {
       "output_type": "stream",
       "stream": "stdout",
       "text": [
        "\r",
        "|#######---| 3533/4948  71% [elapsed: 1:02:58 left: 25:13,  0.94 iters/sec]"
       ]
      },
      {
       "output_type": "stream",
       "stream": "stdout",
       "text": [
        "\r",
        "|#######---| 3535/4948  71% [elapsed: 1:02:59 left: 25:10,  0.94 iters/sec]"
       ]
      },
      {
       "output_type": "stream",
       "stream": "stdout",
       "text": [
        "\r",
        "|#######---| 3536/4948  71% [elapsed: 1:03:02 left: 25:10,  0.93 iters/sec]"
       ]
      },
      {
       "output_type": "stream",
       "stream": "stdout",
       "text": [
        "\r",
        "|#######---| 3537/4948  71% [elapsed: 1:03:06 left: 25:10,  0.93 iters/sec]"
       ]
      },
      {
       "output_type": "stream",
       "stream": "stdout",
       "text": [
        "\r",
        "|#######---| 3538/4948  71% [elapsed: 1:03:10 left: 25:10,  0.93 iters/sec]"
       ]
      },
      {
       "output_type": "stream",
       "stream": "stdout",
       "text": [
        "\r",
        "|#######---| 3539/4948  71% [elapsed: 1:03:14 left: 25:10,  0.93 iters/sec]"
       ]
      },
      {
       "output_type": "stream",
       "stream": "stdout",
       "text": [
        "\r",
        "|#######---| 3540/4948  71% [elapsed: 1:03:17 left: 25:10,  0.93 iters/sec]"
       ]
      },
      {
       "output_type": "stream",
       "stream": "stdout",
       "text": [
        "\r",
        "|#######---| 3541/4948  71% [elapsed: 1:03:21 left: 25:10,  0.93 iters/sec]"
       ]
      },
      {
       "output_type": "stream",
       "stream": "stdout",
       "text": [
        "\r",
        "|#######---| 3542/4948  71% [elapsed: 1:03:26 left: 25:10,  0.93 iters/sec]"
       ]
      },
      {
       "output_type": "stream",
       "stream": "stdout",
       "text": [
        "\r",
        "|#######---| 3543/4948  71% [elapsed: 1:03:29 left: 25:10,  0.93 iters/sec]"
       ]
      },
      {
       "output_type": "stream",
       "stream": "stdout",
       "text": [
        "\r",
        "|#######---| 3544/4948  71% [elapsed: 1:03:30 left: 25:09,  0.93 iters/sec]"
       ]
      },
      {
       "output_type": "stream",
       "stream": "stdout",
       "text": [
        "\r",
        "|#######---| 3545/4948  71% [elapsed: 1:03:33 left: 25:09,  0.93 iters/sec]"
       ]
      },
      {
       "output_type": "stream",
       "stream": "stdout",
       "text": [
        "\r",
        "|#######---| 3547/4948  71% [elapsed: 1:03:36 left: 25:07,  0.93 iters/sec]"
       ]
      },
      {
       "output_type": "stream",
       "stream": "stdout",
       "text": [
        "\r",
        "|#######---| 3548/4948  71% [elapsed: 1:03:39 left: 25:07,  0.93 iters/sec]"
       ]
      },
      {
       "output_type": "stream",
       "stream": "stdout",
       "text": [
        "\r",
        "|#######---| 3549/4948  71% [elapsed: 1:03:42 left: 25:06,  0.93 iters/sec]"
       ]
      },
      {
       "output_type": "stream",
       "stream": "stdout",
       "text": [
        "\r",
        "|#######---| 3550/4948  71% [elapsed: 1:03:46 left: 25:06,  0.93 iters/sec]"
       ]
      },
      {
       "output_type": "stream",
       "stream": "stdout",
       "text": [
        "\r",
        "|#######---| 3551/4948  71% [elapsed: 1:03:48 left: 25:06,  0.93 iters/sec]"
       ]
      },
      {
       "output_type": "stream",
       "stream": "stdout",
       "text": [
        "\r",
        "|#######---| 3553/4948  71% [elapsed: 1:03:52 left: 25:04,  0.93 iters/sec]"
       ]
      },
      {
       "output_type": "stream",
       "stream": "stdout",
       "text": [
        "\r",
        "|#######---| 3556/4948  71% [elapsed: 1:03:55 left: 25:01,  0.93 iters/sec]"
       ]
      },
      {
       "output_type": "stream",
       "stream": "stdout",
       "text": [
        "\r",
        "|#######---| 3558/4948  71% [elapsed: 1:03:56 left: 24:58,  0.93 iters/sec]"
       ]
      },
      {
       "output_type": "stream",
       "stream": "stdout",
       "text": [
        "\r",
        "|#######---| 3559/4948  71% [elapsed: 1:03:58 left: 24:58,  0.93 iters/sec]"
       ]
      },
      {
       "output_type": "stream",
       "stream": "stdout",
       "text": [
        "\r",
        "|#######---| 3560/4948  71% [elapsed: 1:04:02 left: 24:57,  0.93 iters/sec]"
       ]
      },
      {
       "output_type": "stream",
       "stream": "stdout",
       "text": [
        "\r",
        "|#######---| 3561/4948  71% [elapsed: 1:04:05 left: 24:57,  0.93 iters/sec]"
       ]
      },
      {
       "output_type": "stream",
       "stream": "stdout",
       "text": [
        "\r",
        "|#######---| 3562/4948  71% [elapsed: 1:04:08 left: 24:57,  0.93 iters/sec]"
       ]
      },
      {
       "output_type": "stream",
       "stream": "stdout",
       "text": [
        "\r",
        "|#######---| 3563/4948  72% [elapsed: 1:04:11 left: 24:57,  0.93 iters/sec]"
       ]
      },
      {
       "output_type": "stream",
       "stream": "stdout",
       "text": [
        "\r",
        "|#######---| 3564/4948  72% [elapsed: 1:04:15 left: 24:57,  0.92 iters/sec]"
       ]
      },
      {
       "output_type": "stream",
       "stream": "stdout",
       "text": [
        "\r",
        "|#######---| 3565/4948  72% [elapsed: 1:04:19 left: 24:57,  0.92 iters/sec]"
       ]
      },
      {
       "output_type": "stream",
       "stream": "stdout",
       "text": [
        "\r",
        "|#######---| 3566/4948  72% [elapsed: 1:04:23 left: 24:57,  0.92 iters/sec]"
       ]
      },
      {
       "output_type": "stream",
       "stream": "stdout",
       "text": [
        "\r",
        "|#######---| 3567/4948  72% [elapsed: 1:04:25 left: 24:56,  0.92 iters/sec]"
       ]
      },
      {
       "output_type": "stream",
       "stream": "stdout",
       "text": [
        "\r",
        "|#######---| 3568/4948  72% [elapsed: 1:04:28 left: 24:56,  0.92 iters/sec]"
       ]
      },
      {
       "output_type": "stream",
       "stream": "stdout",
       "text": [
        "\r",
        "|#######---| 3569/4948  72% [elapsed: 1:04:33 left: 24:56,  0.92 iters/sec]"
       ]
      },
      {
       "output_type": "stream",
       "stream": "stdout",
       "text": [
        "\r",
        "|#######---| 3570/4948  72% [elapsed: 1:04:39 left: 24:57,  0.92 iters/sec]"
       ]
      },
      {
       "output_type": "stream",
       "stream": "stdout",
       "text": [
        "\r",
        "|#######---| 3571/4948  72% [elapsed: 1:04:42 left: 24:57,  0.92 iters/sec]"
       ]
      },
      {
       "output_type": "stream",
       "stream": "stdout",
       "text": [
        "\r",
        "|#######---| 3572/4948  72% [elapsed: 1:04:46 left: 24:57,  0.92 iters/sec]"
       ]
      },
      {
       "output_type": "stream",
       "stream": "stdout",
       "text": [
        "\r",
        "|#######---| 3573/4948  72% [elapsed: 1:04:49 left: 24:56,  0.92 iters/sec]"
       ]
      },
      {
       "output_type": "stream",
       "stream": "stdout",
       "text": [
        "\r",
        "|#######---| 3574/4948  72% [elapsed: 1:04:52 left: 24:56,  0.92 iters/sec]"
       ]
      },
      {
       "output_type": "stream",
       "stream": "stdout",
       "text": [
        "\r",
        "|#######---| 3575/4948  72% [elapsed: 1:04:55 left: 24:56,  0.92 iters/sec]"
       ]
      },
      {
       "output_type": "stream",
       "stream": "stdout",
       "text": [
        "\r",
        "|#######---| 3576/4948  72% [elapsed: 1:04:57 left: 24:55,  0.92 iters/sec]"
       ]
      },
      {
       "output_type": "stream",
       "stream": "stdout",
       "text": [
        "\r",
        "|#######---| 3577/4948  72% [elapsed: 1:05:00 left: 24:54,  0.92 iters/sec]"
       ]
      },
      {
       "output_type": "stream",
       "stream": "stdout",
       "text": [
        "\r",
        "|#######---| 3578/4948  72% [elapsed: 1:05:03 left: 24:54,  0.92 iters/sec]"
       ]
      },
      {
       "output_type": "stream",
       "stream": "stdout",
       "text": [
        "\r",
        "|#######---| 3579/4948  72% [elapsed: 1:05:07 left: 24:54,  0.92 iters/sec]"
       ]
      },
      {
       "output_type": "stream",
       "stream": "stdout",
       "text": [
        "\r",
        "|#######---| 3580/4948  72% [elapsed: 1:05:11 left: 24:54,  0.92 iters/sec]"
       ]
      },
      {
       "output_type": "stream",
       "stream": "stdout",
       "text": [
        "\r",
        "|#######---| 3581/4948  72% [elapsed: 1:05:14 left: 24:54,  0.91 iters/sec]"
       ]
      },
      {
       "output_type": "stream",
       "stream": "stdout",
       "text": [
        "\r",
        "|#######---| 3582/4948  72% [elapsed: 1:05:16 left: 24:53,  0.91 iters/sec]"
       ]
      },
      {
       "output_type": "stream",
       "stream": "stdout",
       "text": [
        "\r",
        "|#######---| 3583/4948  72% [elapsed: 1:05:19 left: 24:53,  0.91 iters/sec]"
       ]
      },
      {
       "output_type": "stream",
       "stream": "stdout",
       "text": [
        "\r",
        "|#######---| 3584/4948  72% [elapsed: 1:05:22 left: 24:52,  0.91 iters/sec]"
       ]
      },
      {
       "output_type": "stream",
       "stream": "stdout",
       "text": [
        "\r",
        "|#######---| 3585/4948  72% [elapsed: 1:05:26 left: 24:52,  0.91 iters/sec]"
       ]
      },
      {
       "output_type": "stream",
       "stream": "stdout",
       "text": [
        "\r",
        "|#######---| 3586/4948  72% [elapsed: 1:05:30 left: 24:52,  0.91 iters/sec]"
       ]
      },
      {
       "output_type": "stream",
       "stream": "stdout",
       "text": [
        "\r",
        "|#######---| 3587/4948  72% [elapsed: 1:05:34 left: 24:52,  0.91 iters/sec]"
       ]
      },
      {
       "output_type": "stream",
       "stream": "stdout",
       "text": [
        "\r",
        "|#######---| 3588/4948  72% [elapsed: 1:05:37 left: 24:52,  0.91 iters/sec]"
       ]
      },
      {
       "output_type": "stream",
       "stream": "stdout",
       "text": [
        "\r",
        "|#######---| 3589/4948  72% [elapsed: 1:05:38 left: 24:51,  0.91 iters/sec]"
       ]
      },
      {
       "output_type": "stream",
       "stream": "stdout",
       "text": [
        "\r",
        "|#######---| 3590/4948  72% [elapsed: 1:05:40 left: 24:50,  0.91 iters/sec]"
       ]
      },
      {
       "output_type": "stream",
       "stream": "stdout",
       "text": [
        "\r",
        "|#######---| 3591/4948  72% [elapsed: 1:05:43 left: 24:50,  0.91 iters/sec]"
       ]
      },
      {
       "output_type": "stream",
       "stream": "stdout",
       "text": [
        "\r",
        "|#######---| 3592/4948  72% [elapsed: 1:05:47 left: 24:50,  0.91 iters/sec]"
       ]
      },
      {
       "output_type": "stream",
       "stream": "stdout",
       "text": [
        "\r",
        "|#######---| 3593/4948  72% [elapsed: 1:05:50 left: 24:49,  0.91 iters/sec]"
       ]
      },
      {
       "output_type": "stream",
       "stream": "stdout",
       "text": [
        "\r",
        "|#######---| 3594/4948  72% [elapsed: 1:05:54 left: 24:49,  0.91 iters/sec]"
       ]
      },
      {
       "output_type": "stream",
       "stream": "stdout",
       "text": [
        "\r",
        "|#######---| 3595/4948  72% [elapsed: 1:05:57 left: 24:49,  0.91 iters/sec]"
       ]
      },
      {
       "output_type": "stream",
       "stream": "stdout",
       "text": [
        "\r",
        "|#######---| 3596/4948  72% [elapsed: 1:06:00 left: 24:49,  0.91 iters/sec]"
       ]
      },
      {
       "output_type": "stream",
       "stream": "stdout",
       "text": [
        "\r",
        "|#######---| 3597/4948  72% [elapsed: 1:06:03 left: 24:48,  0.91 iters/sec]"
       ]
      },
      {
       "output_type": "stream",
       "stream": "stdout",
       "text": [
        "\r",
        "|#######---| 3600/4948  72% [elapsed: 1:06:06 left: 24:45,  0.91 iters/sec]"
       ]
      },
      {
       "output_type": "stream",
       "stream": "stdout",
       "text": [
        "\r",
        "|#######---| 3601/4948  72% [elapsed: 1:06:10 left: 24:45,  0.91 iters/sec]"
       ]
      },
      {
       "output_type": "stream",
       "stream": "stdout",
       "text": [
        "\r",
        "|#######---| 3602/4948  72% [elapsed: 1:06:14 left: 24:45,  0.91 iters/sec]"
       ]
      },
      {
       "output_type": "stream",
       "stream": "stdout",
       "text": [
        "\r",
        "|#######---| 3603/4948  72% [elapsed: 1:06:15 left: 24:43,  0.91 iters/sec]"
       ]
      },
      {
       "output_type": "stream",
       "stream": "stdout",
       "text": [
        "\r",
        "|#######---| 3604/4948  72% [elapsed: 1:06:17 left: 24:43,  0.91 iters/sec]"
       ]
      },
      {
       "output_type": "stream",
       "stream": "stdout",
       "text": [
        "\r",
        "|#######---| 3605/4948  72% [elapsed: 1:06:21 left: 24:43,  0.91 iters/sec]"
       ]
      },
      {
       "output_type": "stream",
       "stream": "stdout",
       "text": [
        "\r",
        "|#######---| 3606/4948  72% [elapsed: 1:06:24 left: 24:42,  0.91 iters/sec]"
       ]
      },
      {
       "output_type": "stream",
       "stream": "stdout",
       "text": [
        "\r",
        "|#######---| 3607/4948  72% [elapsed: 1:06:28 left: 24:42,  0.90 iters/sec]"
       ]
      },
      {
       "output_type": "stream",
       "stream": "stdout",
       "text": [
        "\r",
        "|#######---| 3608/4948  72% [elapsed: 1:06:31 left: 24:42,  0.90 iters/sec]"
       ]
      },
      {
       "output_type": "stream",
       "stream": "stdout",
       "text": [
        "\r",
        "|#######---| 3609/4948  72% [elapsed: 1:06:34 left: 24:42,  0.90 iters/sec]"
       ]
      },
      {
       "output_type": "stream",
       "stream": "stdout",
       "text": [
        "\r",
        "|#######---| 3610/4948  72% [elapsed: 1:06:37 left: 24:41,  0.90 iters/sec]"
       ]
      },
      {
       "output_type": "stream",
       "stream": "stdout",
       "text": [
        "\r",
        "|#######---| 3612/4948  72% [elapsed: 1:06:41 left: 24:39,  0.90 iters/sec]"
       ]
      },
      {
       "output_type": "stream",
       "stream": "stdout",
       "text": [
        "\r",
        "|#######---| 3613/4948  73% [elapsed: 1:06:42 left: 24:38,  0.90 iters/sec]"
       ]
      },
      {
       "output_type": "stream",
       "stream": "stdout",
       "text": [
        "\r",
        "|#######---| 3614/4948  73% [elapsed: 1:06:47 left: 24:39,  0.90 iters/sec]"
       ]
      },
      {
       "output_type": "stream",
       "stream": "stdout",
       "text": [
        "\r",
        "|#######---| 3615/4948  73% [elapsed: 1:06:53 left: 24:39,  0.90 iters/sec]"
       ]
      },
      {
       "output_type": "stream",
       "stream": "stdout",
       "text": [
        "\r",
        "|#######---| 3616/4948  73% [elapsed: 1:06:57 left: 24:39,  0.90 iters/sec]"
       ]
      },
      {
       "output_type": "stream",
       "stream": "stdout",
       "text": [
        "\r",
        "|#######---| 3617/4948  73% [elapsed: 1:07:00 left: 24:39,  0.90 iters/sec]"
       ]
      },
      {
       "output_type": "stream",
       "stream": "stdout",
       "text": [
        "\r",
        "|#######---| 3618/4948  73% [elapsed: 1:07:03 left: 24:39,  0.90 iters/sec]"
       ]
      },
      {
       "output_type": "stream",
       "stream": "stdout",
       "text": [
        "\r",
        "|#######---| 3619/4948  73% [elapsed: 1:07:06 left: 24:38,  0.90 iters/sec]"
       ]
      },
      {
       "output_type": "stream",
       "stream": "stdout",
       "text": [
        "\r",
        "|#######---| 3620/4948  73% [elapsed: 1:07:09 left: 24:38,  0.90 iters/sec]"
       ]
      },
      {
       "output_type": "stream",
       "stream": "stdout",
       "text": [
        "\r",
        "|#######---| 3621/4948  73% [elapsed: 1:07:12 left: 24:37,  0.90 iters/sec]"
       ]
      },
      {
       "output_type": "stream",
       "stream": "stdout",
       "text": [
        "\r",
        "|#######---| 3622/4948  73% [elapsed: 1:07:15 left: 24:37,  0.90 iters/sec]"
       ]
      },
      {
       "output_type": "stream",
       "stream": "stdout",
       "text": [
        "\r",
        "|#######---| 3623/4948  73% [elapsed: 1:07:19 left: 24:37,  0.90 iters/sec]"
       ]
      },
      {
       "output_type": "stream",
       "stream": "stdout",
       "text": [
        "\r",
        "|#######---| 3625/4948  73% [elapsed: 1:07:22 left: 24:35,  0.90 iters/sec]"
       ]
      },
      {
       "output_type": "stream",
       "stream": "stdout",
       "text": [
        "\r",
        "|#######---| 3626/4948  73% [elapsed: 1:07:25 left: 24:35,  0.90 iters/sec]"
       ]
      },
      {
       "output_type": "stream",
       "stream": "stdout",
       "text": [
        "\r",
        "|#######---| 3627/4948  73% [elapsed: 1:07:28 left: 24:34,  0.90 iters/sec]"
       ]
      },
      {
       "output_type": "stream",
       "stream": "stdout",
       "text": [
        "\r",
        "|#######---| 3628/4948  73% [elapsed: 1:07:29 left: 24:33,  0.90 iters/sec]"
       ]
      },
      {
       "output_type": "stream",
       "stream": "stdout",
       "text": [
        "\r",
        "|#######---| 3630/4948  73% [elapsed: 1:07:33 left: 24:31,  0.90 iters/sec]"
       ]
      },
      {
       "output_type": "stream",
       "stream": "stdout",
       "text": [
        "\r",
        "|#######---| 3631/4948  73% [elapsed: 1:07:37 left: 24:31,  0.89 iters/sec]"
       ]
      },
      {
       "output_type": "stream",
       "stream": "stdout",
       "text": [
        "\r",
        "|#######---| 3632/4948  73% [elapsed: 1:07:40 left: 24:31,  0.89 iters/sec]"
       ]
      },
      {
       "output_type": "stream",
       "stream": "stdout",
       "text": [
        "\r",
        "|#######---| 3633/4948  73% [elapsed: 1:07:43 left: 24:30,  0.89 iters/sec]"
       ]
      },
      {
       "output_type": "stream",
       "stream": "stdout",
       "text": [
        "\r",
        "|#######---| 3635/4948  73% [elapsed: 1:07:46 left: 24:28,  0.89 iters/sec]"
       ]
      },
      {
       "output_type": "stream",
       "stream": "stdout",
       "text": [
        "\r",
        "|#######---| 3636/4948  73% [elapsed: 1:07:49 left: 24:28,  0.89 iters/sec]"
       ]
      },
      {
       "output_type": "stream",
       "stream": "stdout",
       "text": [
        "\r",
        "|#######---| 3637/4948  73% [elapsed: 1:07:51 left: 24:27,  0.89 iters/sec]"
       ]
      },
      {
       "output_type": "stream",
       "stream": "stdout",
       "text": [
        "\r",
        "|#######---| 3638/4948  73% [elapsed: 1:07:54 left: 24:27,  0.89 iters/sec]"
       ]
      },
      {
       "output_type": "stream",
       "stream": "stdout",
       "text": [
        "\r",
        "|#######---| 3639/4948  73% [elapsed: 1:07:58 left: 24:27,  0.89 iters/sec]"
       ]
      },
      {
       "output_type": "stream",
       "stream": "stdout",
       "text": [
        "\r",
        "|#######---| 3640/4948  73% [elapsed: 1:08:01 left: 24:26,  0.89 iters/sec]"
       ]
      },
      {
       "output_type": "stream",
       "stream": "stdout",
       "text": [
        "\r",
        "|#######---| 3641/4948  73% [elapsed: 1:08:04 left: 24:26,  0.89 iters/sec]"
       ]
      },
      {
       "output_type": "stream",
       "stream": "stdout",
       "text": [
        "\r",
        "|#######---| 3642/4948  73% [elapsed: 1:08:07 left: 24:25,  0.89 iters/sec]"
       ]
      },
      {
       "output_type": "stream",
       "stream": "stdout",
       "text": [
        "\r",
        "|#######---| 3643/4948  73% [elapsed: 1:08:10 left: 24:25,  0.89 iters/sec]"
       ]
      },
      {
       "output_type": "stream",
       "stream": "stdout",
       "text": [
        "\r",
        "|#######---| 3644/4948  73% [elapsed: 1:08:11 left: 24:24,  0.89 iters/sec]"
       ]
      },
      {
       "output_type": "stream",
       "stream": "stdout",
       "text": [
        "\r",
        "|#######---| 3645/4948  73% [elapsed: 1:08:12 left: 24:23,  0.89 iters/sec]"
       ]
      },
      {
       "output_type": "stream",
       "stream": "stdout",
       "text": [
        "\r",
        "|#######---| 3646/4948  73% [elapsed: 1:08:16 left: 24:22,  0.89 iters/sec]"
       ]
      },
      {
       "output_type": "stream",
       "stream": "stdout",
       "text": [
        "\r",
        "|#######---| 3647/4948  73% [elapsed: 1:08:20 left: 24:22,  0.89 iters/sec]"
       ]
      },
      {
       "output_type": "stream",
       "stream": "stdout",
       "text": [
        "\r",
        "|#######---| 3648/4948  73% [elapsed: 1:08:23 left: 24:22,  0.89 iters/sec]"
       ]
      },
      {
       "output_type": "stream",
       "stream": "stdout",
       "text": [
        "\r",
        "|#######---| 3649/4948  73% [elapsed: 1:08:27 left: 24:22,  0.89 iters/sec]"
       ]
      },
      {
       "output_type": "stream",
       "stream": "stdout",
       "text": [
        "\r",
        "|#######---| 3650/4948  73% [elapsed: 1:08:30 left: 24:21,  0.89 iters/sec]"
       ]
      },
      {
       "output_type": "stream",
       "stream": "stdout",
       "text": [
        "\r",
        "|#######---| 3651/4948  73% [elapsed: 1:08:34 left: 24:21,  0.89 iters/sec]"
       ]
      },
      {
       "output_type": "stream",
       "stream": "stdout",
       "text": [
        "\r",
        "|#######---| 3652/4948  73% [elapsed: 1:08:35 left: 24:20,  0.89 iters/sec]"
       ]
      },
      {
       "output_type": "stream",
       "stream": "stdout",
       "text": [
        "\r",
        "|#######---| 3653/4948  73% [elapsed: 1:08:39 left: 24:20,  0.89 iters/sec]"
       ]
      },
      {
       "output_type": "stream",
       "stream": "stdout",
       "text": [
        "\r",
        "|#######---| 3655/4948  73% [elapsed: 1:08:43 left: 24:18,  0.89 iters/sec]"
       ]
      },
      {
       "output_type": "stream",
       "stream": "stdout",
       "text": [
        "\r",
        "|#######---| 3656/4948  73% [elapsed: 1:08:46 left: 24:18,  0.89 iters/sec]"
       ]
      },
      {
       "output_type": "stream",
       "stream": "stdout",
       "text": [
        "\r",
        "|#######---| 3657/4948  73% [elapsed: 1:08:50 left: 24:18,  0.89 iters/sec]"
       ]
      },
      {
       "output_type": "stream",
       "stream": "stdout",
       "text": [
        "\r",
        "|#######---| 3658/4948  73% [elapsed: 1:08:51 left: 24:17,  0.89 iters/sec]"
       ]
      },
      {
       "output_type": "stream",
       "stream": "stdout",
       "text": [
        "\r",
        "|#######---| 3660/4948  73% [elapsed: 1:08:54 left: 24:15,  0.89 iters/sec]"
       ]
      },
      {
       "output_type": "stream",
       "stream": "stdout",
       "text": [
        "\r",
        "|#######---| 3662/4948  74% [elapsed: 1:08:58 left: 24:13,  0.88 iters/sec]"
       ]
      },
      {
       "output_type": "stream",
       "stream": "stdout",
       "text": [
        "\r",
        "|#######---| 3663/4948  74% [elapsed: 1:09:03 left: 24:13,  0.88 iters/sec]"
       ]
      },
      {
       "output_type": "stream",
       "stream": "stdout",
       "text": [
        "\r",
        "|#######---| 3664/4948  74% [elapsed: 1:09:05 left: 24:12,  0.88 iters/sec]"
       ]
      },
      {
       "output_type": "stream",
       "stream": "stdout",
       "text": [
        "\r",
        "|#######---| 3665/4948  74% [elapsed: 1:09:11 left: 24:13,  0.88 iters/sec]"
       ]
      },
      {
       "output_type": "stream",
       "stream": "stdout",
       "text": [
        "\r",
        "|#######---| 3667/4948  74% [elapsed: 1:09:12 left: 24:10,  0.88 iters/sec]"
       ]
      },
      {
       "output_type": "stream",
       "stream": "stdout",
       "text": [
        "\r",
        "|#######---| 3668/4948  74% [elapsed: 1:09:15 left: 24:10,  0.88 iters/sec]"
       ]
      },
      {
       "output_type": "stream",
       "stream": "stdout",
       "text": [
        "\r",
        "|#######---| 3669/4948  74% [elapsed: 1:09:19 left: 24:09,  0.88 iters/sec]"
       ]
      },
      {
       "output_type": "stream",
       "stream": "stdout",
       "text": [
        "\r",
        "|#######---| 3670/4948  74% [elapsed: 1:09:22 left: 24:09,  0.88 iters/sec]"
       ]
      },
      {
       "output_type": "stream",
       "stream": "stdout",
       "text": [
        "\r",
        "|#######---| 3671/4948  74% [elapsed: 1:09:25 left: 24:09,  0.88 iters/sec]"
       ]
      },
      {
       "output_type": "stream",
       "stream": "stdout",
       "text": [
        "\r",
        "|#######---| 3672/4948  74% [elapsed: 1:09:29 left: 24:08,  0.88 iters/sec]"
       ]
      },
      {
       "output_type": "stream",
       "stream": "stdout",
       "text": [
        "\r",
        "|#######---| 3674/4948  74% [elapsed: 1:09:32 left: 24:06,  0.88 iters/sec]"
       ]
      },
      {
       "output_type": "stream",
       "stream": "stdout",
       "text": [
        "\r",
        "|#######---| 3676/4948  74% [elapsed: 1:09:36 left: 24:05,  0.88 iters/sec]"
       ]
      },
      {
       "output_type": "stream",
       "stream": "stdout",
       "text": [
        "\r",
        "|#######---| 3677/4948  74% [elapsed: 1:09:39 left: 24:04,  0.88 iters/sec]"
       ]
      },
      {
       "output_type": "stream",
       "stream": "stdout",
       "text": [
        "\r",
        "|#######---| 3678/4948  74% [elapsed: 1:09:40 left: 24:03,  0.88 iters/sec]"
       ]
      },
      {
       "output_type": "stream",
       "stream": "stdout",
       "text": [
        "\r",
        "|#######---| 3679/4948  74% [elapsed: 1:09:43 left: 24:02,  0.88 iters/sec]"
       ]
      },
      {
       "output_type": "stream",
       "stream": "stdout",
       "text": [
        "\r",
        "|#######---| 3680/4948  74% [elapsed: 1:09:46 left: 24:02,  0.88 iters/sec]"
       ]
      },
      {
       "output_type": "stream",
       "stream": "stdout",
       "text": [
        "\r",
        "|#######---| 3681/4948  74% [elapsed: 1:09:49 left: 24:01,  0.88 iters/sec]"
       ]
      },
      {
       "output_type": "stream",
       "stream": "stdout",
       "text": [
        "\r",
        "|#######---| 3682/4948  74% [elapsed: 1:09:50 left: 24:00,  0.88 iters/sec]"
       ]
      },
      {
       "output_type": "stream",
       "stream": "stdout",
       "text": [
        "\r",
        "|#######---| 3683/4948  74% [elapsed: 1:09:51 left: 23:59,  0.88 iters/sec]"
       ]
      },
      {
       "output_type": "stream",
       "stream": "stdout",
       "text": [
        "\r",
        "|#######---| 3684/4948  74% [elapsed: 1:09:55 left: 23:59,  0.88 iters/sec]"
       ]
      },
      {
       "output_type": "stream",
       "stream": "stdout",
       "text": [
        "\r",
        "|#######---| 3686/4948  74% [elapsed: 1:09:56 left: 23:56,  0.88 iters/sec]"
       ]
      },
      {
       "output_type": "stream",
       "stream": "stdout",
       "text": [
        "\r",
        "|#######---| 3687/4948  74% [elapsed: 1:09:59 left: 23:56,  0.88 iters/sec]"
       ]
      },
      {
       "output_type": "stream",
       "stream": "stdout",
       "text": [
        "\r",
        "|#######---| 3688/4948  74% [elapsed: 1:10:02 left: 23:55,  0.88 iters/sec]"
       ]
      },
      {
       "output_type": "stream",
       "stream": "stdout",
       "text": [
        "\r",
        "|#######---| 3689/4948  74% [elapsed: 1:10:05 left: 23:55,  0.88 iters/sec]"
       ]
      },
      {
       "output_type": "stream",
       "stream": "stdout",
       "text": [
        "\r",
        "|#######---| 3690/4948  74% [elapsed: 1:10:09 left: 23:54,  0.88 iters/sec]"
       ]
      },
      {
       "output_type": "stream",
       "stream": "stdout",
       "text": [
        "\r",
        "|#######---| 3692/4948  74% [elapsed: 1:10:13 left: 23:53,  0.88 iters/sec]"
       ]
      },
      {
       "output_type": "stream",
       "stream": "stdout",
       "text": [
        "\r",
        "|#######---| 3693/4948  74% [elapsed: 1:10:16 left: 23:52,  0.88 iters/sec]"
       ]
      },
      {
       "output_type": "stream",
       "stream": "stdout",
       "text": [
        "\r",
        "|#######---| 3697/4948  74% [elapsed: 1:10:19 left: 23:47,  0.88 iters/sec]"
       ]
      },
      {
       "output_type": "stream",
       "stream": "stdout",
       "text": [
        "\r",
        "|#######---| 3698/4948  74% [elapsed: 1:10:23 left: 23:47,  0.88 iters/sec]"
       ]
      },
      {
       "output_type": "stream",
       "stream": "stdout",
       "text": [
        "\r",
        "|#######---| 3699/4948  74% [elapsed: 1:10:26 left: 23:47,  0.88 iters/sec]"
       ]
      },
      {
       "output_type": "stream",
       "stream": "stdout",
       "text": [
        "\r",
        "|#######---| 3701/4948  74% [elapsed: 1:10:29 left: 23:45,  0.88 iters/sec]"
       ]
      },
      {
       "output_type": "stream",
       "stream": "stdout",
       "text": [
        "\r",
        "|#######---| 3702/4948  74% [elapsed: 1:10:32 left: 23:44,  0.87 iters/sec]"
       ]
      },
      {
       "output_type": "stream",
       "stream": "stdout",
       "text": [
        "\r",
        "|#######---| 3703/4948  74% [elapsed: 1:10:35 left: 23:44,  0.87 iters/sec]"
       ]
      },
      {
       "output_type": "stream",
       "stream": "stdout",
       "text": [
        "\r",
        "|#######---| 3704/4948  74% [elapsed: 1:10:39 left: 23:43,  0.87 iters/sec]"
       ]
      },
      {
       "output_type": "stream",
       "stream": "stdout",
       "text": [
        "\r",
        "|#######---| 3705/4948  74% [elapsed: 1:10:43 left: 23:43,  0.87 iters/sec]"
       ]
      },
      {
       "output_type": "stream",
       "stream": "stdout",
       "text": [
        "\r",
        "|#######---| 3706/4948  74% [elapsed: 1:10:47 left: 23:43,  0.87 iters/sec]"
       ]
      },
      {
       "output_type": "stream",
       "stream": "stdout",
       "text": [
        "\r",
        "|#######---| 3707/4948  74% [elapsed: 1:10:48 left: 23:42,  0.87 iters/sec]"
       ]
      },
      {
       "output_type": "stream",
       "stream": "stdout",
       "text": [
        "\r",
        "|#######---| 3708/4948  74% [elapsed: 1:10:52 left: 23:41,  0.87 iters/sec]"
       ]
      },
      {
       "output_type": "stream",
       "stream": "stdout",
       "text": [
        "\r",
        "|#######---| 3709/4948  74% [elapsed: 1:10:53 left: 23:40,  0.87 iters/sec]"
       ]
      },
      {
       "output_type": "stream",
       "stream": "stdout",
       "text": [
        "\r",
        "|#######---| 3710/4948  74% [elapsed: 1:10:56 left: 23:40,  0.87 iters/sec]"
       ]
      },
      {
       "output_type": "stream",
       "stream": "stdout",
       "text": [
        "\r",
        "|#######---| 3711/4948  75% [elapsed: 1:11:00 left: 23:40,  0.87 iters/sec]"
       ]
      },
      {
       "output_type": "stream",
       "stream": "stdout",
       "text": [
        "\r",
        "|#######---| 3712/4948  75% [elapsed: 1:11:02 left: 23:39,  0.87 iters/sec]"
       ]
      },
      {
       "output_type": "stream",
       "stream": "stdout",
       "text": [
        "\r",
        "|#######---| 3713/4948  75% [elapsed: 1:11:05 left: 23:38,  0.87 iters/sec]"
       ]
      },
      {
       "output_type": "stream",
       "stream": "stdout",
       "text": [
        "\r",
        "|#######---| 3714/4948  75% [elapsed: 1:11:08 left: 23:38,  0.87 iters/sec]"
       ]
      },
      {
       "output_type": "stream",
       "stream": "stdout",
       "text": [
        "\r",
        "|#######---| 3715/4948  75% [elapsed: 1:11:12 left: 23:38,  0.87 iters/sec]"
       ]
      },
      {
       "output_type": "stream",
       "stream": "stdout",
       "text": [
        "\r",
        "|#######---| 3716/4948  75% [elapsed: 1:11:15 left: 23:37,  0.87 iters/sec]"
       ]
      },
      {
       "output_type": "stream",
       "stream": "stdout",
       "text": [
        "\r",
        "|#######---| 3717/4948  75% [elapsed: 1:11:20 left: 23:37,  0.87 iters/sec]"
       ]
      },
      {
       "output_type": "stream",
       "stream": "stdout",
       "text": [
        "\r",
        "|#######---| 3718/4948  75% [elapsed: 1:11:24 left: 23:37,  0.87 iters/sec]"
       ]
      },
      {
       "output_type": "stream",
       "stream": "stdout",
       "text": [
        "\r",
        "|#######---| 3719/4948  75% [elapsed: 1:11:27 left: 23:36,  0.87 iters/sec]"
       ]
      },
      {
       "output_type": "stream",
       "stream": "stdout",
       "text": [
        "\r",
        "|#######---| 3721/4948  75% [elapsed: 1:11:30 left: 23:34,  0.87 iters/sec]"
       ]
      },
      {
       "output_type": "stream",
       "stream": "stdout",
       "text": [
        "\r",
        "|#######---| 3722/4948  75% [elapsed: 1:11:33 left: 23:34,  0.87 iters/sec]"
       ]
      },
      {
       "output_type": "stream",
       "stream": "stdout",
       "text": [
        "\r",
        "|#######---| 3723/4948  75% [elapsed: 1:11:37 left: 23:34,  0.87 iters/sec]"
       ]
      },
      {
       "output_type": "stream",
       "stream": "stdout",
       "text": [
        "\r",
        "|#######---| 3724/4948  75% [elapsed: 1:11:38 left: 23:32,  0.87 iters/sec]"
       ]
      },
      {
       "output_type": "stream",
       "stream": "stdout",
       "text": [
        "\r",
        "|#######---| 3725/4948  75% [elapsed: 1:11:43 left: 23:32,  0.87 iters/sec]"
       ]
      },
      {
       "output_type": "stream",
       "stream": "stdout",
       "text": [
        "\r",
        "|#######---| 3726/4948  75% [elapsed: 1:11:47 left: 23:32,  0.87 iters/sec]"
       ]
      },
      {
       "output_type": "stream",
       "stream": "stdout",
       "text": [
        "\r",
        "|#######---| 3727/4948  75% [elapsed: 1:11:50 left: 23:32,  0.86 iters/sec]"
       ]
      },
      {
       "output_type": "stream",
       "stream": "stdout",
       "text": [
        "\r",
        "|#######---| 3728/4948  75% [elapsed: 1:11:54 left: 23:31,  0.86 iters/sec]"
       ]
      },
      {
       "output_type": "stream",
       "stream": "stdout",
       "text": [
        "\r",
        "|#######---| 3730/4948  75% [elapsed: 1:11:57 left: 23:29,  0.86 iters/sec]"
       ]
      },
      {
       "output_type": "stream",
       "stream": "stdout",
       "text": [
        "\r",
        "|#######---| 3731/4948  75% [elapsed: 1:12:02 left: 23:29,  0.86 iters/sec]"
       ]
      },
      {
       "output_type": "stream",
       "stream": "stdout",
       "text": [
        "\r",
        "|#######---| 3732/4948  75% [elapsed: 1:12:05 left: 23:29,  0.86 iters/sec]"
       ]
      },
      {
       "output_type": "stream",
       "stream": "stdout",
       "text": [
        "\r",
        "|#######---| 3734/4948  75% [elapsed: 1:12:09 left: 23:27,  0.86 iters/sec]"
       ]
      },
      {
       "output_type": "stream",
       "stream": "stdout",
       "text": [
        "\r",
        "|#######---| 3735/4948  75% [elapsed: 1:12:12 left: 23:27,  0.86 iters/sec]"
       ]
      },
      {
       "output_type": "stream",
       "stream": "stdout",
       "text": [
        "\r",
        "|#######---| 3736/4948  75% [elapsed: 1:12:15 left: 23:26,  0.86 iters/sec]"
       ]
      },
      {
       "output_type": "stream",
       "stream": "stdout",
       "text": [
        "\r",
        "|#######---| 3737/4948  75% [elapsed: 1:12:18 left: 23:25,  0.86 iters/sec]"
       ]
      },
      {
       "output_type": "stream",
       "stream": "stdout",
       "text": [
        "\r",
        "|#######---| 3738/4948  75% [elapsed: 1:12:21 left: 23:25,  0.86 iters/sec]"
       ]
      },
      {
       "output_type": "stream",
       "stream": "stdout",
       "text": [
        "\r",
        "|#######---| 3739/4948  75% [elapsed: 1:12:25 left: 23:25,  0.86 iters/sec]"
       ]
      },
      {
       "output_type": "stream",
       "stream": "stdout",
       "text": [
        "\r",
        "|#######---| 3740/4948  75% [elapsed: 1:12:29 left: 23:24,  0.86 iters/sec]"
       ]
      },
      {
       "output_type": "stream",
       "stream": "stdout",
       "text": [
        "\r",
        "|#######---| 3741/4948  75% [elapsed: 1:12:34 left: 23:24,  0.86 iters/sec]"
       ]
      },
      {
       "output_type": "stream",
       "stream": "stdout",
       "text": [
        "\r",
        "|#######---| 3742/4948  75% [elapsed: 1:12:38 left: 23:24,  0.86 iters/sec]"
       ]
      },
      {
       "output_type": "stream",
       "stream": "stdout",
       "text": [
        "\r",
        "|#######---| 3744/4948  75% [elapsed: 1:12:42 left: 23:22,  0.86 iters/sec]"
       ]
      },
      {
       "output_type": "stream",
       "stream": "stdout",
       "text": [
        "\r",
        "|#######---| 3745/4948  75% [elapsed: 1:12:46 left: 23:22,  0.86 iters/sec]"
       ]
      },
      {
       "output_type": "stream",
       "stream": "stdout",
       "text": [
        "\r",
        "|#######---| 3746/4948  75% [elapsed: 1:12:49 left: 23:22,  0.86 iters/sec]"
       ]
      },
      {
       "output_type": "stream",
       "stream": "stdout",
       "text": [
        "\r",
        "|#######---| 3747/4948  75% [elapsed: 1:12:52 left: 23:21,  0.86 iters/sec]"
       ]
      },
      {
       "output_type": "stream",
       "stream": "stdout",
       "text": [
        "\r",
        "|#######---| 3748/4948  75% [elapsed: 1:12:53 left: 23:20,  0.86 iters/sec]"
       ]
      },
      {
       "output_type": "stream",
       "stream": "stdout",
       "text": [
        "\r",
        "|#######---| 3749/4948  75% [elapsed: 1:12:57 left: 23:19,  0.86 iters/sec]"
       ]
      },
      {
       "output_type": "stream",
       "stream": "stdout",
       "text": [
        "\r",
        "|#######---| 3750/4948  75% [elapsed: 1:13:00 left: 23:19,  0.86 iters/sec]"
       ]
      },
      {
       "output_type": "stream",
       "stream": "stdout",
       "text": [
        "\r",
        "|#######---| 3751/4948  75% [elapsed: 1:13:01 left: 23:18,  0.86 iters/sec]"
       ]
      },
      {
       "output_type": "stream",
       "stream": "stdout",
       "text": [
        "\r",
        "|#######---| 3752/4948  75% [elapsed: 1:13:04 left: 23:17,  0.86 iters/sec]"
       ]
      },
      {
       "output_type": "stream",
       "stream": "stdout",
       "text": [
        "\r",
        "|#######---| 3753/4948  75% [elapsed: 1:13:08 left: 23:17,  0.86 iters/sec]"
       ]
      },
      {
       "output_type": "stream",
       "stream": "stdout",
       "text": [
        "\r",
        "|#######---| 3754/4948  75% [elapsed: 1:13:10 left: 23:16,  0.86 iters/sec]"
       ]
      },
      {
       "output_type": "stream",
       "stream": "stdout",
       "text": [
        "\r",
        "|#######---| 3755/4948  75% [elapsed: 1:13:12 left: 23:15,  0.85 iters/sec]"
       ]
      },
      {
       "output_type": "stream",
       "stream": "stdout",
       "text": [
        "\r",
        "|#######---| 3756/4948  75% [elapsed: 1:13:14 left: 23:14,  0.85 iters/sec]"
       ]
      },
      {
       "output_type": "stream",
       "stream": "stdout",
       "text": [
        "\r",
        "|#######---| 3758/4948  75% [elapsed: 1:13:18 left: 23:12,  0.85 iters/sec]"
       ]
      },
      {
       "output_type": "stream",
       "stream": "stdout",
       "text": [
        "\r",
        "|#######---| 3759/4948  75% [elapsed: 1:13:22 left: 23:12,  0.85 iters/sec]"
       ]
      },
      {
       "output_type": "stream",
       "stream": "stdout",
       "text": [
        "\r",
        "|#######---| 3760/4948  75% [elapsed: 1:13:26 left: 23:12,  0.85 iters/sec]"
       ]
      },
      {
       "output_type": "stream",
       "stream": "stdout",
       "text": [
        "\r",
        "|#######---| 3761/4948  76% [elapsed: 1:13:29 left: 23:11,  0.85 iters/sec]"
       ]
      },
      {
       "output_type": "stream",
       "stream": "stdout",
       "text": [
        "\r",
        "|#######---| 3762/4948  76% [elapsed: 1:13:32 left: 23:11,  0.85 iters/sec]"
       ]
      },
      {
       "output_type": "stream",
       "stream": "stdout",
       "text": [
        "\r",
        "|#######---| 3764/4948  76% [elapsed: 1:13:35 left: 23:08,  0.85 iters/sec]"
       ]
      },
      {
       "output_type": "stream",
       "stream": "stdout",
       "text": [
        "\r",
        "|#######---| 3765/4948  76% [elapsed: 1:13:38 left: 23:08,  0.85 iters/sec]"
       ]
      },
      {
       "output_type": "stream",
       "stream": "stdout",
       "text": [
        "\r",
        "|#######---| 3766/4948  76% [elapsed: 1:13:42 left: 23:07,  0.85 iters/sec]"
       ]
      },
      {
       "output_type": "stream",
       "stream": "stdout",
       "text": [
        "\r",
        "|#######---| 3767/4948  76% [elapsed: 1:13:45 left: 23:07,  0.85 iters/sec]"
       ]
      },
      {
       "output_type": "stream",
       "stream": "stdout",
       "text": [
        "\r",
        "|#######---| 3769/4948  76% [elapsed: 1:13:48 left: 23:05,  0.85 iters/sec]"
       ]
      },
      {
       "output_type": "stream",
       "stream": "stdout",
       "text": [
        "\r",
        "|#######---| 3771/4948  76% [elapsed: 1:13:51 left: 23:03,  0.85 iters/sec]"
       ]
      },
      {
       "output_type": "stream",
       "stream": "stdout",
       "text": [
        "\r",
        "|#######---| 3772/4948  76% [elapsed: 1:13:55 left: 23:02,  0.85 iters/sec]"
       ]
      },
      {
       "output_type": "stream",
       "stream": "stdout",
       "text": [
        "\r",
        "|#######---| 3773/4948  76% [elapsed: 1:13:58 left: 23:02,  0.85 iters/sec]"
       ]
      },
      {
       "output_type": "stream",
       "stream": "stdout",
       "text": [
        "\r",
        "|#######---| 3775/4948  76% [elapsed: 1:14:02 left: 23:00,  0.85 iters/sec]"
       ]
      },
      {
       "output_type": "stream",
       "stream": "stdout",
       "text": [
        "\r",
        "|#######---| 3776/4948  76% [elapsed: 1:14:03 left: 22:59,  0.85 iters/sec]"
       ]
      },
      {
       "output_type": "stream",
       "stream": "stdout",
       "text": [
        "\r",
        "|#######---| 3777/4948  76% [elapsed: 1:14:06 left: 22:58,  0.85 iters/sec]"
       ]
      },
      {
       "output_type": "stream",
       "stream": "stdout",
       "text": [
        "\r",
        "|#######---| 3778/4948  76% [elapsed: 1:14:10 left: 22:58,  0.85 iters/sec]"
       ]
      },
      {
       "output_type": "stream",
       "stream": "stdout",
       "text": [
        "\r",
        "|#######---| 3779/4948  76% [elapsed: 1:14:13 left: 22:57,  0.85 iters/sec]"
       ]
      },
      {
       "output_type": "stream",
       "stream": "stdout",
       "text": [
        "\r",
        "|#######---| 3780/4948  76% [elapsed: 1:14:14 left: 22:56,  0.85 iters/sec]"
       ]
      },
      {
       "output_type": "stream",
       "stream": "stdout",
       "text": [
        "\r",
        "|#######---| 3781/4948  76% [elapsed: 1:14:18 left: 22:56,  0.85 iters/sec]"
       ]
      },
      {
       "output_type": "stream",
       "stream": "stdout",
       "text": [
        "\r",
        "|#######---| 3782/4948  76% [elapsed: 1:14:22 left: 22:55,  0.85 iters/sec]"
       ]
      },
      {
       "output_type": "stream",
       "stream": "stdout",
       "text": [
        "\r",
        "|#######---| 3783/4948  76% [elapsed: 1:14:25 left: 22:55,  0.85 iters/sec]"
       ]
      },
      {
       "output_type": "stream",
       "stream": "stdout",
       "text": [
        "\r",
        "|#######---| 3784/4948  76% [elapsed: 1:14:28 left: 22:54,  0.85 iters/sec]"
       ]
      },
      {
       "output_type": "stream",
       "stream": "stdout",
       "text": [
        "\r",
        "|#######---| 3785/4948  76% [elapsed: 1:14:32 left: 22:54,  0.85 iters/sec]"
       ]
      },
      {
       "output_type": "stream",
       "stream": "stdout",
       "text": [
        "\r",
        "|#######---| 3786/4948  76% [elapsed: 1:14:35 left: 22:53,  0.85 iters/sec]"
       ]
      },
      {
       "output_type": "stream",
       "stream": "stdout",
       "text": [
        "\r",
        "|#######---| 3788/4948  76% [elapsed: 1:14:39 left: 22:51,  0.85 iters/sec]"
       ]
      },
      {
       "output_type": "stream",
       "stream": "stdout",
       "text": [
        "\r",
        "|#######---| 3790/4948  76% [elapsed: 1:14:40 left: 22:49,  0.85 iters/sec]"
       ]
      },
      {
       "output_type": "stream",
       "stream": "stdout",
       "text": [
        "\r",
        "|#######---| 3791/4948  76% [elapsed: 1:14:44 left: 22:48,  0.85 iters/sec]"
       ]
      },
      {
       "output_type": "stream",
       "stream": "stdout",
       "text": [
        "\r",
        "|#######---| 3792/4948  76% [elapsed: 1:14:47 left: 22:47,  0.85 iters/sec]"
       ]
      },
      {
       "output_type": "stream",
       "stream": "stdout",
       "text": [
        "\r",
        "|#######---| 3793/4948  76% [elapsed: 1:14:50 left: 22:47,  0.84 iters/sec]"
       ]
      },
      {
       "output_type": "stream",
       "stream": "stdout",
       "text": [
        "\r",
        "|#######---| 3794/4948  76% [elapsed: 1:14:51 left: 22:46,  0.84 iters/sec]"
       ]
      },
      {
       "output_type": "stream",
       "stream": "stdout",
       "text": [
        "\r",
        "|#######---| 3795/4948  76% [elapsed: 1:14:54 left: 22:45,  0.84 iters/sec]"
       ]
      },
      {
       "output_type": "stream",
       "stream": "stdout",
       "text": [
        "\r",
        "|#######---| 3797/4948  76% [elapsed: 1:14:57 left: 22:43,  0.84 iters/sec]"
       ]
      },
      {
       "output_type": "stream",
       "stream": "stdout",
       "text": [
        "\r",
        "|#######---| 3798/4948  76% [elapsed: 1:15:01 left: 22:42,  0.84 iters/sec]"
       ]
      },
      {
       "output_type": "stream",
       "stream": "stdout",
       "text": [
        "\r",
        "|#######---| 3799/4948  76% [elapsed: 1:15:04 left: 22:42,  0.84 iters/sec]"
       ]
      },
      {
       "output_type": "stream",
       "stream": "stdout",
       "text": [
        "\r",
        "|#######---| 3800/4948  76% [elapsed: 1:15:07 left: 22:41,  0.84 iters/sec]"
       ]
      },
      {
       "output_type": "stream",
       "stream": "stdout",
       "text": [
        "\r",
        "|#######---| 3801/4948  76% [elapsed: 1:15:10 left: 22:41,  0.84 iters/sec]"
       ]
      },
      {
       "output_type": "stream",
       "stream": "stdout",
       "text": [
        "\r",
        "|#######---| 3802/4948  76% [elapsed: 1:15:11 left: 22:39,  0.84 iters/sec]"
       ]
      },
      {
       "output_type": "stream",
       "stream": "stdout",
       "text": [
        "\r",
        "|#######---| 3804/4948  76% [elapsed: 1:15:13 left: 22:37,  0.84 iters/sec]"
       ]
      },
      {
       "output_type": "stream",
       "stream": "stdout",
       "text": [
        "\r",
        "|#######---| 3805/4948  76% [elapsed: 1:15:18 left: 22:37,  0.84 iters/sec]"
       ]
      },
      {
       "output_type": "stream",
       "stream": "stdout",
       "text": [
        "\r",
        "|#######---| 3806/4948  76% [elapsed: 1:15:21 left: 22:36,  0.84 iters/sec]"
       ]
      },
      {
       "output_type": "stream",
       "stream": "stdout",
       "text": [
        "\r",
        "|#######---| 3807/4948  76% [elapsed: 1:15:25 left: 22:36,  0.84 iters/sec]"
       ]
      },
      {
       "output_type": "stream",
       "stream": "stdout",
       "text": [
        "\r",
        "|#######---| 3808/4948  76% [elapsed: 1:15:28 left: 22:35,  0.84 iters/sec]"
       ]
      },
      {
       "output_type": "stream",
       "stream": "stdout",
       "text": [
        "\r",
        "|#######---| 3809/4948  76% [elapsed: 1:15:31 left: 22:34,  0.84 iters/sec]"
       ]
      },
      {
       "output_type": "stream",
       "stream": "stdout",
       "text": [
        "\r",
        "|#######---| 3810/4948  77% [elapsed: 1:15:32 left: 22:33,  0.84 iters/sec]"
       ]
      },
      {
       "output_type": "stream",
       "stream": "stdout",
       "text": [
        "\r",
        "|#######---| 3811/4948  77% [elapsed: 1:15:37 left: 22:33,  0.84 iters/sec]"
       ]
      },
      {
       "output_type": "stream",
       "stream": "stdout",
       "text": [
        "\r",
        "|#######---| 3812/4948  77% [elapsed: 1:15:41 left: 22:33,  0.84 iters/sec]"
       ]
      },
      {
       "output_type": "stream",
       "stream": "stdout",
       "text": [
        "\r",
        "|#######---| 3813/4948  77% [elapsed: 1:15:43 left: 22:32,  0.84 iters/sec]"
       ]
      },
      {
       "output_type": "stream",
       "stream": "stdout",
       "text": [
        "\r",
        "|#######---| 3814/4948  77% [elapsed: 1:15:45 left: 22:31,  0.84 iters/sec]"
       ]
      },
      {
       "output_type": "stream",
       "stream": "stdout",
       "text": [
        "\r",
        "|#######---| 3815/4948  77% [elapsed: 1:15:48 left: 22:30,  0.84 iters/sec]"
       ]
      },
      {
       "output_type": "stream",
       "stream": "stdout",
       "text": [
        "\r",
        "|#######---| 3816/4948  77% [elapsed: 1:15:51 left: 22:30,  0.84 iters/sec]"
       ]
      },
      {
       "output_type": "stream",
       "stream": "stdout",
       "text": [
        "\r",
        "|#######---| 3817/4948  77% [elapsed: 1:15:55 left: 22:29,  0.84 iters/sec]"
       ]
      },
      {
       "output_type": "stream",
       "stream": "stdout",
       "text": [
        "\r",
        "|#######---| 3818/4948  77% [elapsed: 1:15:57 left: 22:28,  0.84 iters/sec]"
       ]
      },
      {
       "output_type": "stream",
       "stream": "stdout",
       "text": [
        "\r",
        "|#######---| 3819/4948  77% [elapsed: 1:16:00 left: 22:28,  0.84 iters/sec]"
       ]
      },
      {
       "output_type": "stream",
       "stream": "stdout",
       "text": [
        "\r",
        "|#######---| 3820/4948  77% [elapsed: 1:16:03 left: 22:27,  0.84 iters/sec]"
       ]
      },
      {
       "output_type": "stream",
       "stream": "stdout",
       "text": [
        "\r",
        "|#######---| 3821/4948  77% [elapsed: 1:16:06 left: 22:26,  0.84 iters/sec]"
       ]
      },
      {
       "output_type": "stream",
       "stream": "stdout",
       "text": [
        "\r",
        "|#######---| 3822/4948  77% [elapsed: 1:16:07 left: 22:25,  0.84 iters/sec]"
       ]
      },
      {
       "output_type": "stream",
       "stream": "stdout",
       "text": [
        "\r",
        "|#######---| 3823/4948  77% [elapsed: 1:16:11 left: 22:25,  0.84 iters/sec]"
       ]
      },
      {
       "output_type": "stream",
       "stream": "stdout",
       "text": [
        "\r",
        "|#######---| 3824/4948  77% [elapsed: 1:16:12 left: 22:24,  0.84 iters/sec]"
       ]
      },
      {
       "output_type": "stream",
       "stream": "stdout",
       "text": [
        "\r",
        "|#######---| 3825/4948  77% [elapsed: 1:16:16 left: 22:23,  0.84 iters/sec]"
       ]
      },
      {
       "output_type": "stream",
       "stream": "stdout",
       "text": [
        "\r",
        "|#######---| 3826/4948  77% [elapsed: 1:16:19 left: 22:23,  0.84 iters/sec]"
       ]
      },
      {
       "output_type": "stream",
       "stream": "stdout",
       "text": [
        "\r",
        "|#######---| 3827/4948  77% [elapsed: 1:16:23 left: 22:22,  0.83 iters/sec]"
       ]
      },
      {
       "output_type": "stream",
       "stream": "stdout",
       "text": [
        "\r",
        "|#######---| 3829/4948  77% [elapsed: 1:16:25 left: 22:19,  0.84 iters/sec]"
       ]
      },
      {
       "output_type": "stream",
       "stream": "stdout",
       "text": [
        "\r",
        "|#######---| 3830/4948  77% [elapsed: 1:16:29 left: 22:19,  0.83 iters/sec]"
       ]
      },
      {
       "output_type": "stream",
       "stream": "stdout",
       "text": [
        "\r",
        "|#######---| 3831/4948  77% [elapsed: 1:16:33 left: 22:19,  0.83 iters/sec]"
       ]
      },
      {
       "output_type": "stream",
       "stream": "stdout",
       "text": [
        "\r",
        "|#######---| 3832/4948  77% [elapsed: 1:16:36 left: 22:18,  0.83 iters/sec]"
       ]
      },
      {
       "output_type": "stream",
       "stream": "stdout",
       "text": [
        "\r",
        "|#######---| 3834/4948  77% [elapsed: 1:16:40 left: 22:16,  0.83 iters/sec]"
       ]
      },
      {
       "output_type": "stream",
       "stream": "stdout",
       "text": [
        "\r",
        "|#######---| 3835/4948  77% [elapsed: 1:16:43 left: 22:15,  0.83 iters/sec]"
       ]
      },
      {
       "output_type": "stream",
       "stream": "stdout",
       "text": [
        "\r",
        "|#######---| 3836/4948  77% [elapsed: 1:16:46 left: 22:15,  0.83 iters/sec]"
       ]
      },
      {
       "output_type": "stream",
       "stream": "stdout",
       "text": [
        "\r",
        "|#######---| 3837/4948  77% [elapsed: 1:16:50 left: 22:14,  0.83 iters/sec]"
       ]
      },
      {
       "output_type": "stream",
       "stream": "stdout",
       "text": [
        "\r",
        "|#######---| 3838/4948  77% [elapsed: 1:16:53 left: 22:14,  0.83 iters/sec]"
       ]
      },
      {
       "output_type": "stream",
       "stream": "stdout",
       "text": [
        "\r",
        "|#######---| 3839/4948  77% [elapsed: 1:16:57 left: 22:13,  0.83 iters/sec]"
       ]
      },
      {
       "output_type": "stream",
       "stream": "stdout",
       "text": [
        "\r",
        "|#######---| 3842/4948  77% [elapsed: 1:17:00 left: 22:10,  0.83 iters/sec]"
       ]
      },
      {
       "output_type": "stream",
       "stream": "stdout",
       "text": [
        "\r",
        "|#######---| 3843/4948  77% [elapsed: 1:17:05 left: 22:09,  0.83 iters/sec]"
       ]
      },
      {
       "output_type": "stream",
       "stream": "stdout",
       "text": [
        "\r",
        "|#######---| 3844/4948  77% [elapsed: 1:17:10 left: 22:09,  0.83 iters/sec]"
       ]
      },
      {
       "output_type": "stream",
       "stream": "stdout",
       "text": [
        "\r",
        "|#######---| 3845/4948  77% [elapsed: 1:17:11 left: 22:08,  0.83 iters/sec]"
       ]
      },
      {
       "output_type": "stream",
       "stream": "stdout",
       "text": [
        "\r",
        "|#######---| 3846/4948  77% [elapsed: 1:17:13 left: 22:07,  0.83 iters/sec]"
       ]
      },
      {
       "output_type": "stream",
       "stream": "stdout",
       "text": [
        "\r",
        "|#######---| 3847/4948  77% [elapsed: 1:17:17 left: 22:07,  0.83 iters/sec]"
       ]
      },
      {
       "output_type": "stream",
       "stream": "stdout",
       "text": [
        "\r",
        "|#######---| 3848/4948  77% [elapsed: 1:17:18 left: 22:06,  0.83 iters/sec]"
       ]
      },
      {
       "output_type": "stream",
       "stream": "stdout",
       "text": [
        "\r",
        "|#######---| 3850/4948  77% [elapsed: 1:17:22 left: 22:04,  0.83 iters/sec]"
       ]
      },
      {
       "output_type": "stream",
       "stream": "stdout",
       "text": [
        "\r",
        "|#######---| 3851/4948  77% [elapsed: 1:17:26 left: 22:03,  0.83 iters/sec]"
       ]
      },
      {
       "output_type": "stream",
       "stream": "stdout",
       "text": [
        "\r",
        "|#######---| 3852/4948  77% [elapsed: 1:17:30 left: 22:03,  0.83 iters/sec]"
       ]
      },
      {
       "output_type": "stream",
       "stream": "stdout",
       "text": [
        "\r",
        "|#######---| 3853/4948  77% [elapsed: 1:17:33 left: 22:02,  0.83 iters/sec]"
       ]
      },
      {
       "output_type": "stream",
       "stream": "stdout",
       "text": [
        "\r",
        "|#######---| 3854/4948  77% [elapsed: 1:17:34 left: 22:01,  0.83 iters/sec]"
       ]
      },
      {
       "output_type": "stream",
       "stream": "stdout",
       "text": [
        "\r",
        "|#######---| 3855/4948  77% [elapsed: 1:17:37 left: 22:00,  0.83 iters/sec]"
       ]
      },
      {
       "output_type": "stream",
       "stream": "stdout",
       "text": [
        "\r",
        "|#######---| 3856/4948  77% [elapsed: 1:17:40 left: 21:59,  0.83 iters/sec]"
       ]
      },
      {
       "output_type": "stream",
       "stream": "stdout",
       "text": [
        "\r",
        "|#######---| 3857/4948  77% [elapsed: 1:17:43 left: 21:59,  0.83 iters/sec]"
       ]
      },
      {
       "output_type": "stream",
       "stream": "stdout",
       "text": [
        "\r",
        "|#######---| 3858/4948  77% [elapsed: 1:17:46 left: 21:58,  0.83 iters/sec]"
       ]
      },
      {
       "output_type": "stream",
       "stream": "stdout",
       "text": [
        "\r",
        "|#######---| 3860/4948  78% [elapsed: 1:17:50 left: 21:56,  0.83 iters/sec]"
       ]
      },
      {
       "output_type": "stream",
       "stream": "stdout",
       "text": [
        "\r",
        "|#######---| 3861/4948  78% [elapsed: 1:17:53 left: 21:55,  0.83 iters/sec]"
       ]
      },
      {
       "output_type": "stream",
       "stream": "stdout",
       "text": [
        "\r",
        "|#######---| 3862/4948  78% [elapsed: 1:17:56 left: 21:55,  0.83 iters/sec]"
       ]
      },
      {
       "output_type": "stream",
       "stream": "stdout",
       "text": [
        "\r",
        "|#######---| 3863/4948  78% [elapsed: 1:17:59 left: 21:54,  0.83 iters/sec]"
       ]
      },
      {
       "output_type": "stream",
       "stream": "stdout",
       "text": [
        "\r",
        "|#######---| 3864/4948  78% [elapsed: 1:18:01 left: 21:53,  0.83 iters/sec]"
       ]
      },
      {
       "output_type": "stream",
       "stream": "stdout",
       "text": [
        "\r",
        "|#######---| 3865/4948  78% [elapsed: 1:18:05 left: 21:52,  0.82 iters/sec]"
       ]
      },
      {
       "output_type": "stream",
       "stream": "stdout",
       "text": [
        "\r",
        "|#######---| 3867/4948  78% [elapsed: 1:18:09 left: 21:50,  0.82 iters/sec]"
       ]
      },
      {
       "output_type": "stream",
       "stream": "stdout",
       "text": [
        "\r",
        "|#######---| 3868/4948  78% [elapsed: 1:18:12 left: 21:50,  0.82 iters/sec]"
       ]
      },
      {
       "output_type": "stream",
       "stream": "stdout",
       "text": [
        "\r",
        "|#######---| 3870/4948  78% [elapsed: 1:18:15 left: 21:47,  0.82 iters/sec]"
       ]
      },
      {
       "output_type": "stream",
       "stream": "stdout",
       "text": [
        "\r",
        "|#######---| 3871/4948  78% [elapsed: 1:18:19 left: 21:47,  0.82 iters/sec]"
       ]
      },
      {
       "output_type": "stream",
       "stream": "stdout",
       "text": [
        "\r",
        "|#######---| 3873/4948  78% [elapsed: 1:18:20 left: 21:44,  0.82 iters/sec]"
       ]
      },
      {
       "output_type": "stream",
       "stream": "stdout",
       "text": [
        "\r",
        "|#######---| 3874/4948  78% [elapsed: 1:18:24 left: 21:44,  0.82 iters/sec]"
       ]
      },
      {
       "output_type": "stream",
       "stream": "stdout",
       "text": [
        "\r",
        "|#######---| 3875/4948  78% [elapsed: 1:18:28 left: 21:43,  0.82 iters/sec]"
       ]
      },
      {
       "output_type": "stream",
       "stream": "stdout",
       "text": [
        "\r",
        "|#######---| 3876/4948  78% [elapsed: 1:18:31 left: 21:43,  0.82 iters/sec]"
       ]
      },
      {
       "output_type": "stream",
       "stream": "stdout",
       "text": [
        "\r",
        "|#######---| 3877/4948  78% [elapsed: 1:18:32 left: 21:41,  0.82 iters/sec]"
       ]
      },
      {
       "output_type": "stream",
       "stream": "stdout",
       "text": [
        "\r",
        "|#######---| 3879/4948  78% [elapsed: 1:18:34 left: 21:39,  0.82 iters/sec]"
       ]
      },
      {
       "output_type": "stream",
       "stream": "stdout",
       "text": [
        "\r",
        "|#######---| 3880/4948  78% [elapsed: 1:18:38 left: 21:38,  0.82 iters/sec]"
       ]
      },
      {
       "output_type": "stream",
       "stream": "stdout",
       "text": [
        "\r",
        "|#######---| 3881/4948  78% [elapsed: 1:18:41 left: 21:38,  0.82 iters/sec]"
       ]
      },
      {
       "output_type": "stream",
       "stream": "stdout",
       "text": [
        "\r",
        "|#######---| 3882/4948  78% [elapsed: 1:18:44 left: 21:37,  0.82 iters/sec]"
       ]
      },
      {
       "output_type": "stream",
       "stream": "stdout",
       "text": [
        "\r",
        "|#######---| 3883/4948  78% [elapsed: 1:18:45 left: 21:36,  0.82 iters/sec]"
       ]
      },
      {
       "output_type": "stream",
       "stream": "stdout",
       "text": [
        "\r",
        "|#######---| 3884/4948  78% [elapsed: 1:18:49 left: 21:35,  0.82 iters/sec]"
       ]
      },
      {
       "output_type": "stream",
       "stream": "stdout",
       "text": [
        "\r",
        "|#######---| 3885/4948  78% [elapsed: 1:18:52 left: 21:34,  0.82 iters/sec]"
       ]
      },
      {
       "output_type": "stream",
       "stream": "stdout",
       "text": [
        "\r",
        "|#######---| 3886/4948  78% [elapsed: 1:18:56 left: 21:34,  0.82 iters/sec]"
       ]
      },
      {
       "output_type": "stream",
       "stream": "stdout",
       "text": [
        "\r",
        "|#######---| 3887/4948  78% [elapsed: 1:19:00 left: 21:33,  0.82 iters/sec]"
       ]
      },
      {
       "output_type": "stream",
       "stream": "stdout",
       "text": [
        "\r",
        "|#######---| 3888/4948  78% [elapsed: 1:19:02 left: 21:33,  0.82 iters/sec]"
       ]
      },
      {
       "output_type": "stream",
       "stream": "stdout",
       "text": [
        "\r",
        "|#######---| 3889/4948  78% [elapsed: 1:19:06 left: 21:32,  0.82 iters/sec]"
       ]
      },
      {
       "output_type": "stream",
       "stream": "stdout",
       "text": [
        "\r",
        "|#######---| 3890/4948  78% [elapsed: 1:19:09 left: 21:31,  0.82 iters/sec]"
       ]
      },
      {
       "output_type": "stream",
       "stream": "stdout",
       "text": [
        "\r",
        "|#######---| 3891/4948  78% [elapsed: 1:19:13 left: 21:31,  0.82 iters/sec]"
       ]
      },
      {
       "output_type": "stream",
       "stream": "stdout",
       "text": [
        "\r",
        "|#######---| 3892/4948  78% [elapsed: 1:19:16 left: 21:30,  0.82 iters/sec]"
       ]
      },
      {
       "output_type": "stream",
       "stream": "stdout",
       "text": [
        "\r",
        "|#######---| 3893/4948  78% [elapsed: 1:19:19 left: 21:29,  0.82 iters/sec]"
       ]
      },
      {
       "output_type": "stream",
       "stream": "stdout",
       "text": [
        "\r",
        "|#######---| 3894/4948  78% [elapsed: 1:19:22 left: 21:29,  0.82 iters/sec]"
       ]
      },
      {
       "output_type": "stream",
       "stream": "stdout",
       "text": [
        "\r",
        "|#######---| 3895/4948  78% [elapsed: 1:19:23 left: 21:27,  0.82 iters/sec]"
       ]
      },
      {
       "output_type": "stream",
       "stream": "stdout",
       "text": [
        "\r",
        "|#######---| 3896/4948  78% [elapsed: 1:19:25 left: 21:26,  0.82 iters/sec]"
       ]
      },
      {
       "output_type": "stream",
       "stream": "stdout",
       "text": [
        "\r",
        "|#######---| 3897/4948  78% [elapsed: 1:19:29 left: 21:26,  0.82 iters/sec]"
       ]
      },
      {
       "output_type": "stream",
       "stream": "stdout",
       "text": [
        "\r",
        "|#######---| 3899/4948  78% [elapsed: 1:19:32 left: 21:23,  0.82 iters/sec]"
       ]
      },
      {
       "output_type": "stream",
       "stream": "stdout",
       "text": [
        "\r",
        "|#######---| 3900/4948  78% [elapsed: 1:19:35 left: 21:23,  0.82 iters/sec]"
       ]
      },
      {
       "output_type": "stream",
       "stream": "stdout",
       "text": [
        "\r",
        "|#######---| 3902/4948  78% [elapsed: 1:19:39 left: 21:21,  0.82 iters/sec]"
       ]
      },
      {
       "output_type": "stream",
       "stream": "stdout",
       "text": [
        "\r",
        "|#######---| 3903/4948  78% [elapsed: 1:19:40 left: 21:20,  0.82 iters/sec]"
       ]
      },
      {
       "output_type": "stream",
       "stream": "stdout",
       "text": [
        "\r",
        "|#######---| 3904/4948  78% [elapsed: 1:19:42 left: 21:18,  0.82 iters/sec]"
       ]
      },
      {
       "output_type": "stream",
       "stream": "stdout",
       "text": [
        "\r",
        "|#######---| 3905/4948  78% [elapsed: 1:19:45 left: 21:18,  0.82 iters/sec]"
       ]
      },
      {
       "output_type": "stream",
       "stream": "stdout",
       "text": [
        "\r",
        "|#######---| 3906/4948  78% [elapsed: 1:19:49 left: 21:17,  0.82 iters/sec]"
       ]
      },
      {
       "output_type": "stream",
       "stream": "stdout",
       "text": [
        "\r",
        "|#######---| 3907/4948  78% [elapsed: 1:19:50 left: 21:16,  0.82 iters/sec]"
       ]
      },
      {
       "output_type": "stream",
       "stream": "stdout",
       "text": [
        "\r",
        "|#######---| 3908/4948  78% [elapsed: 1:19:51 left: 21:15,  0.82 iters/sec]"
       ]
      },
      {
       "output_type": "stream",
       "stream": "stdout",
       "text": [
        "\r",
        "|#######---| 3909/4948  79% [elapsed: 1:19:55 left: 21:14,  0.82 iters/sec]"
       ]
      },
      {
       "output_type": "stream",
       "stream": "stdout",
       "text": [
        "\r",
        "|#######---| 3910/4948  79% [elapsed: 1:19:58 left: 21:13,  0.81 iters/sec]"
       ]
      },
      {
       "output_type": "stream",
       "stream": "stdout",
       "text": [
        "\r",
        "|#######---| 3911/4948  79% [elapsed: 1:19:59 left: 21:12,  0.81 iters/sec]"
       ]
      },
      {
       "output_type": "stream",
       "stream": "stdout",
       "text": [
        "\r",
        "|#######---| 3912/4948  79% [elapsed: 1:20:05 left: 21:12,  0.81 iters/sec]"
       ]
      },
      {
       "output_type": "stream",
       "stream": "stdout",
       "text": [
        "\r",
        "|#######---| 3913/4948  79% [elapsed: 1:20:10 left: 21:12,  0.81 iters/sec]"
       ]
      },
      {
       "output_type": "stream",
       "stream": "stdout",
       "text": [
        "\r",
        "|#######---| 3914/4948  79% [elapsed: 1:20:11 left: 21:11,  0.81 iters/sec]"
       ]
      },
      {
       "output_type": "stream",
       "stream": "stdout",
       "text": [
        "\r",
        "|#######---| 3915/4948  79% [elapsed: 1:20:14 left: 21:10,  0.81 iters/sec]"
       ]
      },
      {
       "output_type": "stream",
       "stream": "stdout",
       "text": [
        "\r",
        "|#######---| 3916/4948  79% [elapsed: 1:20:17 left: 21:09,  0.81 iters/sec]"
       ]
      },
      {
       "output_type": "stream",
       "stream": "stdout",
       "text": [
        "\r",
        "|#######---| 3917/4948  79% [elapsed: 1:20:21 left: 21:08,  0.81 iters/sec]"
       ]
      },
      {
       "output_type": "stream",
       "stream": "stdout",
       "text": [
        "\r",
        "|#######---| 3918/4948  79% [elapsed: 1:20:24 left: 21:08,  0.81 iters/sec]"
       ]
      },
      {
       "output_type": "stream",
       "stream": "stdout",
       "text": [
        "\r",
        "|#######---| 3919/4948  79% [elapsed: 1:20:27 left: 21:07,  0.81 iters/sec]"
       ]
      },
      {
       "output_type": "stream",
       "stream": "stdout",
       "text": [
        "\r",
        "|#######---| 3920/4948  79% [elapsed: 1:20:32 left: 21:07,  0.81 iters/sec]"
       ]
      },
      {
       "output_type": "stream",
       "stream": "stdout",
       "text": [
        "\r",
        "|#######---| 3921/4948  79% [elapsed: 1:20:36 left: 21:06,  0.81 iters/sec]"
       ]
      },
      {
       "output_type": "stream",
       "stream": "stdout",
       "text": [
        "\r",
        "|#######---| 3922/4948  79% [elapsed: 1:20:39 left: 21:05,  0.81 iters/sec]"
       ]
      },
      {
       "output_type": "stream",
       "stream": "stdout",
       "text": [
        "\r",
        "|#######---| 3923/4948  79% [elapsed: 1:20:40 left: 21:04,  0.81 iters/sec]"
       ]
      },
      {
       "output_type": "stream",
       "stream": "stdout",
       "text": [
        "\r",
        "|#######---| 3924/4948  79% [elapsed: 1:20:42 left: 21:03,  0.81 iters/sec]"
       ]
      },
      {
       "output_type": "stream",
       "stream": "stdout",
       "text": [
        "\r",
        "|#######---| 3925/4948  79% [elapsed: 1:20:47 left: 21:03,  0.81 iters/sec]"
       ]
      },
      {
       "output_type": "stream",
       "stream": "stdout",
       "text": [
        "\r",
        "|#######---| 3926/4948  79% [elapsed: 1:20:50 left: 21:02,  0.81 iters/sec]"
       ]
      },
      {
       "output_type": "stream",
       "stream": "stdout",
       "text": [
        "\r",
        "|#######---| 3927/4948  79% [elapsed: 1:20:55 left: 21:02,  0.81 iters/sec]"
       ]
      },
      {
       "output_type": "stream",
       "stream": "stdout",
       "text": [
        "\r",
        "|#######---| 3928/4948  79% [elapsed: 1:20:58 left: 21:01,  0.81 iters/sec]"
       ]
      },
      {
       "output_type": "stream",
       "stream": "stdout",
       "text": [
        "\r",
        "|#######---| 3929/4948  79% [elapsed: 1:21:01 left: 21:00,  0.81 iters/sec]"
       ]
      },
      {
       "output_type": "stream",
       "stream": "stdout",
       "text": [
        "\r",
        "|#######---| 3931/4948  79% [elapsed: 1:21:04 left: 20:58,  0.81 iters/sec]"
       ]
      },
      {
       "output_type": "stream",
       "stream": "stdout",
       "text": [
        "\r",
        "|#######---| 3932/4948  79% [elapsed: 1:21:05 left: 20:57,  0.81 iters/sec]"
       ]
      },
      {
       "output_type": "stream",
       "stream": "stdout",
       "text": [
        "\r",
        "|#######---| 3933/4948  79% [elapsed: 1:21:09 left: 20:56,  0.81 iters/sec]"
       ]
      },
      {
       "output_type": "stream",
       "stream": "stdout",
       "text": [
        "\r",
        "|#######---| 3934/4948  79% [elapsed: 1:21:12 left: 20:56,  0.81 iters/sec]"
       ]
      },
      {
       "output_type": "stream",
       "stream": "stdout",
       "text": [
        "\r",
        "|#######---| 3936/4948  79% [elapsed: 1:21:14 left: 20:53,  0.81 iters/sec]"
       ]
      },
      {
       "output_type": "stream",
       "stream": "stdout",
       "text": [
        "\r",
        "|#######---| 3938/4948  79% [elapsed: 1:21:17 left: 20:51,  0.81 iters/sec]"
       ]
      },
      {
       "output_type": "stream",
       "stream": "stdout",
       "text": [
        "\r",
        "|#######---| 3939/4948  79% [elapsed: 1:21:23 left: 20:50,  0.81 iters/sec]"
       ]
      },
      {
       "output_type": "stream",
       "stream": "stdout",
       "text": [
        "\r",
        "|#######---| 3940/4948  79% [elapsed: 1:21:26 left: 20:50,  0.81 iters/sec]"
       ]
      },
      {
       "output_type": "stream",
       "stream": "stdout",
       "text": [
        "\r",
        "|#######---| 3941/4948  79% [elapsed: 1:21:27 left: 20:48,  0.81 iters/sec]"
       ]
      },
      {
       "output_type": "stream",
       "stream": "stdout",
       "text": [
        "\r",
        "|#######---| 3942/4948  79% [elapsed: 1:21:30 left: 20:48,  0.81 iters/sec]"
       ]
      },
      {
       "output_type": "stream",
       "stream": "stdout",
       "text": [
        "\r",
        "|#######---| 3943/4948  79% [elapsed: 1:21:34 left: 20:47,  0.81 iters/sec]"
       ]
      },
      {
       "output_type": "stream",
       "stream": "stdout",
       "text": [
        "\r",
        "|#######---| 3944/4948  79% [elapsed: 1:21:38 left: 20:46,  0.81 iters/sec]"
       ]
      },
      {
       "output_type": "stream",
       "stream": "stdout",
       "text": [
        "\r",
        "|#######---| 3945/4948  79% [elapsed: 1:21:39 left: 20:45,  0.81 iters/sec]"
       ]
      },
      {
       "output_type": "stream",
       "stream": "stdout",
       "text": [
        "\r",
        "|#######---| 3946/4948  79% [elapsed: 1:21:42 left: 20:44,  0.80 iters/sec]"
       ]
      },
      {
       "output_type": "stream",
       "stream": "stdout",
       "text": [
        "\r",
        "|#######---| 3947/4948  79% [elapsed: 1:21:44 left: 20:43,  0.80 iters/sec]"
       ]
      },
      {
       "output_type": "stream",
       "stream": "stdout",
       "text": [
        "\r",
        "|#######---| 3948/4948  79% [elapsed: 1:21:45 left: 20:42,  0.80 iters/sec]"
       ]
      },
      {
       "output_type": "stream",
       "stream": "stdout",
       "text": [
        "\r",
        "|#######---| 3949/4948  79% [elapsed: 1:21:49 left: 20:41,  0.80 iters/sec]"
       ]
      },
      {
       "output_type": "stream",
       "stream": "stdout",
       "text": [
        "\r",
        "|#######---| 3950/4948  79% [elapsed: 1:21:51 left: 20:41,  0.80 iters/sec]"
       ]
      },
      {
       "output_type": "stream",
       "stream": "stdout",
       "text": [
        "\r",
        "|#######---| 3951/4948  79% [elapsed: 1:21:55 left: 20:40,  0.80 iters/sec]"
       ]
      },
      {
       "output_type": "stream",
       "stream": "stdout",
       "text": [
        "\r",
        "|#######---| 3952/4948  79% [elapsed: 1:21:56 left: 20:39,  0.80 iters/sec]"
       ]
      },
      {
       "output_type": "stream",
       "stream": "stdout",
       "text": [
        "\r",
        "|#######---| 3954/4948  79% [elapsed: 1:22:00 left: 20:36,  0.80 iters/sec]"
       ]
      },
      {
       "output_type": "stream",
       "stream": "stdout",
       "text": [
        "\r",
        "|#######---| 3955/4948  79% [elapsed: 1:22:03 left: 20:36,  0.80 iters/sec]"
       ]
      },
      {
       "output_type": "stream",
       "stream": "stdout",
       "text": [
        "\r",
        "|#######---| 3956/4948  79% [elapsed: 1:22:07 left: 20:35,  0.80 iters/sec]"
       ]
      },
      {
       "output_type": "stream",
       "stream": "stdout",
       "text": [
        "\r",
        "|#######---| 3957/4948  79% [elapsed: 1:22:11 left: 20:35,  0.80 iters/sec]"
       ]
      },
      {
       "output_type": "stream",
       "stream": "stdout",
       "text": [
        "\r",
        "|#######---| 3958/4948  79% [elapsed: 1:22:14 left: 20:34,  0.80 iters/sec]"
       ]
      },
      {
       "output_type": "stream",
       "stream": "stdout",
       "text": [
        "\r",
        "|########--| 3959/4948  80% [elapsed: 1:22:17 left: 20:33,  0.80 iters/sec]"
       ]
      },
      {
       "output_type": "stream",
       "stream": "stdout",
       "text": [
        "\r",
        "|########--| 3960/4948  80% [elapsed: 1:22:18 left: 20:32,  0.80 iters/sec]"
       ]
      },
      {
       "output_type": "stream",
       "stream": "stdout",
       "text": [
        "\r",
        "|########--| 3961/4948  80% [elapsed: 1:22:21 left: 20:31,  0.80 iters/sec]"
       ]
      },
      {
       "output_type": "stream",
       "stream": "stdout",
       "text": [
        "\r",
        "|########--| 3962/4948  80% [elapsed: 1:22:23 left: 20:30,  0.80 iters/sec]"
       ]
      },
      {
       "output_type": "stream",
       "stream": "stdout",
       "text": [
        "\r",
        "|########--| 3963/4948  80% [elapsed: 1:22:27 left: 20:29,  0.80 iters/sec]"
       ]
      },
      {
       "output_type": "stream",
       "stream": "stdout",
       "text": [
        "\r",
        "|########--| 3964/4948  80% [elapsed: 1:22:28 left: 20:28,  0.80 iters/sec]"
       ]
      },
      {
       "output_type": "stream",
       "stream": "stdout",
       "text": [
        "\r",
        "|########--| 3965/4948  80% [elapsed: 1:22:30 left: 20:27,  0.80 iters/sec]"
       ]
      },
      {
       "output_type": "stream",
       "stream": "stdout",
       "text": [
        "\r",
        "|########--| 3966/4948  80% [elapsed: 1:22:34 left: 20:26,  0.80 iters/sec]"
       ]
      },
      {
       "output_type": "stream",
       "stream": "stdout",
       "text": [
        "\r",
        "|########--| 3967/4948  80% [elapsed: 1:22:37 left: 20:26,  0.80 iters/sec]"
       ]
      },
      {
       "output_type": "stream",
       "stream": "stdout",
       "text": [
        "\r",
        "|########--| 3968/4948  80% [elapsed: 1:22:41 left: 20:25,  0.80 iters/sec]"
       ]
      },
      {
       "output_type": "stream",
       "stream": "stdout",
       "text": [
        "\r",
        "|########--| 3969/4948  80% [elapsed: 1:22:43 left: 20:24,  0.80 iters/sec]"
       ]
      },
      {
       "output_type": "stream",
       "stream": "stdout",
       "text": [
        "\r",
        "|########--| 3970/4948  80% [elapsed: 1:22:43 left: 20:22,  0.80 iters/sec]"
       ]
      },
      {
       "output_type": "stream",
       "stream": "stdout",
       "text": [
        "\r",
        "|########--| 3972/4948  80% [elapsed: 1:22:47 left: 20:20,  0.80 iters/sec]"
       ]
      },
      {
       "output_type": "stream",
       "stream": "stdout",
       "text": [
        "\r",
        "|########--| 3973/4948  80% [elapsed: 1:22:48 left: 20:19,  0.80 iters/sec]"
       ]
      },
      {
       "output_type": "stream",
       "stream": "stdout",
       "text": [
        "\r",
        "|########--| 3975/4948  80% [elapsed: 1:22:52 left: 20:17,  0.80 iters/sec]"
       ]
      },
      {
       "output_type": "stream",
       "stream": "stdout",
       "text": [
        "\r",
        "|########--| 3976/4948  80% [elapsed: 1:22:55 left: 20:16,  0.80 iters/sec]"
       ]
      },
      {
       "output_type": "stream",
       "stream": "stdout",
       "text": [
        "\r",
        "|########--| 3977/4948  80% [elapsed: 1:22:56 left: 20:15,  0.80 iters/sec]"
       ]
      },
      {
       "output_type": "stream",
       "stream": "stdout",
       "text": [
        "\r",
        "|########--| 3978/4948  80% [elapsed: 1:22:57 left: 20:13,  0.80 iters/sec]"
       ]
      },
      {
       "output_type": "stream",
       "stream": "stdout",
       "text": [
        "\r",
        "|########--| 3979/4948  80% [elapsed: 1:23:04 left: 20:13,  0.80 iters/sec]"
       ]
      },
      {
       "output_type": "stream",
       "stream": "stdout",
       "text": [
        "\r",
        "|########--| 3980/4948  80% [elapsed: 1:23:08 left: 20:13,  0.80 iters/sec]"
       ]
      },
      {
       "output_type": "stream",
       "stream": "stdout",
       "text": [
        "\r",
        "|########--| 3981/4948  80% [elapsed: 1:23:11 left: 20:12,  0.80 iters/sec]"
       ]
      },
      {
       "output_type": "stream",
       "stream": "stdout",
       "text": [
        "\r",
        "|########--| 3982/4948  80% [elapsed: 1:23:14 left: 20:11,  0.80 iters/sec]"
       ]
      },
      {
       "output_type": "stream",
       "stream": "stdout",
       "text": [
        "\r",
        "|########--| 3983/4948  80% [elapsed: 1:23:15 left: 20:10,  0.80 iters/sec]"
       ]
      },
      {
       "output_type": "stream",
       "stream": "stdout",
       "text": [
        "\r",
        "|########--| 3984/4948  80% [elapsed: 1:23:17 left: 20:09,  0.80 iters/sec]"
       ]
      },
      {
       "output_type": "stream",
       "stream": "stdout",
       "text": [
        "\r",
        "|########--| 3985/4948  80% [elapsed: 1:23:18 left: 20:07,  0.80 iters/sec]"
       ]
      },
      {
       "output_type": "stream",
       "stream": "stdout",
       "text": [
        "\r",
        "|########--| 3986/4948  80% [elapsed: 1:23:20 left: 20:06,  0.80 iters/sec]"
       ]
      },
      {
       "output_type": "stream",
       "stream": "stdout",
       "text": [
        "\r",
        "|########--| 3987/4948  80% [elapsed: 1:23:25 left: 20:06,  0.80 iters/sec]"
       ]
      },
      {
       "output_type": "stream",
       "stream": "stdout",
       "text": [
        "\r",
        "|########--| 3988/4948  80% [elapsed: 1:23:30 left: 20:06,  0.80 iters/sec]"
       ]
      },
      {
       "output_type": "stream",
       "stream": "stdout",
       "text": [
        "\r",
        "|########--| 3990/4948  80% [elapsed: 1:23:33 left: 20:03,  0.80 iters/sec]"
       ]
      },
      {
       "output_type": "stream",
       "stream": "stdout",
       "text": [
        "\r",
        "|########--| 3991/4948  80% [elapsed: 1:23:36 left: 20:02,  0.80 iters/sec]"
       ]
      },
      {
       "output_type": "stream",
       "stream": "stdout",
       "text": [
        "\r",
        "|########--| 3992/4948  80% [elapsed: 1:23:39 left: 20:02,  0.80 iters/sec]"
       ]
      },
      {
       "output_type": "stream",
       "stream": "stdout",
       "text": [
        "\r",
        "|########--| 3993/4948  80% [elapsed: 1:23:40 left: 20:00,  0.80 iters/sec]"
       ]
      },
      {
       "output_type": "stream",
       "stream": "stdout",
       "text": [
        "\r",
        "|########--| 3994/4948  80% [elapsed: 1:23:44 left: 20:00,  0.79 iters/sec]"
       ]
      },
      {
       "output_type": "stream",
       "stream": "stdout",
       "text": [
        "\r",
        "|########--| 3995/4948  80% [elapsed: 1:23:45 left: 19:58,  0.79 iters/sec]"
       ]
      },
      {
       "output_type": "stream",
       "stream": "stdout",
       "text": [
        "\r",
        "|########--| 3996/4948  80% [elapsed: 1:23:48 left: 19:58,  0.79 iters/sec]"
       ]
      },
      {
       "output_type": "stream",
       "stream": "stdout",
       "text": [
        "\r",
        "|########--| 3997/4948  80% [elapsed: 1:23:52 left: 19:57,  0.79 iters/sec]"
       ]
      },
      {
       "output_type": "stream",
       "stream": "stdout",
       "text": [
        "\r",
        "|########--| 3998/4948  80% [elapsed: 1:23:53 left: 19:56,  0.79 iters/sec]"
       ]
      },
      {
       "output_type": "stream",
       "stream": "stdout",
       "text": [
        "\r",
        "|########--| 3999/4948  80% [elapsed: 1:23:57 left: 19:55,  0.79 iters/sec]"
       ]
      },
      {
       "output_type": "stream",
       "stream": "stdout",
       "text": [
        "\r",
        "|########--| 4000/4948  80% [elapsed: 1:24:00 left: 19:54,  0.79 iters/sec]"
       ]
      },
      {
       "output_type": "stream",
       "stream": "stdout",
       "text": [
        "\r",
        "|########--| 4001/4948  80% [elapsed: 1:24:03 left: 19:53,  0.79 iters/sec]"
       ]
      },
      {
       "output_type": "stream",
       "stream": "stdout",
       "text": [
        "\r",
        "|########--| 4002/4948  80% [elapsed: 1:24:06 left: 19:52,  0.79 iters/sec]"
       ]
      },
      {
       "output_type": "stream",
       "stream": "stdout",
       "text": [
        "\r",
        "|########--| 4004/4948  80% [elapsed: 1:24:10 left: 19:50,  0.79 iters/sec]"
       ]
      },
      {
       "output_type": "stream",
       "stream": "stdout",
       "text": [
        "\r",
        "|########--| 4005/4948  80% [elapsed: 1:24:13 left: 19:49,  0.79 iters/sec]"
       ]
      },
      {
       "output_type": "stream",
       "stream": "stdout",
       "text": [
        "\r",
        "|########--| 4006/4948  80% [elapsed: 1:24:14 left: 19:48,  0.79 iters/sec]"
       ]
      },
      {
       "output_type": "stream",
       "stream": "stdout",
       "text": [
        "\r",
        "|########--| 4007/4948  80% [elapsed: 1:24:18 left: 19:47,  0.79 iters/sec]"
       ]
      },
      {
       "output_type": "stream",
       "stream": "stdout",
       "text": [
        "\r",
        "|########--| 4008/4948  81% [elapsed: 1:24:24 left: 19:47,  0.79 iters/sec]"
       ]
      },
      {
       "output_type": "stream",
       "stream": "stdout",
       "text": [
        "\r",
        "|########--| 4009/4948  81% [elapsed: 1:24:27 left: 19:46,  0.79 iters/sec]"
       ]
      },
      {
       "output_type": "stream",
       "stream": "stdout",
       "text": [
        "\r",
        "|########--| 4010/4948  81% [elapsed: 1:24:30 left: 19:45,  0.79 iters/sec]"
       ]
      },
      {
       "output_type": "stream",
       "stream": "stdout",
       "text": [
        "\r",
        "|########--| 4011/4948  81% [elapsed: 1:24:33 left: 19:45,  0.79 iters/sec]"
       ]
      },
      {
       "output_type": "stream",
       "stream": "stdout",
       "text": [
        "\r",
        "|########--| 4012/4948  81% [elapsed: 1:24:34 left: 19:43,  0.79 iters/sec]"
       ]
      },
      {
       "output_type": "stream",
       "stream": "stdout",
       "text": [
        "\r",
        "|########--| 4013/4948  81% [elapsed: 1:24:37 left: 19:43,  0.79 iters/sec]"
       ]
      },
      {
       "output_type": "stream",
       "stream": "stdout",
       "text": [
        "\r",
        "|########--| 4015/4948  81% [elapsed: 1:24:40 left: 19:40,  0.79 iters/sec]"
       ]
      },
      {
       "output_type": "stream",
       "stream": "stdout",
       "text": [
        "\r",
        "|########--| 4017/4948  81% [elapsed: 1:24:43 left: 19:38,  0.79 iters/sec]"
       ]
      },
      {
       "output_type": "stream",
       "stream": "stdout",
       "text": [
        "\r",
        "|########--| 4019/4948  81% [elapsed: 1:24:47 left: 19:35,  0.79 iters/sec]"
       ]
      },
      {
       "output_type": "stream",
       "stream": "stdout",
       "text": [
        "\r",
        "|########--| 4020/4948  81% [elapsed: 1:24:48 left: 19:34,  0.79 iters/sec]"
       ]
      },
      {
       "output_type": "stream",
       "stream": "stdout",
       "text": [
        "\r",
        "|########--| 4021/4948  81% [elapsed: 1:24:49 left: 19:33,  0.79 iters/sec]"
       ]
      },
      {
       "output_type": "stream",
       "stream": "stdout",
       "text": [
        "\r",
        "|########--| 4022/4948  81% [elapsed: 1:24:53 left: 19:32,  0.79 iters/sec]"
       ]
      },
      {
       "output_type": "stream",
       "stream": "stdout",
       "text": [
        "\r",
        "|########--| 4023/4948  81% [elapsed: 1:24:56 left: 19:31,  0.79 iters/sec]"
       ]
      },
      {
       "output_type": "stream",
       "stream": "stdout",
       "text": [
        "\r",
        "|########--| 4024/4948  81% [elapsed: 1:24:59 left: 19:31,  0.79 iters/sec]"
       ]
      },
      {
       "output_type": "stream",
       "stream": "stdout",
       "text": [
        "\r",
        "|########--| 4025/4948  81% [elapsed: 1:25:03 left: 19:30,  0.79 iters/sec]"
       ]
      },
      {
       "output_type": "stream",
       "stream": "stdout",
       "text": [
        "\r",
        "|########--| 4026/4948  81% [elapsed: 1:25:06 left: 19:29,  0.79 iters/sec]"
       ]
      },
      {
       "output_type": "stream",
       "stream": "stdout",
       "text": [
        "\r",
        "|########--| 4027/4948  81% [elapsed: 1:25:09 left: 19:28,  0.79 iters/sec]"
       ]
      },
      {
       "output_type": "stream",
       "stream": "stdout",
       "text": [
        "\r",
        "|########--| 4028/4948  81% [elapsed: 1:25:10 left: 19:27,  0.79 iters/sec]"
       ]
      },
      {
       "output_type": "stream",
       "stream": "stdout",
       "text": [
        "\r",
        "|########--| 4029/4948  81% [elapsed: 1:25:13 left: 19:26,  0.79 iters/sec]"
       ]
      },
      {
       "output_type": "stream",
       "stream": "stdout",
       "text": [
        "\r",
        "|########--| 4030/4948  81% [elapsed: 1:25:16 left: 19:25,  0.79 iters/sec]"
       ]
      },
      {
       "output_type": "stream",
       "stream": "stdout",
       "text": [
        "\r",
        "|########--| 4031/4948  81% [elapsed: 1:25:20 left: 19:24,  0.79 iters/sec]"
       ]
      },
      {
       "output_type": "stream",
       "stream": "stdout",
       "text": [
        "\r",
        "|########--| 4033/4948  81% [elapsed: 1:25:23 left: 19:22,  0.79 iters/sec]"
       ]
      },
      {
       "output_type": "stream",
       "stream": "stdout",
       "text": [
        "\r",
        "|########--| 4034/4948  81% [elapsed: 1:25:25 left: 19:21,  0.79 iters/sec]"
       ]
      },
      {
       "output_type": "stream",
       "stream": "stdout",
       "text": [
        "\r",
        "|########--| 4035/4948  81% [elapsed: 1:25:29 left: 19:20,  0.79 iters/sec]"
       ]
      },
      {
       "output_type": "stream",
       "stream": "stdout",
       "text": [
        "\r",
        "|########--| 4036/4948  81% [elapsed: 1:25:33 left: 19:19,  0.79 iters/sec]"
       ]
      },
      {
       "output_type": "stream",
       "stream": "stdout",
       "text": [
        "\r",
        "|########--| 4037/4948  81% [elapsed: 1:25:39 left: 19:19,  0.79 iters/sec]"
       ]
      },
      {
       "output_type": "stream",
       "stream": "stdout",
       "text": [
        "\r",
        "|########--| 4038/4948  81% [elapsed: 1:25:42 left: 19:18,  0.79 iters/sec]"
       ]
      },
      {
       "output_type": "stream",
       "stream": "stdout",
       "text": [
        "\r",
        "|########--| 4039/4948  81% [elapsed: 1:25:43 left: 19:17,  0.79 iters/sec]"
       ]
      },
      {
       "output_type": "stream",
       "stream": "stdout",
       "text": [
        "\r",
        "|########--| 4040/4948  81% [elapsed: 1:25:46 left: 19:16,  0.78 iters/sec]"
       ]
      },
      {
       "output_type": "stream",
       "stream": "stdout",
       "text": [
        "\r",
        "|########--| 4041/4948  81% [elapsed: 1:25:50 left: 19:16,  0.78 iters/sec]"
       ]
      },
      {
       "output_type": "stream",
       "stream": "stdout",
       "text": [
        "\r",
        "|########--| 4042/4948  81% [elapsed: 1:25:54 left: 19:15,  0.78 iters/sec]"
       ]
      },
      {
       "output_type": "stream",
       "stream": "stdout",
       "text": [
        "\r",
        "|########--| 4043/4948  81% [elapsed: 1:25:59 left: 19:14,  0.78 iters/sec]"
       ]
      },
      {
       "output_type": "stream",
       "stream": "stdout",
       "text": [
        "\r",
        "|########--| 4044/4948  81% [elapsed: 1:26:02 left: 19:13,  0.78 iters/sec]"
       ]
      },
      {
       "output_type": "stream",
       "stream": "stdout",
       "text": [
        "\r",
        "|########--| 4046/4948  81% [elapsed: 1:26:07 left: 19:11,  0.78 iters/sec]"
       ]
      },
      {
       "output_type": "stream",
       "stream": "stdout",
       "text": [
        "\r",
        "|########--| 4047/4948  81% [elapsed: 1:26:10 left: 19:11,  0.78 iters/sec]"
       ]
      },
      {
       "output_type": "stream",
       "stream": "stdout",
       "text": [
        "\r",
        "|########--| 4048/4948  81% [elapsed: 1:26:14 left: 19:10,  0.78 iters/sec]"
       ]
      },
      {
       "output_type": "stream",
       "stream": "stdout",
       "text": [
        "\r",
        "|########--| 4049/4948  81% [elapsed: 1:26:20 left: 19:10,  0.78 iters/sec]"
       ]
      },
      {
       "output_type": "stream",
       "stream": "stdout",
       "text": [
        "\r",
        "|########--| 4050/4948  81% [elapsed: 1:26:25 left: 19:09,  0.78 iters/sec]"
       ]
      },
      {
       "output_type": "stream",
       "stream": "stdout",
       "text": [
        "\r",
        "|########--| 4051/4948  81% [elapsed: 1:26:29 left: 19:09,  0.78 iters/sec]"
       ]
      },
      {
       "output_type": "stream",
       "stream": "stdout",
       "text": [
        "\r",
        "|########--| 4052/4948  81% [elapsed: 1:26:34 left: 19:08,  0.78 iters/sec]"
       ]
      },
      {
       "output_type": "stream",
       "stream": "stdout",
       "text": [
        "\r",
        "|########--| 4053/4948  81% [elapsed: 1:26:36 left: 19:07,  0.78 iters/sec]"
       ]
      },
      {
       "output_type": "stream",
       "stream": "stdout",
       "text": [
        "\r",
        "|########--| 4054/4948  81% [elapsed: 1:26:39 left: 19:06,  0.78 iters/sec]"
       ]
      },
      {
       "output_type": "stream",
       "stream": "stdout",
       "text": [
        "\r",
        "|########--| 4055/4948  81% [elapsed: 1:26:43 left: 19:05,  0.78 iters/sec]"
       ]
      },
      {
       "output_type": "stream",
       "stream": "stdout",
       "text": [
        "\r",
        "|########--| 4056/4948  81% [elapsed: 1:26:46 left: 19:05,  0.78 iters/sec]"
       ]
      },
      {
       "output_type": "stream",
       "stream": "stdout",
       "text": [
        "\r",
        "|########--| 4057/4948  81% [elapsed: 1:26:49 left: 19:04,  0.78 iters/sec]"
       ]
      },
      {
       "output_type": "stream",
       "stream": "stdout",
       "text": [
        "\r",
        "|########--| 4058/4948  82% [elapsed: 1:26:55 left: 19:03,  0.78 iters/sec]"
       ]
      },
      {
       "output_type": "stream",
       "stream": "stdout",
       "text": [
        "\r",
        "|########--| 4059/4948  82% [elapsed: 1:26:58 left: 19:02,  0.78 iters/sec]"
       ]
      },
      {
       "output_type": "stream",
       "stream": "stdout",
       "text": [
        "\r",
        "|########--| 4060/4948  82% [elapsed: 1:27:00 left: 19:01,  0.78 iters/sec]"
       ]
      },
      {
       "output_type": "stream",
       "stream": "stdout",
       "text": [
        "\r",
        "|########--| 4061/4948  82% [elapsed: 1:27:03 left: 19:00,  0.78 iters/sec]"
       ]
      },
      {
       "output_type": "stream",
       "stream": "stdout",
       "text": [
        "\r",
        "|########--| 4062/4948  82% [elapsed: 1:27:06 left: 18:59,  0.78 iters/sec]"
       ]
      },
      {
       "output_type": "stream",
       "stream": "stdout",
       "text": [
        "\r",
        "|########--| 4063/4948  82% [elapsed: 1:27:09 left: 18:59,  0.78 iters/sec]"
       ]
      },
      {
       "output_type": "stream",
       "stream": "stdout",
       "text": [
        "\r",
        "|########--| 4064/4948  82% [elapsed: 1:27:12 left: 18:58,  0.78 iters/sec]"
       ]
      },
      {
       "output_type": "stream",
       "stream": "stdout",
       "text": [
        "\r",
        "|########--| 4066/4948  82% [elapsed: 1:27:15 left: 18:55,  0.78 iters/sec]"
       ]
      },
      {
       "output_type": "stream",
       "stream": "stdout",
       "text": [
        "\r",
        "|########--| 4067/4948  82% [elapsed: 1:27:18 left: 18:54,  0.78 iters/sec]"
       ]
      },
      {
       "output_type": "stream",
       "stream": "stdout",
       "text": [
        "\r",
        "|########--| 4068/4948  82% [elapsed: 1:27:22 left: 18:54,  0.78 iters/sec]"
       ]
      },
      {
       "output_type": "stream",
       "stream": "stdout",
       "text": [
        "\r",
        "|########--| 4069/4948  82% [elapsed: 1:27:25 left: 18:53,  0.78 iters/sec]"
       ]
      },
      {
       "output_type": "stream",
       "stream": "stdout",
       "text": [
        "\r",
        "|########--| 4070/4948  82% [elapsed: 1:27:28 left: 18:52,  0.78 iters/sec]"
       ]
      },
      {
       "output_type": "stream",
       "stream": "stdout",
       "text": [
        "\r",
        "|########--| 4071/4948  82% [elapsed: 1:27:30 left: 18:51,  0.78 iters/sec]"
       ]
      },
      {
       "output_type": "stream",
       "stream": "stdout",
       "text": [
        "\r",
        "|########--| 4072/4948  82% [elapsed: 1:27:33 left: 18:50,  0.78 iters/sec]"
       ]
      },
      {
       "output_type": "stream",
       "stream": "stdout",
       "text": [
        "\r",
        "|########--| 4074/4948  82% [elapsed: 1:27:36 left: 18:47,  0.78 iters/sec]"
       ]
      },
      {
       "output_type": "stream",
       "stream": "stdout",
       "text": [
        "\r",
        "|########--| 4076/4948  82% [elapsed: 1:27:40 left: 18:45,  0.77 iters/sec]"
       ]
      },
      {
       "output_type": "stream",
       "stream": "stdout",
       "text": [
        "\r",
        "|########--| 4077/4948  82% [elapsed: 1:27:44 left: 18:44,  0.77 iters/sec]"
       ]
      },
      {
       "output_type": "stream",
       "stream": "stdout",
       "text": [
        "\r",
        "|########--| 4078/4948  82% [elapsed: 1:27:45 left: 18:43,  0.77 iters/sec]"
       ]
      },
      {
       "output_type": "stream",
       "stream": "stdout",
       "text": [
        "\r",
        "|########--| 4079/4948  82% [elapsed: 1:27:49 left: 18:42,  0.77 iters/sec]"
       ]
      },
      {
       "output_type": "stream",
       "stream": "stdout",
       "text": [
        "\r",
        "|########--| 4080/4948  82% [elapsed: 1:27:53 left: 18:41,  0.77 iters/sec]"
       ]
      },
      {
       "output_type": "stream",
       "stream": "stdout",
       "text": [
        "\r",
        "|########--| 4082/4948  82% [elapsed: 1:27:57 left: 18:39,  0.77 iters/sec]"
       ]
      },
      {
       "output_type": "stream",
       "stream": "stdout",
       "text": [
        "\r",
        "|########--| 4083/4948  82% [elapsed: 1:27:58 left: 18:38,  0.77 iters/sec]"
       ]
      },
      {
       "output_type": "stream",
       "stream": "stdout",
       "text": [
        "\r",
        "|########--| 4085/4948  82% [elapsed: 1:28:02 left: 18:35,  0.77 iters/sec]"
       ]
      },
      {
       "output_type": "stream",
       "stream": "stdout",
       "text": [
        "\r",
        "|########--| 4086/4948  82% [elapsed: 1:28:06 left: 18:35,  0.77 iters/sec]"
       ]
      },
      {
       "output_type": "stream",
       "stream": "stdout",
       "text": [
        "\r",
        "|########--| 4088/4948  82% [elapsed: 1:28:09 left: 18:32,  0.77 iters/sec]"
       ]
      },
      {
       "output_type": "stream",
       "stream": "stdout",
       "text": [
        "\r",
        "|########--| 4090/4948  82% [elapsed: 1:28:13 left: 18:30,  0.77 iters/sec]"
       ]
      },
      {
       "output_type": "stream",
       "stream": "stdout",
       "text": [
        "\r",
        "|########--| 4091/4948  82% [elapsed: 1:28:16 left: 18:29,  0.77 iters/sec]"
       ]
      },
      {
       "output_type": "stream",
       "stream": "stdout",
       "text": [
        "\r",
        "|########--| 4093/4948  82% [elapsed: 1:28:20 left: 18:27,  0.77 iters/sec]"
       ]
      },
      {
       "output_type": "stream",
       "stream": "stdout",
       "text": [
        "\r",
        "|########--| 4094/4948  82% [elapsed: 1:28:23 left: 18:26,  0.77 iters/sec]"
       ]
      },
      {
       "output_type": "stream",
       "stream": "stdout",
       "text": [
        "\r",
        "|########--| 4095/4948  82% [elapsed: 1:28:27 left: 18:25,  0.77 iters/sec]"
       ]
      },
      {
       "output_type": "stream",
       "stream": "stdout",
       "text": [
        "\r",
        "|########--| 4096/4948  82% [elapsed: 1:28:28 left: 18:24,  0.77 iters/sec]"
       ]
      },
      {
       "output_type": "stream",
       "stream": "stdout",
       "text": [
        "\r",
        "|########--| 4097/4948  82% [elapsed: 1:28:32 left: 18:23,  0.77 iters/sec]"
       ]
      },
      {
       "output_type": "stream",
       "stream": "stdout",
       "text": [
        "\r",
        "|########--| 4098/4948  82% [elapsed: 1:28:33 left: 18:22,  0.77 iters/sec]"
       ]
      },
      {
       "output_type": "stream",
       "stream": "stdout",
       "text": [
        "\r",
        "|########--| 4099/4948  82% [elapsed: 1:28:35 left: 18:20,  0.77 iters/sec]"
       ]
      },
      {
       "output_type": "stream",
       "stream": "stdout",
       "text": [
        "\r",
        "|########--| 4101/4948  82% [elapsed: 1:28:39 left: 18:18,  0.77 iters/sec]"
       ]
      },
      {
       "output_type": "stream",
       "stream": "stdout",
       "text": [
        "\r",
        "|########--| 4103/4948  82% [elapsed: 1:28:42 left: 18:16,  0.77 iters/sec]"
       ]
      },
      {
       "output_type": "stream",
       "stream": "stdout",
       "text": [
        "\r",
        "|########--| 4104/4948  82% [elapsed: 1:28:45 left: 18:15,  0.77 iters/sec]"
       ]
      },
      {
       "output_type": "stream",
       "stream": "stdout",
       "text": [
        "\r",
        "|########--| 4105/4948  82% [elapsed: 1:28:50 left: 18:14,  0.77 iters/sec]"
       ]
      },
      {
       "output_type": "stream",
       "stream": "stdout",
       "text": [
        "\r",
        "|########--| 4106/4948  82% [elapsed: 1:28:54 left: 18:14,  0.77 iters/sec]"
       ]
      },
      {
       "output_type": "stream",
       "stream": "stdout",
       "text": [
        "\r",
        "|########--| 4107/4948  83% [elapsed: 1:28:59 left: 18:13,  0.77 iters/sec]"
       ]
      },
      {
       "output_type": "stream",
       "stream": "stdout",
       "text": [
        "\r",
        "|########--| 4108/4948  83% [elapsed: 1:29:00 left: 18:12,  0.77 iters/sec]"
       ]
      },
      {
       "output_type": "stream",
       "stream": "stdout",
       "text": [
        "\r",
        "|########--| 4109/4948  83% [elapsed: 1:29:06 left: 18:11,  0.77 iters/sec]"
       ]
      },
      {
       "output_type": "stream",
       "stream": "stdout",
       "text": [
        "\r",
        "|########--| 4110/4948  83% [elapsed: 1:29:07 left: 18:10,  0.77 iters/sec]"
       ]
      },
      {
       "output_type": "stream",
       "stream": "stdout",
       "text": [
        "\r",
        "|########--| 4111/4948  83% [elapsed: 1:29:08 left: 18:09,  0.77 iters/sec]"
       ]
      },
      {
       "output_type": "stream",
       "stream": "stdout",
       "text": [
        "\r",
        "|########--| 4112/4948  83% [elapsed: 1:29:12 left: 18:08,  0.77 iters/sec]"
       ]
      },
      {
       "output_type": "stream",
       "stream": "stdout",
       "text": [
        "\r",
        "|########--| 4113/4948  83% [elapsed: 1:29:16 left: 18:07,  0.77 iters/sec]"
       ]
      },
      {
       "output_type": "stream",
       "stream": "stdout",
       "text": [
        "\r",
        "|########--| 4114/4948  83% [elapsed: 1:29:20 left: 18:06,  0.77 iters/sec]"
       ]
      },
      {
       "output_type": "stream",
       "stream": "stdout",
       "text": [
        "\r",
        "|########--| 4115/4948  83% [elapsed: 1:29:24 left: 18:05,  0.77 iters/sec]"
       ]
      },
      {
       "output_type": "stream",
       "stream": "stdout",
       "text": [
        "\r",
        "|########--| 4116/4948  83% [elapsed: 1:29:27 left: 18:05,  0.77 iters/sec]"
       ]
      },
      {
       "output_type": "stream",
       "stream": "stdout",
       "text": [
        "\r",
        "|########--| 4117/4948  83% [elapsed: 1:29:31 left: 18:04,  0.77 iters/sec]"
       ]
      },
      {
       "output_type": "stream",
       "stream": "stdout",
       "text": [
        "\r",
        "|########--| 4118/4948  83% [elapsed: 1:29:34 left: 18:03,  0.77 iters/sec]"
       ]
      },
      {
       "output_type": "stream",
       "stream": "stdout",
       "text": [
        "\r",
        "|########--| 4119/4948  83% [elapsed: 1:29:37 left: 18:02,  0.77 iters/sec]"
       ]
      },
      {
       "output_type": "stream",
       "stream": "stdout",
       "text": [
        "\r",
        "|########--| 4120/4948  83% [elapsed: 1:29:41 left: 18:01,  0.77 iters/sec]"
       ]
      },
      {
       "output_type": "stream",
       "stream": "stdout",
       "text": [
        "\r",
        "|########--| 4121/4948  83% [elapsed: 1:29:44 left: 18:00,  0.77 iters/sec]"
       ]
      },
      {
       "output_type": "stream",
       "stream": "stdout",
       "text": [
        "\r",
        "|########--| 4122/4948  83% [elapsed: 1:29:45 left: 17:59,  0.77 iters/sec]"
       ]
      },
      {
       "output_type": "stream",
       "stream": "stdout",
       "text": [
        "\r",
        "|########--| 4123/4948  83% [elapsed: 1:29:49 left: 17:58,  0.77 iters/sec]"
       ]
      },
      {
       "output_type": "stream",
       "stream": "stdout",
       "text": [
        "\r",
        "|########--| 4124/4948  83% [elapsed: 1:29:52 left: 17:57,  0.76 iters/sec]"
       ]
      },
      {
       "output_type": "stream",
       "stream": "stdout",
       "text": [
        "\r",
        "|########--| 4125/4948  83% [elapsed: 1:29:55 left: 17:56,  0.76 iters/sec]"
       ]
      },
      {
       "output_type": "stream",
       "stream": "stdout",
       "text": [
        "\r",
        "|########--| 4128/4948  83% [elapsed: 1:29:59 left: 17:52,  0.76 iters/sec]"
       ]
      },
      {
       "output_type": "stream",
       "stream": "stdout",
       "text": [
        "\r",
        "|########--| 4129/4948  83% [elapsed: 1:30:07 left: 17:52,  0.76 iters/sec]"
       ]
      },
      {
       "output_type": "stream",
       "stream": "stdout",
       "text": [
        "\r",
        "|########--| 4130/4948  83% [elapsed: 1:30:11 left: 17:51,  0.76 iters/sec]"
       ]
      },
      {
       "output_type": "stream",
       "stream": "stdout",
       "text": [
        "\r",
        "|########--| 4131/4948  83% [elapsed: 1:30:14 left: 17:50,  0.76 iters/sec]"
       ]
      },
      {
       "output_type": "stream",
       "stream": "stdout",
       "text": [
        "\r",
        "|########--| 4132/4948  83% [elapsed: 1:30:17 left: 17:49,  0.76 iters/sec]"
       ]
      },
      {
       "output_type": "stream",
       "stream": "stdout",
       "text": [
        "\r",
        "|########--| 4133/4948  83% [elapsed: 1:30:21 left: 17:49,  0.76 iters/sec]"
       ]
      },
      {
       "output_type": "stream",
       "stream": "stdout",
       "text": [
        "\r",
        "|########--| 4134/4948  83% [elapsed: 1:30:24 left: 17:48,  0.76 iters/sec]"
       ]
      },
      {
       "output_type": "stream",
       "stream": "stdout",
       "text": [
        "\r",
        "|########--| 4135/4948  83% [elapsed: 1:30:28 left: 17:47,  0.76 iters/sec]"
       ]
      },
      {
       "output_type": "stream",
       "stream": "stdout",
       "text": [
        "\r",
        "|########--| 4136/4948  83% [elapsed: 1:30:29 left: 17:45,  0.76 iters/sec]"
       ]
      },
      {
       "output_type": "stream",
       "stream": "stdout",
       "text": [
        "\r",
        "|########--| 4137/4948  83% [elapsed: 1:30:34 left: 17:45,  0.76 iters/sec]"
       ]
      },
      {
       "output_type": "stream",
       "stream": "stdout",
       "text": [
        "\r",
        "|########--| 4138/4948  83% [elapsed: 1:30:37 left: 17:44,  0.76 iters/sec]"
       ]
      },
      {
       "output_type": "stream",
       "stream": "stdout",
       "text": [
        "\r",
        "|########--| 4139/4948  83% [elapsed: 1:30:42 left: 17:43,  0.76 iters/sec]"
       ]
      },
      {
       "output_type": "stream",
       "stream": "stdout",
       "text": [
        "\r",
        "|########--| 4140/4948  83% [elapsed: 1:30:45 left: 17:42,  0.76 iters/sec]"
       ]
      },
      {
       "output_type": "stream",
       "stream": "stdout",
       "text": [
        "\r",
        "|########--| 4141/4948  83% [elapsed: 1:30:48 left: 17:41,  0.76 iters/sec]"
       ]
      },
      {
       "output_type": "stream",
       "stream": "stdout",
       "text": [
        "\r",
        "|########--| 4142/4948  83% [elapsed: 1:30:53 left: 17:41,  0.76 iters/sec]"
       ]
      },
      {
       "output_type": "stream",
       "stream": "stdout",
       "text": [
        "\r",
        "|########--| 4143/4948  83% [elapsed: 1:30:54 left: 17:39,  0.76 iters/sec]"
       ]
      },
      {
       "output_type": "stream",
       "stream": "stdout",
       "text": [
        "\r",
        "|########--| 4144/4948  83% [elapsed: 1:30:58 left: 17:38,  0.76 iters/sec]"
       ]
      },
      {
       "output_type": "stream",
       "stream": "stdout",
       "text": [
        "\r",
        "|########--| 4145/4948  83% [elapsed: 1:31:01 left: 17:37,  0.76 iters/sec]"
       ]
      },
      {
       "output_type": "stream",
       "stream": "stdout",
       "text": [
        "\r",
        "|########--| 4146/4948  83% [elapsed: 1:31:05 left: 17:37,  0.76 iters/sec]"
       ]
      },
      {
       "output_type": "stream",
       "stream": "stdout",
       "text": [
        "\r",
        "|########--| 4147/4948  83% [elapsed: 1:31:09 left: 17:36,  0.76 iters/sec]"
       ]
      },
      {
       "output_type": "stream",
       "stream": "stdout",
       "text": [
        "\r",
        "|########--| 4148/4948  83% [elapsed: 1:31:10 left: 17:35,  0.76 iters/sec]"
       ]
      },
      {
       "output_type": "stream",
       "stream": "stdout",
       "text": [
        "\r",
        "|########--| 4149/4948  83% [elapsed: 1:31:13 left: 17:34,  0.76 iters/sec]"
       ]
      },
      {
       "output_type": "stream",
       "stream": "stdout",
       "text": [
        "\r",
        "|########--| 4150/4948  83% [elapsed: 1:31:17 left: 17:33,  0.76 iters/sec]"
       ]
      },
      {
       "output_type": "stream",
       "stream": "stdout",
       "text": [
        "\r",
        "|########--| 4151/4948  83% [elapsed: 1:31:22 left: 17:32,  0.76 iters/sec]"
       ]
      },
      {
       "output_type": "stream",
       "stream": "stdout",
       "text": [
        "\r",
        "|########--| 4152/4948  83% [elapsed: 1:31:27 left: 17:32,  0.76 iters/sec]"
       ]
      },
      {
       "output_type": "stream",
       "stream": "stdout",
       "text": [
        "\r",
        "|########--| 4153/4948  83% [elapsed: 1:31:30 left: 17:31,  0.76 iters/sec]"
       ]
      },
      {
       "output_type": "stream",
       "stream": "stdout",
       "text": [
        "\r",
        "|########--| 4154/4948  83% [elapsed: 1:31:38 left: 17:30,  0.76 iters/sec]"
       ]
      },
      {
       "output_type": "stream",
       "stream": "stdout",
       "text": [
        "\r",
        "|########--| 4155/4948  83% [elapsed: 1:31:42 left: 17:30,  0.76 iters/sec]"
       ]
      },
      {
       "output_type": "stream",
       "stream": "stdout",
       "text": [
        "\r",
        "|########--| 4156/4948  83% [elapsed: 1:31:43 left: 17:28,  0.76 iters/sec]"
       ]
      },
      {
       "output_type": "stream",
       "stream": "stdout",
       "text": [
        "\r",
        "|########--| 4157/4948  84% [elapsed: 1:31:47 left: 17:27,  0.75 iters/sec]"
       ]
      },
      {
       "output_type": "stream",
       "stream": "stdout",
       "text": [
        "\r",
        "|########--| 4158/4948  84% [elapsed: 1:31:51 left: 17:27,  0.75 iters/sec]"
       ]
      },
      {
       "output_type": "stream",
       "stream": "stdout",
       "text": [
        "\r",
        "|########--| 4159/4948  84% [elapsed: 1:31:53 left: 17:25,  0.75 iters/sec]"
       ]
      },
      {
       "output_type": "stream",
       "stream": "stdout",
       "text": [
        "\r",
        "|########--| 4160/4948  84% [elapsed: 1:31:56 left: 17:25,  0.75 iters/sec]"
       ]
      },
      {
       "output_type": "stream",
       "stream": "stdout",
       "text": [
        "\r",
        "|########--| 4161/4948  84% [elapsed: 1:32:02 left: 17:24,  0.75 iters/sec]"
       ]
      },
      {
       "output_type": "stream",
       "stream": "stdout",
       "text": [
        "\r",
        "|########--| 4162/4948  84% [elapsed: 1:32:06 left: 17:23,  0.75 iters/sec]"
       ]
      },
      {
       "output_type": "stream",
       "stream": "stdout",
       "text": [
        "\r",
        "|########--| 4163/4948  84% [elapsed: 1:32:10 left: 17:22,  0.75 iters/sec]"
       ]
      },
      {
       "output_type": "stream",
       "stream": "stdout",
       "text": [
        "\r",
        "|########--| 4166/4948  84% [elapsed: 1:32:14 left: 17:18,  0.75 iters/sec]"
       ]
      },
      {
       "output_type": "stream",
       "stream": "stdout",
       "text": [
        "\r",
        "|########--| 4167/4948  84% [elapsed: 1:32:16 left: 17:17,  0.75 iters/sec]"
       ]
      },
      {
       "output_type": "stream",
       "stream": "stdout",
       "text": [
        "\r",
        "|########--| 4168/4948  84% [elapsed: 1:32:19 left: 17:16,  0.75 iters/sec]"
       ]
      },
      {
       "output_type": "stream",
       "stream": "stdout",
       "text": [
        "\r",
        "|########--| 4169/4948  84% [elapsed: 1:32:24 left: 17:15,  0.75 iters/sec]"
       ]
      },
      {
       "output_type": "stream",
       "stream": "stdout",
       "text": [
        "\r",
        "|########--| 4170/4948  84% [elapsed: 1:32:25 left: 17:14,  0.75 iters/sec]"
       ]
      },
      {
       "output_type": "stream",
       "stream": "stdout",
       "text": [
        "\r",
        "|########--| 4171/4948  84% [elapsed: 1:32:29 left: 17:13,  0.75 iters/sec]"
       ]
      },
      {
       "output_type": "stream",
       "stream": "stdout",
       "text": [
        "\r",
        "|########--| 4172/4948  84% [elapsed: 1:32:33 left: 17:12,  0.75 iters/sec]"
       ]
      },
      {
       "output_type": "stream",
       "stream": "stdout",
       "text": [
        "\r",
        "|########--| 4173/4948  84% [elapsed: 1:32:37 left: 17:12,  0.75 iters/sec]"
       ]
      },
      {
       "output_type": "stream",
       "stream": "stdout",
       "text": [
        "\r",
        "|########--| 4174/4948  84% [elapsed: 1:32:38 left: 17:10,  0.75 iters/sec]"
       ]
      },
      {
       "output_type": "stream",
       "stream": "stdout",
       "text": [
        "\r",
        "|########--| 4175/4948  84% [elapsed: 1:32:42 left: 17:09,  0.75 iters/sec]"
       ]
      },
      {
       "output_type": "stream",
       "stream": "stdout",
       "text": [
        "\r",
        "|########--| 4176/4948  84% [elapsed: 1:32:47 left: 17:09,  0.75 iters/sec]"
       ]
      },
      {
       "output_type": "stream",
       "stream": "stdout",
       "text": [
        "\r",
        "|########--| 4177/4948  84% [elapsed: 1:32:49 left: 17:08,  0.75 iters/sec]"
       ]
      },
      {
       "output_type": "stream",
       "stream": "stdout",
       "text": [
        "\r",
        "|########--| 4179/4948  84% [elapsed: 1:32:53 left: 17:05,  0.75 iters/sec]"
       ]
      },
      {
       "output_type": "stream",
       "stream": "stdout",
       "text": [
        "\r",
        "|########--| 4180/4948  84% [elapsed: 1:32:58 left: 17:04,  0.75 iters/sec]"
       ]
      },
      {
       "output_type": "stream",
       "stream": "stdout",
       "text": [
        "\r",
        "|########--| 4181/4948  84% [elapsed: 1:33:01 left: 17:03,  0.75 iters/sec]"
       ]
      },
      {
       "output_type": "stream",
       "stream": "stdout",
       "text": [
        "\r",
        "|########--| 4182/4948  84% [elapsed: 1:33:05 left: 17:03,  0.75 iters/sec]"
       ]
      },
      {
       "output_type": "stream",
       "stream": "stdout",
       "text": [
        "\r",
        "|########--| 4183/4948  84% [elapsed: 1:33:09 left: 17:02,  0.75 iters/sec]"
       ]
      },
      {
       "output_type": "stream",
       "stream": "stdout",
       "text": [
        "\r",
        "|########--| 4184/4948  84% [elapsed: 1:33:12 left: 17:01,  0.75 iters/sec]"
       ]
      },
      {
       "output_type": "stream",
       "stream": "stdout",
       "text": [
        "\r",
        "|########--| 4185/4948  84% [elapsed: 1:33:18 left: 17:00,  0.75 iters/sec]"
       ]
      },
      {
       "output_type": "stream",
       "stream": "stdout",
       "text": [
        "\r",
        "|########--| 4186/4948  84% [elapsed: 1:33:22 left: 16:59,  0.75 iters/sec]"
       ]
      },
      {
       "output_type": "stream",
       "stream": "stdout",
       "text": [
        "\r",
        "|########--| 4187/4948  84% [elapsed: 1:33:26 left: 16:58,  0.75 iters/sec]"
       ]
      },
      {
       "output_type": "stream",
       "stream": "stdout",
       "text": [
        "\r",
        "|########--| 4188/4948  84% [elapsed: 1:33:28 left: 16:57,  0.75 iters/sec]"
       ]
      },
      {
       "output_type": "stream",
       "stream": "stdout",
       "text": [
        "\r",
        "|########--| 4189/4948  84% [elapsed: 1:33:31 left: 16:56,  0.75 iters/sec]"
       ]
      },
      {
       "output_type": "stream",
       "stream": "stdout",
       "text": [
        "\r",
        "|########--| 4190/4948  84% [elapsed: 1:33:35 left: 16:55,  0.75 iters/sec]"
       ]
      },
      {
       "output_type": "stream",
       "stream": "stdout",
       "text": [
        "\r",
        "|########--| 4191/4948  84% [elapsed: 1:33:40 left: 16:55,  0.75 iters/sec]"
       ]
      },
      {
       "output_type": "stream",
       "stream": "stdout",
       "text": [
        "\r",
        "|########--| 4192/4948  84% [elapsed: 1:33:44 left: 16:54,  0.75 iters/sec]"
       ]
      },
      {
       "output_type": "stream",
       "stream": "stdout",
       "text": [
        "\r",
        "|########--| 4193/4948  84% [elapsed: 1:33:47 left: 16:53,  0.75 iters/sec]"
       ]
      },
      {
       "output_type": "stream",
       "stream": "stdout",
       "text": [
        "\r",
        "|########--| 4194/4948  84% [elapsed: 1:33:50 left: 16:52,  0.74 iters/sec]"
       ]
      },
      {
       "output_type": "stream",
       "stream": "stdout",
       "text": [
        "\r",
        "|########--| 4195/4948  84% [elapsed: 1:33:54 left: 16:51,  0.74 iters/sec]"
       ]
      },
      {
       "output_type": "stream",
       "stream": "stdout",
       "text": [
        "\r",
        "|########--| 4196/4948  84% [elapsed: 1:33:57 left: 16:50,  0.74 iters/sec]"
       ]
      },
      {
       "output_type": "stream",
       "stream": "stdout",
       "text": [
        "\r",
        "|########--| 4197/4948  84% [elapsed: 1:34:01 left: 16:49,  0.74 iters/sec]"
       ]
      },
      {
       "output_type": "stream",
       "stream": "stdout",
       "text": [
        "\r",
        "|########--| 4198/4948  84% [elapsed: 1:34:05 left: 16:48,  0.74 iters/sec]"
       ]
      },
      {
       "output_type": "stream",
       "stream": "stdout",
       "text": [
        "\r",
        "|########--| 4199/4948  84% [elapsed: 1:34:08 left: 16:47,  0.74 iters/sec]"
       ]
      },
      {
       "output_type": "stream",
       "stream": "stdout",
       "text": [
        "\r",
        "|########--| 4200/4948  84% [elapsed: 1:34:11 left: 16:46,  0.74 iters/sec]"
       ]
      },
      {
       "output_type": "stream",
       "stream": "stdout",
       "text": [
        "\r",
        "|########--| 4201/4948  84% [elapsed: 1:34:14 left: 16:45,  0.74 iters/sec]"
       ]
      },
      {
       "output_type": "stream",
       "stream": "stdout",
       "text": [
        "\r",
        "|########--| 4202/4948  84% [elapsed: 1:34:16 left: 16:44,  0.74 iters/sec]"
       ]
      },
      {
       "output_type": "stream",
       "stream": "stdout",
       "text": [
        "\r",
        "|########--| 4203/4948  84% [elapsed: 1:34:19 left: 16:43,  0.74 iters/sec]"
       ]
      },
      {
       "output_type": "stream",
       "stream": "stdout",
       "text": [
        "\r",
        "|########--| 4204/4948  84% [elapsed: 1:34:22 left: 16:42,  0.74 iters/sec]"
       ]
      },
      {
       "output_type": "stream",
       "stream": "stdout",
       "text": [
        "\r",
        "|########--| 4205/4948  84% [elapsed: 1:34:26 left: 16:41,  0.74 iters/sec]"
       ]
      },
      {
       "output_type": "stream",
       "stream": "stdout",
       "text": [
        "\r",
        "|########--| 4206/4948  85% [elapsed: 1:34:28 left: 16:39,  0.74 iters/sec]"
       ]
      },
      {
       "output_type": "stream",
       "stream": "stdout",
       "text": [
        "\r",
        "|########--| 4207/4948  85% [elapsed: 1:34:29 left: 16:38,  0.74 iters/sec]"
       ]
      },
      {
       "output_type": "stream",
       "stream": "stdout",
       "text": [
        "\r",
        "|########--| 4208/4948  85% [elapsed: 1:34:32 left: 16:37,  0.74 iters/sec]"
       ]
      },
      {
       "output_type": "stream",
       "stream": "stdout",
       "text": [
        "\r",
        "|########--| 4209/4948  85% [elapsed: 1:34:36 left: 16:36,  0.74 iters/sec]"
       ]
      },
      {
       "output_type": "stream",
       "stream": "stdout",
       "text": [
        "\r",
        "|########--| 4210/4948  85% [elapsed: 1:34:40 left: 16:35,  0.74 iters/sec]"
       ]
      },
      {
       "output_type": "stream",
       "stream": "stdout",
       "text": [
        "\r",
        "|########--| 4211/4948  85% [elapsed: 1:34:43 left: 16:34,  0.74 iters/sec]"
       ]
      },
      {
       "output_type": "stream",
       "stream": "stdout",
       "text": [
        "\r",
        "|########--| 4212/4948  85% [elapsed: 1:34:47 left: 16:33,  0.74 iters/sec]"
       ]
      },
      {
       "output_type": "stream",
       "stream": "stdout",
       "text": [
        "\r",
        "|########--| 4213/4948  85% [elapsed: 1:34:50 left: 16:32,  0.74 iters/sec]"
       ]
      },
      {
       "output_type": "stream",
       "stream": "stdout",
       "text": [
        "\r",
        "|########--| 4214/4948  85% [elapsed: 1:34:54 left: 16:31,  0.74 iters/sec]"
       ]
      },
      {
       "output_type": "stream",
       "stream": "stdout",
       "text": [
        "\r",
        "|########--| 4215/4948  85% [elapsed: 1:34:57 left: 16:30,  0.74 iters/sec]"
       ]
      },
      {
       "output_type": "stream",
       "stream": "stdout",
       "text": [
        "\r",
        "|########--| 4216/4948  85% [elapsed: 1:35:00 left: 16:29,  0.74 iters/sec]"
       ]
      },
      {
       "output_type": "stream",
       "stream": "stdout",
       "text": [
        "\r",
        "|########--| 4217/4948  85% [elapsed: 1:35:06 left: 16:29,  0.74 iters/sec]"
       ]
      },
      {
       "output_type": "stream",
       "stream": "stdout",
       "text": [
        "\r",
        "|########--| 4218/4948  85% [elapsed: 1:35:07 left: 16:27,  0.74 iters/sec]"
       ]
      },
      {
       "output_type": "stream",
       "stream": "stdout",
       "text": [
        "\r",
        "|########--| 4219/4948  85% [elapsed: 1:35:11 left: 16:26,  0.74 iters/sec]"
       ]
      },
      {
       "output_type": "stream",
       "stream": "stdout",
       "text": [
        "\r",
        "|########--| 4220/4948  85% [elapsed: 1:35:14 left: 16:25,  0.74 iters/sec]"
       ]
      },
      {
       "output_type": "stream",
       "stream": "stdout",
       "text": [
        "\r",
        "|########--| 4221/4948  85% [elapsed: 1:35:17 left: 16:24,  0.74 iters/sec]"
       ]
      },
      {
       "output_type": "stream",
       "stream": "stdout",
       "text": [
        "\r",
        "|########--| 4222/4948  85% [elapsed: 1:35:19 left: 16:23,  0.74 iters/sec]"
       ]
      },
      {
       "output_type": "stream",
       "stream": "stdout",
       "text": [
        "\r",
        "|########--| 4223/4948  85% [elapsed: 1:35:20 left: 16:22,  0.74 iters/sec]"
       ]
      },
      {
       "output_type": "stream",
       "stream": "stdout",
       "text": [
        "\r",
        "|########--| 4224/4948  85% [elapsed: 1:35:24 left: 16:21,  0.74 iters/sec]"
       ]
      },
      {
       "output_type": "stream",
       "stream": "stdout",
       "text": [
        "\r",
        "|########--| 4225/4948  85% [elapsed: 1:35:27 left: 16:20,  0.74 iters/sec]"
       ]
      },
      {
       "output_type": "stream",
       "stream": "stdout",
       "text": [
        "\r",
        "|########--| 4226/4948  85% [elapsed: 1:35:29 left: 16:18,  0.74 iters/sec]"
       ]
      },
      {
       "output_type": "stream",
       "stream": "stdout",
       "text": [
        "\r",
        "|########--| 4227/4948  85% [elapsed: 1:35:32 left: 16:17,  0.74 iters/sec]"
       ]
      },
      {
       "output_type": "stream",
       "stream": "stdout",
       "text": [
        "\r",
        "|########--| 4228/4948  85% [elapsed: 1:35:40 left: 16:17,  0.74 iters/sec]"
       ]
      },
      {
       "output_type": "stream",
       "stream": "stdout",
       "text": [
        "\r",
        "|########--| 4229/4948  85% [elapsed: 1:35:41 left: 16:16,  0.74 iters/sec]"
       ]
      },
      {
       "output_type": "stream",
       "stream": "stdout",
       "text": [
        "\r",
        "|########--| 4230/4948  85% [elapsed: 1:35:45 left: 16:15,  0.74 iters/sec]"
       ]
      },
      {
       "output_type": "stream",
       "stream": "stdout",
       "text": [
        "\r",
        "|########--| 4231/4948  85% [elapsed: 1:35:48 left: 16:14,  0.74 iters/sec]"
       ]
      },
      {
       "output_type": "stream",
       "stream": "stdout",
       "text": [
        "\r",
        "|########--| 4234/4948  85% [elapsed: 1:35:52 left: 16:10,  0.74 iters/sec]"
       ]
      },
      {
       "output_type": "stream",
       "stream": "stdout",
       "text": [
        "\r",
        "|########--| 4235/4948  85% [elapsed: 1:35:56 left: 16:09,  0.74 iters/sec]"
       ]
      },
      {
       "output_type": "stream",
       "stream": "stdout",
       "text": [
        "\r",
        "|########--| 4236/4948  85% [elapsed: 1:36:00 left: 16:08,  0.74 iters/sec]"
       ]
      },
      {
       "output_type": "stream",
       "stream": "stdout",
       "text": [
        "\r",
        "|########--| 4237/4948  85% [elapsed: 1:36:03 left: 16:07,  0.74 iters/sec]"
       ]
      },
      {
       "output_type": "stream",
       "stream": "stdout",
       "text": [
        "\r",
        "|########--| 4239/4948  85% [elapsed: 1:36:07 left: 16:04,  0.74 iters/sec]"
       ]
      },
      {
       "output_type": "stream",
       "stream": "stdout",
       "text": [
        "\r",
        "|########--| 4240/4948  85% [elapsed: 1:36:10 left: 16:03,  0.73 iters/sec]"
       ]
      },
      {
       "output_type": "stream",
       "stream": "stdout",
       "text": [
        "\r",
        "|########--| 4241/4948  85% [elapsed: 1:36:11 left: 16:02,  0.73 iters/sec]"
       ]
      },
      {
       "output_type": "stream",
       "stream": "stdout",
       "text": [
        "\r",
        "|########--| 4242/4948  85% [elapsed: 1:36:15 left: 16:01,  0.73 iters/sec]"
       ]
      },
      {
       "output_type": "stream",
       "stream": "stdout",
       "text": [
        "\r",
        "|########--| 4243/4948  85% [elapsed: 1:36:17 left: 15:59,  0.73 iters/sec]"
       ]
      },
      {
       "output_type": "stream",
       "stream": "stdout",
       "text": [
        "\r",
        "|########--| 4244/4948  85% [elapsed: 1:36:20 left: 15:58,  0.73 iters/sec]"
       ]
      },
      {
       "output_type": "stream",
       "stream": "stdout",
       "text": [
        "\r",
        "|########--| 4245/4948  85% [elapsed: 1:36:23 left: 15:57,  0.73 iters/sec]"
       ]
      },
      {
       "output_type": "stream",
       "stream": "stdout",
       "text": [
        "\r",
        "|########--| 4246/4948  85% [elapsed: 1:36:27 left: 15:56,  0.73 iters/sec]"
       ]
      },
      {
       "output_type": "stream",
       "stream": "stdout",
       "text": [
        "\r",
        "|########--| 4247/4948  85% [elapsed: 1:36:31 left: 15:55,  0.73 iters/sec]"
       ]
      },
      {
       "output_type": "stream",
       "stream": "stdout",
       "text": [
        "\r",
        "|########--| 4248/4948  85% [elapsed: 1:36:34 left: 15:54,  0.73 iters/sec]"
       ]
      },
      {
       "output_type": "stream",
       "stream": "stdout",
       "text": [
        "\r",
        "|########--| 4249/4948  85% [elapsed: 1:36:38 left: 15:53,  0.73 iters/sec]"
       ]
      },
      {
       "output_type": "stream",
       "stream": "stdout",
       "text": [
        "\r",
        "|########--| 4250/4948  85% [elapsed: 1:36:39 left: 15:52,  0.73 iters/sec]"
       ]
      },
      {
       "output_type": "stream",
       "stream": "stdout",
       "text": [
        "\r",
        "|########--| 4251/4948  85% [elapsed: 1:36:43 left: 15:51,  0.73 iters/sec]"
       ]
      },
      {
       "output_type": "stream",
       "stream": "stdout",
       "text": [
        "\r",
        "|########--| 4252/4948  85% [elapsed: 1:36:45 left: 15:50,  0.73 iters/sec]"
       ]
      },
      {
       "output_type": "stream",
       "stream": "stdout",
       "text": [
        "\r",
        "|########--| 4253/4948  85% [elapsed: 1:36:49 left: 15:49,  0.73 iters/sec]"
       ]
      },
      {
       "output_type": "stream",
       "stream": "stdout",
       "text": [
        "\r",
        "|########--| 4254/4948  85% [elapsed: 1:36:51 left: 15:48,  0.73 iters/sec]"
       ]
      },
      {
       "output_type": "stream",
       "stream": "stdout",
       "text": [
        "\r",
        "|########--| 4255/4948  85% [elapsed: 1:36:54 left: 15:46,  0.73 iters/sec]"
       ]
      },
      {
       "output_type": "stream",
       "stream": "stdout",
       "text": [
        "\r",
        "|########--| 4256/4948  86% [elapsed: 1:36:57 left: 15:45,  0.73 iters/sec]"
       ]
      },
      {
       "output_type": "stream",
       "stream": "stdout",
       "text": [
        "\r",
        "|########--| 4257/4948  86% [elapsed: 1:37:00 left: 15:44,  0.73 iters/sec]"
       ]
      },
      {
       "output_type": "stream",
       "stream": "stdout",
       "text": [
        "\r",
        "|########--| 4258/4948  86% [elapsed: 1:37:03 left: 15:43,  0.73 iters/sec]"
       ]
      },
      {
       "output_type": "stream",
       "stream": "stdout",
       "text": [
        "\r",
        "|########--| 4260/4948  86% [elapsed: 1:37:07 left: 15:41,  0.73 iters/sec]"
       ]
      },
      {
       "output_type": "stream",
       "stream": "stdout",
       "text": [
        "\r",
        "|########--| 4261/4948  86% [elapsed: 1:37:11 left: 15:40,  0.73 iters/sec]"
       ]
      },
      {
       "output_type": "stream",
       "stream": "stdout",
       "text": [
        "\r",
        "|########--| 4263/4948  86% [elapsed: 1:37:12 left: 15:37,  0.73 iters/sec]"
       ]
      },
      {
       "output_type": "stream",
       "stream": "stdout",
       "text": [
        "\r",
        "|########--| 4264/4948  86% [elapsed: 1:37:13 left: 15:35,  0.73 iters/sec]"
       ]
      },
      {
       "output_type": "stream",
       "stream": "stdout",
       "text": [
        "\r",
        "|########--| 4265/4948  86% [elapsed: 1:37:17 left: 15:34,  0.73 iters/sec]"
       ]
      },
      {
       "output_type": "stream",
       "stream": "stdout",
       "text": [
        "\r",
        "|########--| 4266/4948  86% [elapsed: 1:37:18 left: 15:33,  0.73 iters/sec]"
       ]
      },
      {
       "output_type": "stream",
       "stream": "stdout",
       "text": [
        "\r",
        "|########--| 4267/4948  86% [elapsed: 1:37:21 left: 15:32,  0.73 iters/sec]"
       ]
      },
      {
       "output_type": "stream",
       "stream": "stdout",
       "text": [
        "\r",
        "|########--| 4268/4948  86% [elapsed: 1:37:25 left: 15:31,  0.73 iters/sec]"
       ]
      },
      {
       "output_type": "stream",
       "stream": "stdout",
       "text": [
        "\r",
        "|########--| 4269/4948  86% [elapsed: 1:37:26 left: 15:29,  0.73 iters/sec]"
       ]
      },
      {
       "output_type": "stream",
       "stream": "stdout",
       "text": [
        "\r",
        "|########--| 4270/4948  86% [elapsed: 1:37:27 left: 15:28,  0.73 iters/sec]"
       ]
      },
      {
       "output_type": "stream",
       "stream": "stdout",
       "text": [
        "\r",
        "|########--| 4272/4948  86% [elapsed: 1:37:29 left: 15:25,  0.73 iters/sec]"
       ]
      },
      {
       "output_type": "stream",
       "stream": "stdout",
       "text": [
        "\r",
        "|########--| 4273/4948  86% [elapsed: 1:37:33 left: 15:24,  0.73 iters/sec]"
       ]
      },
      {
       "output_type": "stream",
       "stream": "stdout",
       "text": [
        "\r",
        "|########--| 4274/4948  86% [elapsed: 1:37:35 left: 15:23,  0.73 iters/sec]"
       ]
      },
      {
       "output_type": "stream",
       "stream": "stdout",
       "text": [
        "\r",
        "|########--| 4275/4948  86% [elapsed: 1:37:39 left: 15:22,  0.73 iters/sec]"
       ]
      },
      {
       "output_type": "stream",
       "stream": "stdout",
       "text": [
        "\r",
        "|########--| 4276/4948  86% [elapsed: 1:37:42 left: 15:21,  0.73 iters/sec]"
       ]
      },
      {
       "output_type": "stream",
       "stream": "stdout",
       "text": [
        "\r",
        "|########--| 4277/4948  86% [elapsed: 1:37:45 left: 15:20,  0.73 iters/sec]"
       ]
      },
      {
       "output_type": "stream",
       "stream": "stdout",
       "text": [
        "\r",
        "|########--| 4278/4948  86% [elapsed: 1:37:48 left: 15:19,  0.73 iters/sec]"
       ]
      },
      {
       "output_type": "stream",
       "stream": "stdout",
       "text": [
        "\r",
        "|########--| 4279/4948  86% [elapsed: 1:37:52 left: 15:18,  0.73 iters/sec]"
       ]
      },
      {
       "output_type": "stream",
       "stream": "stdout",
       "text": [
        "\r",
        "|########--| 4280/4948  86% [elapsed: 1:37:55 left: 15:17,  0.73 iters/sec]"
       ]
      },
      {
       "output_type": "stream",
       "stream": "stdout",
       "text": [
        "\r",
        "|########--| 4281/4948  86% [elapsed: 1:37:58 left: 15:15,  0.73 iters/sec]"
       ]
      },
      {
       "output_type": "stream",
       "stream": "stdout",
       "text": [
        "\r",
        "|########--| 4282/4948  86% [elapsed: 1:38:00 left: 15:14,  0.73 iters/sec]"
       ]
      },
      {
       "output_type": "stream",
       "stream": "stdout",
       "text": [
        "\r",
        "|########--| 4283/4948  86% [elapsed: 1:38:02 left: 15:13,  0.73 iters/sec]"
       ]
      },
      {
       "output_type": "stream",
       "stream": "stdout",
       "text": [
        "\r",
        "|########--| 4284/4948  86% [elapsed: 1:38:04 left: 15:12,  0.73 iters/sec]"
       ]
      },
      {
       "output_type": "stream",
       "stream": "stdout",
       "text": [
        "\r",
        "|########--| 4285/4948  86% [elapsed: 1:38:07 left: 15:10,  0.73 iters/sec]"
       ]
      },
      {
       "output_type": "stream",
       "stream": "stdout",
       "text": [
        "\r",
        "|########--| 4287/4948  86% [elapsed: 1:38:08 left: 15:07,  0.73 iters/sec]"
       ]
      },
      {
       "output_type": "stream",
       "stream": "stdout",
       "text": [
        "\r",
        "|########--| 4288/4948  86% [elapsed: 1:38:10 left: 15:06,  0.73 iters/sec]"
       ]
      },
      {
       "output_type": "stream",
       "stream": "stdout",
       "text": [
        "\r",
        "|########--| 4289/4948  86% [elapsed: 1:38:11 left: 15:05,  0.73 iters/sec]"
       ]
      },
      {
       "output_type": "stream",
       "stream": "stdout",
       "text": [
        "\r",
        "|########--| 4290/4948  86% [elapsed: 1:38:14 left: 15:04,  0.73 iters/sec]"
       ]
      },
      {
       "output_type": "stream",
       "stream": "stdout",
       "text": [
        "\r",
        "|########--| 4291/4948  86% [elapsed: 1:38:18 left: 15:03,  0.73 iters/sec]"
       ]
      },
      {
       "output_type": "stream",
       "stream": "stdout",
       "text": [
        "\r",
        "|########--| 4292/4948  86% [elapsed: 1:38:22 left: 15:02,  0.73 iters/sec]"
       ]
      },
      {
       "output_type": "stream",
       "stream": "stdout",
       "text": [
        "\r",
        "|########--| 4293/4948  86% [elapsed: 1:38:26 left: 15:01,  0.73 iters/sec]"
       ]
      },
      {
       "output_type": "stream",
       "stream": "stdout",
       "text": [
        "\r",
        "|########--| 4294/4948  86% [elapsed: 1:38:30 left: 15:00,  0.73 iters/sec]"
       ]
      },
      {
       "output_type": "stream",
       "stream": "stdout",
       "text": [
        "\r",
        "|########--| 4295/4948  86% [elapsed: 1:38:32 left: 14:58,  0.73 iters/sec]"
       ]
      },
      {
       "output_type": "stream",
       "stream": "stdout",
       "text": [
        "\r",
        "|########--| 4297/4948  86% [elapsed: 1:38:36 left: 14:56,  0.73 iters/sec]"
       ]
      },
      {
       "output_type": "stream",
       "stream": "stdout",
       "text": [
        "\r",
        "|########--| 4298/4948  86% [elapsed: 1:38:40 left: 14:55,  0.73 iters/sec]"
       ]
      },
      {
       "output_type": "stream",
       "stream": "stdout",
       "text": [
        "\r",
        "|########--| 4300/4948  86% [elapsed: 1:38:41 left: 14:52,  0.73 iters/sec]"
       ]
      },
      {
       "output_type": "stream",
       "stream": "stdout",
       "text": [
        "\r",
        "|########--| 4301/4948  86% [elapsed: 1:38:44 left: 14:51,  0.73 iters/sec]"
       ]
      },
      {
       "output_type": "stream",
       "stream": "stdout",
       "text": [
        "\r",
        "|########--| 4302/4948  86% [elapsed: 1:38:49 left: 14:50,  0.73 iters/sec]"
       ]
      },
      {
       "output_type": "stream",
       "stream": "stdout",
       "text": [
        "\r",
        "|########--| 4304/4948  86% [elapsed: 1:38:52 left: 14:47,  0.73 iters/sec]"
       ]
      },
      {
       "output_type": "stream",
       "stream": "stdout",
       "text": [
        "\r",
        "|########--| 4305/4948  87% [elapsed: 1:38:55 left: 14:46,  0.73 iters/sec]"
       ]
      },
      {
       "output_type": "stream",
       "stream": "stdout",
       "text": [
        "\r",
        "|########--| 4306/4948  87% [elapsed: 1:38:59 left: 14:45,  0.73 iters/sec]"
       ]
      },
      {
       "output_type": "stream",
       "stream": "stdout",
       "text": [
        "\r",
        "|########--| 4307/4948  87% [elapsed: 1:39:02 left: 14:44,  0.72 iters/sec]"
       ]
      },
      {
       "output_type": "stream",
       "stream": "stdout",
       "text": [
        "\r",
        "|########--| 4308/4948  87% [elapsed: 1:39:06 left: 14:43,  0.72 iters/sec]"
       ]
      },
      {
       "output_type": "stream",
       "stream": "stdout",
       "text": [
        "\r",
        "|########--| 4309/4948  87% [elapsed: 1:39:10 left: 14:42,  0.72 iters/sec]"
       ]
      },
      {
       "output_type": "stream",
       "stream": "stdout",
       "text": [
        "\r",
        "|########--| 4310/4948  87% [elapsed: 1:39:13 left: 14:41,  0.72 iters/sec]"
       ]
      },
      {
       "output_type": "stream",
       "stream": "stdout",
       "text": [
        "\r",
        "|########--| 4311/4948  87% [elapsed: 1:39:17 left: 14:40,  0.72 iters/sec]"
       ]
      },
      {
       "output_type": "stream",
       "stream": "stdout",
       "text": [
        "\r",
        "|########--| 4312/4948  87% [elapsed: 1:39:20 left: 14:39,  0.72 iters/sec]"
       ]
      },
      {
       "output_type": "stream",
       "stream": "stdout",
       "text": [
        "\r",
        "|########--| 4314/4948  87% [elapsed: 1:39:23 left: 14:36,  0.72 iters/sec]"
       ]
      },
      {
       "output_type": "stream",
       "stream": "stdout",
       "text": [
        "\r",
        "|########--| 4315/4948  87% [elapsed: 1:39:24 left: 14:35,  0.72 iters/sec]"
       ]
      },
      {
       "output_type": "stream",
       "stream": "stdout",
       "text": [
        "\r",
        "|########--| 4316/4948  87% [elapsed: 1:39:26 left: 14:33,  0.72 iters/sec]"
       ]
      },
      {
       "output_type": "stream",
       "stream": "stdout",
       "text": [
        "\r",
        "|########--| 4317/4948  87% [elapsed: 1:39:29 left: 14:32,  0.72 iters/sec]"
       ]
      },
      {
       "output_type": "stream",
       "stream": "stdout",
       "text": [
        "\r",
        "|########--| 4318/4948  87% [elapsed: 1:39:33 left: 14:31,  0.72 iters/sec]"
       ]
      },
      {
       "output_type": "stream",
       "stream": "stdout",
       "text": [
        "\r",
        "|########--| 4319/4948  87% [elapsed: 1:39:37 left: 14:30,  0.72 iters/sec]"
       ]
      },
      {
       "output_type": "stream",
       "stream": "stdout",
       "text": [
        "\r",
        "|########--| 4320/4948  87% [elapsed: 1:39:41 left: 14:29,  0.72 iters/sec]"
       ]
      },
      {
       "output_type": "stream",
       "stream": "stdout",
       "text": [
        "\r",
        "|########--| 4321/4948  87% [elapsed: 1:39:44 left: 14:28,  0.72 iters/sec]"
       ]
      },
      {
       "output_type": "stream",
       "stream": "stdout",
       "text": [
        "\r",
        "|########--| 4322/4948  87% [elapsed: 1:39:48 left: 14:27,  0.72 iters/sec]"
       ]
      },
      {
       "output_type": "stream",
       "stream": "stdout",
       "text": [
        "\r",
        "|########--| 4323/4948  87% [elapsed: 1:39:51 left: 14:26,  0.72 iters/sec]"
       ]
      },
      {
       "output_type": "stream",
       "stream": "stdout",
       "text": [
        "\r",
        "|########--| 4324/4948  87% [elapsed: 1:39:55 left: 14:25,  0.72 iters/sec]"
       ]
      },
      {
       "output_type": "stream",
       "stream": "stdout",
       "text": [
        "\r",
        "|########--| 4325/4948  87% [elapsed: 1:39:58 left: 14:24,  0.72 iters/sec]"
       ]
      },
      {
       "output_type": "stream",
       "stream": "stdout",
       "text": [
        "\r",
        "|########--| 4326/4948  87% [elapsed: 1:40:02 left: 14:22,  0.72 iters/sec]"
       ]
      },
      {
       "output_type": "stream",
       "stream": "stdout",
       "text": [
        "\r",
        "|########--| 4327/4948  87% [elapsed: 1:40:05 left: 14:21,  0.72 iters/sec]"
       ]
      },
      {
       "output_type": "stream",
       "stream": "stdout",
       "text": [
        "\r",
        "|########--| 4328/4948  87% [elapsed: 1:40:07 left: 14:20,  0.72 iters/sec]"
       ]
      },
      {
       "output_type": "stream",
       "stream": "stdout",
       "text": [
        "\r",
        "|########--| 4329/4948  87% [elapsed: 1:40:11 left: 14:19,  0.72 iters/sec]"
       ]
      },
      {
       "output_type": "stream",
       "stream": "stdout",
       "text": [
        "\r",
        "|########--| 4330/4948  87% [elapsed: 1:40:14 left: 14:18,  0.72 iters/sec]"
       ]
      },
      {
       "output_type": "stream",
       "stream": "stdout",
       "text": [
        "\r",
        "|########--| 4331/4948  87% [elapsed: 1:40:18 left: 14:17,  0.72 iters/sec]"
       ]
      },
      {
       "output_type": "stream",
       "stream": "stdout",
       "text": [
        "\r",
        "|########--| 4332/4948  87% [elapsed: 1:40:22 left: 14:16,  0.72 iters/sec]"
       ]
      },
      {
       "output_type": "stream",
       "stream": "stdout",
       "text": [
        "\r",
        "|########--| 4333/4948  87% [elapsed: 1:40:23 left: 14:15,  0.72 iters/sec]"
       ]
      },
      {
       "output_type": "stream",
       "stream": "stdout",
       "text": [
        "\r",
        "|########--| 4334/4948  87% [elapsed: 1:40:27 left: 14:13,  0.72 iters/sec]"
       ]
      },
      {
       "output_type": "stream",
       "stream": "stdout",
       "text": [
        "\r",
        "|########--| 4335/4948  87% [elapsed: 1:40:30 left: 14:12,  0.72 iters/sec]"
       ]
      },
      {
       "output_type": "stream",
       "stream": "stdout",
       "text": [
        "\r",
        "|########--| 4336/4948  87% [elapsed: 1:40:34 left: 14:11,  0.72 iters/sec]"
       ]
      },
      {
       "output_type": "stream",
       "stream": "stdout",
       "text": [
        "\r",
        "|########--| 4337/4948  87% [elapsed: 1:40:38 left: 14:10,  0.72 iters/sec]"
       ]
      },
      {
       "output_type": "stream",
       "stream": "stdout",
       "text": [
        "\r",
        "|########--| 4338/4948  87% [elapsed: 1:40:42 left: 14:09,  0.72 iters/sec]"
       ]
      },
      {
       "output_type": "stream",
       "stream": "stdout",
       "text": [
        "\r",
        "|########--| 4339/4948  87% [elapsed: 1:40:45 left: 14:08,  0.72 iters/sec]"
       ]
      },
      {
       "output_type": "stream",
       "stream": "stdout",
       "text": [
        "\r",
        "|########--| 4340/4948  87% [elapsed: 1:40:50 left: 14:07,  0.72 iters/sec]"
       ]
      },
      {
       "output_type": "stream",
       "stream": "stdout",
       "text": [
        "\r",
        "|########--| 4342/4948  87% [elapsed: 1:40:53 left: 14:04,  0.72 iters/sec]"
       ]
      },
      {
       "output_type": "stream",
       "stream": "stdout",
       "text": [
        "\r",
        "|########--| 4344/4948  87% [elapsed: 1:40:58 left: 14:02,  0.72 iters/sec]"
       ]
      },
      {
       "output_type": "stream",
       "stream": "stdout",
       "text": [
        "\r",
        "|########--| 4345/4948  87% [elapsed: 1:41:02 left: 14:01,  0.72 iters/sec]"
       ]
      },
      {
       "output_type": "stream",
       "stream": "stdout",
       "text": [
        "\r",
        "|########--| 4346/4948  87% [elapsed: 1:41:05 left: 14:00,  0.72 iters/sec]"
       ]
      },
      {
       "output_type": "stream",
       "stream": "stdout",
       "text": [
        "\r",
        "|########--| 4347/4948  87% [elapsed: 1:41:08 left: 13:58,  0.72 iters/sec]"
       ]
      },
      {
       "output_type": "stream",
       "stream": "stdout",
       "text": [
        "\r",
        "|########--| 4348/4948  87% [elapsed: 1:41:11 left: 13:57,  0.72 iters/sec]"
       ]
      },
      {
       "output_type": "stream",
       "stream": "stdout",
       "text": [
        "\r",
        "|########--| 4349/4948  87% [elapsed: 1:41:12 left: 13:56,  0.72 iters/sec]"
       ]
      },
      {
       "output_type": "stream",
       "stream": "stdout",
       "text": [
        "\r",
        "|########--| 4350/4948  87% [elapsed: 1:41:16 left: 13:55,  0.72 iters/sec]"
       ]
      },
      {
       "output_type": "stream",
       "stream": "stdout",
       "text": [
        "\r",
        "|########--| 4351/4948  87% [elapsed: 1:41:20 left: 13:54,  0.72 iters/sec]"
       ]
      },
      {
       "output_type": "stream",
       "stream": "stdout",
       "text": [
        "\r",
        "|########--| 4352/4948  87% [elapsed: 1:41:23 left: 13:53,  0.72 iters/sec]"
       ]
      },
      {
       "output_type": "stream",
       "stream": "stdout",
       "text": [
        "\r",
        "|########--| 4353/4948  87% [elapsed: 1:41:28 left: 13:52,  0.71 iters/sec]"
       ]
      },
      {
       "output_type": "stream",
       "stream": "stdout",
       "text": [
        "\r",
        "|########--| 4354/4948  87% [elapsed: 1:41:31 left: 13:51,  0.71 iters/sec]"
       ]
      },
      {
       "output_type": "stream",
       "stream": "stdout",
       "text": [
        "\r",
        "|########--| 4355/4948  88% [elapsed: 1:41:35 left: 13:49,  0.71 iters/sec]"
       ]
      },
      {
       "output_type": "stream",
       "stream": "stdout",
       "text": [
        "\r",
        "|########--| 4356/4948  88% [elapsed: 1:41:38 left: 13:48,  0.71 iters/sec]"
       ]
      },
      {
       "output_type": "stream",
       "stream": "stdout",
       "text": [
        "\r",
        "|########--| 4358/4948  88% [elapsed: 1:41:42 left: 13:46,  0.71 iters/sec]"
       ]
      },
      {
       "output_type": "stream",
       "stream": "stdout",
       "text": [
        "\r",
        "|########--| 4359/4948  88% [elapsed: 1:41:45 left: 13:44,  0.71 iters/sec]"
       ]
      },
      {
       "output_type": "stream",
       "stream": "stdout",
       "text": [
        "\r",
        "|########--| 4360/4948  88% [elapsed: 1:41:48 left: 13:43,  0.71 iters/sec]"
       ]
      },
      {
       "output_type": "stream",
       "stream": "stdout",
       "text": [
        "\r",
        "|########--| 4361/4948  88% [elapsed: 1:41:51 left: 13:42,  0.71 iters/sec]"
       ]
      },
      {
       "output_type": "stream",
       "stream": "stdout",
       "text": [
        "\r",
        "|########--| 4362/4948  88% [elapsed: 1:41:55 left: 13:41,  0.71 iters/sec]"
       ]
      },
      {
       "output_type": "stream",
       "stream": "stdout",
       "text": [
        "\r",
        "|########--| 4364/4948  88% [elapsed: 1:41:59 left: 13:38,  0.71 iters/sec]"
       ]
      },
      {
       "output_type": "stream",
       "stream": "stdout",
       "text": [
        "\r",
        "|########--| 4365/4948  88% [elapsed: 1:42:03 left: 13:37,  0.71 iters/sec]"
       ]
      },
      {
       "output_type": "stream",
       "stream": "stdout",
       "text": [
        "\r",
        "|########--| 4366/4948  88% [elapsed: 1:42:08 left: 13:36,  0.71 iters/sec]"
       ]
      },
      {
       "output_type": "stream",
       "stream": "stdout",
       "text": [
        "\r",
        "|########--| 4367/4948  88% [elapsed: 1:42:12 left: 13:35,  0.71 iters/sec]"
       ]
      },
      {
       "output_type": "stream",
       "stream": "stdout",
       "text": [
        "\r",
        "|########--| 4368/4948  88% [elapsed: 1:42:16 left: 13:34,  0.71 iters/sec]"
       ]
      },
      {
       "output_type": "stream",
       "stream": "stdout",
       "text": [
        "\r",
        "|########--| 4369/4948  88% [elapsed: 1:42:19 left: 13:33,  0.71 iters/sec]"
       ]
      },
      {
       "output_type": "stream",
       "stream": "stdout",
       "text": [
        "\r",
        "|########--| 4370/4948  88% [elapsed: 1:42:22 left: 13:32,  0.71 iters/sec]"
       ]
      },
      {
       "output_type": "stream",
       "stream": "stdout",
       "text": [
        "\r",
        "|########--| 4371/4948  88% [elapsed: 1:42:24 left: 13:31,  0.71 iters/sec]"
       ]
      },
      {
       "output_type": "stream",
       "stream": "stdout",
       "text": [
        "\r",
        "|########--| 4372/4948  88% [elapsed: 1:42:29 left: 13:30,  0.71 iters/sec]"
       ]
      },
      {
       "output_type": "stream",
       "stream": "stdout",
       "text": [
        "\r",
        "|########--| 4373/4948  88% [elapsed: 1:42:33 left: 13:29,  0.71 iters/sec]"
       ]
      },
      {
       "output_type": "stream",
       "stream": "stdout",
       "text": [
        "\r",
        "|########--| 4374/4948  88% [elapsed: 1:42:36 left: 13:27,  0.71 iters/sec]"
       ]
      },
      {
       "output_type": "stream",
       "stream": "stdout",
       "text": [
        "\r",
        "|########--| 4375/4948  88% [elapsed: 1:42:40 left: 13:26,  0.71 iters/sec]"
       ]
      },
      {
       "output_type": "stream",
       "stream": "stdout",
       "text": [
        "\r",
        "|########--| 4376/4948  88% [elapsed: 1:42:42 left: 13:25,  0.71 iters/sec]"
       ]
      },
      {
       "output_type": "stream",
       "stream": "stdout",
       "text": [
        "\r",
        "|########--| 4377/4948  88% [elapsed: 1:42:44 left: 13:24,  0.71 iters/sec]"
       ]
      },
      {
       "output_type": "stream",
       "stream": "stdout",
       "text": [
        "\r",
        "|########--| 4378/4948  88% [elapsed: 1:42:47 left: 13:22,  0.71 iters/sec]"
       ]
      },
      {
       "output_type": "stream",
       "stream": "stdout",
       "text": [
        "\r",
        "|########--| 4379/4948  88% [elapsed: 1:42:50 left: 13:21,  0.71 iters/sec]"
       ]
      },
      {
       "output_type": "stream",
       "stream": "stdout",
       "text": [
        "\r",
        "|########--| 4380/4948  88% [elapsed: 1:42:52 left: 13:20,  0.71 iters/sec]"
       ]
      },
      {
       "output_type": "stream",
       "stream": "stdout",
       "text": [
        "\r",
        "|########--| 4381/4948  88% [elapsed: 1:42:55 left: 13:19,  0.71 iters/sec]"
       ]
      },
      {
       "output_type": "stream",
       "stream": "stdout",
       "text": [
        "\r",
        "|########--| 4382/4948  88% [elapsed: 1:43:00 left: 13:18,  0.71 iters/sec]"
       ]
      },
      {
       "output_type": "stream",
       "stream": "stdout",
       "text": [
        "\r",
        "|########--| 4384/4948  88% [elapsed: 1:43:03 left: 13:15,  0.71 iters/sec]"
       ]
      },
      {
       "output_type": "stream",
       "stream": "stdout",
       "text": [
        "\r",
        "|########--| 4387/4948  88% [elapsed: 1:43:07 left: 13:11,  0.71 iters/sec]"
       ]
      },
      {
       "output_type": "stream",
       "stream": "stdout",
       "text": [
        "\r",
        "|########--| 4388/4948  88% [elapsed: 1:43:11 left: 13:10,  0.71 iters/sec]"
       ]
      },
      {
       "output_type": "stream",
       "stream": "stdout",
       "text": [
        "\r",
        "|########--| 4389/4948  88% [elapsed: 1:43:14 left: 13:08,  0.71 iters/sec]"
       ]
      },
      {
       "output_type": "stream",
       "stream": "stdout",
       "text": [
        "\r",
        "|########--| 4390/4948  88% [elapsed: 1:43:18 left: 13:07,  0.71 iters/sec]"
       ]
      },
      {
       "output_type": "stream",
       "stream": "stdout",
       "text": [
        "\r",
        "|########--| 4391/4948  88% [elapsed: 1:43:21 left: 13:06,  0.71 iters/sec]"
       ]
      },
      {
       "output_type": "stream",
       "stream": "stdout",
       "text": [
        "\r",
        "|########--| 4392/4948  88% [elapsed: 1:43:24 left: 13:05,  0.71 iters/sec]"
       ]
      },
      {
       "output_type": "stream",
       "stream": "stdout",
       "text": [
        "\r",
        "|########--| 4393/4948  88% [elapsed: 1:43:28 left: 13:04,  0.71 iters/sec]"
       ]
      },
      {
       "output_type": "stream",
       "stream": "stdout",
       "text": [
        "\r",
        "|########--| 4394/4948  88% [elapsed: 1:43:30 left: 13:02,  0.71 iters/sec]"
       ]
      },
      {
       "output_type": "stream",
       "stream": "stdout",
       "text": [
        "\r",
        "|########--| 4395/4948  88% [elapsed: 1:43:33 left: 13:01,  0.71 iters/sec]"
       ]
      },
      {
       "output_type": "stream",
       "stream": "stdout",
       "text": [
        "\r",
        "|########--| 4396/4948  88% [elapsed: 1:43:36 left: 13:00,  0.71 iters/sec]"
       ]
      },
      {
       "output_type": "stream",
       "stream": "stdout",
       "text": [
        "\r",
        "|########--| 4397/4948  88% [elapsed: 1:43:39 left: 12:59,  0.71 iters/sec]"
       ]
      },
      {
       "output_type": "stream",
       "stream": "stdout",
       "text": [
        "\r",
        "|########--| 4398/4948  88% [elapsed: 1:43:43 left: 12:58,  0.71 iters/sec]"
       ]
      },
      {
       "output_type": "stream",
       "stream": "stdout",
       "text": [
        "\r",
        "|########--| 4399/4948  88% [elapsed: 1:43:47 left: 12:57,  0.71 iters/sec]"
       ]
      },
      {
       "output_type": "stream",
       "stream": "stdout",
       "text": [
        "\r",
        "|########--| 4400/4948  88% [elapsed: 1:43:50 left: 12:56,  0.71 iters/sec]"
       ]
      },
      {
       "output_type": "stream",
       "stream": "stdout",
       "text": [
        "\r",
        "|########--| 4401/4948  88% [elapsed: 1:43:52 left: 12:54,  0.71 iters/sec]"
       ]
      },
      {
       "output_type": "stream",
       "stream": "stdout",
       "text": [
        "\r",
        "|########--| 4402/4948  88% [elapsed: 1:43:55 left: 12:53,  0.71 iters/sec]"
       ]
      },
      {
       "output_type": "stream",
       "stream": "stdout",
       "text": [
        "\r",
        "|########--| 4403/4948  88% [elapsed: 1:43:59 left: 12:52,  0.71 iters/sec]"
       ]
      },
      {
       "output_type": "stream",
       "stream": "stdout",
       "text": [
        "\r",
        "|########--| 4404/4948  89% [elapsed: 1:44:03 left: 12:51,  0.71 iters/sec]"
       ]
      },
      {
       "output_type": "stream",
       "stream": "stdout",
       "text": [
        "\r",
        "|########--| 4405/4948  89% [elapsed: 1:44:05 left: 12:49,  0.71 iters/sec]"
       ]
      },
      {
       "output_type": "stream",
       "stream": "stdout",
       "text": [
        "\r",
        "|########--| 4406/4948  89% [elapsed: 1:44:07 left: 12:48,  0.71 iters/sec]"
       ]
      },
      {
       "output_type": "stream",
       "stream": "stdout",
       "text": [
        "\r",
        "|########--| 4407/4948  89% [elapsed: 1:44:10 left: 12:47,  0.71 iters/sec]"
       ]
      },
      {
       "output_type": "stream",
       "stream": "stdout",
       "text": [
        "\r",
        "|########--| 4408/4948  89% [elapsed: 1:44:13 left: 12:46,  0.70 iters/sec]"
       ]
      },
      {
       "output_type": "stream",
       "stream": "stdout",
       "text": [
        "\r",
        "|########--| 4409/4948  89% [elapsed: 1:44:17 left: 12:45,  0.70 iters/sec]"
       ]
      },
      {
       "output_type": "stream",
       "stream": "stdout",
       "text": [
        "\r",
        "|########--| 4410/4948  89% [elapsed: 1:44:21 left: 12:43,  0.70 iters/sec]"
       ]
      },
      {
       "output_type": "stream",
       "stream": "stdout",
       "text": [
        "\r",
        "|########--| 4411/4948  89% [elapsed: 1:44:24 left: 12:42,  0.70 iters/sec]"
       ]
      },
      {
       "output_type": "stream",
       "stream": "stdout",
       "text": [
        "\r",
        "|########--| 4412/4948  89% [elapsed: 1:44:28 left: 12:41,  0.70 iters/sec]"
       ]
      },
      {
       "output_type": "stream",
       "stream": "stdout",
       "text": [
        "\r",
        "|########--| 4413/4948  89% [elapsed: 1:44:30 left: 12:40,  0.70 iters/sec]"
       ]
      },
      {
       "output_type": "stream",
       "stream": "stdout",
       "text": [
        "\r",
        "|########--| 4414/4948  89% [elapsed: 1:44:34 left: 12:39,  0.70 iters/sec]"
       ]
      },
      {
       "output_type": "stream",
       "stream": "stdout",
       "text": [
        "\r",
        "|########--| 4416/4948  89% [elapsed: 1:44:35 left: 12:36,  0.70 iters/sec]"
       ]
      },
      {
       "output_type": "stream",
       "stream": "stdout",
       "text": [
        "\r",
        "|########--| 4417/4948  89% [elapsed: 1:44:38 left: 12:34,  0.70 iters/sec]"
       ]
      },
      {
       "output_type": "stream",
       "stream": "stdout",
       "text": [
        "\r",
        "|########--| 4418/4948  89% [elapsed: 1:44:44 left: 12:33,  0.70 iters/sec]"
       ]
      },
      {
       "output_type": "stream",
       "stream": "stdout",
       "text": [
        "\r",
        "|########--| 4419/4948  89% [elapsed: 1:44:48 left: 12:32,  0.70 iters/sec]"
       ]
      },
      {
       "output_type": "stream",
       "stream": "stdout",
       "text": [
        "\r",
        "|########--| 4420/4948  89% [elapsed: 1:44:52 left: 12:31,  0.70 iters/sec]"
       ]
      },
      {
       "output_type": "stream",
       "stream": "stdout",
       "text": [
        "\r",
        "|########--| 4422/4948  89% [elapsed: 1:44:56 left: 12:28,  0.70 iters/sec]"
       ]
      },
      {
       "output_type": "stream",
       "stream": "stdout",
       "text": [
        "\r",
        "|########--| 4423/4948  89% [elapsed: 1:44:57 left: 12:27,  0.70 iters/sec]"
       ]
      },
      {
       "output_type": "stream",
       "stream": "stdout",
       "text": [
        "\r",
        "|########--| 4424/4948  89% [elapsed: 1:45:03 left: 12:26,  0.70 iters/sec]"
       ]
      },
      {
       "output_type": "stream",
       "stream": "stdout",
       "text": [
        "\r",
        "|########--| 4425/4948  89% [elapsed: 1:45:05 left: 12:25,  0.70 iters/sec]"
       ]
      },
      {
       "output_type": "stream",
       "stream": "stdout",
       "text": [
        "\r",
        "|########--| 4427/4948  89% [elapsed: 1:45:09 left: 12:22,  0.70 iters/sec]"
       ]
      },
      {
       "output_type": "stream",
       "stream": "stdout",
       "text": [
        "\r",
        "|########--| 4428/4948  89% [elapsed: 1:45:15 left: 12:21,  0.70 iters/sec]"
       ]
      },
      {
       "output_type": "stream",
       "stream": "stdout",
       "text": [
        "\r",
        "|########--| 4429/4948  89% [elapsed: 1:45:17 left: 12:20,  0.70 iters/sec]"
       ]
      },
      {
       "output_type": "stream",
       "stream": "stdout",
       "text": [
        "\r",
        "|########--| 4431/4948  89% [elapsed: 1:45:21 left: 12:17,  0.70 iters/sec]"
       ]
      },
      {
       "output_type": "stream",
       "stream": "stdout",
       "text": [
        "\r",
        "|########--| 4432/4948  89% [elapsed: 1:45:26 left: 12:16,  0.70 iters/sec]"
       ]
      },
      {
       "output_type": "stream",
       "stream": "stdout",
       "text": [
        "\r",
        "|########--| 4433/4948  89% [elapsed: 1:45:30 left: 12:15,  0.70 iters/sec]"
       ]
      },
      {
       "output_type": "stream",
       "stream": "stdout",
       "text": [
        "\r",
        "|########--| 4434/4948  89% [elapsed: 1:45:35 left: 12:14,  0.70 iters/sec]"
       ]
      },
      {
       "output_type": "stream",
       "stream": "stdout",
       "text": [
        "\r",
        "|########--| 4435/4948  89% [elapsed: 1:45:38 left: 12:13,  0.70 iters/sec]"
       ]
      },
      {
       "output_type": "stream",
       "stream": "stdout",
       "text": [
        "\r",
        "|########--| 4436/4948  89% [elapsed: 1:45:40 left: 12:11,  0.70 iters/sec]"
       ]
      },
      {
       "output_type": "stream",
       "stream": "stdout",
       "text": [
        "\r",
        "|########--| 4437/4948  89% [elapsed: 1:45:48 left: 12:11,  0.70 iters/sec]"
       ]
      },
      {
       "output_type": "stream",
       "stream": "stdout",
       "text": [
        "\r",
        "|########--| 4438/4948  89% [elapsed: 1:45:52 left: 12:09,  0.70 iters/sec]"
       ]
      },
      {
       "output_type": "stream",
       "stream": "stdout",
       "text": [
        "\r",
        "|########--| 4439/4948  89% [elapsed: 1:46:08 left: 12:10,  0.70 iters/sec]"
       ]
      },
      {
       "output_type": "stream",
       "stream": "stdout",
       "text": [
        "\r",
        "|########--| 4441/4948  89% [elapsed: 1:46:11 left: 12:07,  0.70 iters/sec]"
       ]
      },
      {
       "output_type": "stream",
       "stream": "stdout",
       "text": [
        "\r",
        "|########--| 4442/4948  89% [elapsed: 1:46:15 left: 12:06,  0.70 iters/sec]"
       ]
      },
      {
       "output_type": "stream",
       "stream": "stdout",
       "text": [
        "\r",
        "|########--| 4443/4948  89% [elapsed: 1:46:17 left: 12:04,  0.70 iters/sec]"
       ]
      },
      {
       "output_type": "stream",
       "stream": "stdout",
       "text": [
        "\r",
        "|########--| 4444/4948  89% [elapsed: 1:46:29 left: 12:04,  0.70 iters/sec]"
       ]
      },
      {
       "output_type": "stream",
       "stream": "stdout",
       "text": [
        "\r",
        "|########--| 4445/4948  89% [elapsed: 1:46:32 left: 12:03,  0.70 iters/sec]"
       ]
      },
      {
       "output_type": "stream",
       "stream": "stdout",
       "text": [
        "\r",
        "|########--| 4446/4948  89% [elapsed: 1:46:38 left: 12:02,  0.69 iters/sec]"
       ]
      },
      {
       "output_type": "stream",
       "stream": "stdout",
       "text": [
        "\r",
        "|########--| 4447/4948  89% [elapsed: 1:46:40 left: 12:01,  0.69 iters/sec]"
       ]
      },
      {
       "output_type": "stream",
       "stream": "stdout",
       "text": [
        "\r",
        "|########--| 4448/4948  89% [elapsed: 1:46:41 left: 11:59,  0.69 iters/sec]"
       ]
      },
      {
       "output_type": "stream",
       "stream": "stdout",
       "text": [
        "\r",
        "|########--| 4450/4948  89% [elapsed: 1:46:43 left: 11:56,  0.69 iters/sec]"
       ]
      },
      {
       "output_type": "stream",
       "stream": "stdout",
       "text": [
        "\r",
        "|########--| 4451/4948  89% [elapsed: 1:46:47 left: 11:55,  0.69 iters/sec]"
       ]
      },
      {
       "output_type": "stream",
       "stream": "stdout",
       "text": [
        "\r",
        "|########--| 4452/4948  89% [elapsed: 1:46:56 left: 11:54,  0.69 iters/sec]"
       ]
      },
      {
       "output_type": "stream",
       "stream": "stdout",
       "text": [
        "\r",
        "|#########-| 4454/4948  90% [elapsed: 1:47:05 left: 11:52,  0.69 iters/sec]"
       ]
      },
      {
       "output_type": "stream",
       "stream": "stdout",
       "text": [
        "\r",
        "|#########-| 4455/4948  90% [elapsed: 1:47:09 left: 11:51,  0.69 iters/sec]"
       ]
      },
      {
       "output_type": "stream",
       "stream": "stdout",
       "text": [
        "\r",
        "|#########-| 4456/4948  90% [elapsed: 1:47:14 left: 11:50,  0.69 iters/sec]"
       ]
      },
      {
       "output_type": "stream",
       "stream": "stdout",
       "text": [
        "\r",
        "|#########-| 4457/4948  90% [elapsed: 1:47:17 left: 11:49,  0.69 iters/sec]"
       ]
      },
      {
       "output_type": "stream",
       "stream": "stdout",
       "text": [
        "\r",
        "|#########-| 4458/4948  90% [elapsed: 1:47:21 left: 11:47,  0.69 iters/sec]"
       ]
      },
      {
       "output_type": "stream",
       "stream": "stdout",
       "text": [
        "\r",
        "|#########-| 4459/4948  90% [elapsed: 1:47:24 left: 11:46,  0.69 iters/sec]"
       ]
      },
      {
       "output_type": "stream",
       "stream": "stdout",
       "text": [
        "\r",
        "|#########-| 4460/4948  90% [elapsed: 1:47:28 left: 11:45,  0.69 iters/sec]"
       ]
      },
      {
       "output_type": "stream",
       "stream": "stdout",
       "text": [
        "\r",
        "|#########-| 4462/4948  90% [elapsed: 1:47:30 left: 11:42,  0.69 iters/sec]"
       ]
      },
      {
       "output_type": "stream",
       "stream": "stdout",
       "text": [
        "\r",
        "|#########-| 4463/4948  90% [elapsed: 1:47:33 left: 11:41,  0.69 iters/sec]"
       ]
      },
      {
       "output_type": "stream",
       "stream": "stdout",
       "text": [
        "\r",
        "|#########-| 4464/4948  90% [elapsed: 1:47:38 left: 11:40,  0.69 iters/sec]"
       ]
      },
      {
       "output_type": "stream",
       "stream": "stdout",
       "text": [
        "\r",
        "|#########-| 4465/4948  90% [elapsed: 1:47:39 left: 11:38,  0.69 iters/sec]"
       ]
      },
      {
       "output_type": "stream",
       "stream": "stdout",
       "text": [
        "\r",
        "|#########-| 4466/4948  90% [elapsed: 1:47:42 left: 11:37,  0.69 iters/sec]"
       ]
      },
      {
       "output_type": "stream",
       "stream": "stdout",
       "text": [
        "\r",
        "|#########-| 4467/4948  90% [elapsed: 1:47:45 left: 11:36,  0.69 iters/sec]"
       ]
      },
      {
       "output_type": "stream",
       "stream": "stdout",
       "text": [
        "\r",
        "|#########-| 4468/4948  90% [elapsed: 1:47:49 left: 11:35,  0.69 iters/sec]"
       ]
      },
      {
       "output_type": "stream",
       "stream": "stdout",
       "text": [
        "\r",
        "|#########-| 4469/4948  90% [elapsed: 1:47:51 left: 11:33,  0.69 iters/sec]"
       ]
      },
      {
       "output_type": "stream",
       "stream": "stdout",
       "text": [
        "\r",
        "|#########-| 4470/4948  90% [elapsed: 1:47:52 left: 11:32,  0.69 iters/sec]"
       ]
      },
      {
       "output_type": "stream",
       "stream": "stdout",
       "text": [
        "\r",
        "|#########-| 4472/4948  90% [elapsed: 1:47:53 left: 11:29,  0.69 iters/sec]"
       ]
      },
      {
       "output_type": "stream",
       "stream": "stdout",
       "text": [
        "\r",
        "|#########-| 4473/4948  90% [elapsed: 1:47:57 left: 11:27,  0.69 iters/sec]"
       ]
      },
      {
       "output_type": "stream",
       "stream": "stdout",
       "text": [
        "\r",
        "|#########-| 4474/4948  90% [elapsed: 1:48:02 left: 11:26,  0.69 iters/sec]"
       ]
      },
      {
       "output_type": "stream",
       "stream": "stdout",
       "text": [
        "\r",
        "|#########-| 4475/4948  90% [elapsed: 1:48:07 left: 11:25,  0.69 iters/sec]"
       ]
      },
      {
       "output_type": "stream",
       "stream": "stdout",
       "text": [
        "\r",
        "|#########-| 4476/4948  90% [elapsed: 1:48:11 left: 11:24,  0.69 iters/sec]"
       ]
      },
      {
       "output_type": "stream",
       "stream": "stdout",
       "text": [
        "\r",
        "|#########-| 4477/4948  90% [elapsed: 1:48:14 left: 11:23,  0.69 iters/sec]"
       ]
      },
      {
       "output_type": "stream",
       "stream": "stdout",
       "text": [
        "\r",
        "|#########-| 4478/4948  90% [elapsed: 1:48:19 left: 11:22,  0.69 iters/sec]"
       ]
      },
      {
       "output_type": "stream",
       "stream": "stdout",
       "text": [
        "\r",
        "|#########-| 4480/4948  90% [elapsed: 1:48:20 left: 11:19,  0.69 iters/sec]"
       ]
      },
      {
       "output_type": "stream",
       "stream": "stdout",
       "text": [
        "\r",
        "|#########-| 4481/4948  90% [elapsed: 1:48:24 left: 11:17,  0.69 iters/sec]"
       ]
      },
      {
       "output_type": "stream",
       "stream": "stdout",
       "text": [
        "\r",
        "|#########-| 4482/4948  90% [elapsed: 1:48:29 left: 11:16,  0.69 iters/sec]"
       ]
      },
      {
       "output_type": "stream",
       "stream": "stdout",
       "text": [
        "\r",
        "|#########-| 4483/4948  90% [elapsed: 1:48:30 left: 11:15,  0.69 iters/sec]"
       ]
      },
      {
       "output_type": "stream",
       "stream": "stdout",
       "text": [
        "\r",
        "|#########-| 4484/4948  90% [elapsed: 1:48:33 left: 11:14,  0.69 iters/sec]"
       ]
      },
      {
       "output_type": "stream",
       "stream": "stdout",
       "text": [
        "\r",
        "|#########-| 4485/4948  90% [elapsed: 1:48:39 left: 11:13,  0.69 iters/sec]"
       ]
      },
      {
       "output_type": "stream",
       "stream": "stdout",
       "text": [
        "\r",
        "|#########-| 4486/4948  90% [elapsed: 1:48:41 left: 11:11,  0.69 iters/sec]"
       ]
      },
      {
       "output_type": "stream",
       "stream": "stdout",
       "text": [
        "\r",
        "|#########-| 4487/4948  90% [elapsed: 1:48:42 left: 11:10,  0.69 iters/sec]"
       ]
      },
      {
       "output_type": "stream",
       "stream": "stdout",
       "text": [
        "\r",
        "|#########-| 4488/4948  90% [elapsed: 1:48:47 left: 11:09,  0.69 iters/sec]"
       ]
      },
      {
       "output_type": "stream",
       "stream": "stdout",
       "text": [
        "\r",
        "|#########-| 4489/4948  90% [elapsed: 1:48:51 left: 11:07,  0.69 iters/sec]"
       ]
      },
      {
       "output_type": "stream",
       "stream": "stdout",
       "text": [
        "\r",
        "|#########-| 4490/4948  90% [elapsed: 1:48:54 left: 11:06,  0.69 iters/sec]"
       ]
      },
      {
       "output_type": "stream",
       "stream": "stdout",
       "text": [
        "\r",
        "|#########-| 4491/4948  90% [elapsed: 1:48:56 left: 11:05,  0.69 iters/sec]"
       ]
      },
      {
       "output_type": "stream",
       "stream": "stdout",
       "text": [
        "\r",
        "|#########-| 4492/4948  90% [elapsed: 1:49:00 left: 11:03,  0.69 iters/sec]"
       ]
      },
      {
       "output_type": "stream",
       "stream": "stdout",
       "text": [
        "\r",
        "|#########-| 4493/4948  90% [elapsed: 1:49:01 left: 11:02,  0.69 iters/sec]"
       ]
      },
      {
       "output_type": "stream",
       "stream": "stdout",
       "text": [
        "\r",
        "|#########-| 4494/4948  90% [elapsed: 1:49:03 left: 11:01,  0.69 iters/sec]"
       ]
      },
      {
       "output_type": "stream",
       "stream": "stdout",
       "text": [
        "\r",
        "|#########-| 4495/4948  90% [elapsed: 1:49:07 left: 10:59,  0.69 iters/sec]"
       ]
      },
      {
       "output_type": "stream",
       "stream": "stdout",
       "text": [
        "\r",
        "|#########-| 4496/4948  90% [elapsed: 1:49:13 left: 10:58,  0.69 iters/sec]"
       ]
      },
      {
       "output_type": "stream",
       "stream": "stdout",
       "text": [
        "\r",
        "|#########-| 4498/4948  90% [elapsed: 1:49:17 left: 10:56,  0.69 iters/sec]"
       ]
      },
      {
       "output_type": "stream",
       "stream": "stdout",
       "text": [
        "\r",
        "|#########-| 4499/4948  90% [elapsed: 1:49:22 left: 10:54,  0.69 iters/sec]"
       ]
      },
      {
       "output_type": "stream",
       "stream": "stdout",
       "text": [
        "\r",
        "|#########-| 4501/4948  90% [elapsed: 1:49:27 left: 10:52,  0.69 iters/sec]"
       ]
      },
      {
       "output_type": "stream",
       "stream": "stdout",
       "text": [
        "\r",
        "|#########-| 4502/4948  90% [elapsed: 1:49:32 left: 10:51,  0.68 iters/sec]"
       ]
      },
      {
       "output_type": "stream",
       "stream": "stdout",
       "text": [
        "\r",
        "|#########-| 4503/4948  91% [elapsed: 1:49:35 left: 10:49,  0.68 iters/sec]"
       ]
      },
      {
       "output_type": "stream",
       "stream": "stdout",
       "text": [
        "\r",
        "|#########-| 4504/4948  91% [elapsed: 1:49:40 left: 10:48,  0.68 iters/sec]"
       ]
      },
      {
       "output_type": "stream",
       "stream": "stdout",
       "text": [
        "\r",
        "|#########-| 4505/4948  91% [elapsed: 1:49:44 left: 10:47,  0.68 iters/sec]"
       ]
      },
      {
       "output_type": "stream",
       "stream": "stdout",
       "text": [
        "\r",
        "|#########-| 4506/4948  91% [elapsed: 1:49:47 left: 10:46,  0.68 iters/sec]"
       ]
      },
      {
       "output_type": "stream",
       "stream": "stdout",
       "text": [
        "\r",
        "|#########-| 4507/4948  91% [elapsed: 1:49:50 left: 10:44,  0.68 iters/sec]"
       ]
      },
      {
       "output_type": "stream",
       "stream": "stdout",
       "text": [
        "\r",
        "|#########-| 4508/4948  91% [elapsed: 1:49:56 left: 10:43,  0.68 iters/sec]"
       ]
      },
      {
       "output_type": "stream",
       "stream": "stdout",
       "text": [
        "\r",
        "|#########-| 4509/4948  91% [elapsed: 1:50:00 left: 10:42,  0.68 iters/sec]"
       ]
      },
      {
       "output_type": "stream",
       "stream": "stdout",
       "text": [
        "\r",
        "|#########-| 4510/4948  91% [elapsed: 1:50:04 left: 10:41,  0.68 iters/sec]"
       ]
      },
      {
       "output_type": "stream",
       "stream": "stdout",
       "text": [
        "\r",
        "|#########-| 4511/4948  91% [elapsed: 1:50:09 left: 10:40,  0.68 iters/sec]"
       ]
      },
      {
       "output_type": "stream",
       "stream": "stdout",
       "text": [
        "\r",
        "|#########-| 4512/4948  91% [elapsed: 1:50:14 left: 10:39,  0.68 iters/sec]"
       ]
      },
      {
       "output_type": "stream",
       "stream": "stdout",
       "text": [
        "\r",
        "|#########-| 4513/4948  91% [elapsed: 1:50:16 left: 10:37,  0.68 iters/sec]"
       ]
      },
      {
       "output_type": "stream",
       "stream": "stdout",
       "text": [
        "\r",
        "|#########-| 4514/4948  91% [elapsed: 1:50:18 left: 10:36,  0.68 iters/sec]"
       ]
      },
      {
       "output_type": "stream",
       "stream": "stdout",
       "text": [
        "\r",
        "|#########-| 4515/4948  91% [elapsed: 1:50:22 left: 10:35,  0.68 iters/sec]"
       ]
      },
      {
       "output_type": "stream",
       "stream": "stdout",
       "text": [
        "\r",
        "|#########-| 4516/4948  91% [elapsed: 1:50:26 left: 10:33,  0.68 iters/sec]"
       ]
      },
      {
       "output_type": "stream",
       "stream": "stdout",
       "text": [
        "\r",
        "|#########-| 4517/4948  91% [elapsed: 1:50:30 left: 10:32,  0.68 iters/sec]"
       ]
      },
      {
       "output_type": "stream",
       "stream": "stdout",
       "text": [
        "\r",
        "|#########-| 4518/4948  91% [elapsed: 1:50:35 left: 10:31,  0.68 iters/sec]"
       ]
      },
      {
       "output_type": "stream",
       "stream": "stdout",
       "text": [
        "\r",
        "|#########-| 4519/4948  91% [elapsed: 1:50:39 left: 10:30,  0.68 iters/sec]"
       ]
      },
      {
       "output_type": "stream",
       "stream": "stdout",
       "text": [
        "\r",
        "|#########-| 4520/4948  91% [elapsed: 1:50:45 left: 10:29,  0.68 iters/sec]"
       ]
      },
      {
       "output_type": "stream",
       "stream": "stdout",
       "text": [
        "\r",
        "|#########-| 4521/4948  91% [elapsed: 1:50:49 left: 10:28,  0.68 iters/sec]"
       ]
      },
      {
       "output_type": "stream",
       "stream": "stdout",
       "text": [
        "\r",
        "|#########-| 4522/4948  91% [elapsed: 1:50:54 left: 10:26,  0.68 iters/sec]"
       ]
      },
      {
       "output_type": "stream",
       "stream": "stdout",
       "text": [
        "\r",
        "|#########-| 4523/4948  91% [elapsed: 1:50:58 left: 10:25,  0.68 iters/sec]"
       ]
      },
      {
       "output_type": "stream",
       "stream": "stdout",
       "text": [
        "\r",
        "|#########-| 4524/4948  91% [elapsed: 1:51:03 left: 10:24,  0.68 iters/sec]"
       ]
      },
      {
       "output_type": "stream",
       "stream": "stdout",
       "text": [
        "\r",
        "|#########-| 4525/4948  91% [elapsed: 1:51:06 left: 10:23,  0.68 iters/sec]"
       ]
      },
      {
       "output_type": "stream",
       "stream": "stdout",
       "text": [
        "\r",
        "|#########-| 4526/4948  91% [elapsed: 1:51:10 left: 10:21,  0.68 iters/sec]"
       ]
      },
      {
       "output_type": "stream",
       "stream": "stdout",
       "text": [
        "\r",
        "|#########-| 4527/4948  91% [elapsed: 1:51:15 left: 10:20,  0.68 iters/sec]"
       ]
      },
      {
       "output_type": "stream",
       "stream": "stdout",
       "text": [
        "\r",
        "|#########-| 4528/4948  91% [elapsed: 1:51:19 left: 10:19,  0.68 iters/sec]"
       ]
      },
      {
       "output_type": "stream",
       "stream": "stdout",
       "text": [
        "\r",
        "|#########-| 4529/4948  91% [elapsed: 1:51:21 left: 10:18,  0.68 iters/sec]"
       ]
      },
      {
       "output_type": "stream",
       "stream": "stdout",
       "text": [
        "\r",
        "|#########-| 4530/4948  91% [elapsed: 1:51:25 left: 10:16,  0.68 iters/sec]"
       ]
      },
      {
       "output_type": "stream",
       "stream": "stdout",
       "text": [
        "\r",
        "|#########-| 4531/4948  91% [elapsed: 1:51:28 left: 10:15,  0.68 iters/sec]"
       ]
      },
      {
       "output_type": "stream",
       "stream": "stdout",
       "text": [
        "\r",
        "|#########-| 4532/4948  91% [elapsed: 1:51:30 left: 10:14,  0.68 iters/sec]"
       ]
      },
      {
       "output_type": "stream",
       "stream": "stdout",
       "text": [
        "\r",
        "|#########-| 4533/4948  91% [elapsed: 1:51:35 left: 10:12,  0.68 iters/sec]"
       ]
      },
      {
       "output_type": "stream",
       "stream": "stdout",
       "text": [
        "\r",
        "|#########-| 4534/4948  91% [elapsed: 1:51:38 left: 10:11,  0.68 iters/sec]"
       ]
      },
      {
       "output_type": "stream",
       "stream": "stdout",
       "text": [
        "\r",
        "|#########-| 4535/4948  91% [elapsed: 1:51:42 left: 10:10,  0.68 iters/sec]"
       ]
      },
      {
       "output_type": "stream",
       "stream": "stdout",
       "text": [
        "\r",
        "|#########-| 4536/4948  91% [elapsed: 1:51:45 left: 10:09,  0.68 iters/sec]"
       ]
      },
      {
       "output_type": "stream",
       "stream": "stdout",
       "text": [
        "\r",
        "|#########-| 4537/4948  91% [elapsed: 1:51:49 left: 10:07,  0.68 iters/sec]"
       ]
      },
      {
       "output_type": "stream",
       "stream": "stdout",
       "text": [
        "\r",
        "|#########-| 4538/4948  91% [elapsed: 1:51:53 left: 10:06,  0.68 iters/sec]"
       ]
      },
      {
       "output_type": "stream",
       "stream": "stdout",
       "text": [
        "\r",
        "|#########-| 4539/4948  91% [elapsed: 1:51:56 left: 10:05,  0.68 iters/sec]"
       ]
      },
      {
       "output_type": "stream",
       "stream": "stdout",
       "text": [
        "\r",
        "|#########-| 4540/4948  91% [elapsed: 1:51:57 left: 10:03,  0.68 iters/sec]"
       ]
      },
      {
       "output_type": "stream",
       "stream": "stdout",
       "text": [
        "\r",
        "|#########-| 4541/4948  91% [elapsed: 1:51:58 left: 10:02,  0.68 iters/sec]"
       ]
      },
      {
       "output_type": "stream",
       "stream": "stdout",
       "text": [
        "\r",
        "|#########-| 4542/4948  91% [elapsed: 1:52:03 left: 10:00,  0.68 iters/sec]"
       ]
      },
      {
       "output_type": "stream",
       "stream": "stdout",
       "text": [
        "\r",
        "|#########-| 4543/4948  91% [elapsed: 1:52:07 left: 09:59,  0.68 iters/sec]"
       ]
      },
      {
       "output_type": "stream",
       "stream": "stdout",
       "text": [
        "\r",
        "|#########-| 4545/4948  91% [elapsed: 1:52:10 left: 09:56,  0.68 iters/sec]"
       ]
      },
      {
       "output_type": "stream",
       "stream": "stdout",
       "text": [
        "\r",
        "|#########-| 4546/4948  91% [elapsed: 1:52:13 left: 09:55,  0.68 iters/sec]"
       ]
      },
      {
       "output_type": "stream",
       "stream": "stdout",
       "text": [
        "\r",
        "|#########-| 4547/4948  91% [elapsed: 1:52:17 left: 09:54,  0.67 iters/sec]"
       ]
      },
      {
       "output_type": "stream",
       "stream": "stdout",
       "text": [
        "\r",
        "|#########-| 4548/4948  91% [elapsed: 1:52:22 left: 09:52,  0.67 iters/sec]"
       ]
      },
      {
       "output_type": "stream",
       "stream": "stdout",
       "text": [
        "\r",
        "|#########-| 4551/4948  91% [elapsed: 1:52:26 left: 09:48,  0.67 iters/sec]"
       ]
      },
      {
       "output_type": "stream",
       "stream": "stdout",
       "text": [
        "\r",
        "|#########-| 4552/4948  91% [elapsed: 1:52:30 left: 09:47,  0.67 iters/sec]"
       ]
      },
      {
       "output_type": "stream",
       "stream": "stdout",
       "text": [
        "\r",
        "|#########-| 4554/4948  92% [elapsed: 1:52:33 left: 09:44,  0.67 iters/sec]"
       ]
      },
      {
       "output_type": "stream",
       "stream": "stdout",
       "text": [
        "\r",
        "|#########-| 4555/4948  92% [elapsed: 1:52:37 left: 09:43,  0.67 iters/sec]"
       ]
      },
      {
       "output_type": "stream",
       "stream": "stdout",
       "text": [
        "\r",
        "|#########-| 4556/4948  92% [elapsed: 1:52:42 left: 09:41,  0.67 iters/sec]"
       ]
      },
      {
       "output_type": "stream",
       "stream": "stdout",
       "text": [
        "\r",
        "|#########-| 4557/4948  92% [elapsed: 1:52:46 left: 09:40,  0.67 iters/sec]"
       ]
      },
      {
       "output_type": "stream",
       "stream": "stdout",
       "text": [
        "\r",
        "|#########-| 4558/4948  92% [elapsed: 1:52:49 left: 09:39,  0.67 iters/sec]"
       ]
      },
      {
       "output_type": "stream",
       "stream": "stdout",
       "text": [
        "\r",
        "|#########-| 4559/4948  92% [elapsed: 1:52:53 left: 09:37,  0.67 iters/sec]"
       ]
      },
      {
       "output_type": "stream",
       "stream": "stdout",
       "text": [
        "\r",
        "|#########-| 4560/4948  92% [elapsed: 1:52:57 left: 09:36,  0.67 iters/sec]"
       ]
      },
      {
       "output_type": "stream",
       "stream": "stdout",
       "text": [
        "\r",
        "|#########-| 4561/4948  92% [elapsed: 1:53:01 left: 09:35,  0.67 iters/sec]"
       ]
      },
      {
       "output_type": "stream",
       "stream": "stdout",
       "text": [
        "\r",
        "|#########-| 4562/4948  92% [elapsed: 1:53:04 left: 09:34,  0.67 iters/sec]"
       ]
      },
      {
       "output_type": "stream",
       "stream": "stdout",
       "text": [
        "\r",
        "|#########-| 4563/4948  92% [elapsed: 1:53:09 left: 09:32,  0.67 iters/sec]"
       ]
      },
      {
       "output_type": "stream",
       "stream": "stdout",
       "text": [
        "\r",
        "|#########-| 4564/4948  92% [elapsed: 1:53:14 left: 09:31,  0.67 iters/sec]"
       ]
      },
      {
       "output_type": "stream",
       "stream": "stdout",
       "text": [
        "\r",
        "|#########-| 4565/4948  92% [elapsed: 1:53:21 left: 09:30,  0.67 iters/sec]"
       ]
      },
      {
       "output_type": "stream",
       "stream": "stdout",
       "text": [
        "\r",
        "|#########-| 4566/4948  92% [elapsed: 1:53:25 left: 09:29,  0.67 iters/sec]"
       ]
      },
      {
       "output_type": "stream",
       "stream": "stdout",
       "text": [
        "\r",
        "|#########-| 4567/4948  92% [elapsed: 1:53:26 left: 09:27,  0.67 iters/sec]"
       ]
      },
      {
       "output_type": "stream",
       "stream": "stdout",
       "text": [
        "\r",
        "|#########-| 4568/4948  92% [elapsed: 1:53:31 left: 09:26,  0.67 iters/sec]"
       ]
      },
      {
       "output_type": "stream",
       "stream": "stdout",
       "text": [
        "\r",
        "|#########-| 4569/4948  92% [elapsed: 1:53:36 left: 09:25,  0.67 iters/sec]"
       ]
      },
      {
       "output_type": "stream",
       "stream": "stdout",
       "text": [
        "\r",
        "|#########-| 4570/4948  92% [elapsed: 1:53:41 left: 09:24,  0.67 iters/sec]"
       ]
      },
      {
       "output_type": "stream",
       "stream": "stdout",
       "text": [
        "\r",
        "|#########-| 4571/4948  92% [elapsed: 1:53:45 left: 09:22,  0.67 iters/sec]"
       ]
      },
      {
       "output_type": "stream",
       "stream": "stdout",
       "text": [
        "\r",
        "|#########-| 4572/4948  92% [elapsed: 1:53:50 left: 09:21,  0.67 iters/sec]"
       ]
      },
      {
       "output_type": "stream",
       "stream": "stdout",
       "text": [
        "\r",
        "|#########-| 4573/4948  92% [elapsed: 1:53:54 left: 09:20,  0.67 iters/sec]"
       ]
      },
      {
       "output_type": "stream",
       "stream": "stdout",
       "text": [
        "\r",
        "|#########-| 4574/4948  92% [elapsed: 1:53:58 left: 09:19,  0.67 iters/sec]"
       ]
      },
      {
       "output_type": "stream",
       "stream": "stdout",
       "text": [
        "\r",
        "|#########-| 4575/4948  92% [elapsed: 1:54:02 left: 09:17,  0.67 iters/sec]"
       ]
      },
      {
       "output_type": "stream",
       "stream": "stdout",
       "text": [
        "\r",
        "|#########-| 4576/4948  92% [elapsed: 1:54:05 left: 09:16,  0.67 iters/sec]"
       ]
      },
      {
       "output_type": "stream",
       "stream": "stdout",
       "text": [
        "\r",
        "|#########-| 4578/4948  92% [elapsed: 1:54:09 left: 09:13,  0.67 iters/sec]"
       ]
      },
      {
       "output_type": "stream",
       "stream": "stdout",
       "text": [
        "\r",
        "|#########-| 4579/4948  92% [elapsed: 1:54:12 left: 09:12,  0.67 iters/sec]"
       ]
      },
      {
       "output_type": "stream",
       "stream": "stdout",
       "text": [
        "\r",
        "|#########-| 4580/4948  92% [elapsed: 1:54:17 left: 09:10,  0.67 iters/sec]"
       ]
      },
      {
       "output_type": "stream",
       "stream": "stdout",
       "text": [
        "\r",
        "|#########-| 4581/4948  92% [elapsed: 1:54:23 left: 09:09,  0.67 iters/sec]"
       ]
      },
      {
       "output_type": "stream",
       "stream": "stdout",
       "text": [
        "\r",
        "|#########-| 4582/4948  92% [elapsed: 1:54:27 left: 09:08,  0.67 iters/sec]"
       ]
      },
      {
       "output_type": "stream",
       "stream": "stdout",
       "text": [
        "\r",
        "|#########-| 4583/4948  92% [elapsed: 1:54:30 left: 09:07,  0.67 iters/sec]"
       ]
      },
      {
       "output_type": "stream",
       "stream": "stdout",
       "text": [
        "\r",
        "|#########-| 4584/4948  92% [elapsed: 1:54:35 left: 09:05,  0.67 iters/sec]"
       ]
      },
      {
       "output_type": "stream",
       "stream": "stdout",
       "text": [
        "\r",
        "|#########-| 4585/4948  92% [elapsed: 1:54:39 left: 09:04,  0.67 iters/sec]"
       ]
      },
      {
       "output_type": "stream",
       "stream": "stdout",
       "text": [
        "\r",
        "|#########-| 4586/4948  92% [elapsed: 1:54:43 left: 09:03,  0.67 iters/sec]"
       ]
      },
      {
       "output_type": "stream",
       "stream": "stdout",
       "text": [
        "\r",
        "|#########-| 4587/4948  92% [elapsed: 1:54:47 left: 09:02,  0.67 iters/sec]"
       ]
      },
      {
       "output_type": "stream",
       "stream": "stdout",
       "text": [
        "\r",
        "|#########-| 4588/4948  92% [elapsed: 1:54:51 left: 09:00,  0.67 iters/sec]"
       ]
      },
      {
       "output_type": "stream",
       "stream": "stdout",
       "text": [
        "\r",
        "|#########-| 4589/4948  92% [elapsed: 1:54:55 left: 08:59,  0.67 iters/sec]"
       ]
      },
      {
       "output_type": "stream",
       "stream": "stdout",
       "text": [
        "\r",
        "|#########-| 4590/4948  92% [elapsed: 1:54:59 left: 08:58,  0.67 iters/sec]"
       ]
      },
      {
       "output_type": "stream",
       "stream": "stdout",
       "text": [
        "\r",
        "|#########-| 4591/4948  92% [elapsed: 1:55:03 left: 08:56,  0.67 iters/sec]"
       ]
      },
      {
       "output_type": "stream",
       "stream": "stdout",
       "text": [
        "\r",
        "|#########-| 4592/4948  92% [elapsed: 1:55:07 left: 08:55,  0.66 iters/sec]"
       ]
      },
      {
       "output_type": "stream",
       "stream": "stdout",
       "text": [
        "\r",
        "|#########-| 4593/4948  92% [elapsed: 1:55:10 left: 08:54,  0.66 iters/sec]"
       ]
      },
      {
       "output_type": "stream",
       "stream": "stdout",
       "text": [
        "\r",
        "|#########-| 4594/4948  92% [elapsed: 1:55:14 left: 08:52,  0.66 iters/sec]"
       ]
      },
      {
       "output_type": "stream",
       "stream": "stdout",
       "text": [
        "\r",
        "|#########-| 4595/4948  92% [elapsed: 1:55:18 left: 08:51,  0.66 iters/sec]"
       ]
      },
      {
       "output_type": "stream",
       "stream": "stdout",
       "text": [
        "\r",
        "|#########-| 4596/4948  92% [elapsed: 1:55:23 left: 08:50,  0.66 iters/sec]"
       ]
      },
      {
       "output_type": "stream",
       "stream": "stdout",
       "text": [
        "\r",
        "|#########-| 4597/4948  92% [elapsed: 1:55:27 left: 08:48,  0.66 iters/sec]"
       ]
      },
      {
       "output_type": "stream",
       "stream": "stdout",
       "text": [
        "\r",
        "|#########-| 4598/4948  92% [elapsed: 1:55:32 left: 08:47,  0.66 iters/sec]"
       ]
      },
      {
       "output_type": "stream",
       "stream": "stdout",
       "text": [
        "\r",
        "|#########-| 4599/4948  92% [elapsed: 1:55:36 left: 08:46,  0.66 iters/sec]"
       ]
      },
      {
       "output_type": "stream",
       "stream": "stdout",
       "text": [
        "\r",
        "|#########-| 4600/4948  92% [elapsed: 1:55:40 left: 08:45,  0.66 iters/sec]"
       ]
      },
      {
       "output_type": "stream",
       "stream": "stdout",
       "text": [
        "\r",
        "|#########-| 4601/4948  92% [elapsed: 1:55:44 left: 08:43,  0.66 iters/sec]"
       ]
      },
      {
       "output_type": "stream",
       "stream": "stdout",
       "text": [
        "\r",
        "|#########-| 4602/4948  93% [elapsed: 1:55:48 left: 08:42,  0.66 iters/sec]"
       ]
      },
      {
       "output_type": "stream",
       "stream": "stdout",
       "text": [
        "\r",
        "|#########-| 4603/4948  93% [elapsed: 1:55:51 left: 08:41,  0.66 iters/sec]"
       ]
      },
      {
       "output_type": "stream",
       "stream": "stdout",
       "text": [
        "\r",
        "|#########-| 4605/4948  93% [elapsed: 1:55:56 left: 08:38,  0.66 iters/sec]"
       ]
      },
      {
       "output_type": "stream",
       "stream": "stdout",
       "text": [
        "\r",
        "|#########-| 4606/4948  93% [elapsed: 1:56:00 left: 08:36,  0.66 iters/sec]"
       ]
      },
      {
       "output_type": "stream",
       "stream": "stdout",
       "text": [
        "\r",
        "|#########-| 4607/4948  93% [elapsed: 1:56:02 left: 08:35,  0.66 iters/sec]"
       ]
      },
      {
       "output_type": "stream",
       "stream": "stdout",
       "text": [
        "\r",
        "|#########-| 4608/4948  93% [elapsed: 1:56:06 left: 08:34,  0.66 iters/sec]"
       ]
      },
      {
       "output_type": "stream",
       "stream": "stdout",
       "text": [
        "\r",
        "|#########-| 4609/4948  93% [elapsed: 1:56:09 left: 08:32,  0.66 iters/sec]"
       ]
      },
      {
       "output_type": "stream",
       "stream": "stdout",
       "text": [
        "\r",
        "|#########-| 4610/4948  93% [elapsed: 1:56:12 left: 08:31,  0.66 iters/sec]"
       ]
      },
      {
       "output_type": "stream",
       "stream": "stdout",
       "text": [
        "\r",
        "|#########-| 4611/4948  93% [elapsed: 1:56:17 left: 08:29,  0.66 iters/sec]"
       ]
      },
      {
       "output_type": "stream",
       "stream": "stdout",
       "text": [
        "\r",
        "|#########-| 4612/4948  93% [elapsed: 1:56:21 left: 08:28,  0.66 iters/sec]"
       ]
      },
      {
       "output_type": "stream",
       "stream": "stdout",
       "text": [
        "\r",
        "|#########-| 4613/4948  93% [elapsed: 1:56:25 left: 08:27,  0.66 iters/sec]"
       ]
      },
      {
       "output_type": "stream",
       "stream": "stdout",
       "text": [
        "\r",
        "|#########-| 4614/4948  93% [elapsed: 1:56:28 left: 08:25,  0.66 iters/sec]"
       ]
      },
      {
       "output_type": "stream",
       "stream": "stdout",
       "text": [
        "\r",
        "|#########-| 4615/4948  93% [elapsed: 1:56:30 left: 08:24,  0.66 iters/sec]"
       ]
      },
      {
       "output_type": "stream",
       "stream": "stdout",
       "text": [
        "\r",
        "|#########-| 4616/4948  93% [elapsed: 1:56:31 left: 08:22,  0.66 iters/sec]"
       ]
      },
      {
       "output_type": "stream",
       "stream": "stdout",
       "text": [
        "\r",
        "|#########-| 4617/4948  93% [elapsed: 1:56:37 left: 08:21,  0.66 iters/sec]"
       ]
      },
      {
       "output_type": "stream",
       "stream": "stdout",
       "text": [
        "\r",
        "|#########-| 4618/4948  93% [elapsed: 1:56:41 left: 08:20,  0.66 iters/sec]"
       ]
      },
      {
       "output_type": "stream",
       "stream": "stdout",
       "text": [
        "\r",
        "|#########-| 4619/4948  93% [elapsed: 1:56:46 left: 08:19,  0.66 iters/sec]"
       ]
      },
      {
       "output_type": "stream",
       "stream": "stdout",
       "text": [
        "\r",
        "|#########-| 4620/4948  93% [elapsed: 1:56:52 left: 08:17,  0.66 iters/sec]"
       ]
      },
      {
       "output_type": "stream",
       "stream": "stdout",
       "text": [
        "\r",
        "|#########-| 4621/4948  93% [elapsed: 1:56:55 left: 08:16,  0.66 iters/sec]"
       ]
      },
      {
       "output_type": "stream",
       "stream": "stdout",
       "text": [
        "\r",
        "|#########-| 4624/4948  93% [elapsed: 1:56:59 left: 08:11,  0.66 iters/sec]"
       ]
      },
      {
       "output_type": "stream",
       "stream": "stdout",
       "text": [
        "\r",
        "|#########-| 4625/4948  93% [elapsed: 1:57:04 left: 08:10,  0.66 iters/sec]"
       ]
      },
      {
       "output_type": "stream",
       "stream": "stdout",
       "text": [
        "\r",
        "|#########-| 4626/4948  93% [elapsed: 1:57:09 left: 08:09,  0.66 iters/sec]"
       ]
      },
      {
       "output_type": "stream",
       "stream": "stdout",
       "text": [
        "\r",
        "|#########-| 4627/4948  93% [elapsed: 1:57:12 left: 08:07,  0.66 iters/sec]"
       ]
      },
      {
       "output_type": "stream",
       "stream": "stdout",
       "text": [
        "\r",
        "|#########-| 4628/4948  93% [elapsed: 1:57:16 left: 08:06,  0.66 iters/sec]"
       ]
      },
      {
       "output_type": "stream",
       "stream": "stdout",
       "text": [
        "\r",
        "|#########-| 4629/4948  93% [elapsed: 1:57:20 left: 08:05,  0.66 iters/sec]"
       ]
      },
      {
       "output_type": "stream",
       "stream": "stdout",
       "text": [
        "\r",
        "|#########-| 4630/4948  93% [elapsed: 1:57:23 left: 08:03,  0.66 iters/sec]"
       ]
      },
      {
       "output_type": "stream",
       "stream": "stdout",
       "text": [
        "\r",
        "|#########-| 4632/4948  93% [elapsed: 1:57:27 left: 08:00,  0.66 iters/sec]"
       ]
      },
      {
       "output_type": "stream",
       "stream": "stdout",
       "text": [
        "\r",
        "|#########-| 4633/4948  93% [elapsed: 1:57:32 left: 07:59,  0.66 iters/sec]"
       ]
      },
      {
       "output_type": "stream",
       "stream": "stdout",
       "text": [
        "\r",
        "|#########-| 4634/4948  93% [elapsed: 1:57:35 left: 07:58,  0.66 iters/sec]"
       ]
      },
      {
       "output_type": "stream",
       "stream": "stdout",
       "text": [
        "\r",
        "|#########-| 4635/4948  93% [elapsed: 1:57:40 left: 07:56,  0.66 iters/sec]"
       ]
      },
      {
       "output_type": "stream",
       "stream": "stdout",
       "text": [
        "\r",
        "|#########-| 4636/4948  93% [elapsed: 1:57:42 left: 07:55,  0.66 iters/sec]"
       ]
      },
      {
       "output_type": "stream",
       "stream": "stdout",
       "text": [
        "\r",
        "|#########-| 4637/4948  93% [elapsed: 1:57:44 left: 07:53,  0.66 iters/sec]"
       ]
      },
      {
       "output_type": "stream",
       "stream": "stdout",
       "text": [
        "\r",
        "|#########-| 4638/4948  93% [elapsed: 1:57:48 left: 07:52,  0.66 iters/sec]"
       ]
      },
      {
       "output_type": "stream",
       "stream": "stdout",
       "text": [
        "\r",
        "|#########-| 4639/4948  93% [elapsed: 1:57:53 left: 07:51,  0.66 iters/sec]"
       ]
      },
      {
       "output_type": "stream",
       "stream": "stdout",
       "text": [
        "\r",
        "|#########-| 4640/4948  93% [elapsed: 1:57:57 left: 07:49,  0.66 iters/sec]"
       ]
      },
      {
       "output_type": "stream",
       "stream": "stdout",
       "text": [
        "\r",
        "|#########-| 4641/4948  93% [elapsed: 1:57:59 left: 07:48,  0.66 iters/sec]"
       ]
      },
      {
       "output_type": "stream",
       "stream": "stdout",
       "text": [
        "\r",
        "|#########-| 4642/4948  93% [elapsed: 1:58:04 left: 07:47,  0.66 iters/sec]"
       ]
      },
      {
       "output_type": "stream",
       "stream": "stdout",
       "text": [
        "\r",
        "|#########-| 4643/4948  93% [elapsed: 1:58:08 left: 07:45,  0.65 iters/sec]"
       ]
      },
      {
       "output_type": "stream",
       "stream": "stdout",
       "text": [
        "\r",
        "|#########-| 4644/4948  93% [elapsed: 1:58:10 left: 07:44,  0.65 iters/sec]"
       ]
      },
      {
       "output_type": "stream",
       "stream": "stdout",
       "text": [
        "\r",
        "|#########-| 4645/4948  93% [elapsed: 1:58:12 left: 07:42,  0.65 iters/sec]"
       ]
      },
      {
       "output_type": "stream",
       "stream": "stdout",
       "text": [
        "\r",
        "|#########-| 4646/4948  93% [elapsed: 1:58:14 left: 07:41,  0.65 iters/sec]"
       ]
      },
      {
       "output_type": "stream",
       "stream": "stdout",
       "text": [
        "\r",
        "|#########-| 4647/4948  93% [elapsed: 1:58:16 left: 07:39,  0.65 iters/sec]"
       ]
      },
      {
       "output_type": "stream",
       "stream": "stdout",
       "text": [
        "\r",
        "|#########-| 4648/4948  93% [elapsed: 1:58:16 left: 07:38,  0.65 iters/sec]"
       ]
      },
      {
       "output_type": "stream",
       "stream": "stdout",
       "text": [
        "\r",
        "|#########-| 4649/4948  93% [elapsed: 1:58:18 left: 07:36,  0.65 iters/sec]"
       ]
      },
      {
       "output_type": "stream",
       "stream": "stdout",
       "text": [
        "\r",
        "|#########-| 4650/4948  93% [elapsed: 1:58:20 left: 07:35,  0.65 iters/sec]"
       ]
      },
      {
       "output_type": "stream",
       "stream": "stdout",
       "text": [
        "\r",
        "|#########-| 4651/4948  93% [elapsed: 1:58:21 left: 07:33,  0.65 iters/sec]"
       ]
      },
      {
       "output_type": "stream",
       "stream": "stdout",
       "text": [
        "\r",
        "|#########-| 4652/4948  94% [elapsed: 1:58:24 left: 07:32,  0.65 iters/sec]"
       ]
      },
      {
       "output_type": "stream",
       "stream": "stdout",
       "text": [
        "\r",
        "|#########-| 4653/4948  94% [elapsed: 1:58:27 left: 07:30,  0.65 iters/sec]"
       ]
      },
      {
       "output_type": "stream",
       "stream": "stdout",
       "text": [
        "\r",
        "|#########-| 4654/4948  94% [elapsed: 1:58:31 left: 07:29,  0.65 iters/sec]"
       ]
      },
      {
       "output_type": "stream",
       "stream": "stdout",
       "text": [
        "\r",
        "|#########-| 4656/4948  94% [elapsed: 1:58:36 left: 07:26,  0.65 iters/sec]"
       ]
      },
      {
       "output_type": "stream",
       "stream": "stdout",
       "text": [
        "\r",
        "|#########-| 4657/4948  94% [elapsed: 1:58:39 left: 07:24,  0.65 iters/sec]"
       ]
      },
      {
       "output_type": "stream",
       "stream": "stdout",
       "text": [
        "\r",
        "|#########-| 4658/4948  94% [elapsed: 1:58:42 left: 07:23,  0.65 iters/sec]"
       ]
      },
      {
       "output_type": "stream",
       "stream": "stdout",
       "text": [
        "\r",
        "|#########-| 4659/4948  94% [elapsed: 1:58:46 left: 07:22,  0.65 iters/sec]"
       ]
      },
      {
       "output_type": "stream",
       "stream": "stdout",
       "text": [
        "\r",
        "|#########-| 4661/4948  94% [elapsed: 1:58:50 left: 07:19,  0.65 iters/sec]"
       ]
      },
      {
       "output_type": "stream",
       "stream": "stdout",
       "text": [
        "\r",
        "|#########-| 4662/4948  94% [elapsed: 1:58:54 left: 07:17,  0.65 iters/sec]"
       ]
      },
      {
       "output_type": "stream",
       "stream": "stdout",
       "text": [
        "\r",
        "|#########-| 4663/4948  94% [elapsed: 1:58:56 left: 07:16,  0.65 iters/sec]"
       ]
      },
      {
       "output_type": "stream",
       "stream": "stdout",
       "text": [
        "\r",
        "|#########-| 4664/4948  94% [elapsed: 1:58:57 left: 07:14,  0.65 iters/sec]"
       ]
      },
      {
       "output_type": "stream",
       "stream": "stdout",
       "text": [
        "\r",
        "|#########-| 4666/4948  94% [elapsed: 1:58:59 left: 07:11,  0.65 iters/sec]"
       ]
      },
      {
       "output_type": "stream",
       "stream": "stdout",
       "text": [
        "\r",
        "|#########-| 4667/4948  94% [elapsed: 1:59:03 left: 07:10,  0.65 iters/sec]"
       ]
      },
      {
       "output_type": "stream",
       "stream": "stdout",
       "text": [
        "\r",
        "|#########-| 4668/4948  94% [elapsed: 1:59:07 left: 07:08,  0.65 iters/sec]"
       ]
      },
      {
       "output_type": "stream",
       "stream": "stdout",
       "text": [
        "\r",
        "|#########-| 4669/4948  94% [elapsed: 1:59:08 left: 07:07,  0.65 iters/sec]"
       ]
      },
      {
       "output_type": "stream",
       "stream": "stdout",
       "text": [
        "\r",
        "|#########-| 4670/4948  94% [elapsed: 1:59:12 left: 07:05,  0.65 iters/sec]"
       ]
      },
      {
       "output_type": "stream",
       "stream": "stdout",
       "text": [
        "\r",
        "|#########-| 4671/4948  94% [elapsed: 1:59:16 left: 07:04,  0.65 iters/sec]"
       ]
      },
      {
       "output_type": "stream",
       "stream": "stdout",
       "text": [
        "\r",
        "|#########-| 4672/4948  94% [elapsed: 1:59:20 left: 07:02,  0.65 iters/sec]"
       ]
      },
      {
       "output_type": "stream",
       "stream": "stdout",
       "text": [
        "\r",
        "|#########-| 4673/4948  94% [elapsed: 1:59:24 left: 07:01,  0.65 iters/sec]"
       ]
      },
      {
       "output_type": "stream",
       "stream": "stdout",
       "text": [
        "\r",
        "|#########-| 4674/4948  94% [elapsed: 1:59:28 left: 07:00,  0.65 iters/sec]"
       ]
      },
      {
       "output_type": "stream",
       "stream": "stdout",
       "text": [
        "\r",
        "|#########-| 4675/4948  94% [elapsed: 1:59:31 left: 06:58,  0.65 iters/sec]"
       ]
      },
      {
       "output_type": "stream",
       "stream": "stdout",
       "text": [
        "\r",
        "|#########-| 4676/4948  94% [elapsed: 1:59:36 left: 06:57,  0.65 iters/sec]"
       ]
      },
      {
       "output_type": "stream",
       "stream": "stdout",
       "text": [
        "\r",
        "|#########-| 4677/4948  94% [elapsed: 1:59:39 left: 06:56,  0.65 iters/sec]"
       ]
      },
      {
       "output_type": "stream",
       "stream": "stdout",
       "text": [
        "\r",
        "|#########-| 4678/4948  94% [elapsed: 1:59:43 left: 06:54,  0.65 iters/sec]"
       ]
      },
      {
       "output_type": "stream",
       "stream": "stdout",
       "text": [
        "\r",
        "|#########-| 4679/4948  94% [elapsed: 1:59:46 left: 06:53,  0.65 iters/sec]"
       ]
      },
      {
       "output_type": "stream",
       "stream": "stdout",
       "text": [
        "\r",
        "|#########-| 4680/4948  94% [elapsed: 1:59:49 left: 06:51,  0.65 iters/sec]"
       ]
      },
      {
       "output_type": "stream",
       "stream": "stdout",
       "text": [
        "\r",
        "|#########-| 4681/4948  94% [elapsed: 1:59:53 left: 06:50,  0.65 iters/sec]"
       ]
      },
      {
       "output_type": "stream",
       "stream": "stdout",
       "text": [
        "\r",
        "|#########-| 4682/4948  94% [elapsed: 1:59:56 left: 06:48,  0.65 iters/sec]"
       ]
      },
      {
       "output_type": "stream",
       "stream": "stdout",
       "text": [
        "\r",
        "|#########-| 4683/4948  94% [elapsed: 2:00:01 left: 06:47,  0.65 iters/sec]"
       ]
      },
      {
       "output_type": "stream",
       "stream": "stdout",
       "text": [
        "\r",
        "|#########-| 4684/4948  94% [elapsed: 2:00:02 left: 06:45,  0.65 iters/sec]"
       ]
      },
      {
       "output_type": "stream",
       "stream": "stdout",
       "text": [
        "\r",
        "|#########-| 4685/4948  94% [elapsed: 2:00:06 left: 06:44,  0.65 iters/sec]"
       ]
      },
      {
       "output_type": "stream",
       "stream": "stdout",
       "text": [
        "\r",
        "|#########-| 4686/4948  94% [elapsed: 2:00:09 left: 06:43,  0.65 iters/sec]"
       ]
      },
      {
       "output_type": "stream",
       "stream": "stdout",
       "text": [
        "\r",
        "|#########-| 4687/4948  94% [elapsed: 2:00:13 left: 06:41,  0.65 iters/sec]"
       ]
      },
      {
       "output_type": "stream",
       "stream": "stdout",
       "text": [
        "\r",
        "|#########-| 4688/4948  94% [elapsed: 2:00:15 left: 06:40,  0.65 iters/sec]"
       ]
      },
      {
       "output_type": "stream",
       "stream": "stdout",
       "text": [
        "\r",
        "|#########-| 4689/4948  94% [elapsed: 2:00:16 left: 06:38,  0.65 iters/sec]"
       ]
      },
      {
       "output_type": "stream",
       "stream": "stdout",
       "text": [
        "\r",
        "|#########-| 4691/4948  94% [elapsed: 2:00:19 left: 06:35,  0.65 iters/sec]"
       ]
      },
      {
       "output_type": "stream",
       "stream": "stdout",
       "text": [
        "\r",
        "|#########-| 4692/4948  94% [elapsed: 2:00:23 left: 06:34,  0.65 iters/sec]"
       ]
      },
      {
       "output_type": "stream",
       "stream": "stdout",
       "text": [
        "\r",
        "|#########-| 4693/4948  94% [elapsed: 2:00:25 left: 06:32,  0.65 iters/sec]"
       ]
      },
      {
       "output_type": "stream",
       "stream": "stdout",
       "text": [
        "\r",
        "|#########-| 4694/4948  94% [elapsed: 2:00:27 left: 06:31,  0.65 iters/sec]"
       ]
      },
      {
       "output_type": "stream",
       "stream": "stdout",
       "text": [
        "\r",
        "|#########-| 4695/4948  94% [elapsed: 2:00:30 left: 06:29,  0.65 iters/sec]"
       ]
      },
      {
       "output_type": "stream",
       "stream": "stdout",
       "text": [
        "\r",
        "|#########-| 4697/4948  94% [elapsed: 2:00:34 left: 06:26,  0.65 iters/sec]"
       ]
      },
      {
       "output_type": "stream",
       "stream": "stdout",
       "text": [
        "\r",
        "|#########-| 4698/4948  94% [elapsed: 2:00:36 left: 06:25,  0.65 iters/sec]"
       ]
      },
      {
       "output_type": "stream",
       "stream": "stdout",
       "text": [
        "\r",
        "|#########-| 4699/4948  94% [elapsed: 2:00:39 left: 06:23,  0.65 iters/sec]"
       ]
      },
      {
       "output_type": "stream",
       "stream": "stdout",
       "text": [
        "\r",
        "|#########-| 4701/4948  95% [elapsed: 2:00:43 left: 06:20,  0.65 iters/sec]"
       ]
      },
      {
       "output_type": "stream",
       "stream": "stdout",
       "text": [
        "\r",
        "|#########-| 4702/4948  95% [elapsed: 2:00:46 left: 06:19,  0.65 iters/sec]"
       ]
      },
      {
       "output_type": "stream",
       "stream": "stdout",
       "text": [
        "\r",
        "|#########-| 4703/4948  95% [elapsed: 2:00:50 left: 06:17,  0.65 iters/sec]"
       ]
      },
      {
       "output_type": "stream",
       "stream": "stdout",
       "text": [
        "\r",
        "|#########-| 4704/4948  95% [elapsed: 2:00:51 left: 06:16,  0.65 iters/sec]"
       ]
      },
      {
       "output_type": "stream",
       "stream": "stdout",
       "text": [
        "\r",
        "|#########-| 4705/4948  95% [elapsed: 2:00:55 left: 06:14,  0.65 iters/sec]"
       ]
      },
      {
       "output_type": "stream",
       "stream": "stdout",
       "text": [
        "\r",
        "|#########-| 4706/4948  95% [elapsed: 2:01:00 left: 06:13,  0.65 iters/sec]"
       ]
      },
      {
       "output_type": "stream",
       "stream": "stdout",
       "text": [
        "\r",
        "|#########-| 4708/4948  95% [elapsed: 2:01:02 left: 06:10,  0.65 iters/sec]"
       ]
      },
      {
       "output_type": "stream",
       "stream": "stdout",
       "text": [
        "\r",
        "|#########-| 4709/4948  95% [elapsed: 2:01:04 left: 06:08,  0.65 iters/sec]"
       ]
      },
      {
       "output_type": "stream",
       "stream": "stdout",
       "text": [
        "\r",
        "|#########-| 4710/4948  95% [elapsed: 2:01:08 left: 06:07,  0.65 iters/sec]"
       ]
      },
      {
       "output_type": "stream",
       "stream": "stdout",
       "text": [
        "\r",
        "|#########-| 4711/4948  95% [elapsed: 2:01:11 left: 06:05,  0.65 iters/sec]"
       ]
      },
      {
       "output_type": "stream",
       "stream": "stdout",
       "text": [
        "\r",
        "|#########-| 4712/4948  95% [elapsed: 2:01:12 left: 06:04,  0.65 iters/sec]"
       ]
      },
      {
       "output_type": "stream",
       "stream": "stdout",
       "text": [
        "\r",
        "|#########-| 4713/4948  95% [elapsed: 2:01:17 left: 06:02,  0.65 iters/sec]"
       ]
      },
      {
       "output_type": "stream",
       "stream": "stdout",
       "text": [
        "\r",
        "|#########-| 4714/4948  95% [elapsed: 2:01:21 left: 06:01,  0.65 iters/sec]"
       ]
      },
      {
       "output_type": "stream",
       "stream": "stdout",
       "text": [
        "\r",
        "|#########-| 4715/4948  95% [elapsed: 2:01:24 left: 05:59,  0.65 iters/sec]"
       ]
      },
      {
       "output_type": "stream",
       "stream": "stdout",
       "text": [
        "\r",
        "|#########-| 4716/4948  95% [elapsed: 2:01:29 left: 05:58,  0.65 iters/sec]"
       ]
      },
      {
       "output_type": "stream",
       "stream": "stdout",
       "text": [
        "\r",
        "|#########-| 4717/4948  95% [elapsed: 2:01:33 left: 05:57,  0.65 iters/sec]"
       ]
      },
      {
       "output_type": "stream",
       "stream": "stdout",
       "text": [
        "\r",
        "|#########-| 4718/4948  95% [elapsed: 2:01:37 left: 05:55,  0.65 iters/sec]"
       ]
      },
      {
       "output_type": "stream",
       "stream": "stdout",
       "text": [
        "\r",
        "|#########-| 4720/4948  95% [elapsed: 2:01:42 left: 05:52,  0.65 iters/sec]"
       ]
      },
      {
       "output_type": "stream",
       "stream": "stdout",
       "text": [
        "\r",
        "|#########-| 4721/4948  95% [elapsed: 2:01:47 left: 05:51,  0.65 iters/sec]"
       ]
      },
      {
       "output_type": "stream",
       "stream": "stdout",
       "text": [
        "\r",
        "|#########-| 4722/4948  95% [elapsed: 2:01:51 left: 05:49,  0.65 iters/sec]"
       ]
      },
      {
       "output_type": "stream",
       "stream": "stdout",
       "text": [
        "\r",
        "|#########-| 4723/4948  95% [elapsed: 2:01:57 left: 05:48,  0.65 iters/sec]"
       ]
      },
      {
       "output_type": "stream",
       "stream": "stdout",
       "text": [
        "\r",
        "|#########-| 4724/4948  95% [elapsed: 2:02:01 left: 05:47,  0.65 iters/sec]"
       ]
      },
      {
       "output_type": "stream",
       "stream": "stdout",
       "text": [
        "\r",
        "|#########-| 4725/4948  95% [elapsed: 2:02:05 left: 05:45,  0.64 iters/sec]"
       ]
      },
      {
       "output_type": "stream",
       "stream": "stdout",
       "text": [
        "\r",
        "|#########-| 4726/4948  95% [elapsed: 2:02:10 left: 05:44,  0.64 iters/sec]"
       ]
      },
      {
       "output_type": "stream",
       "stream": "stdout",
       "text": [
        "\r",
        "|#########-| 4727/4948  95% [elapsed: 2:02:14 left: 05:42,  0.64 iters/sec]"
       ]
      },
      {
       "output_type": "stream",
       "stream": "stdout",
       "text": [
        "\r",
        "|#########-| 4728/4948  95% [elapsed: 2:02:21 left: 05:41,  0.64 iters/sec]"
       ]
      },
      {
       "output_type": "stream",
       "stream": "stdout",
       "text": [
        "\r",
        "|#########-| 4729/4948  95% [elapsed: 2:02:27 left: 05:40,  0.64 iters/sec]"
       ]
      },
      {
       "output_type": "stream",
       "stream": "stdout",
       "text": [
        "\r",
        "|#########-| 4730/4948  95% [elapsed: 2:02:32 left: 05:38,  0.64 iters/sec]"
       ]
      },
      {
       "output_type": "stream",
       "stream": "stdout",
       "text": [
        "\r",
        "|#########-| 4732/4948  95% [elapsed: 2:02:35 left: 05:35,  0.64 iters/sec]"
       ]
      },
      {
       "output_type": "stream",
       "stream": "stdout",
       "text": [
        "\r",
        "|#########-| 4733/4948  95% [elapsed: 2:02:38 left: 05:34,  0.64 iters/sec]"
       ]
      },
      {
       "output_type": "stream",
       "stream": "stdout",
       "text": [
        "\r",
        "|#########-| 4734/4948  95% [elapsed: 2:02:41 left: 05:32,  0.64 iters/sec]"
       ]
      },
      {
       "output_type": "stream",
       "stream": "stdout",
       "text": [
        "\r",
        "|#########-| 4735/4948  95% [elapsed: 2:02:43 left: 05:31,  0.64 iters/sec]"
       ]
      },
      {
       "output_type": "stream",
       "stream": "stdout",
       "text": [
        "\r",
        "|#########-| 4736/4948  95% [elapsed: 2:02:46 left: 05:29,  0.64 iters/sec]"
       ]
      },
      {
       "output_type": "stream",
       "stream": "stdout",
       "text": [
        "\r",
        "|#########-| 4737/4948  95% [elapsed: 2:02:47 left: 05:28,  0.64 iters/sec]"
       ]
      },
      {
       "output_type": "stream",
       "stream": "stdout",
       "text": [
        "\r",
        "|#########-| 4738/4948  95% [elapsed: 2:02:51 left: 05:26,  0.64 iters/sec]"
       ]
      },
      {
       "output_type": "stream",
       "stream": "stdout",
       "text": [
        "\r",
        "|#########-| 4739/4948  95% [elapsed: 2:02:55 left: 05:25,  0.64 iters/sec]"
       ]
      },
      {
       "output_type": "stream",
       "stream": "stdout",
       "text": [
        "\r",
        "|#########-| 4740/4948  95% [elapsed: 2:02:58 left: 05:23,  0.64 iters/sec]"
       ]
      },
      {
       "output_type": "stream",
       "stream": "stdout",
       "text": [
        "\r",
        "|#########-| 4741/4948  95% [elapsed: 2:03:02 left: 05:22,  0.64 iters/sec]"
       ]
      },
      {
       "output_type": "stream",
       "stream": "stdout",
       "text": [
        "\r",
        "|#########-| 4742/4948  95% [elapsed: 2:03:05 left: 05:20,  0.64 iters/sec]"
       ]
      },
      {
       "output_type": "stream",
       "stream": "stdout",
       "text": [
        "\r",
        "|#########-| 4744/4948  95% [elapsed: 2:03:09 left: 05:17,  0.64 iters/sec]"
       ]
      },
      {
       "output_type": "stream",
       "stream": "stdout",
       "text": [
        "\r",
        "|#########-| 4745/4948  95% [elapsed: 2:03:12 left: 05:16,  0.64 iters/sec]"
       ]
      },
      {
       "output_type": "stream",
       "stream": "stdout",
       "text": [
        "\r",
        "|#########-| 4746/4948  95% [elapsed: 2:03:17 left: 05:14,  0.64 iters/sec]"
       ]
      },
      {
       "output_type": "stream",
       "stream": "stdout",
       "text": [
        "\r",
        "|#########-| 4747/4948  95% [elapsed: 2:03:20 left: 05:13,  0.64 iters/sec]"
       ]
      },
      {
       "output_type": "stream",
       "stream": "stdout",
       "text": [
        "\r",
        "|#########-| 4748/4948  95% [elapsed: 2:03:26 left: 05:11,  0.64 iters/sec]"
       ]
      },
      {
       "output_type": "stream",
       "stream": "stdout",
       "text": [
        "\r",
        "|#########-| 4752/4948  96% [elapsed: 2:03:30 left: 05:05,  0.64 iters/sec]"
       ]
      },
      {
       "output_type": "stream",
       "stream": "stdout",
       "text": [
        "\r",
        "|#########-| 4753/4948  96% [elapsed: 2:03:33 left: 05:04,  0.64 iters/sec]"
       ]
      },
      {
       "output_type": "stream",
       "stream": "stdout",
       "text": [
        "\r",
        "|#########-| 4754/4948  96% [elapsed: 2:03:38 left: 05:02,  0.64 iters/sec]"
       ]
      },
      {
       "output_type": "stream",
       "stream": "stdout",
       "text": [
        "\r",
        "|#########-| 4755/4948  96% [elapsed: 2:03:42 left: 05:01,  0.64 iters/sec]"
       ]
      },
      {
       "output_type": "stream",
       "stream": "stdout",
       "text": [
        "\r",
        "|#########-| 4756/4948  96% [elapsed: 2:03:47 left: 04:59,  0.64 iters/sec]"
       ]
      },
      {
       "output_type": "stream",
       "stream": "stdout",
       "text": [
        "\r",
        "|#########-| 4757/4948  96% [elapsed: 2:03:51 left: 04:58,  0.64 iters/sec]"
       ]
      },
      {
       "output_type": "stream",
       "stream": "stdout",
       "text": [
        "\r",
        "|#########-| 4759/4948  96% [elapsed: 2:03:54 left: 04:55,  0.64 iters/sec]"
       ]
      },
      {
       "output_type": "stream",
       "stream": "stdout",
       "text": [
        "\r",
        "|#########-| 4760/4948  96% [elapsed: 2:03:55 left: 04:53,  0.64 iters/sec]"
       ]
      },
      {
       "output_type": "stream",
       "stream": "stdout",
       "text": [
        "\r",
        "|#########-| 4761/4948  96% [elapsed: 2:03:59 left: 04:52,  0.64 iters/sec]"
       ]
      },
      {
       "output_type": "stream",
       "stream": "stdout",
       "text": [
        "\r",
        "|#########-| 4762/4948  96% [elapsed: 2:04:02 left: 04:50,  0.64 iters/sec]"
       ]
      },
      {
       "output_type": "stream",
       "stream": "stdout",
       "text": [
        "\r",
        "|#########-| 4763/4948  96% [elapsed: 2:04:07 left: 04:49,  0.64 iters/sec]"
       ]
      },
      {
       "output_type": "stream",
       "stream": "stdout",
       "text": [
        "\r",
        "|#########-| 4764/4948  96% [elapsed: 2:04:11 left: 04:47,  0.64 iters/sec]"
       ]
      },
      {
       "output_type": "stream",
       "stream": "stdout",
       "text": [
        "\r",
        "|#########-| 4766/4948  96% [elapsed: 2:04:16 left: 04:44,  0.64 iters/sec]"
       ]
      },
      {
       "output_type": "stream",
       "stream": "stdout",
       "text": [
        "\r",
        "|#########-| 4767/4948  96% [elapsed: 2:04:19 left: 04:43,  0.64 iters/sec]"
       ]
      },
      {
       "output_type": "stream",
       "stream": "stdout",
       "text": [
        "\r",
        "|#########-| 4768/4948  96% [elapsed: 2:04:21 left: 04:41,  0.64 iters/sec]"
       ]
      },
      {
       "output_type": "stream",
       "stream": "stdout",
       "text": [
        "\r",
        "|#########-| 4769/4948  96% [elapsed: 2:04:27 left: 04:40,  0.64 iters/sec]"
       ]
      },
      {
       "output_type": "stream",
       "stream": "stdout",
       "text": [
        "\r",
        "|#########-| 4770/4948  96% [elapsed: 2:04:32 left: 04:38,  0.64 iters/sec]"
       ]
      },
      {
       "output_type": "stream",
       "stream": "stdout",
       "text": [
        "\r",
        "|#########-| 4771/4948  96% [elapsed: 2:04:36 left: 04:37,  0.64 iters/sec]"
       ]
      },
      {
       "output_type": "stream",
       "stream": "stdout",
       "text": [
        "\r",
        "|#########-| 4773/4948  96% [elapsed: 2:04:39 left: 04:34,  0.64 iters/sec]"
       ]
      },
      {
       "output_type": "stream",
       "stream": "stdout",
       "text": [
        "\r",
        "|#########-| 4774/4948  96% [elapsed: 2:04:44 left: 04:32,  0.64 iters/sec]"
       ]
      },
      {
       "output_type": "stream",
       "stream": "stdout",
       "text": [
        "\r",
        "|#########-| 4775/4948  96% [elapsed: 2:04:47 left: 04:31,  0.64 iters/sec]"
       ]
      },
      {
       "output_type": "stream",
       "stream": "stdout",
       "text": [
        "\r",
        "|#########-| 4776/4948  96% [elapsed: 2:04:51 left: 04:29,  0.64 iters/sec]"
       ]
      },
      {
       "output_type": "stream",
       "stream": "stdout",
       "text": [
        "\r",
        "|#########-| 4777/4948  96% [elapsed: 2:04:55 left: 04:28,  0.64 iters/sec]"
       ]
      },
      {
       "output_type": "stream",
       "stream": "stdout",
       "text": [
        "\r",
        "|#########-| 4778/4948  96% [elapsed: 2:04:59 left: 04:26,  0.64 iters/sec]"
       ]
      },
      {
       "output_type": "stream",
       "stream": "stdout",
       "text": [
        "\r",
        "|#########-| 4779/4948  96% [elapsed: 2:05:02 left: 04:25,  0.64 iters/sec]"
       ]
      },
      {
       "output_type": "stream",
       "stream": "stdout",
       "text": [
        "\r",
        "|#########-| 4781/4948  96% [elapsed: 2:05:05 left: 04:22,  0.64 iters/sec]"
       ]
      },
      {
       "output_type": "stream",
       "stream": "stdout",
       "text": [
        "\r",
        "|#########-| 4782/4948  96% [elapsed: 2:05:10 left: 04:20,  0.64 iters/sec]"
       ]
      },
      {
       "output_type": "stream",
       "stream": "stdout",
       "text": [
        "\r",
        "|#########-| 4783/4948  96% [elapsed: 2:05:13 left: 04:19,  0.64 iters/sec]"
       ]
      },
      {
       "output_type": "stream",
       "stream": "stdout",
       "text": [
        "\r",
        "|#########-| 4784/4948  96% [elapsed: 2:05:17 left: 04:17,  0.64 iters/sec]"
       ]
      },
      {
       "output_type": "stream",
       "stream": "stdout",
       "text": [
        "\r",
        "|#########-| 4785/4948  96% [elapsed: 2:05:21 left: 04:16,  0.64 iters/sec]"
       ]
      },
      {
       "output_type": "stream",
       "stream": "stdout",
       "text": [
        "\r",
        "|#########-| 4786/4948  96% [elapsed: 2:05:24 left: 04:14,  0.64 iters/sec]"
       ]
      },
      {
       "output_type": "stream",
       "stream": "stdout",
       "text": [
        "\r",
        "|#########-| 4788/4948  96% [elapsed: 2:05:29 left: 04:11,  0.64 iters/sec]"
       ]
      },
      {
       "output_type": "stream",
       "stream": "stdout",
       "text": [
        "\r",
        "|#########-| 4790/4948  96% [elapsed: 2:05:33 left: 04:08,  0.64 iters/sec]"
       ]
      },
      {
       "output_type": "stream",
       "stream": "stdout",
       "text": [
        "\r",
        "|#########-| 4791/4948  96% [elapsed: 2:05:37 left: 04:06,  0.64 iters/sec]"
       ]
      },
      {
       "output_type": "stream",
       "stream": "stdout",
       "text": [
        "\r",
        "|#########-| 4792/4948  96% [elapsed: 2:05:43 left: 04:05,  0.64 iters/sec]"
       ]
      },
      {
       "output_type": "stream",
       "stream": "stdout",
       "text": [
        "\r",
        "|#########-| 4793/4948  96% [elapsed: 2:05:46 left: 04:04,  0.64 iters/sec]"
       ]
      },
      {
       "output_type": "stream",
       "stream": "stdout",
       "text": [
        "\r",
        "|#########-| 4794/4948  96% [elapsed: 2:05:48 left: 04:02,  0.64 iters/sec]"
       ]
      },
      {
       "output_type": "stream",
       "stream": "stdout",
       "text": [
        "\r",
        "|#########-| 4795/4948  96% [elapsed: 2:05:52 left: 04:00,  0.63 iters/sec]"
       ]
      },
      {
       "output_type": "stream",
       "stream": "stdout",
       "text": [
        "\r",
        "|#########-| 4796/4948  96% [elapsed: 2:05:57 left: 03:59,  0.63 iters/sec]"
       ]
      },
      {
       "output_type": "stream",
       "stream": "stdout",
       "text": [
        "\r",
        "|#########-| 4797/4948  96% [elapsed: 2:06:01 left: 03:58,  0.63 iters/sec]"
       ]
      },
      {
       "output_type": "stream",
       "stream": "stdout",
       "text": [
        "\r",
        "|#########-| 4798/4948  96% [elapsed: 2:06:06 left: 03:56,  0.63 iters/sec]"
       ]
      },
      {
       "output_type": "stream",
       "stream": "stdout",
       "text": [
        "\r",
        "|#########-| 4799/4948  96% [elapsed: 2:06:11 left: 03:55,  0.63 iters/sec]"
       ]
      },
      {
       "output_type": "stream",
       "stream": "stdout",
       "text": [
        "\r",
        "|#########-| 4800/4948  97% [elapsed: 2:06:15 left: 03:53,  0.63 iters/sec]"
       ]
      },
      {
       "output_type": "stream",
       "stream": "stdout",
       "text": [
        "\r",
        "|#########-| 4801/4948  97% [elapsed: 2:06:19 left: 03:52,  0.63 iters/sec]"
       ]
      },
      {
       "output_type": "stream",
       "stream": "stdout",
       "text": [
        "\r",
        "|#########-| 4802/4948  97% [elapsed: 2:06:25 left: 03:50,  0.63 iters/sec]"
       ]
      },
      {
       "output_type": "stream",
       "stream": "stdout",
       "text": [
        "\r",
        "|#########-| 4803/4948  97% [elapsed: 2:06:29 left: 03:49,  0.63 iters/sec]"
       ]
      },
      {
       "output_type": "stream",
       "stream": "stdout",
       "text": [
        "\r",
        "|#########-| 4804/4948  97% [elapsed: 2:06:30 left: 03:47,  0.63 iters/sec]"
       ]
      },
      {
       "output_type": "stream",
       "stream": "stdout",
       "text": [
        "\r",
        "|#########-| 4805/4948  97% [elapsed: 2:06:35 left: 03:46,  0.63 iters/sec]"
       ]
      },
      {
       "output_type": "stream",
       "stream": "stdout",
       "text": [
        "\r",
        "|#########-| 4807/4948  97% [elapsed: 2:06:37 left: 03:42,  0.63 iters/sec]"
       ]
      },
      {
       "output_type": "stream",
       "stream": "stdout",
       "text": [
        "\r",
        "|#########-| 4808/4948  97% [elapsed: 2:06:41 left: 03:41,  0.63 iters/sec]"
       ]
      },
      {
       "output_type": "stream",
       "stream": "stdout",
       "text": [
        "\r",
        "|#########-| 4809/4948  97% [elapsed: 2:06:43 left: 03:39,  0.63 iters/sec]"
       ]
      },
      {
       "output_type": "stream",
       "stream": "stdout",
       "text": [
        "\r",
        "|#########-| 4810/4948  97% [elapsed: 2:06:49 left: 03:38,  0.63 iters/sec]"
       ]
      },
      {
       "output_type": "stream",
       "stream": "stdout",
       "text": [
        "\r",
        "|#########-| 4811/4948  97% [elapsed: 2:06:54 left: 03:36,  0.63 iters/sec]"
       ]
      },
      {
       "output_type": "stream",
       "stream": "stdout",
       "text": [
        "\r",
        "|#########-| 4812/4948  97% [elapsed: 2:06:58 left: 03:35,  0.63 iters/sec]"
       ]
      },
      {
       "output_type": "stream",
       "stream": "stdout",
       "text": [
        "\r",
        "|#########-| 4813/4948  97% [elapsed: 2:07:04 left: 03:33,  0.63 iters/sec]"
       ]
      },
      {
       "output_type": "stream",
       "stream": "stdout",
       "text": [
        "\r",
        "|#########-| 4814/4948  97% [elapsed: 2:07:08 left: 03:32,  0.63 iters/sec]"
       ]
      },
      {
       "output_type": "stream",
       "stream": "stdout",
       "text": [
        "\r",
        "|#########-| 4815/4948  97% [elapsed: 2:07:11 left: 03:30,  0.63 iters/sec]"
       ]
      },
      {
       "output_type": "stream",
       "stream": "stdout",
       "text": [
        "\r",
        "|#########-| 4816/4948  97% [elapsed: 2:07:16 left: 03:29,  0.63 iters/sec]"
       ]
      },
      {
       "output_type": "stream",
       "stream": "stdout",
       "text": [
        "\r",
        "|#########-| 4817/4948  97% [elapsed: 2:07:19 left: 03:27,  0.63 iters/sec]"
       ]
      },
      {
       "output_type": "stream",
       "stream": "stdout",
       "text": [
        "\r",
        "|#########-| 4818/4948  97% [elapsed: 2:07:23 left: 03:26,  0.63 iters/sec]"
       ]
      },
      {
       "output_type": "stream",
       "stream": "stdout",
       "text": [
        "\r",
        "|#########-| 4819/4948  97% [elapsed: 2:07:26 left: 03:24,  0.63 iters/sec]"
       ]
      },
      {
       "output_type": "stream",
       "stream": "stdout",
       "text": [
        "\r",
        "|#########-| 4820/4948  97% [elapsed: 2:07:27 left: 03:23,  0.63 iters/sec]"
       ]
      },
      {
       "output_type": "stream",
       "stream": "stdout",
       "text": [
        "\r",
        "|#########-| 4821/4948  97% [elapsed: 2:07:31 left: 03:21,  0.63 iters/sec]"
       ]
      },
      {
       "output_type": "stream",
       "stream": "stdout",
       "text": [
        "\r",
        "|#########-| 4822/4948  97% [elapsed: 2:07:34 left: 03:20,  0.63 iters/sec]"
       ]
      },
      {
       "output_type": "stream",
       "stream": "stdout",
       "text": [
        "\r",
        "|#########-| 4823/4948  97% [elapsed: 2:07:38 left: 03:18,  0.63 iters/sec]"
       ]
      },
      {
       "output_type": "stream",
       "stream": "stdout",
       "text": [
        "\r",
        "|#########-| 4825/4948  97% [elapsed: 2:07:42 left: 03:15,  0.63 iters/sec]"
       ]
      },
      {
       "output_type": "stream",
       "stream": "stdout",
       "text": [
        "\r",
        "|#########-| 4826/4948  97% [elapsed: 2:07:46 left: 03:13,  0.63 iters/sec]"
       ]
      },
      {
       "output_type": "stream",
       "stream": "stdout",
       "text": [
        "\r",
        "|#########-| 4827/4948  97% [elapsed: 2:07:50 left: 03:12,  0.63 iters/sec]"
       ]
      },
      {
       "output_type": "stream",
       "stream": "stdout",
       "text": [
        "\r",
        "|#########-| 4828/4948  97% [elapsed: 2:07:54 left: 03:10,  0.63 iters/sec]"
       ]
      },
      {
       "output_type": "stream",
       "stream": "stdout",
       "text": [
        "\r",
        "|#########-| 4829/4948  97% [elapsed: 2:07:58 left: 03:09,  0.63 iters/sec]"
       ]
      },
      {
       "output_type": "stream",
       "stream": "stdout",
       "text": [
        "\r",
        "|#########-| 4830/4948  97% [elapsed: 2:08:04 left: 03:07,  0.63 iters/sec]"
       ]
      },
      {
       "output_type": "stream",
       "stream": "stdout",
       "text": [
        "\r",
        "|#########-| 4831/4948  97% [elapsed: 2:08:09 left: 03:06,  0.63 iters/sec]"
       ]
      },
      {
       "output_type": "stream",
       "stream": "stdout",
       "text": [
        "\r",
        "|#########-| 4835/4948  97% [elapsed: 2:08:13 left: 02:59,  0.63 iters/sec]"
       ]
      },
      {
       "output_type": "stream",
       "stream": "stdout",
       "text": [
        "\r",
        "|#########-| 4836/4948  97% [elapsed: 2:08:17 left: 02:58,  0.63 iters/sec]"
       ]
      },
      {
       "output_type": "stream",
       "stream": "stdout",
       "text": [
        "\r",
        "|#########-| 4837/4948  97% [elapsed: 2:08:19 left: 02:56,  0.63 iters/sec]"
       ]
      },
      {
       "output_type": "stream",
       "stream": "stdout",
       "text": [
        "\r",
        "|#########-| 4838/4948  97% [elapsed: 2:08:22 left: 02:55,  0.63 iters/sec]"
       ]
      },
      {
       "output_type": "stream",
       "stream": "stdout",
       "text": [
        "\r",
        "|#########-| 4839/4948  97% [elapsed: 2:08:26 left: 02:53,  0.63 iters/sec]"
       ]
      },
      {
       "output_type": "stream",
       "stream": "stdout",
       "text": [
        "\r",
        "|#########-| 4840/4948  97% [elapsed: 2:08:29 left: 02:52,  0.63 iters/sec]"
       ]
      },
      {
       "output_type": "stream",
       "stream": "stdout",
       "text": [
        "\r",
        "|#########-| 4841/4948  97% [elapsed: 2:08:31 left: 02:50,  0.63 iters/sec]"
       ]
      },
      {
       "output_type": "stream",
       "stream": "stdout",
       "text": [
        "\r",
        "|#########-| 4842/4948  97% [elapsed: 2:08:34 left: 02:48,  0.63 iters/sec]"
       ]
      },
      {
       "output_type": "stream",
       "stream": "stdout",
       "text": [
        "\r",
        "|#########-| 4843/4948  97% [elapsed: 2:08:37 left: 02:47,  0.63 iters/sec]"
       ]
      },
      {
       "output_type": "stream",
       "stream": "stdout",
       "text": [
        "\r",
        "|#########-| 4844/4948  97% [elapsed: 2:08:42 left: 02:45,  0.63 iters/sec]"
       ]
      },
      {
       "output_type": "stream",
       "stream": "stdout",
       "text": [
        "\r",
        "|#########-| 4845/4948  97% [elapsed: 2:08:44 left: 02:44,  0.63 iters/sec]"
       ]
      },
      {
       "output_type": "stream",
       "stream": "stdout",
       "text": [
        "\r",
        "|#########-| 4846/4948  97% [elapsed: 2:08:48 left: 02:42,  0.63 iters/sec]"
       ]
      },
      {
       "output_type": "stream",
       "stream": "stdout",
       "text": [
        "\r",
        "|#########-| 4847/4948  97% [elapsed: 2:08:52 left: 02:41,  0.63 iters/sec]"
       ]
      },
      {
       "output_type": "stream",
       "stream": "stdout",
       "text": [
        "\r",
        "|#########-| 4848/4948  97% [elapsed: 2:08:56 left: 02:39,  0.63 iters/sec]"
       ]
      },
      {
       "output_type": "stream",
       "stream": "stdout",
       "text": [
        "\r",
        "|#########-| 4850/4948  98% [elapsed: 2:09:01 left: 02:36,  0.63 iters/sec]"
       ]
      },
      {
       "output_type": "stream",
       "stream": "stdout",
       "text": [
        "\r",
        "|#########-| 4851/4948  98% [elapsed: 2:09:05 left: 02:34,  0.63 iters/sec]"
       ]
      },
      {
       "output_type": "stream",
       "stream": "stdout",
       "text": [
        "\r",
        "|#########-| 4852/4948  98% [elapsed: 2:09:09 left: 02:33,  0.63 iters/sec]"
       ]
      },
      {
       "output_type": "stream",
       "stream": "stdout",
       "text": [
        "\r",
        "|#########-| 4853/4948  98% [elapsed: 2:09:13 left: 02:31,  0.63 iters/sec]"
       ]
      },
      {
       "output_type": "stream",
       "stream": "stdout",
       "text": [
        "\r",
        "|#########-| 4855/4948  98% [elapsed: 2:09:17 left: 02:28,  0.63 iters/sec]"
       ]
      },
      {
       "output_type": "stream",
       "stream": "stdout",
       "text": [
        "\r",
        "|#########-| 4856/4948  98% [elapsed: 2:09:20 left: 02:27,  0.63 iters/sec]"
       ]
      },
      {
       "output_type": "stream",
       "stream": "stdout",
       "text": [
        "\r",
        "|#########-| 4857/4948  98% [elapsed: 2:09:24 left: 02:25,  0.63 iters/sec]"
       ]
      },
      {
       "output_type": "stream",
       "stream": "stdout",
       "text": [
        "\r",
        "|#########-| 4859/4948  98% [elapsed: 2:09:27 left: 02:22,  0.63 iters/sec]"
       ]
      },
      {
       "output_type": "stream",
       "stream": "stdout",
       "text": [
        "\r",
        "|#########-| 4860/4948  98% [elapsed: 2:09:32 left: 02:20,  0.63 iters/sec]"
       ]
      },
      {
       "output_type": "stream",
       "stream": "stdout",
       "text": [
        "\r",
        "|#########-| 4862/4948  98% [elapsed: 2:09:34 left: 02:17,  0.63 iters/sec]"
       ]
      },
      {
       "output_type": "stream",
       "stream": "stdout",
       "text": [
        "\r",
        "|#########-| 4864/4948  98% [elapsed: 2:09:39 left: 02:14,  0.63 iters/sec]"
       ]
      },
      {
       "output_type": "stream",
       "stream": "stdout",
       "text": [
        "\r",
        "|#########-| 4865/4948  98% [elapsed: 2:09:42 left: 02:12,  0.63 iters/sec]"
       ]
      },
      {
       "output_type": "stream",
       "stream": "stdout",
       "text": [
        "\r",
        "|#########-| 4866/4948  98% [elapsed: 2:09:45 left: 02:11,  0.62 iters/sec]"
       ]
      },
      {
       "output_type": "stream",
       "stream": "stdout",
       "text": [
        "\r",
        "|#########-| 4867/4948  98% [elapsed: 2:09:49 left: 02:09,  0.62 iters/sec]"
       ]
      },
      {
       "output_type": "stream",
       "stream": "stdout",
       "text": [
        "\r",
        "|#########-| 4868/4948  98% [elapsed: 2:09:50 left: 02:08,  0.62 iters/sec]"
       ]
      },
      {
       "output_type": "stream",
       "stream": "stdout",
       "text": [
        "\r",
        "|#########-| 4869/4948  98% [elapsed: 2:09:54 left: 02:06,  0.62 iters/sec]"
       ]
      },
      {
       "output_type": "stream",
       "stream": "stdout",
       "text": [
        "\r",
        "|#########-| 4870/4948  98% [elapsed: 2:09:58 left: 02:04,  0.62 iters/sec]"
       ]
      },
      {
       "output_type": "stream",
       "stream": "stdout",
       "text": [
        "\r",
        "|#########-| 4871/4948  98% [elapsed: 2:10:02 left: 02:03,  0.62 iters/sec]"
       ]
      },
      {
       "output_type": "stream",
       "stream": "stdout",
       "text": [
        "\r",
        "|#########-| 4872/4948  98% [elapsed: 2:10:04 left: 02:01,  0.62 iters/sec]"
       ]
      },
      {
       "output_type": "stream",
       "stream": "stdout",
       "text": [
        "\r",
        "|#########-| 4873/4948  98% [elapsed: 2:10:07 left: 02:00,  0.62 iters/sec]"
       ]
      },
      {
       "output_type": "stream",
       "stream": "stdout",
       "text": [
        "\r",
        "|#########-| 4874/4948  98% [elapsed: 2:10:11 left: 01:58,  0.62 iters/sec]"
       ]
      },
      {
       "output_type": "stream",
       "stream": "stdout",
       "text": [
        "\r",
        "|#########-| 4875/4948  98% [elapsed: 2:10:12 left: 01:56,  0.62 iters/sec]"
       ]
      },
      {
       "output_type": "stream",
       "stream": "stdout",
       "text": [
        "\r",
        "|#########-| 4876/4948  98% [elapsed: 2:10:13 left: 01:55,  0.62 iters/sec]"
       ]
      },
      {
       "output_type": "stream",
       "stream": "stdout",
       "text": [
        "\r",
        "|#########-| 4877/4948  98% [elapsed: 2:10:17 left: 01:53,  0.62 iters/sec]"
       ]
      },
      {
       "output_type": "stream",
       "stream": "stdout",
       "text": [
        "\r",
        "|#########-| 4878/4948  98% [elapsed: 2:10:19 left: 01:52,  0.62 iters/sec]"
       ]
      },
      {
       "output_type": "stream",
       "stream": "stdout",
       "text": [
        "\r",
        "|#########-| 4879/4948  98% [elapsed: 2:10:24 left: 01:50,  0.62 iters/sec]"
       ]
      },
      {
       "output_type": "stream",
       "stream": "stdout",
       "text": [
        "\r",
        "|#########-| 4880/4948  98% [elapsed: 2:10:25 left: 01:49,  0.62 iters/sec]"
       ]
      },
      {
       "output_type": "stream",
       "stream": "stdout",
       "text": [
        "\r",
        "|#########-| 4881/4948  98% [elapsed: 2:10:30 left: 01:47,  0.62 iters/sec]"
       ]
      },
      {
       "output_type": "stream",
       "stream": "stdout",
       "text": [
        "\r",
        "|#########-| 4882/4948  98% [elapsed: 2:10:34 left: 01:45,  0.62 iters/sec]"
       ]
      },
      {
       "output_type": "stream",
       "stream": "stdout",
       "text": [
        "\r",
        "|#########-| 4883/4948  98% [elapsed: 2:10:36 left: 01:44,  0.62 iters/sec]"
       ]
      },
      {
       "output_type": "stream",
       "stream": "stdout",
       "text": [
        "\r",
        "|#########-| 4884/4948  98% [elapsed: 2:10:38 left: 01:42,  0.62 iters/sec]"
       ]
      },
      {
       "output_type": "stream",
       "stream": "stdout",
       "text": [
        "\r",
        "|#########-| 4885/4948  98% [elapsed: 2:10:40 left: 01:41,  0.62 iters/sec]"
       ]
      },
      {
       "output_type": "stream",
       "stream": "stdout",
       "text": [
        "\r",
        "|#########-| 4886/4948  98% [elapsed: 2:10:44 left: 01:39,  0.62 iters/sec]"
       ]
      },
      {
       "output_type": "stream",
       "stream": "stdout",
       "text": [
        "\r",
        "|#########-| 4887/4948  98% [elapsed: 2:10:46 left: 01:37,  0.62 iters/sec]"
       ]
      },
      {
       "output_type": "stream",
       "stream": "stdout",
       "text": [
        "\r",
        "|#########-| 4888/4948  98% [elapsed: 2:10:47 left: 01:36,  0.62 iters/sec]"
       ]
      },
      {
       "output_type": "stream",
       "stream": "stdout",
       "text": [
        "\r",
        "|#########-| 4889/4948  98% [elapsed: 2:10:52 left: 01:34,  0.62 iters/sec]"
       ]
      },
      {
       "output_type": "stream",
       "stream": "stdout",
       "text": [
        "\r",
        "|#########-| 4890/4948  98% [elapsed: 2:10:53 left: 01:33,  0.62 iters/sec]"
       ]
      },
      {
       "output_type": "stream",
       "stream": "stdout",
       "text": [
        "\r",
        "|#########-| 4891/4948  98% [elapsed: 2:10:57 left: 01:31,  0.62 iters/sec]"
       ]
      },
      {
       "output_type": "stream",
       "stream": "stdout",
       "text": [
        "\r",
        "|#########-| 4892/4948  98% [elapsed: 2:11:02 left: 01:30,  0.62 iters/sec]"
       ]
      },
      {
       "output_type": "stream",
       "stream": "stdout",
       "text": [
        "\r",
        "|#########-| 4893/4948  98% [elapsed: 2:11:06 left: 01:28,  0.62 iters/sec]"
       ]
      },
      {
       "output_type": "stream",
       "stream": "stdout",
       "text": [
        "\r",
        "|#########-| 4894/4948  98% [elapsed: 2:11:10 left: 01:26,  0.62 iters/sec]"
       ]
      },
      {
       "output_type": "stream",
       "stream": "stdout",
       "text": [
        "\r",
        "|#########-| 4896/4948  98% [elapsed: 2:11:13 left: 01:23,  0.62 iters/sec]"
       ]
      },
      {
       "output_type": "stream",
       "stream": "stdout",
       "text": [
        "\r",
        "|#########-| 4897/4948  98% [elapsed: 2:11:17 left: 01:22,  0.62 iters/sec]"
       ]
      },
      {
       "output_type": "stream",
       "stream": "stdout",
       "text": [
        "\r",
        "|#########-| 4898/4948  98% [elapsed: 2:11:22 left: 01:20,  0.62 iters/sec]"
       ]
      },
      {
       "output_type": "stream",
       "stream": "stdout",
       "text": [
        "\r",
        "|#########-| 4899/4948  99% [elapsed: 2:11:24 left: 01:18,  0.62 iters/sec]"
       ]
      },
      {
       "output_type": "stream",
       "stream": "stdout",
       "text": [
        "\r",
        "|#########-| 4900/4948  99% [elapsed: 2:11:30 left: 01:17,  0.62 iters/sec]"
       ]
      },
      {
       "output_type": "stream",
       "stream": "stdout",
       "text": [
        "\r",
        "|#########-| 4901/4948  99% [elapsed: 2:11:32 left: 01:15,  0.62 iters/sec]"
       ]
      },
      {
       "output_type": "stream",
       "stream": "stdout",
       "text": [
        "\r",
        "|#########-| 4902/4948  99% [elapsed: 2:11:35 left: 01:14,  0.62 iters/sec]"
       ]
      },
      {
       "output_type": "stream",
       "stream": "stdout",
       "text": [
        "\r",
        "|#########-| 4903/4948  99% [elapsed: 2:11:39 left: 01:12,  0.62 iters/sec]"
       ]
      },
      {
       "output_type": "stream",
       "stream": "stdout",
       "text": [
        "\r",
        "|#########-| 4904/4948  99% [elapsed: 2:11:42 left: 01:10,  0.62 iters/sec]"
       ]
      },
      {
       "output_type": "stream",
       "stream": "stdout",
       "text": [
        "\r",
        "|#########-| 4905/4948  99% [elapsed: 2:11:46 left: 01:09,  0.62 iters/sec]"
       ]
      },
      {
       "output_type": "stream",
       "stream": "stdout",
       "text": [
        "\r",
        "|#########-| 4906/4948  99% [elapsed: 2:11:49 left: 01:07,  0.62 iters/sec]"
       ]
      },
      {
       "output_type": "stream",
       "stream": "stdout",
       "text": [
        "\r",
        "|#########-| 4907/4948  99% [elapsed: 2:11:53 left: 01:06,  0.62 iters/sec]"
       ]
      },
      {
       "output_type": "stream",
       "stream": "stdout",
       "text": [
        "\r",
        "|#########-| 4909/4948  99% [elapsed: 2:11:58 left: 01:02,  0.62 iters/sec]"
       ]
      },
      {
       "output_type": "stream",
       "stream": "stdout",
       "text": [
        "\r",
        "|#########-| 4911/4948  99% [elapsed: 2:12:03 left: 00:59,  0.62 iters/sec]"
       ]
      },
      {
       "output_type": "stream",
       "stream": "stdout",
       "text": [
        "\r",
        "|#########-| 4912/4948  99% [elapsed: 2:12:06 left: 00:58,  0.62 iters/sec]"
       ]
      },
      {
       "output_type": "stream",
       "stream": "stdout",
       "text": [
        "\r",
        "|#########-| 4913/4948  99% [elapsed: 2:12:08 left: 00:56,  0.62 iters/sec]"
       ]
      },
      {
       "output_type": "stream",
       "stream": "stdout",
       "text": [
        "\r",
        "|#########-| 4914/4948  99% [elapsed: 2:12:13 left: 00:54,  0.62 iters/sec]"
       ]
      },
      {
       "output_type": "stream",
       "stream": "stdout",
       "text": [
        "\r",
        "|#########-| 4915/4948  99% [elapsed: 2:12:17 left: 00:53,  0.62 iters/sec]"
       ]
      },
      {
       "output_type": "stream",
       "stream": "stdout",
       "text": [
        "\r",
        "|#########-| 4916/4948  99% [elapsed: 2:12:27 left: 00:51,  0.62 iters/sec]"
       ]
      },
      {
       "output_type": "stream",
       "stream": "stdout",
       "text": [
        "\r",
        "|#########-| 4918/4948  99% [elapsed: 2:12:31 left: 00:48,  0.62 iters/sec]"
       ]
      },
      {
       "output_type": "stream",
       "stream": "stdout",
       "text": [
        "\r",
        "|#########-| 4919/4948  99% [elapsed: 2:12:35 left: 00:46,  0.62 iters/sec]"
       ]
      },
      {
       "output_type": "stream",
       "stream": "stdout",
       "text": [
        "\r",
        "|#########-| 4920/4948  99% [elapsed: 2:12:39 left: 00:45,  0.62 iters/sec]"
       ]
      },
      {
       "output_type": "stream",
       "stream": "stdout",
       "text": [
        "\r",
        "|#########-| 4921/4948  99% [elapsed: 2:12:44 left: 00:43,  0.62 iters/sec]"
       ]
      },
      {
       "output_type": "stream",
       "stream": "stdout",
       "text": [
        "\r",
        "|#########-| 4922/4948  99% [elapsed: 2:12:48 left: 00:42,  0.62 iters/sec]"
       ]
      },
      {
       "output_type": "stream",
       "stream": "stdout",
       "text": [
        "\r",
        "|#########-| 4923/4948  99% [elapsed: 2:12:52 left: 00:40,  0.62 iters/sec]"
       ]
      },
      {
       "output_type": "stream",
       "stream": "stdout",
       "text": [
        "\r",
        "|#########-| 4924/4948  99% [elapsed: 2:12:56 left: 00:38,  0.62 iters/sec]"
       ]
      },
      {
       "output_type": "stream",
       "stream": "stdout",
       "text": [
        "\r",
        "|#########-| 4925/4948  99% [elapsed: 2:12:57 left: 00:37,  0.62 iters/sec]"
       ]
      },
      {
       "output_type": "stream",
       "stream": "stdout",
       "text": [
        "\r",
        "|#########-| 4926/4948  99% [elapsed: 2:13:03 left: 00:35,  0.62 iters/sec]"
       ]
      },
      {
       "output_type": "stream",
       "stream": "stdout",
       "text": [
        "\r",
        "|#########-| 4927/4948  99% [elapsed: 2:13:08 left: 00:34,  0.62 iters/sec]"
       ]
      },
      {
       "output_type": "stream",
       "stream": "stdout",
       "text": [
        "\r",
        "|#########-| 4928/4948  99% [elapsed: 2:13:09 left: 00:32,  0.62 iters/sec]"
       ]
      },
      {
       "output_type": "stream",
       "stream": "stdout",
       "text": [
        "\r",
        "|#########-| 4929/4948  99% [elapsed: 2:13:13 left: 00:30,  0.62 iters/sec]"
       ]
      },
      {
       "output_type": "stream",
       "stream": "stdout",
       "text": [
        "\r",
        "|#########-| 4930/4948  99% [elapsed: 2:13:17 left: 00:29,  0.62 iters/sec]"
       ]
      },
      {
       "output_type": "stream",
       "stream": "stdout",
       "text": [
        "\r",
        "|#########-| 4931/4948  99% [elapsed: 2:13:21 left: 00:27,  0.62 iters/sec]"
       ]
      },
      {
       "output_type": "stream",
       "stream": "stdout",
       "text": [
        "\r",
        "|#########-| 4932/4948  99% [elapsed: 2:13:23 left: 00:25,  0.62 iters/sec]"
       ]
      },
      {
       "output_type": "stream",
       "stream": "stdout",
       "text": [
        "\r",
        "|#########-| 4933/4948  99% [elapsed: 2:13:28 left: 00:24,  0.62 iters/sec]"
       ]
      },
      {
       "output_type": "stream",
       "stream": "stdout",
       "text": [
        "\r",
        "|#########-| 4934/4948  99% [elapsed: 2:13:30 left: 00:22,  0.62 iters/sec]"
       ]
      },
      {
       "output_type": "stream",
       "stream": "stdout",
       "text": [
        "\r",
        "|#########-| 4935/4948  99% [elapsed: 2:13:33 left: 00:21,  0.62 iters/sec]"
       ]
      },
      {
       "output_type": "stream",
       "stream": "stdout",
       "text": [
        "\r",
        "|#########-| 4936/4948  99% [elapsed: 2:13:37 left: 00:19,  0.62 iters/sec]"
       ]
      },
      {
       "output_type": "stream",
       "stream": "stdout",
       "text": [
        "\r",
        "|#########-| 4937/4948  99% [elapsed: 2:13:43 left: 00:17,  0.62 iters/sec]"
       ]
      },
      {
       "output_type": "stream",
       "stream": "stdout",
       "text": [
        "\r",
        "|#########-| 4938/4948  99% [elapsed: 2:13:47 left: 00:16,  0.62 iters/sec]"
       ]
      },
      {
       "output_type": "stream",
       "stream": "stdout",
       "text": [
        "\r",
        "|#########-| 4939/4948  99% [elapsed: 2:13:52 left: 00:14,  0.61 iters/sec]"
       ]
      },
      {
       "output_type": "stream",
       "stream": "stdout",
       "text": [
        "\r",
        "|#########-| 4940/4948  99% [elapsed: 2:13:55 left: 00:13,  0.61 iters/sec]"
       ]
      },
      {
       "output_type": "stream",
       "stream": "stdout",
       "text": [
        "\r",
        "|#########-| 4941/4948  99% [elapsed: 2:13:59 left: 00:11,  0.61 iters/sec]"
       ]
      },
      {
       "output_type": "stream",
       "stream": "stdout",
       "text": [
        "\r",
        "|#########-| 4942/4948  99% [elapsed: 2:14:04 left: 00:09,  0.61 iters/sec]"
       ]
      },
      {
       "output_type": "stream",
       "stream": "stdout",
       "text": [
        "\r",
        "|#########-| 4943/4948  99% [elapsed: 2:14:08 left: 00:08,  0.61 iters/sec]"
       ]
      },
      {
       "output_type": "stream",
       "stream": "stdout",
       "text": [
        "\r",
        "|#########-| 4944/4948  99% [elapsed: 2:14:12 left: 00:06,  0.61 iters/sec]"
       ]
      },
      {
       "output_type": "stream",
       "stream": "stdout",
       "text": [
        "\r",
        "|#########-| 4945/4948  99% [elapsed: 2:14:17 left: 00:04,  0.61 iters/sec]"
       ]
      },
      {
       "output_type": "stream",
       "stream": "stdout",
       "text": [
        "\r",
        "|#########-| 4946/4948  99% [elapsed: 2:14:19 left: 00:03,  0.61 iters/sec]"
       ]
      },
      {
       "output_type": "stream",
       "stream": "stdout",
       "text": [
        "\r",
        "|#########-| 4947/4948  99% [elapsed: 2:14:21 left: 00:01,  0.61 iters/sec]"
       ]
      },
      {
       "output_type": "stream",
       "stream": "stdout",
       "text": [
        "\r",
        "|##########| 4948/4948 100% [elapsed: 2:14:25 left: 00:00,  0.61 iters/sec]"
       ]
      },
      {
       "output_type": "stream",
       "stream": "stdout",
       "text": [
        "\r",
        "                                                                           "
       ]
      },
      {
       "output_type": "stream",
       "stream": "stdout",
       "text": [
        "\r"
       ]
      }
     ],
     "prompt_number": 7
    },
    {
     "cell_type": "code",
     "collapsed": false,
     "input": [
      "# So this method is clearly flawed. BAMsec does not have links to every 10-K \n",
      "# and as a result this process sometimes downloads a more recent filing (but never an older filing)\n",
      "# At this stage check each file to ensure it is a 10-k\n",
      "# Semi_Manually download those where the wrong file was downloaded\n",
      "# DONE (NOTE: fixing these errors was just done manually)\n",
      "\n",
      "NO = []\n",
      "NT_in = []\n",
      "List = os.listdir(Dst)\n",
      "print len(List)\n",
      "for loc in tqdm(List):\n",
      "    if loc[-3:] == 'txt':\n",
      "        with open(Dst + loc, 'r') as f:\n",
      "            report = f.read()\n",
      "        if not re.match(r'.{0,30}?10-K\\s', report):\n",
      "            NO.append(loc)\n",
      "        if re.match(r'.{0,30}?NT\\s{1,8}?10-K\\s', report):\n",
      "            NT_in.append(loc)\n",
      "            \n",
      "print len(NO)\n",
      "print NO\n",
      "print len(NT_in)\n",
      "print NT_in"
     ],
     "language": "python",
     "metadata": {},
     "outputs": [
      {
       "output_type": "stream",
       "stream": "stdout",
       "text": [
        "3810\n",
        "\r",
        "|----------| 0/3810   0% [elapsed: 00:00 left: ?, ? iters/sec]"
       ]
      },
      {
       "output_type": "stream",
       "stream": "stdout",
       "text": [
        "\r",
        "|----------| 289/3810   7% [elapsed: 00:00 left: 00:06, 577.79 iters/sec]"
       ]
      },
      {
       "output_type": "stream",
       "stream": "stdout",
       "text": [
        "\r",
        "|#---------| 591/3810  15% [elapsed: 00:01 left: 00:05, 590.04 iters/sec]"
       ]
      },
      {
       "output_type": "stream",
       "stream": "stdout",
       "text": [
        "\r",
        "|##--------| 889/3810  23% [elapsed: 00:01 left: 00:04, 591.79 iters/sec]"
       ]
      },
      {
       "output_type": "stream",
       "stream": "stdout",
       "text": [
        "\r",
        "|###-------| 1185/3810  31% [elapsed: 00:02 left: 00:04, 591.77 iters/sec]"
       ]
      },
      {
       "output_type": "stream",
       "stream": "stdout",
       "text": [
        "\r",
        "|###-------| 1472/3810  38% [elapsed: 00:02 left: 00:03, 588.05 iters/sec]"
       ]
      },
      {
       "output_type": "stream",
       "stream": "stdout",
       "text": [
        "\r",
        "|####------| 1765/3810  46% [elapsed: 00:03 left: 00:03, 587.58 iters/sec]"
       ]
      },
      {
       "output_type": "stream",
       "stream": "stdout",
       "text": [
        "\r",
        "|#####-----| 2069/3810  54% [elapsed: 00:03 left: 00:02, 590.28 iters/sec]"
       ]
      },
      {
       "output_type": "stream",
       "stream": "stdout",
       "text": [
        "\r",
        "|######----| 2361/3810  61% [elapsed: 00:04 left: 00:02, 589.43 iters/sec]"
       ]
      },
      {
       "output_type": "stream",
       "stream": "stdout",
       "text": [
        "\r",
        "|######----| 2638/3810  69% [elapsed: 00:04 left: 00:02, 585.33 iters/sec]"
       ]
      },
      {
       "output_type": "stream",
       "stream": "stdout",
       "text": [
        "\r",
        "|#######---| 2926/3810  76% [elapsed: 00:05 left: 00:01, 584.20 iters/sec]"
       ]
      },
      {
       "output_type": "stream",
       "stream": "stdout",
       "text": [
        "\r",
        "|########--| 3188/3810  83% [elapsed: 00:05 left: 00:01, 578.65 iters/sec]"
       ]
      },
      {
       "output_type": "stream",
       "stream": "stdout",
       "text": [
        "\r",
        "|#########-| 3464/3810  90% [elapsed: 00:06 left: 00:00, 576.38 iters/sec]"
       ]
      },
      {
       "output_type": "stream",
       "stream": "stdout",
       "text": [
        "\r",
        "|#########-| 3751/3810  98% [elapsed: 00:06 left: 00:00, 576.15 iters/sec]"
       ]
      },
      {
       "output_type": "stream",
       "stream": "stdout",
       "text": [
        "\r",
        "                                                                          "
       ]
      },
      {
       "output_type": "stream",
       "stream": "stdout",
       "text": [
        "\r"
       ]
      }
     ],
     "prompt_number": 110
    },
    {
     "cell_type": "code",
     "collapsed": false,
     "input": [
      "# Find the link for those that are going to be downloaded manually and adjust the code below\n",
      "\n",
      "add = 'http://www.sec.gov/Archives/edgar/data/886982/000119312514073792/d655877d10k.htm'\n",
      "report = get_report(add)\n",
      "target = open(Dst + 'GS_Raw_10K.txt', 'w')\n",
      "target.write(report)\n",
      "target.close()"
     ],
     "language": "python",
     "metadata": {},
     "outputs": []
    },
    {
     "cell_type": "code",
     "collapsed": false,
     "input": [
      "# CHECK THAT THESE ARE WHAT YOU THINK THEY ARE\n",
      "# YES, they are okay\n",
      "for item in os.listdir(Dst):\n",
      "    if len(open(Dst + item).read()) < 60000:\n",
      "        print item\n",
      "        print len(open(Dst + item).read())\n",
      "#        print open(Dst + item).read()"
     ],
     "language": "python",
     "metadata": {},
     "outputs": [
      {
       "output_type": "stream",
       "stream": "stdout",
       "text": [
        "CVR_032114.txt\n",
        "54486\n",
        "GRC_031014.txt"
       ]
      },
      {
       "output_type": "stream",
       "stream": "stdout",
       "text": [
        "\n",
        "44614\n",
        "STRT_090514.txt"
       ]
      },
      {
       "output_type": "stream",
       "stream": "stdout",
       "text": [
        "\n",
        "53885\n",
        "UFPI_022614.txt"
       ]
      },
      {
       "output_type": "stream",
       "stream": "stdout",
       "text": [
        "\n",
        "54830\n",
        "UIS_022414.txt\n",
        "59666\n",
        "WGA_031314.txt"
       ]
      },
      {
       "output_type": "stream",
       "stream": "stdout",
       "text": [
        "\n",
        "56851\n"
       ]
      }
     ],
     "prompt_number": 112
    },
    {
     "cell_type": "code",
     "collapsed": true,
     "input": [
      "# This is to produce a list of companies that have multiple tickers associated with them\n",
      "\n",
      "companies = pd.concat([pd.read_csv('NASDAQ.csv'), pd.read_csv('AMEX.csv'), pd.read_csv('NYSE.csv')])\n",
      "companies = companies[companies['industry'] != 'n/a']\n",
      "\n",
      "print len(companies)\n",
      "\n",
      "Comp = {}\n",
      "Duplicate = {}\n",
      "M_List = []\n",
      "for item in companies['Name']:\n",
      "    M_List.append([item])\n",
      "\n",
      "i = 0\n",
      "for item in companies['Symbol']:\n",
      "    M_List[i].append(item)\n",
      "    i = i + 1\n",
      "    \n",
      "for item in M_List:\n",
      "    if item[0] not in Comp:\n",
      "        Comp[item[0]] = [item[1]]\n",
      "    else:\n",
      "        x = Comp[item[0]]\n",
      "        x.append(item[1])\n",
      "        Comp[item[0]] = x\n",
      "j = 0\n",
      "for item in Comp:\n",
      "    if len(Comp[item]) > 1:\n",
      "        j = j + 1\n",
      "        print 'Name:', item, '     Tickers:', Comp[item]\n",
      "\n",
      "print len(M_List)\n",
      "print len(Comp)\n",
      "print j"
     ],
     "language": "python",
     "metadata": {},
     "outputs": [
      {
       "output_type": "stream",
       "stream": "stdout",
       "text": [
        "5312\n",
        "Name: First Financial Bancorp.      Tickers: ['FFBC', 'FFBCW']\n",
        "Name: Old Second Bancorp, Inc.      Tickers: ['OSBC', 'OSBCP']\n",
        "Name: Seaspan Corporation      Tickers: ['SSW', 'SSWN']\n",
        "Name: Urstadt Biddle Properties Inc.      Tickers: ['UBA', 'UBP']\n",
        "Name: New York Mortgage Trust, Inc.      Tickers: ['NYMT', 'NYMTP']\n",
        "Name: Twenty-First Century Fox, Inc.      Tickers: ['FOX', 'FOXA']\n",
        "Name: HCI Group, Inc.      Tickers: ['HCI', 'HCJ']\n",
        "Name: American Realty Capital Properties, Inc.      Tickers: ['ARCP', 'ARCPP']\n",
        "Name: Ambac Financial Group, Inc.      Tickers: ['AMBC', 'AMBCW']\n",
        "Name: Customers Bancorp, Inc      Tickers: ['CUBI', 'CUBIL']\n",
        "Name: Boulevard Acquisition Corp.      Tickers: ['BLVD', 'BLVDU', 'BLVDW']\n",
        "Name: Westmoreland Coal Company      Tickers: ['WLB', 'WLBPZ']\n",
        "Name: American Homes 4 Rent      Tickers: ['AMH', 'AMH^A']\n",
        "Name: Tyson Foods, Inc.      Tickers: ['TSN', 'TSNU']\n",
        "Name: Aviva plc      Tickers: ['AV', 'AVV']\n",
        "Name: AR Capital Acquisition Corp.      Tickers: ['AUMA', 'AUMAW']\n",
        "Name: Repros Therapeutics Inc.      Tickers: ['RPRX', 'RPRXW', 'RPRXZ']\n",
        "Name: SVB Financial Group      Tickers: ['SIVB', 'SIVBO']\n",
        "Name: Cliffs Natural Resources Inc.      Tickers: ['CLF', 'CLV']\n",
        "Name: Select Asset Inc.      Tickers: ['JBN', 'JBR']\n",
        "Name: Aegon NV      Tickers: ['AEB', 'AED', 'AEG', 'AEH', 'AEK']\n",
        "Name: Northern Trust Corporation      Tickers: ['NTRS', 'NTRSP']\n",
        "Name: RIT Technologies Ltd.      Tickers: ['RITT', 'RITTW']\n",
        "Name: Hennessy Capital Acquisition Corp.      Tickers: ['HCAC', 'HCACU', 'HCACW']\n",
        "Name: Chanticleer Holdings, Inc.      Tickers: ['HOTR', 'HOTRW']\n",
        "Name: Synergy Pharmaceuticals, Inc.      Tickers: ['SGYP', 'SGYPU', 'SGYPW']\n",
        "Name: Community Health Systems, Inc.      Tickers: ['CYHHZ', 'CYH']\n",
        "Name: Boston Private Financial Holdings, Inc.      Tickers: ['BPFH', 'BPFHP', 'BPFHW']\n",
        "Name: Prudential Financial, Inc.      Tickers: ['PFK', 'PJH', 'PRH', 'PRU']\n",
        "Name: Public Storage      Tickers: ['PSA', 'PSA^Q', 'PSA^R', 'PSA^S', 'PSA^T', 'PSA^U', 'PSA^V']\n",
        "Name: WSFS Financial Corporation      Tickers: ['WSFS', 'WSFSL']\n",
        "Name: General Growth Properties, Inc.      Tickers: ['GGP', 'GGP^A']\n",
        "Name: Post Properties, Inc.      Tickers: ['PPS', 'PPS^A']\n",
        "Name: Hartford Financial Services Group, Inc. (The)      Tickers: ['HGH', 'HIG']\n",
        "Name: Viacom Inc.      Tickers: ['VIA', 'VIAB']\n",
        "Name: Vringo, Inc.      Tickers: ['VRNG', 'VRNGW']\n",
        "Name: Raymond James Financial, Inc.      Tickers: ['RJD', 'RJF']\n",
        "Name: American Capital Mortgage Investment Corp.      Tickers: ['MTGE', 'MTGEP']\n",
        "Name: Great Plains Energy Inc      Tickers: ['GXP', 'GXP^A', 'GXP^D', 'GXP^E']\n",
        "Name: Senior Housing Properties Trust      Tickers: ['SNH', 'SNHN']\n",
        "Name: National Research Corporation      Tickers: ['NRCIA', 'NRCIB']\n",
        "Name: Axion Power International, Inc.      Tickers: ['AXPW', 'AXPWW']\n",
        "Name: Heico Corporation      Tickers: ['HEI', 'HEI/A']\n",
        "Name: RiceBran Technologies      Tickers: ['RIBT', 'RIBTW']\n",
        "Name: Beazer Homes USA, Inc.      Tickers: ['BZH', 'BZT']\n",
        "Name: The Hanover Insurance Group, Inc.      Tickers: ['THG', 'THGA']\n",
        "Name: Tennessee Valley Authority      Tickers: ['TVC', 'TVE']\n",
        "Name: National General Holdings Corp      Tickers: ['NGHC', 'NGHCP']\n",
        "Name: The AES Corporation      Tickers: ['AES', 'AES^C']\n",
        "Name: Scorpio Tankers Inc.      Tickers: ['SBNA', 'STNG']\n",
        "Name: Garnero Group Acquisition Company      Tickers: ['GGAC', 'GGACR', 'GGACU', 'GGACW']\n",
        "Name: OFG Bancorp      Tickers: ['OFG', 'OFG^A']\n",
        "Name: Texas Capital Bancshares, Inc.      Tickers: ['TCBI', 'TCBIL', 'TCBIP', 'TCBIW']\n",
        "Name: Kelly Services, Inc.      Tickers: ['KELYA', 'KELYB']\n",
        "Name: Duke Energy Corporation      Tickers: ['DUK', 'DUKH']\n",
        "Name: Wheeler Real Estate Investment Trust, Inc.      Tickers: ['WHLR', 'WHLRP', 'WHLRW']\n",
        "Name: Sino Mercury Acquisition Corp.      Tickers: ['SMAC', 'SMACR', 'SMACU']\n",
        "Name: Morgan Stanley      Tickers: ['MS', 'MSJ', 'MSZ', 'MWG', 'MWO', 'MWR']\n",
        "Name: Entergy Louisiana, Inc.      Tickers: ['ELA', 'ELB', 'ELJ', 'ELU']\n",
        "Name: SYNTHETIC FIXED INCOME SECURITIES INC      Tickers: ['GJH', 'GJO', 'GJS']\n",
        "Name: PrivateBancorp, Inc.      Tickers: ['PVTB', 'PVTBP', 'PVTD']\n",
        "Name: Goldman Sachs Group, Inc. (The)      Tickers: ['GER', 'GMZ', 'GS', 'GSF', 'GSJ', 'TFG']\n",
        "Name: Watsco, Inc.      Tickers: ['WSO', 'WSO/B']\n",
        "Name: ContraFect Corporation      Tickers: ['CFRX', 'CFRXW', 'CFRXZ']\n",
        "Name: Entergy Arkansas, Inc.      Tickers: ['EAA', 'EAB', 'EAE']\n",
        "Name: Micronet Enertec Technologies, Inc.      Tickers: ['MICT', 'MICTW']\n",
        "Name: Radio One, Inc.      Tickers: ['ROIA', 'ROIAK']\n",
        "Name: Selective Insurance Group, Inc.      Tickers: ['SIGI', 'SGZA']\n",
        "Name: Terrapin 3 Acquisition Corporation      Tickers: ['TRTL', 'TRTLU', 'TRTLW']\n",
        "Name: Haverty Furniture Companies, Inc.      Tickers: ['HVT', 'HVT/A']\n",
        "Name: Celgene Corporation      Tickers: ['CELG', 'CELGZ']\n",
        "Name: TravelCenters of America LLC      Tickers: ['TA', 'TANN']\n",
        "Name: Blueknight Energy Partners L.P., L.L.C.      Tickers: ['BKEP', 'BKEPP']\n",
        "Name: Verizon Communications Inc.      Tickers: ['VZ', 'VZA']\n",
        "Name: InterCloud Systems, Inc      Tickers: ['ICLD', 'ICLDW']\n",
        "Name: Starz      Tickers: ['STRZA', 'STRZB']\n",
        "Name: Kennedy-Wilson Holdings Inc.      Tickers: ['KW', 'KWN']\n",
        "Name: Bank of America Corporation      Tickers: ['BAC', 'BAC^W']\n",
        "Name: 1347 Capital Corp.      Tickers: ['TFSC', 'TFSCR', 'TFSCW']\n",
        "Name: Liberty Media Corporation      Tickers: ['LMCA', 'LMCB', 'LMCK']\n",
        "Name: Alcoa Inc.      Tickers: ['AA^', 'AA']\n",
        "Name: DTE Energy Company      Tickers: ['DTE', 'DTQ', 'DTZ']\n",
        "Name: Crawford & Company      Tickers: ['CRD/A', 'CRD/B']\n",
        "Name: Cellectar Biosciences, Inc.      Tickers: ['CLRB', 'CLRBW']\n",
        "Name: Callon Petroleum Company      Tickers: ['CPE', 'CPE^A']\n",
        "Name: FelCor Lodging Trust Incorporated      Tickers: ['FCH', 'FCH^A']\n",
        "Name: Silver Eagle Acquisition Corp.      Tickers: ['EAGL', 'EAGLU', 'EAGLW']\n",
        "Name: Berkshire Hathaway Inc.      Tickers: ['BRK/A', 'BRK/B']\n",
        "Name: United States Cellular Corporation      Tickers: ['USM', 'UZA']\n",
        "Name: Equity Commonwealth      Tickers: ['EQC', 'EQCO']\n",
        "Name: John Wiley & Sons, Inc.      Tickers: ['JW/A', 'JW/B']\n",
        "Name: QAD Inc.      Tickers: ['QADA', 'QADB']\n",
        "Name: ING Group, N.V.      Tickers: ['IDG', 'IND', 'ING', 'INZ', 'ISF', 'ISG', 'ISP']\n",
        "Name: Commerce Bancshares, Inc.      Tickers: ['CBSH', 'CBSHP']\n",
        "Name: XG Technology, Inc      Tickers: ['XGTI', 'XGTIW']\n",
        "Name: Baldwin & Lyons, Inc.      Tickers: ['BWINA', 'BWINB']\n",
        "Name: Arlington Asset Investment Corp      Tickers: ['AI', 'AIW']\n",
        "Name: Sabra Healthcare REIT, Inc.      Tickers: ['SBRA', 'SBRAP']\n",
        "Name: Donegal Group, Inc.      Tickers: ['DGICA', 'DGICB']\n",
        "Name: RAIT Financial Trust      Tickers: ['RAS', 'RFT', 'RFTA']\n",
        "Name: Petroleo Brasileiro S.A.- Petrobras      Tickers: ['PBR', 'PBR/A']\n",
        "Name: MFA Financial, Inc.      Tickers: ['MFA', 'MFO']\n",
        "Name: General Electric Capital Corporation      Tickers: ['GEH', 'GEK']\n",
        "Name: Huntington Bancshares Incorporated      Tickers: ['HBAN', 'HBANP']\n",
        "Name: Blackhawk Network Holdings, Inc.      Tickers: ['HAWK', 'HAWKB']\n",
        "Name: Maiden Holdings, Ltd.      Tickers: ['MHLD', 'MHLDO', 'MHNA', 'MHNB', 'MHNC']\n",
        "Name: Legacy Reserves LP      Tickers: ['LGCY', 'LGCYO', 'LGCYP']\n",
        "Name: Stanley Black & Decker, Inc.      Tickers: ['SWH', 'SWJ', 'SWK', 'SWU']\n",
        "Name: Telephone and Data Systems, Inc.      Tickers: ['TDA', 'TDE', 'TDI', 'TDJ', 'TDS']\n",
        "Name: BreitBurn Energy Partners, L.P.      Tickers: ['BBEP', 'BBEPP']\n",
        "Name: CAMBRIDGE CAPITAL ACQUISITION CORPORATION      Tickers: ['CAMB', 'CAMBU', 'CAMBW']\n",
        "Name: Amsurg Corp.      Tickers: ['AMSG', 'AMSGP']\n",
        "Name: Supertel Hospitality, Inc.      Tickers: ['SPPR', 'SPPRO', 'SPPRP']\n",
        "Name: Peregrine Pharmaceuticals Inc.      Tickers: ['PPHM', 'PPHMP']\n",
        "Name: E.I. du Pont de Nemours and Company      Tickers: ['DD', 'DD^A', 'DD^B']\n",
        "Name: Molson Coors Brewing  Company      Tickers: ['TAP', 'TAP/A']\n",
        "Name: Alabama Power Company      Tickers: ['ALP^N', 'ALP^O']\n",
        "Name: Brown Forman Corporation      Tickers: ['BF/A', 'BF/B']\n",
        "Name: Lehman ABS Corporation      Tickers: ['CVB', 'HYL', 'JBK', 'KCC', 'KTH', 'KTN', 'KTP', 'XKE']\n",
        "Name: CHS Inc      Tickers: ['CHSCM', 'CHSCN', 'CHSCO', 'CHSCP']\n",
        "Name: Dillard&#39;s, Inc.      Tickers: ['DDS', 'DDT']\n",
        "Name: Hecla Mining Company      Tickers: ['HL', 'HL^B']\n",
        "Name: Emmis Communications Corporation      Tickers: ['EMMS', 'EMMSP']\n",
        "Name: Merrill Lynch Depositor, Inc.      Tickers: ['PIY', 'PZB']\n",
        "Name: Citigroup Inc.      Tickers: ['BLW', 'C', 'C^K', 'C^N']\n",
        "Name: Forest City Enterprises Inc      Tickers: ['FCE/A', 'FCE/B']\n",
        "Name: Merrill Lynch & Co., Inc.      Tickers: ['IPB', 'MER^D', 'MER^E', 'MER^F']\n",
        "Name: Popular, Inc.      Tickers: ['BPOP', 'BPOPM', 'BPOPN']\n",
        "Name: Paragon Shipping Inc.      Tickers: ['PRGN', 'PRGNL']\n",
        "Name: Niagara Mohawk Holdings, Inc.      Tickers: ['NMK^B', 'NMK^C']\n",
        "Name: Phoenix Companies, Inc. (The)      Tickers: ['PFX', 'PNX']\n",
        "Name: Wintrust Financial Corporation      Tickers: ['WTFC', 'WTFCW']\n",
        "Name: Constellation Brands Inc      Tickers: ['STZ', 'STZ/B']\n",
        "Name: Royal Bank Scotland plc (The)      Tickers: ['RBS', 'RBS^E', 'RBS^F', 'RBS^G', 'RBS^H', 'RBS^I']\n",
        "Name: ROI Acquisition Corp. II      Tickers: ['ROIQ', 'ROIQW']\n",
        "Name: Embotelladora Andina S.A.      Tickers: ['AKO/A', 'AKO/B']\n",
        "Name: Signature Bank      Tickers: ['SBNY', 'SBNYW']\n",
        "Name: Bel Fuse Inc.      Tickers: ['BELFA', 'BELFB']\n",
        "Name: Capitol Acquisition Corp. II      Tickers: ['CLAC', 'CLACU', 'CLACW']\n",
        "Name: Carnival Corporation      Tickers: ['CCL', 'CUK']\n",
        "Name: Jason Industries, Inc.      Tickers: ['JASN', 'JASNW']\n",
        "Name: TrovaGene, Inc.      Tickers: ['TROV', 'TROVU', 'TROVW']\n",
        "Name: FX Energy, Inc.      Tickers: ['FXEN', 'FXENP']\n",
        "Name: Gray Television, Inc.      Tickers: ['GTN', 'GTN/A']\n",
        "Name: Wright Medical Group, Inc.      Tickers: ['WMGI', 'WMGIZ']\n",
        "Name: Northwest Biotherapeutics, Inc.      Tickers: ['NWBO', 'NWBOW']\n",
        "Name: Rush Enterprises, Inc.      Tickers: ['RUSHA', 'RUSHB']\n",
        "Name: Associated Banc-Corp      Tickers: ['ASBC', 'ASBCW']\n",
        "Name: Qwest Corporation      Tickers: ['CTQ', 'CTU', 'CTV', 'CTW', 'CTX', 'CTY']\n",
        "Name: NXT-ID Inc.      Tickers: ['NXTD', 'NXTDW']\n",
        "Name: Navistar International Corporation      Tickers: ['NAV', 'NAV^D']\n",
        "Name: General Finance Corporation      Tickers: ['GFN', 'GFNCP', 'GFNSL']\n",
        "Name: BGC Partners, Inc.      Tickers: ['BGCP', 'BGCA']\n",
        "Name: Vanguard Natural Resources LLC      Tickers: ['VNR', 'VNRAP', 'VNRBP', 'VNRCP']\n",
        "Name: Hubbell Inc      Tickers: ['HUB/A', 'HUB/B']\n",
        "Name: General Electric Company      Tickers: ['GE', 'GEB']\n",
        "Name: American Capital Agency Corp.      Tickers: ['AGNC', 'AGNCB', 'AGNCP']\n",
        "Name: Kansas City Southern      Tickers: ['KSU', 'KSU^']\n",
        "Name: Levy Acquisition Corp.      Tickers: ['LEVY', 'LEVYU', 'LEVYW']\n",
        "Name: METHES ENERGIES INTERNATIONAL LTD      Tickers: ['MEIL', 'MEILW', 'MEILZ']\n",
        "Name: Fidelity National Financial, Inc.      Tickers: ['FNF', 'FNFV']\n",
        "Name: Cathay General Bancorp      Tickers: ['CATY', 'CATYW']\n",
        "Name: Banco Bradesco Sa      Tickers: ['BBD', 'BBDO']\n",
        "Name: CMS Energy Corporation      Tickers: ['CMS', 'CMS^B']\n",
        "Name: DT Asia Investments Limited      Tickers: ['CADT', 'CADTR', 'CADTU', 'CADTW']\n",
        "Name: Liberty TripAdvisor Holdings, Inc.      Tickers: ['LTRPA', 'LTRPB']\n",
        "Name: Washington Federal, Inc.      Tickers: ['WAFD', 'WAFDW']\n",
        "Name: Zions Bancorporation      Tickers: ['ZION', 'ZIONW', 'ZIONZ', 'ZBK']\n",
        "Name: S&W Seed Company      Tickers: ['SANW', 'SANWZ']\n",
        "Name: Telecom Italia S.P.A.      Tickers: ['TI', 'TI/A']\n",
        "Name: Sears Holdings Corporation      Tickers: ['SHLD', 'SHLDZ']\n",
        "Name: JMP Group Inc      Tickers: ['JMP', 'JMPB', 'JMPC']\n",
        "Name: NV5 Holdings, Inc.      Tickers: ['NVEE', 'NVEEW']\n",
        "Name: News Corporation      Tickers: ['NWS', 'NWSA']\n",
        "Name: KKR Financial Holdings LLC      Tickers: ['KFH', 'KFI']\n",
        "Name: Scorpio Bulkers Inc.      Tickers: ['SALT', 'SLTB']\n",
        "Name: First Citizens Banc Corp.      Tickers: ['FCZA', 'FCZAP']\n",
        "Name: Iridium Communications Inc      Tickers: ['IRDM', 'IRDMB', 'IRDMZ']\n",
        "Name: Fifth Third Bancorp      Tickers: ['FITB', 'FITBI']\n",
        "Name: PPlus Trust      Tickers: ['PYB', 'PYS', 'PYT']\n",
        "Name: Seneca Foods Corp.      Tickers: ['SENEA', 'SENEB']\n",
        "Name: Argo Group International Holdings, Ltd.      Tickers: ['AGII', 'AGIIL']\n",
        "Name: Galectin Therapeutics Inc.      Tickers: ['GALT', 'GALTU', 'GALTW']\n",
        "Name: DragonWave Inc      Tickers: ['DRWI', 'DRWIW']\n",
        "Name: Escalera Resources Co.      Tickers: ['ESCR', 'ESCRP']\n",
        "Name: Genesee & Wyoming, Inc.      Tickers: ['GWR', 'GWRU']\n",
        "Name: Liberty Global plc      Tickers: ['LBTYA', 'LBTYB', 'LBTYK']\n",
        "Name: Quotient Limited      Tickers: ['QTNT', 'QTNTW']\n",
        "Name: Exelon Corporation      Tickers: ['EXC', 'EXCU']\n",
        "Name: America Movil, S.A.B. de C.V.      Tickers: ['AMOV', 'AMX']\n",
        "Name: Dominion Resources, Inc.      Tickers: ['D', 'DCUA', 'DCUB', 'DCUC']\n",
        "Name: Synthetic Fixed-Income Securities, Inc.      Tickers: ['GJT', 'GJV']\n",
        "Name: Gladstone Commercial Corporation      Tickers: ['GOOD', 'GOODN', 'GOODO', 'GOODP']\n",
        "Name: Sears Canada Inc.       Tickers: ['SRSC', 'SRSCV']\n",
        "Name: Chart Acquisition Corp.      Tickers: ['CACG', 'CACGU', 'CACGW']\n",
        "Name: Stifel Financial Corporation      Tickers: ['SF', 'SFB', 'SFN']\n",
        "Name: CABCO Series 2004-101 Trust      Tickers: ['GYB', 'PFH']\n",
        "Name: Cubist Pharmaceuticals, Inc.      Tickers: ['CBST', 'CBSTZ']\n",
        "Name: Central Garden & Pet Company      Tickers: ['CENT', 'CENTA']\n",
        "Name: Oxbridge Re Holdings Limited      Tickers: ['OXBR', 'OXBRW']\n",
        "Name: Scana Corporation      Tickers: ['SCG', 'SCU']\n",
        "Name: Integrys Energy Group      Tickers: ['IEH', 'TEG']\n",
        "Name: COLLABRIUM JAPAN ACQUISITION CORPORATION      Tickers: ['JACQ', 'JACQU', 'JACQW']\n",
        "Name: Cresud S.A.C.I.F. y A.      Tickers: ['CRESW', 'CRESY']\n",
        "Name: Advaxis, Inc.      Tickers: ['ADXS', 'ADXSW']\n",
        "Name: Kemper Corporation      Tickers: ['KMPA', 'KMPR']\n",
        "Name: Affiliated Managers Group, Inc.      Tickers: ['AFM', 'AMG', 'MGR']\n",
        "Name: AmeriServ Financial Inc.      Tickers: ['ASRV', 'ASRVP']\n",
        "Name: Banc of California, Inc.      Tickers: ['BANC', 'BOCA']\n",
        "Name: USA Technologies, Inc.      Tickers: ['USAT', 'USATP']\n",
        "Name: SLM Corporation      Tickers: ['ISM', 'JSM', 'OSM', 'SLM', 'SLMAP', 'SLMBP']\n",
        "Name: Hovnanian Enterprises Inc      Tickers: ['HOVNP', 'HOV']\n",
        "Name: Comcast Corporation      Tickers: ['CMCSA', 'CMCSK', 'CCV', 'CCZ']\n",
        "Name: Cowen Group, Inc.      Tickers: ['COWN', 'COWNL']\n",
        "Name: Capital One Financial Corporation      Tickers: ['COF', 'COF^C']\n",
        "Name: Sanofi      Tickers: ['GCVRZ', 'SNY']\n",
        "Name: Entergy Mississippi, Inc.      Tickers: ['EFM', 'EMQ', 'EMZ']\n",
        "Name: INTL FCStone Inc.      Tickers: ['INTL', 'INTLL']\n",
        "Name: MB Financial Inc.      Tickers: ['MBFI', 'MBFIP']\n",
        "Name: Federal Agricultural Mortgage Corporation      Tickers: ['AGM', 'AGM/A']\n",
        "Name: Liberty Interactive Corporation      Tickers: ['LVNTA', 'LVNTB', 'QVCA', 'QVCB']\n",
        "Name: Winthrop Realty Trust      Tickers: ['FUR', 'WRT']\n",
        "Name: BancFirst Corporation      Tickers: ['BANF', 'BANFP']\n",
        "Name: Bio-Rad Laboratories, Inc.      Tickers: ['BIO', 'BIO/B']\n",
        "Name: Google Inc.      Tickers: ['GOOG', 'GOOGL']\n",
        "Name: Arbor Realty Trust      Tickers: ['ABR', 'ABRN']\n",
        "Name: Deutsche Bank AG      Tickers: ['DB', 'DTK', 'DTT', 'DXB']\n",
        "Name: Reading International Inc      Tickers: ['RDI', 'RDIB']\n",
        "Name: Aflac Incorporated      Tickers: ['AFL', 'AFSD']\n",
        "Name: PHI, Inc.      Tickers: ['PHII', 'PHIIK']\n",
        "Name: Valley National Bancorp      Tickers: ['VLYWW', 'VLY']\n",
        "Name: Discovery Communications, Inc.      Tickers: ['DISCA', 'DISCB', 'DISCK']\n",
        "Name: ArcelorMittal      Tickers: ['MT', 'MTCN']\n",
        "Name: WL Ross Holding Corp.      Tickers: ['WLRH', 'WLRHU', 'WLRHW']\n",
        "Name: American Financial Group, Inc.      Tickers: ['AFA', 'AFG', 'AFGE', 'AFQ', 'AFW']\n",
        "Name: U.S. Bancorp      Tickers: ['USB', 'USB^A']\n",
        "Name: Cyclacel Pharmaceuticals, Inc.      Tickers: ['CYCC', 'CYCCP']\n",
        "5312\n",
        "4953\n",
        "237\n"
       ]
      }
     ],
     "prompt_number": 3
    },
    {
     "cell_type": "code",
     "collapsed": false,
     "input": [],
     "language": "python",
     "metadata": {},
     "outputs": []
    }
   ],
   "metadata": {}
  }
 ]
}