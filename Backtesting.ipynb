{
 "metadata": {
  "name": ""
 },
 "nbformat": 3,
 "nbformat_minor": 0,
 "worksheets": [
  {
   "cells": [
    {
     "cell_type": "code",
     "collapsed": false,
     "input": [
      "import os\n",
      "import re\n",
      "import math\n",
      "import heapq\n",
      "import numpy as np\n",
      "import cPickle as pickle\n",
      "from sklearn.feature_extraction.text import TfidfVectorizer\n",
      "from tqdm import *\n",
      "\n",
      "# Choosing starting year for backtesting (2004 or later); signal period;\n",
      "# holding period; number of long and number of short positions\n",
      "start = 2010\n",
      "signal_days = 15\n",
      "hold_days = 10\n",
      "num_long = 10\n",
      "num_short = 10\n",
      "\n",
      "Src = 'Data/Historical_Data/NASDAQ_10Y/'\n",
      "Src_1 = 'Data/Item_1/'\n",
      "\n",
      "Hist_List = [item[:-19] for item in os.listdir(Src) if item[-4:] == '.txt']\n",
      "path_list = [item for item in os.listdir(Src_1) if item[:-10] in Hist_List]\n",
      "\n",
      "###########################################################################################\n",
      "\n",
      "# This is clearly NOT what we want to do. It was used here simply produces a make shift \n",
      "# similarity matrix that I used to test / produce the backtesting code below.\n",
      "# Producing the Similarity Matrix should probably be a separate script or scripts depending\n",
      "# on the ultimate method used.\n",
      "# It then produces a dictionary containing the matrix entries and respective indeces\n",
      "\n",
      "if not os.path.exists('Data/Neigh_Dict.p') or not os.path.exists('Data/Index_Dict.p'): \n",
      "    # Put the text in a list\n",
      "    section_list = []\n",
      "    for item in path_list:\n",
      "        with open(Src_1 + item, 'r') as f:\n",
      "            section = f.read()\n",
      "            \n",
      "        # Replace non-ASCCI characters with a space and append to list\n",
      "        section = re.sub(r'[^\\x00-\\x7F]+',' ', section)\n",
      "        section_list.append(section)\n",
      "    print 'Section List Produced'\n",
      "    \n",
      "    # Use sklean to construct similarity matrix and save to .p file\n",
      "    vect = TfidfVectorizer(min_df=1)\n",
      "    tfidf = vect.fit_transform(section_list)\n",
      "    sim = (tfidf * tfidf.T).A\n",
      "    np.fill_diagonal(sim, 0)\n",
      "    print 'Similarity Matrix Produced'\n",
      "    \n",
      "    # Make a dictioanry for the matrix index\n",
      "    Index_Dict = {}\n",
      "    for i in xrange(len(path_list)):\n",
      "        Index_Dict[i] = path_list[i][:-10]\n",
      "    pickle.dump(Index_Dict, open('Data/Index_Dict.p', 'w'))\n",
      "    print 'Index Dictionary Saved'\n",
      "    \n",
      "    # Now make the similarity matrix into a dictionary\n",
      "    N_Dict = {}\n",
      "    threshold = np.percentile(sim, 97)\n",
      "    for i in xrange(len(sim)):\n",
      "        N_Dict[Index_Dict[i]] = [Index_Dict[sim[i].tolist().index(item)] for item in sim[i] if item > threshold]\n",
      "    pickle.dump(N_Dict, open('Data/Neigh_Dict.p', 'w'))\n",
      "    print 'Neighbor Dictionary Saved'\n",
      "    \n",
      "##########################################################################################    \n",
      "    \n",
      "# Load the Index and Neighbor Dictionaries\n",
      "Index_Dict = pickle.load(open('Data/Index_Dict.p', 'r'))\n",
      "N_Dict = pickle.load(open('Data/Neigh_Dict.p', 'r'))\n",
      "print 'Dictionaries Loaded'\n"
     ],
     "language": "python",
     "metadata": {},
     "outputs": [
      {
       "output_type": "stream",
       "stream": "stdout",
       "text": [
        "Dictionaries Loaded\n"
       ]
      }
     ],
     "prompt_number": 23
    },
    {
     "cell_type": "code",
     "collapsed": false,
     "input": [
      "\n",
      "# Construct Date Lists\n",
      "with open(Src + 'AAPL_Historical_10Y.txt', 'r') as f:\n",
      "    data = f.read()\n",
      "All = [line.split(' ')[0] for line in data.splitlines()[10:]]\n",
      "Dates = [date for date in All if int(date[-4:]) >= int(start)]\n",
      "H_Dates = [Dates[i] for i in xrange(len(Dates) - signal_days) if i%int(hold_days) == 0]\n",
      "S_Dates = [Dates[i + signal_days] for i in xrange(len(Dates)) if Dates[i] in H_Dates]\n",
      "\n",
      "# Construct Dictionaries containing signal return (trailing return over the last x days) and holding period return\n",
      "SF_Dict = {}\n",
      "HF_Dict = {}\n",
      "\n",
      "for date in H_Dates[1:-1]:\n",
      "    SF_Dict[date] = {}\n",
      "    HF_Dict[date] = {}\n",
      "\n",
      "for item in tqdm(Index_Dict.values()):\n",
      "    if len(N_Dict[item]) > 0:\n",
      "        with open(Src + item + '_Historical_10Y.txt', 'r') as f:\n",
      "            d_file = f.read()\n",
      "           \n",
      "        data = [line.split(' ') for line in d_file.splitlines() if line.split(' ')[0] in H_Dates]\n",
      "        s_data = [line.split(' ') for line in d_file.splitlines() if line.split(' ')[0] in S_Dates]\n",
      "        while len(data) > len(s_data):\n",
      "            data.pop()\n",
      "        \n",
      "        for i in xrange(1, len(data)-1):\n",
      "            SF_Dict[data[i][0]][item] = float(data[i][4])/float(s_data[i][4])\n",
      "            HF_Dict[data[i][0]][item] = float(data[i][4])/float(data[i-1][4])\n",
      "        \n",
      "# Construct Dictionary for Neighbor Signal Returns\n",
      "SN_Dict = {}\n",
      "for date in HF_Dict:\n",
      "    SN_Dict[date] = {}\n",
      "    for item in HF_Dict[date]:\n",
      "        SN_List = [SF_Dict[date][neigh] for neigh in N_Dict[item] if neigh in SF_Dict[date]]\n",
      "        \n",
      "        if len(SN_List) > 0:\n",
      "            SN_Dict[date][item] = sum(SN_List)/float(len(SN_List))    \n"
     ],
     "language": "python",
     "metadata": {},
     "outputs": [
      {
       "output_type": "stream",
       "stream": "stdout",
       "text": [
        "\r",
        "|----------| 0/4012   0% [elapsed: 00:00 left: ?, ? iters/sec]"
       ]
      },
      {
       "output_type": "stream",
       "stream": "stdout",
       "text": [
        "\r",
        "|----------| 56/4012   1% [elapsed: 00:00 left: 00:35, 111.79 iters/sec]"
       ]
      },
      {
       "output_type": "stream",
       "stream": "stdout",
       "text": [
        "\r",
        "|----------| 104/4012   2% [elapsed: 00:01 left: 00:38, 102.45 iters/sec]"
       ]
      },
      {
       "output_type": "stream",
       "stream": "stdout",
       "text": [
        "\r",
        "|----------| 151/4012   3% [elapsed: 00:01 left: 00:38, 99.23 iters/sec] "
       ]
      },
      {
       "output_type": "stream",
       "stream": "stdout",
       "text": [
        "\r",
        "|----------| 205/4012   5% [elapsed: 00:02 left: 00:37, 100.99 iters/sec]"
       ]
      },
      {
       "output_type": "stream",
       "stream": "stdout",
       "text": [
        "\r",
        "|----------| 245/4012   6% [elapsed: 00:02 left: 00:38, 96.80 iters/sec] "
       ]
      },
      {
       "output_type": "stream",
       "stream": "stdout",
       "text": [
        "\r",
        "|----------| 290/4012   7% [elapsed: 00:03 left: 00:39, 95.38 iters/sec]"
       ]
      },
      {
       "output_type": "stream",
       "stream": "stdout",
       "text": [
        "\r",
        "|----------| 345/4012   8% [elapsed: 00:03 left: 00:37, 97.43 iters/sec]"
       ]
      },
      {
       "output_type": "stream",
       "stream": "stdout",
       "text": [
        "\r",
        "|----------| 396/4012   9% [elapsed: 00:04 left: 00:37, 97.65 iters/sec]"
       ]
      },
      {
       "output_type": "stream",
       "stream": "stdout",
       "text": [
        "\r",
        "|#---------| 444/4012  11% [elapsed: 00:04 left: 00:36, 97.42 iters/sec]"
       ]
      },
      {
       "output_type": "stream",
       "stream": "stdout",
       "text": [
        "\r",
        "|#---------| 498/4012  12% [elapsed: 00:05 left: 00:35, 98.30 iters/sec]"
       ]
      },
      {
       "output_type": "stream",
       "stream": "stdout",
       "text": [
        "\r",
        "|#---------| 537/4012  13% [elapsed: 00:05 left: 00:36, 96.28 iters/sec]"
       ]
      },
      {
       "output_type": "stream",
       "stream": "stdout",
       "text": [
        "\r",
        "|#---------| 580/4012  14% [elapsed: 00:06 left: 00:35, 95.36 iters/sec]"
       ]
      },
      {
       "output_type": "stream",
       "stream": "stdout",
       "text": [
        "\r",
        "|#---------| 630/4012  15% [elapsed: 00:06 left: 00:35, 95.58 iters/sec]"
       ]
      },
      {
       "output_type": "stream",
       "stream": "stdout",
       "text": [
        "\r",
        "|#---------| 680/4012  16% [elapsed: 00:07 left: 00:34, 95.80 iters/sec]"
       ]
      },
      {
       "output_type": "stream",
       "stream": "stdout",
       "text": [
        "\r",
        "|#---------| 731/4012  18% [elapsed: 00:07 left: 00:34, 96.11 iters/sec]"
       ]
      },
      {
       "output_type": "stream",
       "stream": "stdout",
       "text": [
        "\r",
        "|#---------| 790/4012  19% [elapsed: 00:08 left: 00:33, 97.41 iters/sec]"
       ]
      },
      {
       "output_type": "stream",
       "stream": "stdout",
       "text": [
        "\r",
        "|##--------| 834/4012  20% [elapsed: 00:08 left: 00:32, 96.74 iters/sec]"
       ]
      },
      {
       "output_type": "stream",
       "stream": "stdout",
       "text": [
        "\r",
        "|##--------| 881/4012  21% [elapsed: 00:09 left: 00:32, 96.42 iters/sec]"
       ]
      },
      {
       "output_type": "stream",
       "stream": "stdout",
       "text": [
        "\r",
        "|##--------| 929/4012  23% [elapsed: 00:09 left: 00:32, 96.26 iters/sec]"
       ]
      },
      {
       "output_type": "stream",
       "stream": "stdout",
       "text": [
        "\r",
        "|##--------| 975/4012  24% [elapsed: 00:10 left: 00:31, 96.01 iters/sec]"
       ]
      },
      {
       "output_type": "stream",
       "stream": "stdout",
       "text": [
        "\r",
        "|##--------| 1019/4012  25% [elapsed: 00:10 left: 00:31, 95.59 iters/sec]"
       ]
      },
      {
       "output_type": "stream",
       "stream": "stdout",
       "text": [
        "\r",
        "|##--------| 1063/4012  26% [elapsed: 00:11 left: 00:31, 95.11 iters/sec]"
       ]
      },
      {
       "output_type": "stream",
       "stream": "stdout",
       "text": [
        "\r",
        "|##--------| 1109/4012  27% [elapsed: 00:11 left: 00:30, 94.93 iters/sec]"
       ]
      },
      {
       "output_type": "stream",
       "stream": "stdout",
       "text": [
        "\r",
        "|##--------| 1158/4012  28% [elapsed: 00:12 left: 00:30, 94.99 iters/sec]"
       ]
      },
      {
       "output_type": "stream",
       "stream": "stdout",
       "text": [
        "\r",
        "|###-------| 1204/4012  30% [elapsed: 00:12 left: 00:29, 94.79 iters/sec]"
       ]
      },
      {
       "output_type": "stream",
       "stream": "stdout",
       "text": [
        "\r",
        "|###-------| 1261/4012  31% [elapsed: 00:13 left: 00:28, 95.51 iters/sec]"
       ]
      },
      {
       "output_type": "stream",
       "stream": "stdout",
       "text": [
        "\r",
        "|###-------| 1308/4012  32% [elapsed: 00:13 left: 00:28, 95.36 iters/sec]"
       ]
      },
      {
       "output_type": "stream",
       "stream": "stdout",
       "text": [
        "\r",
        "|###-------| 1339/4012  33% [elapsed: 00:14 left: 00:28, 94.17 iters/sec]"
       ]
      },
      {
       "output_type": "stream",
       "stream": "stdout",
       "text": [
        "\r",
        "|###-------| 1374/4012  34% [elapsed: 00:14 left: 00:28, 93.23 iters/sec]"
       ]
      },
      {
       "output_type": "stream",
       "stream": "stdout",
       "text": [
        "\r",
        "|###-------| 1411/4012  35% [elapsed: 00:15 left: 00:28, 92.51 iters/sec]"
       ]
      },
      {
       "output_type": "stream",
       "stream": "stdout",
       "text": [
        "\r",
        "|###-------| 1446/4012  36% [elapsed: 00:15 left: 00:27, 91.77 iters/sec]"
       ]
      },
      {
       "output_type": "stream",
       "stream": "stdout",
       "text": [
        "\r",
        "|###-------| 1488/4012  37% [elapsed: 00:16 left: 00:27, 91.49 iters/sec]"
       ]
      },
      {
       "output_type": "stream",
       "stream": "stdout",
       "text": [
        "\r",
        "|###-------| 1533/4012  38% [elapsed: 00:16 left: 00:27, 91.42 iters/sec]"
       ]
      },
      {
       "output_type": "stream",
       "stream": "stdout",
       "text": [
        "\r",
        "|###-------| 1588/4012  39% [elapsed: 00:17 left: 00:26, 91.88 iters/sec]"
       ]
      },
      {
       "output_type": "stream",
       "stream": "stdout",
       "text": [
        "\r",
        "|####------| 1635/4012  40% [elapsed: 00:17 left: 00:25, 91.85 iters/sec]"
       ]
      },
      {
       "output_type": "stream",
       "stream": "stdout",
       "text": [
        "\r",
        "|####------| 1677/4012  41% [elapsed: 00:18 left: 00:25, 91.62 iters/sec]"
       ]
      },
      {
       "output_type": "stream",
       "stream": "stdout",
       "text": [
        "\r",
        "|####------| 1719/4012  42% [elapsed: 00:18 left: 00:25, 91.38 iters/sec]"
       ]
      },
      {
       "output_type": "stream",
       "stream": "stdout",
       "text": [
        "\r",
        "|####------| 1767/4012  44% [elapsed: 00:19 left: 00:24, 91.44 iters/sec]"
       ]
      },
      {
       "output_type": "stream",
       "stream": "stdout",
       "text": [
        "\r",
        "|####------| 1814/4012  45% [elapsed: 00:19 left: 00:24, 91.48 iters/sec]"
       ]
      },
      {
       "output_type": "stream",
       "stream": "stdout",
       "text": [
        "\r",
        "|####------| 1857/4012  46% [elapsed: 00:20 left: 00:23, 91.31 iters/sec]"
       ]
      },
      {
       "output_type": "stream",
       "stream": "stdout",
       "text": [
        "\r",
        "|####------| 1913/4012  47% [elapsed: 00:20 left: 00:22, 91.81 iters/sec]"
       ]
      },
      {
       "output_type": "stream",
       "stream": "stdout",
       "text": [
        "\r",
        "|####------| 1968/4012  49% [elapsed: 00:21 left: 00:22, 92.18 iters/sec]"
       ]
      },
      {
       "output_type": "stream",
       "stream": "stdout",
       "text": [
        "\r",
        "|#####-----| 2019/4012  50% [elapsed: 00:21 left: 00:21, 92.34 iters/sec]"
       ]
      },
      {
       "output_type": "stream",
       "stream": "stdout",
       "text": [
        "\r",
        "|#####-----| 2069/4012  51% [elapsed: 00:22 left: 00:21, 92.46 iters/sec]"
       ]
      },
      {
       "output_type": "stream",
       "stream": "stdout",
       "text": [
        "\r",
        "|#####-----| 2120/4012  52% [elapsed: 00:22 left: 00:20, 92.63 iters/sec]"
       ]
      },
      {
       "output_type": "stream",
       "stream": "stdout",
       "text": [
        "\r",
        "|#####-----| 2170/4012  54% [elapsed: 00:23 left: 00:19, 92.75 iters/sec]"
       ]
      },
      {
       "output_type": "stream",
       "stream": "stdout",
       "text": [
        "\r",
        "|#####-----| 2224/4012  55% [elapsed: 00:23 left: 00:19, 93.06 iters/sec]"
       ]
      },
      {
       "output_type": "stream",
       "stream": "stdout",
       "text": [
        "\r",
        "|#####-----| 2270/4012  56% [elapsed: 00:24 left: 00:18, 93.01 iters/sec]"
       ]
      },
      {
       "output_type": "stream",
       "stream": "stdout",
       "text": [
        "\r",
        "|#####-----| 2315/4012  57% [elapsed: 00:24 left: 00:18, 92.94 iters/sec]"
       ]
      },
      {
       "output_type": "stream",
       "stream": "stdout",
       "text": [
        "\r",
        "|#####-----| 2369/4012  59% [elapsed: 00:25 left: 00:17, 93.22 iters/sec]"
       ]
      },
      {
       "output_type": "stream",
       "stream": "stdout",
       "text": [
        "\r",
        "|#####-----| 2406/4012  59% [elapsed: 00:25 left: 00:17, 92.81 iters/sec]"
       ]
      },
      {
       "output_type": "stream",
       "stream": "stdout",
       "text": [
        "\r",
        "|######----| 2452/4012  61% [elapsed: 00:26 left: 00:16, 92.77 iters/sec]"
       ]
      },
      {
       "output_type": "stream",
       "stream": "stdout",
       "text": [
        "\r",
        "|######----| 2505/4012  62% [elapsed: 00:26 left: 00:16, 92.98 iters/sec]"
       ]
      },
      {
       "output_type": "stream",
       "stream": "stdout",
       "text": [
        "\r",
        "|######----| 2555/4012  63% [elapsed: 00:27 left: 00:15, 93.09 iters/sec]"
       ]
      },
      {
       "output_type": "stream",
       "stream": "stdout",
       "text": [
        "\r",
        "|######----| 2602/4012  64% [elapsed: 00:27 left: 00:15, 93.06 iters/sec]"
       ]
      },
      {
       "output_type": "stream",
       "stream": "stdout",
       "text": [
        "\r",
        "|######----| 2656/4012  66% [elapsed: 00:28 left: 00:14, 93.31 iters/sec]"
       ]
      },
      {
       "output_type": "stream",
       "stream": "stdout",
       "text": [
        "\r",
        "|######----| 2703/4012  67% [elapsed: 00:28 left: 00:14, 93.27 iters/sec]"
       ]
      },
      {
       "output_type": "stream",
       "stream": "stdout",
       "text": [
        "\r",
        "|######----| 2750/4012  68% [elapsed: 00:29 left: 00:13, 93.28 iters/sec]"
       ]
      },
      {
       "output_type": "stream",
       "stream": "stdout",
       "text": [
        "\r",
        "|######----| 2796/4012  69% [elapsed: 00:29 left: 00:13, 93.22 iters/sec]"
       ]
      },
      {
       "output_type": "stream",
       "stream": "stdout",
       "text": [
        "\r",
        "|#######---| 2845/4012  70% [elapsed: 00:30 left: 00:12, 93.29 iters/sec]"
       ]
      },
      {
       "output_type": "stream",
       "stream": "stdout",
       "text": [
        "\r",
        "|#######---| 2893/4012  72% [elapsed: 00:31 left: 00:11, 93.30 iters/sec]"
       ]
      },
      {
       "output_type": "stream",
       "stream": "stdout",
       "text": [
        "\r",
        "|#######---| 2942/4012  73% [elapsed: 00:31 left: 00:11, 93.35 iters/sec]"
       ]
      },
      {
       "output_type": "stream",
       "stream": "stdout",
       "text": [
        "\r",
        "|#######---| 3000/4012  74% [elapsed: 00:32 left: 00:10, 93.68 iters/sec]"
       ]
      },
      {
       "output_type": "stream",
       "stream": "stdout",
       "text": [
        "\r",
        "|#######---| 3063/4012  76% [elapsed: 00:32 left: 00:10, 94.17 iters/sec]"
       ]
      },
      {
       "output_type": "stream",
       "stream": "stdout",
       "text": [
        "\r",
        "|#######---| 3115/4012  77% [elapsed: 00:33 left: 00:09, 94.32 iters/sec]"
       ]
      },
      {
       "output_type": "stream",
       "stream": "stdout",
       "text": [
        "\r",
        "|#######---| 3173/4012  79% [elapsed: 00:33 left: 00:08, 94.61 iters/sec]"
       ]
      },
      {
       "output_type": "stream",
       "stream": "stdout",
       "text": [
        "\r",
        "|########--| 3220/4012  80% [elapsed: 00:34 left: 00:08, 94.58 iters/sec]"
       ]
      },
      {
       "output_type": "stream",
       "stream": "stdout",
       "text": [
        "\r",
        "|########--| 3279/4012  81% [elapsed: 00:34 left: 00:07, 94.88 iters/sec]"
       ]
      },
      {
       "output_type": "stream",
       "stream": "stdout",
       "text": [
        "\r",
        "|########--| 3338/4012  83% [elapsed: 00:35 left: 00:07, 95.18 iters/sec]"
       ]
      },
      {
       "output_type": "stream",
       "stream": "stdout",
       "text": [
        "\r",
        "|########--| 3382/4012  84% [elapsed: 00:35 left: 00:06, 95.08 iters/sec]"
       ]
      },
      {
       "output_type": "stream",
       "stream": "stdout",
       "text": [
        "\r",
        "|########--| 3427/4012  85% [elapsed: 00:36 left: 00:06, 95.00 iters/sec]"
       ]
      },
      {
       "output_type": "stream",
       "stream": "stdout",
       "text": [
        "\r",
        "|########--| 3475/4012  86% [elapsed: 00:36 left: 00:05, 95.01 iters/sec]"
       ]
      },
      {
       "output_type": "stream",
       "stream": "stdout",
       "text": [
        "\r",
        "|########--| 3519/4012  87% [elapsed: 00:37 left: 00:05, 94.91 iters/sec]"
       ]
      },
      {
       "output_type": "stream",
       "stream": "stdout",
       "text": [
        "\r",
        "|########--| 3581/4012  89% [elapsed: 00:37 left: 00:04, 95.29 iters/sec]"
       ]
      },
      {
       "output_type": "stream",
       "stream": "stdout",
       "text": [
        "\r",
        "|#########-| 3628/4012  90% [elapsed: 00:38 left: 00:04, 95.25 iters/sec]"
       ]
      },
      {
       "output_type": "stream",
       "stream": "stdout",
       "text": [
        "\r",
        "|#########-| 3673/4012  91% [elapsed: 00:38 left: 00:03, 95.17 iters/sec]"
       ]
      },
      {
       "output_type": "stream",
       "stream": "stdout",
       "text": [
        "\r",
        "|#########-| 3717/4012  92% [elapsed: 00:39 left: 00:03, 95.03 iters/sec]"
       ]
      },
      {
       "output_type": "stream",
       "stream": "stdout",
       "text": [
        "\r",
        "|#########-| 3759/4012  93% [elapsed: 00:39 left: 00:02, 94.89 iters/sec]"
       ]
      },
      {
       "output_type": "stream",
       "stream": "stdout",
       "text": [
        "\r",
        "|#########-| 3815/4012  95% [elapsed: 00:40 left: 00:02, 95.08 iters/sec]"
       ]
      },
      {
       "output_type": "stream",
       "stream": "stdout",
       "text": [
        "\r",
        "|#########-| 3859/4012  96% [elapsed: 00:40 left: 00:01, 94.97 iters/sec]"
       ]
      },
      {
       "output_type": "stream",
       "stream": "stdout",
       "text": [
        "\r",
        "|#########-| 3913/4012  97% [elapsed: 00:41 left: 00:01, 95.12 iters/sec]"
       ]
      },
      {
       "output_type": "stream",
       "stream": "stdout",
       "text": [
        "\r",
        "|#########-| 3953/4012  98% [elapsed: 00:41 left: 00:00, 94.94 iters/sec]"
       ]
      },
      {
       "output_type": "stream",
       "stream": "stdout",
       "text": [
        "\r",
        "|##########| 4012/4012 100% [elapsed: 00:42 left: 00:00, 95.21 iters/sec]"
       ]
      },
      {
       "output_type": "stream",
       "stream": "stdout",
       "text": [
        "\r",
        "                                                                         "
       ]
      },
      {
       "output_type": "stream",
       "stream": "stdout",
       "text": [
        "\r"
       ]
      }
     ],
     "prompt_number": 24
    },
    {
     "cell_type": "code",
     "collapsed": false,
     "input": [
      "# Test it out\n",
      "Returns = []\n",
      "L_Rets = []\n",
      "S_Rets = []\n",
      "\n",
      "for date in tqdm(SN_Dict):\n",
      "    Signal_Dict = {}\n",
      "    for item in SN_Dict[date]:\n",
      "        \n",
      "        # This is how the signals are computed\n",
      "        signal = SF_Dict[date][item] - SN_Dict[date][item]\n",
      "        \n",
      "        Signal_Dict[signal] = item\n",
      "    Longs = [Signal_Dict[sig] for sig in heapq.nlargest(num_long, Signal_Dict.keys())]\n",
      "    Shorts = [Signal_Dict[sig] for sig in heapq.nsmallest(num_short, Signal_Dict.keys())]\n",
      "    \n",
      "    L_Ret = sum([HF_Dict[date][long] for long in Longs])/float(num_long)\n",
      "    S_Ret = sum([1./HF_Dict[date][short] for short in Shorts])/float(num_short)\n",
      "    L_Rets.append(L_Ret)\n",
      "    S_Rets.append(S_Ret)\n",
      "    Returns.append((L_Ret + S_Ret) / 2.)\n",
      "    \n",
      "    \n",
      "print 'Average Period Return: ' + str(round((sum(Returns)/len(Returns)-1)*100, 5)) + '%'\n",
      "print 'Average Long Return: ' + str(round((sum(L_Rets)/len(L_Rets)-1)*100, 5)) + '%'\n",
      "print 'Average Short Return: ' + str(round((sum(S_Rets)/len(S_Rets)-1)*100, 5)) + '%'\n",
      "print 'Number of Periods: ' + str(len(Returns))\n"
     ],
     "language": "python",
     "metadata": {},
     "outputs": [
      {
       "output_type": "stream",
       "stream": "stdout",
       "text": [
        "\r",
        "|----------| 0/119   0% [elapsed: 00:00 left: ?, ? iters/sec]"
       ]
      },
      {
       "output_type": "stream",
       "stream": "stdout",
       "text": [
        "\r",
        "                                                             "
       ]
      },
      {
       "output_type": "stream",
       "stream": "stdout",
       "text": [
        "\r",
        "Average Period Return: 3.95996%\n",
        "Average Long Return: 4.26792%\n",
        "Average Short Return: 3.652%\n",
        "Number of Periods: 119\n"
       ]
      }
     ],
     "prompt_number": 25
    },
    {
     "cell_type": "code",
     "collapsed": false,
     "input": [],
     "language": "python",
     "metadata": {},
     "outputs": []
    }
   ],
   "metadata": {}
  }
 ]
}