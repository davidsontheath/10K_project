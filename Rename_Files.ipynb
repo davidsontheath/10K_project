{
 "metadata": {
  "name": ""
 },
 "nbformat": 3,
 "nbformat_minor": 0,
 "worksheets": [
  {
   "cells": [
    {
     "cell_type": "code",
     "collapsed": false,
     "input": [
      "# This is pretty straightforward it just renames the files that were\n",
      "# suboptimally named during the 10-K scraping process\n",
      "\n",
      "import os\n",
      "\n",
      "Dst = 'Data/Items_1&1A/'\n",
      "Dst_Raw = 'Data/Raw_10Ks/'\n",
      "\n",
      "Map = [['CYHHZ', 'CYH'], ['PFK', 'PRU'], ['HGH', 'HIG'], ['RJD', 'RJF'], ['NRCIA', 'NRCIB'], \n",
      "       ['CRDA', 'CRDB'], ['BRKA', 'BRKB'], ['BWINA', 'BWINB'], ['GEH', 'GEK'], ['SWH', 'SWK'], \n",
      "       ['TDA', 'TDS'], ['BFA', 'BFB'], ['PFX', 'PNX'], ['BELFA', 'BELFB'], ['HUBA', 'HUBB'], \n",
      "       ['SCG', 'SCU'], ['IEH', 'TEG'], ['KMPA', 'KMPR'], ['AFM', 'AMG'], ['ISM', 'SLM'], \n",
      "       ['HOVNP', 'HOV'], ['LVNTA', 'QVCA'], ['VLYWW', 'VLY'], ['AFA', 'AFG']]\n",
      "\n",
      "\n",
      "for item in Map:\n",
      "    Old = item[0] + r'_Items1&1A.txt'\n",
      "    New = item[1] + r'_Items1&1A.txt'\n",
      "    os.rename(Dst + Old, Dst + New)\n",
      "        \n",
      "\n",
      "# As of 11/14 this is just for me (JH)         \n",
      "if os.path.exists(Dst_Raw):\n",
      "    for item in Map:\n",
      "        Old = item[0] + r'_Raw_10K.txt'\n",
      "        New = item[1] + r'_Raw_10K.txt'\n",
      "        os.rename(Dst_Raw + Old, Dst_Raw + New)\n",
      "\n",
      "\n"
     ],
     "language": "python",
     "metadata": {},
     "outputs": [],
     "prompt_number": 18
    },
    {
     "cell_type": "code",
     "collapsed": false,
     "input": [],
     "language": "python",
     "metadata": {},
     "outputs": []
    }
   ],
   "metadata": {}
  }
 ]
}