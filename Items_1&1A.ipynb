{
 "metadata": {
  "name": ""
 },
 "nbformat": 3,
 "nbformat_minor": 0,
 "worksheets": [
  {
   "cells": [
    {
     "cell_type": "code",
     "collapsed": false,
     "input": [
      "import re\n",
      "import os\n",
      "from tqdm import *\n",
      "\n",
      "# Select the Appropriate Src Directory\n",
      "#Src = 'C:/Users/Davidson/Desktop/TP_2.0_Data/Raw_10Ks/'\n",
      "Src = '/Users/johnhill/Desktop/TP_2.0_Data/Raw_10Ks/'\n",
      "\n",
      "Dst = Src[:-9] + 'Items_1&1A/'\n",
      "\n",
      "File_List = [item for item in os.listdir(Src) if item[-4:] == '.txt']\n"
     ],
     "language": "python",
     "metadata": {},
     "outputs": [],
     "prompt_number": 27
    },
    {
     "cell_type": "code",
     "collapsed": false,
     "input": [
      "\n",
      "Man_List = ['BBX_Raw_10K.txt', 'BLW_Raw_10K.txt', 'CLDX_Raw_10K.txt', \n",
      "            'CVCY_Raw_10K.txt', 'ESP_Raw_10K.txt', 'FORR_Raw_10K.txt', \n",
      "            'HES_Raw_10K.txt', 'HMG_Raw_10K.txt', 'ICCC_Raw_10K.txt', \n",
      "            'LCI_Raw_10K.txt', 'LEI_Raw_10K.txt', 'LMCA_Raw_10K.txt', \n",
      "            'LVNTA_Raw_10K.txt', 'MKL_Raw_10K.txt', 'NEM_Raw_10K.txt', \n",
      "            'PHM_Raw_10K.txt', 'PLNR_Raw_10K.txt', 'RRGB_Raw_10K.txt', \n",
      "            'STRS_Raw_10K.txt', 'SWC_Raw_10K.txt', 'VASC_Raw_10K.txt', \n",
      "            'VLGEA_Raw_10K.txt', 'HCSG_Raw_10K.txt', 'ERI_Raw_10K.txt', \n",
      "            'PVA_Raw_10K.txt', 'LECO_Raw_10K.txt', 'GTY_Raw_10K.txt', \n",
      "            'ESE_Raw_10K.txt', 'DG_Raw_10K.txt', 'CY_Raw_10K.txt', \n",
      "            'DTLK_Raw_10K.txt', 'CSL_Raw_10K.txt', 'MCP_Raw_10K.txt', \n",
      "            'EXTR_Raw_10K.txt', 'NNVC_Raw_10K.txt', 'FCNCA_Raw_10K.txt', \n",
      "            'WTFC_Raw_10K.txt', 'WY_Raw_10K.txt', 'NYRT_Raw_10K.txt', \n",
      "            'RSO_Raw_10K.txt', 'CVD_Raw_10K.txt', 'HIW_Raw_10K.txt', \n",
      "            'AON_Raw_10K.txt', 'PKY_Raw_10K.txt', 'MRTX_Raw_10K.txt', \n",
      "            'AKR_Raw_10K.txt', 'NBL_Raw_10K.txt', 'ETR_Raw_10K.txt',\n",
      "            'REED_Raw_10K.txt', 'PCYG_Raw_10K.txt','PHX_Raw_10K.txt',\n",
      "            'WEN_Raw_10K.txt', 'MSB_Raw_10K.txt', 'WST_Raw_10K.txt']\n",
      "\n",
      "\n",
      "\n",
      "File_List = list(set(File_List) - set(Man_List))\n",
      "\n",
      "print len(Man_List)\n",
      "print len(File_List)\n"
     ],
     "language": "python",
     "metadata": {},
     "outputs": [
      {
       "output_type": "stream",
       "stream": "stdout",
       "text": [
        "54\n",
        "3964\n"
       ]
      }
     ],
     "prompt_number": 28
    },
    {
     "cell_type": "code",
     "collapsed": false,
     "input": [
      "\n",
      "# Want to find section titles that appear twice, once in the table of contents and again prior to their respective section\n",
      "# Do to inconsistancies in the reporting this requires iterating over 4 different searches\n",
      "\n",
      "Left_0 = []\n",
      "for item in tqdm(File_List):\n",
      "    with open(Src + item, 'r') as f:\n",
      "        report = f.read()\n",
      "    \n",
      "    pass_0 = re.findall(r'Item.{1,5}?1(?!A).{1,100}?Business.+?Item.{1,5}?1.{0,1}?B.{1,100}?Unresolved.{1,5}?Staff.{1,5}?Comments', report, re.DOTALL | re.IGNORECASE)\n",
      "    \n",
      "    if len(pass_0) == 2:\n",
      "        target = open(Dst + item[:-11] + 'Items1&1A.txt', 'w')\n",
      "        target.write(pass_0[1])\n",
      "        target.close()\n",
      "    else:\n",
      "        Left_0.append(item)\n"
     ],
     "language": "python",
     "metadata": {},
     "outputs": [
      {
       "output_type": "stream",
       "stream": "stdout",
       "text": [
        "\r",
        "|----------| 0/3964   0% [elapsed: 00:00 left: ?, ? iters/sec]"
       ]
      },
      {
       "output_type": "stream",
       "stream": "stdout",
       "text": [
        "\r",
        "|----------| 24/3964   0% [elapsed: 00:00 left: 01:58, 33.23 iters/sec]"
       ]
      },
      {
       "output_type": "stream",
       "stream": "stdout",
       "text": [
        "\r",
        "|----------| 43/3964   1% [elapsed: 00:01 left: 01:54, 34.20 iters/sec]"
       ]
      },
      {
       "output_type": "stream",
       "stream": "stdout",
       "text": [
        "\r",
        "|----------| 64/3964   1% [elapsed: 00:01 left: 01:47, 36.23 iters/sec]"
       ]
      },
      {
       "output_type": "stream",
       "stream": "stdout",
       "text": [
        "\r",
        "|----------| 85/3964   2% [elapsed: 00:02 left: 01:44, 37.22 iters/sec]"
       ]
      },
      {
       "output_type": "stream",
       "stream": "stdout",
       "text": [
        "\r",
        "|----------| 108/3964   2% [elapsed: 00:02 left: 01:40, 38.51 iters/sec]"
       ]
      },
      {
       "output_type": "stream",
       "stream": "stdout",
       "text": [
        "\r",
        "|----------| 129/3964   3% [elapsed: 00:03 left: 01:38, 38.92 iters/sec]"
       ]
      },
      {
       "output_type": "stream",
       "stream": "stdout",
       "text": [
        "\r",
        "|----------| 152/3964   3% [elapsed: 00:03 left: 01:35, 39.71 iters/sec]"
       ]
      },
      {
       "output_type": "stream",
       "stream": "stdout",
       "text": [
        "\r",
        "|----------| 175/3964   4% [elapsed: 00:04 left: 01:35, 39.86 iters/sec]"
       ]
      },
      {
       "output_type": "stream",
       "stream": "stdout",
       "text": [
        "\r",
        "|----------| 202/3964   5% [elapsed: 00:04 left: 01:31, 41.25 iters/sec]"
       ]
      },
      {
       "output_type": "stream",
       "stream": "stdout",
       "text": [
        "\r",
        "|----------| 228/3964   5% [elapsed: 00:05 left: 01:28, 42.18 iters/sec]"
       ]
      },
      {
       "output_type": "stream",
       "stream": "stdout",
       "text": [
        "\r",
        "|----------| 251/3964   6% [elapsed: 00:05 left: 01:27, 42.42 iters/sec]"
       ]
      },
      {
       "output_type": "stream",
       "stream": "stdout",
       "text": [
        "\r",
        "|----------| 273/3964   6% [elapsed: 00:06 left: 01:27, 42.35 iters/sec]"
       ]
      },
      {
       "output_type": "stream",
       "stream": "stdout",
       "text": [
        "\r",
        "|----------| 295/3964   7% [elapsed: 00:06 left: 01:26, 42.36 iters/sec]"
       ]
      },
      {
       "output_type": "stream",
       "stream": "stdout",
       "text": [
        "\r",
        "|----------| 314/3964   7% [elapsed: 00:07 left: 01:26, 42.02 iters/sec]"
       ]
      },
      {
       "output_type": "stream",
       "stream": "stdout",
       "text": [
        "\r",
        "|----------| 334/3964   8% [elapsed: 00:07 left: 01:26, 41.82 iters/sec]"
       ]
      },
      {
       "output_type": "stream",
       "stream": "stdout",
       "text": [
        "\r",
        "|----------| 355/3964   8% [elapsed: 00:08 left: 01:26, 41.71 iters/sec]"
       ]
      },
      {
       "output_type": "stream",
       "stream": "stdout",
       "text": [
        "\r",
        "|----------| 378/3964   9% [elapsed: 00:09 left: 01:25, 41.91 iters/sec]"
       ]
      },
      {
       "output_type": "stream",
       "stream": "stdout",
       "text": [
        "\r",
        "|----------| 396/3964   9% [elapsed: 00:09 left: 01:26, 41.26 iters/sec]"
       ]
      },
      {
       "output_type": "stream",
       "stream": "stdout",
       "text": [
        "\r",
        "|#---------| 426/3964  10% [elapsed: 00:10 left: 01:23, 42.16 iters/sec]"
       ]
      },
      {
       "output_type": "stream",
       "stream": "stdout",
       "text": [
        "\r",
        "|#---------| 454/3964  11% [elapsed: 00:10 left: 01:22, 42.79 iters/sec]"
       ]
      },
      {
       "output_type": "stream",
       "stream": "stdout",
       "text": [
        "\r",
        "|#---------| 473/3964  11% [elapsed: 00:11 left: 01:22, 42.43 iters/sec]"
       ]
      },
      {
       "output_type": "stream",
       "stream": "stdout",
       "text": [
        "\r",
        "|#---------| 499/3964  12% [elapsed: 00:11 left: 01:20, 42.79 iters/sec]"
       ]
      },
      {
       "output_type": "stream",
       "stream": "stdout",
       "text": [
        "\r",
        "|#---------| 518/3964  13% [elapsed: 00:12 left: 01:20, 42.58 iters/sec]"
       ]
      },
      {
       "output_type": "stream",
       "stream": "stdout",
       "text": [
        "\r",
        "|#---------| 538/3964  13% [elapsed: 00:12 left: 01:20, 42.46 iters/sec]"
       ]
      },
      {
       "output_type": "stream",
       "stream": "stdout",
       "text": [
        "\r",
        "|#---------| 555/3964  14% [elapsed: 00:13 left: 01:24, 40.56 iters/sec]"
       ]
      },
      {
       "output_type": "stream",
       "stream": "stdout",
       "text": [
        "\r",
        "|#---------| 582/3964  14% [elapsed: 00:14 left: 01:22, 41.01 iters/sec]"
       ]
      },
      {
       "output_type": "stream",
       "stream": "stdout",
       "text": [
        "\r",
        "|#---------| 606/3964  15% [elapsed: 00:14 left: 01:21, 41.18 iters/sec]"
       ]
      },
      {
       "output_type": "stream",
       "stream": "stdout",
       "text": [
        "\r",
        "|#---------| 632/3964  15% [elapsed: 00:15 left: 01:20, 41.53 iters/sec]"
       ]
      },
      {
       "output_type": "stream",
       "stream": "stdout",
       "text": [
        "\r",
        "|#---------| 652/3964  16% [elapsed: 00:15 left: 01:19, 41.45 iters/sec]"
       ]
      },
      {
       "output_type": "stream",
       "stream": "stdout",
       "text": [
        "\r",
        "|#---------| 667/3964  16% [elapsed: 00:16 left: 01:20, 41.08 iters/sec]"
       ]
      },
      {
       "output_type": "stream",
       "stream": "stdout",
       "text": [
        "\r",
        "|#---------| 687/3964  17% [elapsed: 00:16 left: 01:19, 41.00 iters/sec]"
       ]
      },
      {
       "output_type": "stream",
       "stream": "stdout",
       "text": [
        "\r",
        "|#---------| 720/3964  18% [elapsed: 00:17 left: 01:17, 41.72 iters/sec]"
       ]
      },
      {
       "output_type": "stream",
       "stream": "stdout",
       "text": [
        "\r",
        "|#---------| 747/3964  18% [elapsed: 00:17 left: 01:16, 41.95 iters/sec]"
       ]
      },
      {
       "output_type": "stream",
       "stream": "stdout",
       "text": [
        "\r",
        "|#---------| 767/3964  19% [elapsed: 00:18 left: 01:16, 41.89 iters/sec]"
       ]
      },
      {
       "output_type": "stream",
       "stream": "stdout",
       "text": [
        "\r",
        "|##--------| 797/3964  20% [elapsed: 00:18 left: 01:14, 42.33 iters/sec]"
       ]
      },
      {
       "output_type": "stream",
       "stream": "stdout",
       "text": [
        "\r",
        "|##--------| 821/3964  20% [elapsed: 00:19 left: 01:14, 42.46 iters/sec]"
       ]
      },
      {
       "output_type": "stream",
       "stream": "stdout",
       "text": [
        "\r",
        "|##--------| 849/3964  21% [elapsed: 00:19 left: 01:13, 42.66 iters/sec]"
       ]
      },
      {
       "output_type": "stream",
       "stream": "stdout",
       "text": [
        "\r",
        "|##--------| 870/3964  21% [elapsed: 00:20 left: 01:12, 42.64 iters/sec]"
       ]
      },
      {
       "output_type": "stream",
       "stream": "stdout",
       "text": [
        "\r",
        "|##--------| 888/3964  22% [elapsed: 00:20 left: 01:12, 42.48 iters/sec]"
       ]
      },
      {
       "output_type": "stream",
       "stream": "stdout",
       "text": [
        "\r",
        "|##--------| 910/3964  22% [elapsed: 00:21 left: 01:11, 42.50 iters/sec]"
       ]
      },
      {
       "output_type": "stream",
       "stream": "stdout",
       "text": [
        "\r",
        "|##--------| 927/3964  23% [elapsed: 00:21 left: 01:11, 42.24 iters/sec]"
       ]
      },
      {
       "output_type": "stream",
       "stream": "stdout",
       "text": [
        "\r",
        "|##--------| 948/3964  23% [elapsed: 00:22 left: 01:11, 42.22 iters/sec]"
       ]
      },
      {
       "output_type": "stream",
       "stream": "stdout",
       "text": [
        "\r",
        "|##--------| 974/3964  24% [elapsed: 00:22 left: 01:10, 42.43 iters/sec]"
       ]
      },
      {
       "output_type": "stream",
       "stream": "stdout",
       "text": [
        "\r",
        "|##--------| 1004/3964  25% [elapsed: 00:23 left: 01:09, 42.78 iters/sec]"
       ]
      },
      {
       "output_type": "stream",
       "stream": "stdout",
       "text": [
        "\r",
        "|##--------| 1026/3964  25% [elapsed: 00:23 left: 01:08, 42.79 iters/sec]"
       ]
      },
      {
       "output_type": "stream",
       "stream": "stdout",
       "text": [
        "\r",
        "|##--------| 1043/3964  26% [elapsed: 00:24 left: 01:08, 42.43 iters/sec]"
       ]
      },
      {
       "output_type": "stream",
       "stream": "stdout",
       "text": [
        "\r",
        "|##--------| 1071/3964  27% [elapsed: 00:25 left: 01:07, 42.66 iters/sec]"
       ]
      },
      {
       "output_type": "stream",
       "stream": "stdout",
       "text": [
        "\r",
        "|##--------| 1091/3964  27% [elapsed: 00:25 left: 01:07, 42.60 iters/sec]"
       ]
      },
      {
       "output_type": "stream",
       "stream": "stdout",
       "text": [
        "\r",
        "|##--------| 1111/3964  28% [elapsed: 00:26 left: 01:07, 42.10 iters/sec]"
       ]
      },
      {
       "output_type": "stream",
       "stream": "stdout",
       "text": [
        "\r",
        "|##--------| 1135/3964  28% [elapsed: 00:26 left: 01:07, 42.19 iters/sec]"
       ]
      },
      {
       "output_type": "stream",
       "stream": "stdout",
       "text": [
        "\r",
        "|##--------| 1162/3964  29% [elapsed: 00:27 left: 01:06, 42.39 iters/sec]"
       ]
      },
      {
       "output_type": "stream",
       "stream": "stdout",
       "text": [
        "\r",
        "|##--------| 1188/3964  29% [elapsed: 00:27 left: 01:05, 42.51 iters/sec]"
       ]
      },
      {
       "output_type": "stream",
       "stream": "stdout",
       "text": [
        "\r",
        "|###-------| 1212/3964  30% [elapsed: 00:28 left: 01:04, 42.59 iters/sec]"
       ]
      },
      {
       "output_type": "stream",
       "stream": "stdout",
       "text": [
        "\r",
        "|###-------| 1238/3964  31% [elapsed: 00:29 left: 01:04, 42.57 iters/sec]"
       ]
      },
      {
       "output_type": "stream",
       "stream": "stdout",
       "text": [
        "\r",
        "|###-------| 1265/3964  31% [elapsed: 00:29 left: 01:03, 42.72 iters/sec]"
       ]
      },
      {
       "output_type": "stream",
       "stream": "stdout",
       "text": [
        "\r",
        "|###-------| 1287/3964  32% [elapsed: 00:30 left: 01:02, 42.73 iters/sec]"
       ]
      },
      {
       "output_type": "stream",
       "stream": "stdout",
       "text": [
        "\r",
        "|###-------| 1312/3964  33% [elapsed: 00:30 left: 01:01, 42.84 iters/sec]"
       ]
      },
      {
       "output_type": "stream",
       "stream": "stdout",
       "text": [
        "\r",
        "|###-------| 1334/3964  33% [elapsed: 00:31 left: 01:01, 42.85 iters/sec]"
       ]
      },
      {
       "output_type": "stream",
       "stream": "stdout",
       "text": [
        "\r",
        "|###-------| 1360/3964  34% [elapsed: 00:31 left: 01:00, 42.99 iters/sec]"
       ]
      },
      {
       "output_type": "stream",
       "stream": "stdout",
       "text": [
        "\r",
        "|###-------| 1386/3964  34% [elapsed: 00:32 left: 00:59, 43.12 iters/sec]"
       ]
      },
      {
       "output_type": "stream",
       "stream": "stdout",
       "text": [
        "\r",
        "|###-------| 1411/3964  35% [elapsed: 00:32 left: 00:59, 43.20 iters/sec]"
       ]
      },
      {
       "output_type": "stream",
       "stream": "stdout",
       "text": [
        "\r",
        "|###-------| 1436/3964  36% [elapsed: 00:33 left: 00:58, 43.30 iters/sec]"
       ]
      },
      {
       "output_type": "stream",
       "stream": "stdout",
       "text": [
        "\r",
        "|###-------| 1461/3964  36% [elapsed: 00:33 left: 00:57, 43.39 iters/sec]"
       ]
      },
      {
       "output_type": "stream",
       "stream": "stdout",
       "text": [
        "\r",
        "|###-------| 1483/3964  37% [elapsed: 00:34 left: 00:57, 43.39 iters/sec]"
       ]
      },
      {
       "output_type": "stream",
       "stream": "stdout",
       "text": [
        "\r",
        "|###-------| 1508/3964  38% [elapsed: 00:34 left: 00:56, 43.49 iters/sec]"
       ]
      },
      {
       "output_type": "stream",
       "stream": "stdout",
       "text": [
        "\r",
        "|###-------| 1531/3964  38% [elapsed: 00:35 left: 00:55, 43.51 iters/sec]"
       ]
      },
      {
       "output_type": "stream",
       "stream": "stdout",
       "text": [
        "\r",
        "|###-------| 1558/3964  39% [elapsed: 00:35 left: 00:55, 43.62 iters/sec]"
       ]
      },
      {
       "output_type": "stream",
       "stream": "stdout",
       "text": [
        "\r",
        "|###-------| 1575/3964  39% [elapsed: 00:36 left: 00:54, 43.48 iters/sec]"
       ]
      },
      {
       "output_type": "stream",
       "stream": "stdout",
       "text": [
        "\r",
        "|####------| 1596/3964  40% [elapsed: 00:36 left: 00:54, 43.45 iters/sec]"
       ]
      },
      {
       "output_type": "stream",
       "stream": "stdout",
       "text": [
        "\r",
        "|####------| 1621/3964  40% [elapsed: 00:37 left: 00:53, 43.52 iters/sec]"
       ]
      },
      {
       "output_type": "stream",
       "stream": "stdout",
       "text": [
        "\r",
        "|####------| 1647/3964  41% [elapsed: 00:37 left: 00:53, 43.58 iters/sec]"
       ]
      },
      {
       "output_type": "stream",
       "stream": "stdout",
       "text": [
        "\r",
        "|####------| 1671/3964  42% [elapsed: 00:38 left: 00:52, 43.64 iters/sec]"
       ]
      },
      {
       "output_type": "stream",
       "stream": "stdout",
       "text": [
        "\r",
        "|####------| 1692/3964  42% [elapsed: 00:38 left: 00:52, 43.61 iters/sec]"
       ]
      },
      {
       "output_type": "stream",
       "stream": "stdout",
       "text": [
        "\r",
        "|####------| 1714/3964  43% [elapsed: 00:39 left: 00:51, 43.60 iters/sec]"
       ]
      },
      {
       "output_type": "stream",
       "stream": "stdout",
       "text": [
        "\r",
        "|####------| 1732/3964  43% [elapsed: 00:39 left: 00:51, 43.40 iters/sec]"
       ]
      },
      {
       "output_type": "stream",
       "stream": "stdout",
       "text": [
        "\r",
        "|####------| 1758/3964  44% [elapsed: 00:40 left: 00:50, 43.47 iters/sec]"
       ]
      },
      {
       "output_type": "stream",
       "stream": "stdout",
       "text": [
        "\r",
        "|####------| 1780/3964  44% [elapsed: 00:40 left: 00:50, 43.47 iters/sec]"
       ]
      },
      {
       "output_type": "stream",
       "stream": "stdout",
       "text": [
        "\r",
        "|####------| 1806/3964  45% [elapsed: 00:41 left: 00:49, 43.57 iters/sec]"
       ]
      },
      {
       "output_type": "stream",
       "stream": "stdout",
       "text": [
        "\r",
        "|####------| 1827/3964  46% [elapsed: 00:41 left: 00:49, 43.54 iters/sec]"
       ]
      },
      {
       "output_type": "stream",
       "stream": "stdout",
       "text": [
        "\r",
        "|####------| 1842/3964  46% [elapsed: 00:42 left: 00:48, 43.35 iters/sec]"
       ]
      },
      {
       "output_type": "stream",
       "stream": "stdout",
       "text": [
        "\r",
        "|####------| 1864/3964  47% [elapsed: 00:42 left: 00:48, 43.36 iters/sec]"
       ]
      },
      {
       "output_type": "stream",
       "stream": "stdout",
       "text": [
        "\r",
        "|####------| 1882/3964  47% [elapsed: 00:43 left: 00:48, 43.26 iters/sec]"
       ]
      },
      {
       "output_type": "stream",
       "stream": "stdout",
       "text": [
        "\r",
        "|####------| 1898/3964  47% [elapsed: 00:44 left: 00:47, 43.10 iters/sec]"
       ]
      },
      {
       "output_type": "stream",
       "stream": "stdout",
       "text": [
        "\r",
        "|####------| 1928/3964  48% [elapsed: 00:44 left: 00:47, 43.27 iters/sec]"
       ]
      },
      {
       "output_type": "stream",
       "stream": "stdout",
       "text": [
        "\r",
        "|####------| 1952/3964  49% [elapsed: 00:45 left: 00:46, 43.31 iters/sec]"
       ]
      },
      {
       "output_type": "stream",
       "stream": "stdout",
       "text": [
        "\r",
        "|####------| 1978/3964  49% [elapsed: 00:45 left: 00:46, 43.11 iters/sec]"
       ]
      },
      {
       "output_type": "stream",
       "stream": "stdout",
       "text": [
        "\r",
        "|#####-----| 2005/3964  50% [elapsed: 00:46 left: 00:45, 43.21 iters/sec]"
       ]
      },
      {
       "output_type": "stream",
       "stream": "stdout",
       "text": [
        "\r",
        "|#####-----| 2025/3964  51% [elapsed: 00:46 left: 00:44, 43.10 iters/sec]"
       ]
      },
      {
       "output_type": "stream",
       "stream": "stdout",
       "text": [
        "\r",
        "|#####-----| 2041/3964  51% [elapsed: 00:47 left: 00:44, 42.95 iters/sec]"
       ]
      },
      {
       "output_type": "stream",
       "stream": "stdout",
       "text": [
        "\r",
        "|#####-----| 2067/3964  52% [elapsed: 00:48 left: 00:44, 43.03 iters/sec]"
       ]
      },
      {
       "output_type": "stream",
       "stream": "stdout",
       "text": [
        "\r",
        "|#####-----| 2088/3964  52% [elapsed: 00:48 left: 00:43, 42.91 iters/sec]"
       ]
      },
      {
       "output_type": "stream",
       "stream": "stdout",
       "text": [
        "\r",
        "|#####-----| 2116/3964  53% [elapsed: 00:49 left: 00:42, 43.02 iters/sec]"
       ]
      },
      {
       "output_type": "stream",
       "stream": "stdout",
       "text": [
        "\r",
        "|#####-----| 2132/3964  53% [elapsed: 00:49 left: 00:42, 42.89 iters/sec]"
       ]
      },
      {
       "output_type": "stream",
       "stream": "stdout",
       "text": [
        "\r",
        "|#####-----| 2161/3964  54% [elapsed: 00:50 left: 00:41, 43.02 iters/sec]"
       ]
      },
      {
       "output_type": "stream",
       "stream": "stdout",
       "text": [
        "\r",
        "|#####-----| 2184/3964  55% [elapsed: 00:50 left: 00:41, 43.04 iters/sec]"
       ]
      },
      {
       "output_type": "stream",
       "stream": "stdout",
       "text": [
        "\r",
        "|#####-----| 2207/3964  55% [elapsed: 00:51 left: 00:40, 43.07 iters/sec]"
       ]
      },
      {
       "output_type": "stream",
       "stream": "stdout",
       "text": [
        "\r",
        "|#####-----| 2226/3964  56% [elapsed: 00:51 left: 00:40, 42.99 iters/sec]"
       ]
      },
      {
       "output_type": "stream",
       "stream": "stdout",
       "text": [
        "\r",
        "|#####-----| 2256/3964  56% [elapsed: 00:52 left: 00:39, 43.08 iters/sec]"
       ]
      },
      {
       "output_type": "stream",
       "stream": "stdout",
       "text": [
        "\r",
        "|#####-----| 2286/3964  57% [elapsed: 00:52 left: 00:38, 43.23 iters/sec]"
       ]
      },
      {
       "output_type": "stream",
       "stream": "stdout",
       "text": [
        "\r",
        "|#####-----| 2301/3964  58% [elapsed: 00:53 left: 00:38, 43.10 iters/sec]"
       ]
      },
      {
       "output_type": "stream",
       "stream": "stdout",
       "text": [
        "\r",
        "|#####-----| 2327/3964  58% [elapsed: 00:53 left: 00:37, 43.15 iters/sec]"
       ]
      },
      {
       "output_type": "stream",
       "stream": "stdout",
       "text": [
        "\r",
        "|#####-----| 2345/3964  59% [elapsed: 00:54 left: 00:37, 43.07 iters/sec]"
       ]
      },
      {
       "output_type": "stream",
       "stream": "stdout",
       "text": [
        "\r",
        "|#####-----| 2362/3964  59% [elapsed: 00:54 left: 00:37, 42.97 iters/sec]"
       ]
      },
      {
       "output_type": "stream",
       "stream": "stdout",
       "text": [
        "\r",
        "|######----| 2391/3964  60% [elapsed: 00:55 left: 00:36, 43.09 iters/sec]"
       ]
      },
      {
       "output_type": "stream",
       "stream": "stdout",
       "text": [
        "\r",
        "|######----| 2416/3964  60% [elapsed: 00:55 left: 00:35, 43.15 iters/sec]"
       ]
      },
      {
       "output_type": "stream",
       "stream": "stdout",
       "text": [
        "\r",
        "|######----| 2444/3964  61% [elapsed: 00:56 left: 00:35, 43.25 iters/sec]"
       ]
      },
      {
       "output_type": "stream",
       "stream": "stdout",
       "text": [
        "\r",
        "|######----| 2470/3964  62% [elapsed: 00:57 left: 00:34, 43.24 iters/sec]"
       ]
      },
      {
       "output_type": "stream",
       "stream": "stdout",
       "text": [
        "\r",
        "|######----| 2501/3964  63% [elapsed: 00:57 left: 00:33, 43.40 iters/sec]"
       ]
      },
      {
       "output_type": "stream",
       "stream": "stdout",
       "text": [
        "\r",
        "|######----| 2522/3964  63% [elapsed: 00:58 left: 00:33, 43.37 iters/sec]"
       ]
      },
      {
       "output_type": "stream",
       "stream": "stdout",
       "text": [
        "\r",
        "|######----| 2543/3964  64% [elapsed: 00:58 left: 00:32, 43.36 iters/sec]"
       ]
      },
      {
       "output_type": "stream",
       "stream": "stdout",
       "text": [
        "\r",
        "|######----| 2571/3964  64% [elapsed: 00:59 left: 00:32, 43.45 iters/sec]"
       ]
      },
      {
       "output_type": "stream",
       "stream": "stdout",
       "text": [
        "\r",
        "|######----| 2600/3964  65% [elapsed: 00:59 left: 00:31, 43.55 iters/sec]"
       ]
      },
      {
       "output_type": "stream",
       "stream": "stdout",
       "text": [
        "\r",
        "|######----| 2628/3964  66% [elapsed: 01:00 left: 00:30, 43.64 iters/sec]"
       ]
      },
      {
       "output_type": "stream",
       "stream": "stdout",
       "text": [
        "\r",
        "|######----| 2656/3964  67% [elapsed: 01:00 left: 00:29, 43.72 iters/sec]"
       ]
      },
      {
       "output_type": "stream",
       "stream": "stdout",
       "text": [
        "\r",
        "|######----| 2680/3964  67% [elapsed: 01:01 left: 00:29, 43.75 iters/sec]"
       ]
      },
      {
       "output_type": "stream",
       "stream": "stdout",
       "text": [
        "\r",
        "|######----| 2700/3964  68% [elapsed: 01:01 left: 00:28, 43.72 iters/sec]"
       ]
      },
      {
       "output_type": "stream",
       "stream": "stdout",
       "text": [
        "\r",
        "|######----| 2726/3964  68% [elapsed: 01:02 left: 00:28, 43.72 iters/sec]"
       ]
      },
      {
       "output_type": "stream",
       "stream": "stdout",
       "text": [
        "\r",
        "|######----| 2756/3964  69% [elapsed: 01:02 left: 00:27, 43.84 iters/sec]"
       ]
      },
      {
       "output_type": "stream",
       "stream": "stdout",
       "text": [
        "\r",
        "|######----| 2767/3964  69% [elapsed: 01:03 left: 00:27, 43.63 iters/sec]"
       ]
      },
      {
       "output_type": "stream",
       "stream": "stdout",
       "text": [
        "\r",
        "|#######---| 2787/3964  70% [elapsed: 01:03 left: 00:26, 43.60 iters/sec]"
       ]
      },
      {
       "output_type": "stream",
       "stream": "stdout",
       "text": [
        "\r",
        "|#######---| 2809/3964  70% [elapsed: 01:04 left: 00:26, 43.59 iters/sec]"
       ]
      },
      {
       "output_type": "stream",
       "stream": "stdout",
       "text": [
        "\r",
        "|#######---| 2836/3964  71% [elapsed: 01:04 left: 00:25, 43.66 iters/sec]"
       ]
      },
      {
       "output_type": "stream",
       "stream": "stdout",
       "text": [
        "\r",
        "|#######---| 2857/3964  72% [elapsed: 01:05 left: 00:25, 43.63 iters/sec]"
       ]
      },
      {
       "output_type": "stream",
       "stream": "stdout",
       "text": [
        "\r",
        "|#######---| 2879/3964  72% [elapsed: 01:05 left: 00:24, 43.63 iters/sec]"
       ]
      }
     ],
     "prompt_number": "*"
    },
    {
     "cell_type": "code",
     "collapsed": false,
     "input": [
      "\n",
      "Left_1 = []\n",
      "for item in tqdm(Left_0):\n",
      "    with open(Src + item, 'r') as f:\n",
      "        report = f.read()\n",
      "        \n",
      "    pass_1 = re.findall(r'Item.{1,5}?1(?!A).{1,100}?Business.+?Item.{1,5}?2.{1,100}?Properties', report, re.DOTALL | re.IGNORECASE)\n",
      "    \n",
      "    if len(pass_1) == 2:\n",
      "        target = open(Dst + item[:-11] + 'Items1&1A.txt', 'w')\n",
      "        target.write(pass_1[1])\n",
      "        target.close()\n",
      "    else:\n",
      "        Left_1.append(item)\n",
      "    "
     ],
     "language": "python",
     "metadata": {},
     "outputs": [],
     "prompt_number": "*"
    },
    {
     "cell_type": "code",
     "collapsed": false,
     "input": [
      "\n",
      "Left_2 = []\n",
      "for item in tqdm(Left_1):\n",
      "    with open(Src + item, 'r') as f:\n",
      "        report = f.read()\n",
      "    \n",
      "    pass_2 = re.findall(r'Item.{1,5}?1(?!A).{1,100}?Business.+?Item.{1,5}?1.{0,1}?B.{1,100}?Unresolved.{1,5}?Staff.{1,5}?Comments', report, re.DOTALL | re.IGNORECASE)\n",
      "    \n",
      "    if len(pass_2) == 1:\n",
      "        target = open(Dst + item[:-11] + 'Items1&1A.txt', 'w')\n",
      "        target.write(pass_2[0])\n",
      "        target.close()\n",
      "    else:\n",
      "        Left_2.append(item)\n"
     ],
     "language": "python",
     "metadata": {},
     "outputs": [],
     "prompt_number": "*"
    },
    {
     "cell_type": "code",
     "collapsed": false,
     "input": [
      "\n",
      "Left_3 = []\n",
      "for item in tqdm(Left_2):\n",
      "    with open(Src + item, 'r') as f:\n",
      "        report = f.read()\n",
      "    \n",
      "    pass_3 = re.findall(r'Item.{1,5}?1(?!A).{1,100}?Business.+?Item.{1,5}?2.{1,100}?Properties', report, re.DOTALL | re.IGNORECASE)\n",
      "    \n",
      "    if len(pass_3) == 1:\n",
      "        target = open(Dst + item[:-11] + 'Items1&1A', 'w')\n",
      "        target.write(pass_3[0])\n",
      "        target.close()\n",
      "    else:\n",
      "        Left_3.append(item)\n"
     ],
     "language": "python",
     "metadata": {},
     "outputs": [],
     "prompt_number": "*"
    },
    {
     "cell_type": "code",
     "collapsed": false,
     "input": [
      "print len(File_List)\n",
      "print len(Left_0)\n",
      "print len(Left_1)\n",
      "print len(Left_2)\n",
      "print len(Left_3)"
     ],
     "language": "python",
     "metadata": {},
     "outputs": [],
     "prompt_number": "*"
    },
    {
     "cell_type": "code",
     "collapsed": false,
     "input": [
      "print len(os.listdir(Src))\n",
      "print len(os.listdir(Dst))\n",
      "print len(Man_List)\n",
      "print len(Man_List) + len(os.listdir(Dst))"
     ],
     "language": "python",
     "metadata": {},
     "outputs": [],
     "prompt_number": "*"
    },
    {
     "cell_type": "code",
     "collapsed": false,
     "input": [
      "# for those that need to be done manually some time can be saved by writing the whole file to a separate folder\n",
      "# with the names as they should be and then manually deleting before and after the section we want\n",
      "\n",
      "for item in Man_List:\n",
      "    with open(Src + item, 'r') as f:\n",
      "        report = f.read()\n",
      "        \n",
      "    with open(Src[:-9] + 'Man/' + item[:-11] + 'Items1&1A.txt', 'w') as g:\n",
      "        g.write(report)\n",
      "        \n",
      "        "
     ],
     "language": "python",
     "metadata": {},
     "outputs": [
      {
       "ename": "IOError",
       "evalue": "[Errno 2] No such file or directory: '/Users/johnhill/Desktop/TP_2.0_Data/Man/BBX__Items1&1A.txt'",
       "output_type": "pyerr",
       "traceback": [
        "\u001b[0;31m---------------------------------------------------------------------------\u001b[0m\n\u001b[0;31mIOError\u001b[0m                                   Traceback (most recent call last)",
        "\u001b[0;32m<ipython-input-26-b335ac3f94ed>\u001b[0m in \u001b[0;36m<module>\u001b[0;34m()\u001b[0m\n\u001b[1;32m      6\u001b[0m         \u001b[0mreport\u001b[0m \u001b[0;34m=\u001b[0m \u001b[0mf\u001b[0m\u001b[0;34m.\u001b[0m\u001b[0mread\u001b[0m\u001b[0;34m(\u001b[0m\u001b[0;34m)\u001b[0m\u001b[0;34m\u001b[0m\u001b[0m\n\u001b[1;32m      7\u001b[0m \u001b[0;34m\u001b[0m\u001b[0m\n\u001b[0;32m----> 8\u001b[0;31m     \u001b[0;32mwith\u001b[0m \u001b[0mopen\u001b[0m\u001b[0;34m(\u001b[0m\u001b[0mSrc\u001b[0m\u001b[0;34m[\u001b[0m\u001b[0;34m:\u001b[0m\u001b[0;34m-\u001b[0m\u001b[0;36m9\u001b[0m\u001b[0;34m]\u001b[0m \u001b[0;34m+\u001b[0m \u001b[0;34m'Man/'\u001b[0m \u001b[0;34m+\u001b[0m \u001b[0mitem\u001b[0m\u001b[0;34m[\u001b[0m\u001b[0;34m:\u001b[0m\u001b[0;34m-\u001b[0m\u001b[0;36m11\u001b[0m\u001b[0;34m]\u001b[0m \u001b[0;34m+\u001b[0m \u001b[0;34m'_Items1&1A.txt'\u001b[0m\u001b[0;34m,\u001b[0m \u001b[0;34m'w'\u001b[0m\u001b[0;34m)\u001b[0m \u001b[0;32mas\u001b[0m \u001b[0mg\u001b[0m\u001b[0;34m:\u001b[0m\u001b[0;34m\u001b[0m\u001b[0m\n\u001b[0m\u001b[1;32m      9\u001b[0m         \u001b[0mg\u001b[0m\u001b[0;34m.\u001b[0m\u001b[0mwrite\u001b[0m\u001b[0;34m(\u001b[0m\u001b[0mreport\u001b[0m\u001b[0;34m)\u001b[0m\u001b[0;34m\u001b[0m\u001b[0m\n\u001b[1;32m     10\u001b[0m \u001b[0;34m\u001b[0m\u001b[0m\n",
        "\u001b[0;31mIOError\u001b[0m: [Errno 2] No such file or directory: '/Users/johnhill/Desktop/TP_2.0_Data/Man/BBX__Items1&1A.txt'"
       ]
      }
     ],
     "prompt_number": 26
    },
    {
     "cell_type": "code",
     "collapsed": false,
     "input": [
      "# Check those that are short\n",
      "\n",
      "print len(os.listdir(Dst))\n",
      "for item in os.listdir(Dst):\n",
      "    with open(Dst + item, 'r') as f:\n",
      "        section = f.read()\n",
      "        if len(section) < 10000:\n",
      "            print len(section)\n",
      "            print item\n",
      "            \n",
      "            "
     ],
     "language": "python",
     "metadata": {},
     "outputs": [
      {
       "output_type": "stream",
       "stream": "stdout",
       "text": [
        "3808\n",
        "3312"
       ]
      },
      {
       "output_type": "stream",
       "stream": "stdout",
       "text": [
        "\n",
        "5774\n",
        "5101\n",
        "3681"
       ]
      },
      {
       "output_type": "stream",
       "stream": "stdout",
       "text": [
        "\n",
        "7057\n",
        "8370"
       ]
      },
      {
       "output_type": "stream",
       "stream": "stdout",
       "text": [
        "\n"
       ]
      }
     ],
     "prompt_number": 147
    },
    {
     "cell_type": "code",
     "collapsed": false,
     "input": [],
     "language": "python",
     "metadata": {},
     "outputs": []
    }
   ],
   "metadata": {}
  }
 ]
}