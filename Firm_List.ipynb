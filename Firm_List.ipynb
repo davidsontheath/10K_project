{
 "metadata": {
  "name": ""
 },
 "nbformat": 3,
 "nbformat_minor": 0,
 "worksheets": [
  {
   "cells": [
    {
     "cell_type": "code",
     "collapsed": false,
     "input": [
      "import os\n",
      "import re\n",
      "import pandas as pd\n",
      "\n",
      "Dst = 'Data/'\n",
      "\n",
      "# There is 1 file that should be renamed\n",
      "try:\n",
      "    os.rename(Dst + 'Item_1/JW_Item1.txt', Dst + 'Item_1/JWA_Item1.txt')\n",
      "    os.rename(Dst + 'Item_1/JW_Items1&1A.txt', Dst + 'Item_1/JWA_Items1&1A.txt')\n",
      "except:\n",
      "    pass\n",
      "\n",
      "# Create list of companies and drop ETFs\n",
      "companies = pd.concat([pd.read_csv(Dst + 'NASDAQ.csv'), pd.read_csv(Dst + 'AMEX.csv'), pd.read_csv(Dst + 'NYSE.csv')])\n",
      "companies = companies[companies['industry'] != 'n/a']\n",
      "\n",
      "# These three are prone to cause confusion are are not used in our sample\n",
      "companies = companies[-companies['Symbol'].isin(['AA^', 'CMS^B', 'KSU^'])]\n",
      "\n",
      "# Use this to check for any potential sources of ticker confusion\n",
      "Sym_List = []\n",
      "Dict = {}\n",
      "Error_Count = 0\n",
      "for item in companies['Symbol']:\n",
      "    Sym = re.sub(r'\\W*', '', item)\n",
      "    if Sym not in Sym_List:\n",
      "        Sym_List.append(Sym)\n",
      "        Dict[Sym] = item\n",
      "    else:\n",
      "        print \"ERROR Adjusted Symbols Not Unique:\", Sym, item, Dict[Sym]\n",
      "        Error_Count = Error_Count + 1\n",
      "\n",
      "# If adjusted tickers are okay then proceed\n",
      "if len(Sym_List) == len(companies) and Error_Count == 0:\n",
      "    companies['Adj Sym'] = Sym_List\n",
      "    \n",
      "    # Construct list of adjusted tickers in sample and filter companies list on it\n",
      "    Item_Index = [item[:-14] for item in os.listdir('Data/Items_1&1A') if item[-4:] == '.txt']\n",
      "    companies = companies[companies['Adj Sym'].isin(Item_Index)]\n",
      "    companies = companies.sort('Name').reset_index(drop='True')[['Name', 'Symbol', 'Adj Sym', 'MarketCap']]\n",
      "    \n",
      "    # Save to .csv File\n",
      "    companies.to_csv(Dst + 'Company_List.csv')\n",
      "    print 'List of Companies Saved to Data Folder'\n",
      "\n",
      "else:\n",
      "    print 'Error Adding Column, List NOT Constructed'\n"
     ],
     "language": "python",
     "metadata": {},
     "outputs": [
      {
       "output_type": "stream",
       "stream": "stdout",
       "text": [
        "List of Companies Saved to Data Folder\n"
       ]
      }
     ],
     "prompt_number": 80
    },
    {
     "cell_type": "code",
     "collapsed": false,
     "input": [],
     "language": "python",
     "metadata": {},
     "outputs": []
    }
   ],
   "metadata": {}
  }
 ]
}